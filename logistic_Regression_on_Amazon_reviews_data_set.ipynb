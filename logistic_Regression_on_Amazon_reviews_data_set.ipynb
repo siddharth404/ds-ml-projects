{
 "cells": [
  {
   "cell_type": "markdown",
   "metadata": {
    "colab_type": "text",
    "id": "RvGzHSqEOtZT"
   },
   "source": [
    "# Amazon Fine Food Reviews Analysis\n",
    "Data Source: https://www.kaggle.com/snap/amazon-fine-food-reviews\n",
    "The Amazon Fine Food Reviews dataset consists of reviews of fine foods from Amazon.<br>\n",
    "\n",
    "Number of reviews: 568,454<br>\n",
    "Number of users: 256,059<br>\n",
    "Number of products: 74,258<br>\n",
    "Timespan: Oct 1999 - Oct 2012<br>\n",
    "Number of Attributes/Columns in data: 10 \n",
    "\n",
    "Attribute Information:\n",
    "\n",
    "1. Id\n",
    "2. ProductId - unique identifier for the product\n",
    "3. UserId - unqiue identifier for the user\n",
    "4. ProfileName\n",
    "5. HelpfulnessNumerator - number of users who found the review helpful\n",
    "6. HelpfulnessDenominator - number of users who indicated whether they found the review helpful or not\n",
    "7. Score - rating between 1 and 5\n",
    "8. Time - timestamp for the review\n",
    "9. Summary - brief summary of the review\n",
    "10. Text - text of the review\n",
    "\n",
    "\n",
    "#### Objective:\n",
    "Given a review, determine whether the review is positive (Rating of 4 or 5) or negative (rating of 1 or 2).\n"
   ]
  },
  {
   "cell_type": "code",
   "execution_count": 0,
   "metadata": {
    "colab": {
     "autoexec": {
      "startup": false,
      "wait_interval": 0
     }
    },
    "colab_type": "code",
    "id": "GcZ-92WvOqVW"
   },
   "outputs": [],
   "source": [
    "!pip install pydrive\n",
    "!pip install gensim\n",
    "from pydrive.auth import GoogleAuth\n",
    "from pydrive.drive import GoogleDrive\n",
    "from google.colab import auth\n",
    "from oauth2client.client import GoogleCredentials\n",
    " \n",
    "# 1. Authenticate and create the PyDrive client.\n",
    "auth.authenticate_user()\n",
    "gauth = GoogleAuth()\n",
    "gauth.credentials = GoogleCredentials.get_application_default()\n",
    "drive = GoogleDrive(gauth)"
   ]
  },
  {
   "cell_type": "code",
   "execution_count": 0,
   "metadata": {
    "colab": {
     "autoexec": {
      "startup": false,
      "wait_interval": 0
     }
    },
    "colab_type": "code",
    "id": "vMmgIpP522W2"
   },
   "outputs": [],
   "source": [
    "downloaded = drive.CreateFile({'id':'1cZS7OUXVft4KTZ1AzZPu95hSgWzu3aC8'}) # replace the id with id of file you want to access\n",
    "downloaded.GetContentFile('final.sqlite')"
   ]
  },
  {
   "cell_type": "code",
   "execution_count": 0,
   "metadata": {
    "colab": {
     "autoexec": {
      "startup": false,
      "wait_interval": 0
     }
    },
    "colab_type": "code",
    "id": "GMWwAD2E2qpx"
   },
   "outputs": [],
   "source": [
    "# loading libraries and data\n",
    "\n",
    "%matplotlib inline\n",
    "\n",
    "import sqlite3                          # for sql database\n",
    "import pandas as pd\n",
    "import numpy as np\n",
    "import nltk                             # nltk:- Natural Language Processing Toolkit\n",
    "import string\n",
    "import re\n",
    "import io\n",
    "import matplotlib.pyplot as plt\n",
    "import seaborn as sns\n",
    "from sklearn.feature_extraction.text import TfidfTransformer\n",
    "from sklearn.feature_extraction.text import TfidfVectorizer\n",
    "from sklearn.feature_extraction.text import CountVectorizer\n",
    "from sklearn.metrics import confusion_matrix\n",
    "from sklearn import metrics\n",
    "from sklearn.metrics import roc_curve, auc\n",
    "from nltk.stem.porter import PorterStemmer\n",
    "\n",
    "import pickle\n",
    "def saveindisk(obj,filename):\n",
    "    pickle.dump(obj,open(filename+\".p\",\"wb\"), protocol=4)\n",
    "def openfromdisk(filename):\n",
    "    temp = pickle.load(open(filename+\".p\",\"rb\"))\n",
    "    return temp\n",
    "\n",
    "con = sqlite3.connect(\"final.sqlite\")\n",
    "\n",
    "# Filtering only positive and negative reviews that is\n",
    "# not taking into consideration those reviews with score = 3\n",
    "df = pd.read_sql_query(\"\"\"\n",
    "SELECT *\n",
    "FROM Reviews\n",
    "\"\"\", con)"
   ]
  },
  {
   "cell_type": "code",
   "execution_count": 4,
   "metadata": {
    "colab": {
     "autoexec": {
      "startup": false,
      "wait_interval": 0
     },
     "base_uri": "https://localhost:8080/",
     "height": 703
    },
    "colab_type": "code",
    "executionInfo": {
     "elapsed": 1225,
     "status": "ok",
     "timestamp": 1531177788286,
     "user": {
      "displayName": "Vijay Bhati",
      "photoUrl": "//lh6.googleusercontent.com/-8eiDzCxazcQ/AAAAAAAAAAI/AAAAAAAAETg/em_yQO7VCzk/s50-c-k-no/photo.jpg",
      "userId": "111311313461951215577"
     },
     "user_tz": -330
    },
    "id": "7Ye0R_HF2app",
    "outputId": "3d908c9f-4418-46a0-8fd5-a9032bf5d424"
   },
   "outputs": [
    {
     "data": {
      "text/html": [
       "<div>\n",
       "<style scoped>\n",
       "    .dataframe tbody tr th:only-of-type {\n",
       "        vertical-align: middle;\n",
       "    }\n",
       "\n",
       "    .dataframe tbody tr th {\n",
       "        vertical-align: top;\n",
       "    }\n",
       "\n",
       "    .dataframe thead th {\n",
       "        text-align: right;\n",
       "    }\n",
       "</style>\n",
       "<table border=\"1\" class=\"dataframe\">\n",
       "  <thead>\n",
       "    <tr style=\"text-align: right;\">\n",
       "      <th></th>\n",
       "      <th>index</th>\n",
       "      <th>Id</th>\n",
       "      <th>ProductId</th>\n",
       "      <th>UserId</th>\n",
       "      <th>ProfileName</th>\n",
       "      <th>HelpfulnessNumerator</th>\n",
       "      <th>HelpfulnessDenominator</th>\n",
       "      <th>Score</th>\n",
       "      <th>Time</th>\n",
       "      <th>Summary</th>\n",
       "      <th>Text</th>\n",
       "      <th>CleanedText</th>\n",
       "      <th>CleanedText_NoStem</th>\n",
       "    </tr>\n",
       "  </thead>\n",
       "  <tbody>\n",
       "    <tr>\n",
       "      <th>0</th>\n",
       "      <td>0</td>\n",
       "      <td>1</td>\n",
       "      <td>B001E4KFG0</td>\n",
       "      <td>A3SGXH7AUHU8GW</td>\n",
       "      <td>delmartian</td>\n",
       "      <td>1</td>\n",
       "      <td>1</td>\n",
       "      <td>Positive</td>\n",
       "      <td>1303862400</td>\n",
       "      <td>Good Quality Dog Food</td>\n",
       "      <td>I have bought several of the Vitality canned d...</td>\n",
       "      <td>b'bought sever vital can dog food product foun...</td>\n",
       "      <td>b'bought several vitality canned dog food prod...</td>\n",
       "    </tr>\n",
       "    <tr>\n",
       "      <th>1</th>\n",
       "      <td>1</td>\n",
       "      <td>2</td>\n",
       "      <td>B00813GRG4</td>\n",
       "      <td>A1D87F6ZCVE5NK</td>\n",
       "      <td>dll pa</td>\n",
       "      <td>0</td>\n",
       "      <td>0</td>\n",
       "      <td>Negative</td>\n",
       "      <td>1346976000</td>\n",
       "      <td>Not as Advertised</td>\n",
       "      <td>Product arrived labeled as Jumbo Salted Peanut...</td>\n",
       "      <td>b'product arriv label jumbo salt peanut peanut...</td>\n",
       "      <td>b'product arrived labeled jumbo salted peanuts...</td>\n",
       "    </tr>\n",
       "    <tr>\n",
       "      <th>2</th>\n",
       "      <td>2</td>\n",
       "      <td>3</td>\n",
       "      <td>B000LQOCH0</td>\n",
       "      <td>ABXLMWJIXXAIN</td>\n",
       "      <td>Natalia Corres \"Natalia Corres\"</td>\n",
       "      <td>1</td>\n",
       "      <td>1</td>\n",
       "      <td>Positive</td>\n",
       "      <td>1219017600</td>\n",
       "      <td>\"Delight\" says it all</td>\n",
       "      <td>This is a confection that has been around a fe...</td>\n",
       "      <td>b'confect around centuri light pillowi citrus ...</td>\n",
       "      <td>b'confection around centuries light pillowy ci...</td>\n",
       "    </tr>\n",
       "    <tr>\n",
       "      <th>3</th>\n",
       "      <td>3</td>\n",
       "      <td>4</td>\n",
       "      <td>B000UA0QIQ</td>\n",
       "      <td>A395BORC6FGVXV</td>\n",
       "      <td>Karl</td>\n",
       "      <td>3</td>\n",
       "      <td>3</td>\n",
       "      <td>Negative</td>\n",
       "      <td>1307923200</td>\n",
       "      <td>Cough Medicine</td>\n",
       "      <td>If you are looking for the secret ingredient i...</td>\n",
       "      <td>b'look secret ingredi robitussin believ found ...</td>\n",
       "      <td>b'looking secret ingredient robitussin believe...</td>\n",
       "    </tr>\n",
       "    <tr>\n",
       "      <th>4</th>\n",
       "      <td>4</td>\n",
       "      <td>5</td>\n",
       "      <td>B006K2ZZ7K</td>\n",
       "      <td>A1UQRSCLF8GW1T</td>\n",
       "      <td>Michael D. Bigham \"M. Wassir\"</td>\n",
       "      <td>0</td>\n",
       "      <td>0</td>\n",
       "      <td>Positive</td>\n",
       "      <td>1350777600</td>\n",
       "      <td>Great taffy</td>\n",
       "      <td>Great taffy at a great price.  There was a wid...</td>\n",
       "      <td>b'great taffi great price wide assort yummi ta...</td>\n",
       "      <td>b'great taffy great price wide assortment yumm...</td>\n",
       "    </tr>\n",
       "  </tbody>\n",
       "</table>\n",
       "</div>"
      ],
      "text/plain": [
       "   index  Id   ProductId          UserId                      ProfileName  \\\n",
       "0      0   1  B001E4KFG0  A3SGXH7AUHU8GW                       delmartian   \n",
       "1      1   2  B00813GRG4  A1D87F6ZCVE5NK                           dll pa   \n",
       "2      2   3  B000LQOCH0   ABXLMWJIXXAIN  Natalia Corres \"Natalia Corres\"   \n",
       "3      3   4  B000UA0QIQ  A395BORC6FGVXV                             Karl   \n",
       "4      4   5  B006K2ZZ7K  A1UQRSCLF8GW1T    Michael D. Bigham \"M. Wassir\"   \n",
       "\n",
       "   HelpfulnessNumerator  HelpfulnessDenominator     Score        Time  \\\n",
       "0                     1                       1  Positive  1303862400   \n",
       "1                     0                       0  Negative  1346976000   \n",
       "2                     1                       1  Positive  1219017600   \n",
       "3                     3                       3  Negative  1307923200   \n",
       "4                     0                       0  Positive  1350777600   \n",
       "\n",
       "                 Summary                                               Text  \\\n",
       "0  Good Quality Dog Food  I have bought several of the Vitality canned d...   \n",
       "1      Not as Advertised  Product arrived labeled as Jumbo Salted Peanut...   \n",
       "2  \"Delight\" says it all  This is a confection that has been around a fe...   \n",
       "3         Cough Medicine  If you are looking for the secret ingredient i...   \n",
       "4            Great taffy  Great taffy at a great price.  There was a wid...   \n",
       "\n",
       "                                         CleanedText  \\\n",
       "0  b'bought sever vital can dog food product foun...   \n",
       "1  b'product arriv label jumbo salt peanut peanut...   \n",
       "2  b'confect around centuri light pillowi citrus ...   \n",
       "3  b'look secret ingredi robitussin believ found ...   \n",
       "4  b'great taffi great price wide assort yummi ta...   \n",
       "\n",
       "                                  CleanedText_NoStem  \n",
       "0  b'bought several vitality canned dog food prod...  \n",
       "1  b'product arrived labeled jumbo salted peanuts...  \n",
       "2  b'confection around centuries light pillowy ci...  \n",
       "3  b'looking secret ingredient robitussin believe...  \n",
       "4  b'great taffy great price wide assortment yumm...  "
      ]
     },
     "execution_count": 4,
     "metadata": {
      "tags": []
     },
     "output_type": "execute_result"
    }
   ],
   "source": [
    "df.head()"
   ]
  },
  {
   "cell_type": "code",
   "execution_count": 5,
   "metadata": {
    "colab": {
     "autoexec": {
      "startup": false,
      "wait_interval": 0
     },
     "base_uri": "https://localhost:8080/",
     "height": 297
    },
    "colab_type": "code",
    "executionInfo": {
     "elapsed": 1202,
     "status": "ok",
     "timestamp": 1531177789774,
     "user": {
      "displayName": "Vijay Bhati",
      "photoUrl": "//lh6.googleusercontent.com/-8eiDzCxazcQ/AAAAAAAAAAI/AAAAAAAAETg/em_yQO7VCzk/s50-c-k-no/photo.jpg",
      "userId": "111311313461951215577"
     },
     "user_tz": -330
    },
    "id": "u_AoiH1C2eWX",
    "outputId": "59b1489a-7bd2-445a-ad1c-e60d707bfba7"
   },
   "outputs": [
    {
     "data": {
      "text/html": [
       "<div>\n",
       "<style scoped>\n",
       "    .dataframe tbody tr th:only-of-type {\n",
       "        vertical-align: middle;\n",
       "    }\n",
       "\n",
       "    .dataframe tbody tr th {\n",
       "        vertical-align: top;\n",
       "    }\n",
       "\n",
       "    .dataframe thead th {\n",
       "        text-align: right;\n",
       "    }\n",
       "</style>\n",
       "<table border=\"1\" class=\"dataframe\">\n",
       "  <thead>\n",
       "    <tr style=\"text-align: right;\">\n",
       "      <th></th>\n",
       "      <th>index</th>\n",
       "      <th>Id</th>\n",
       "      <th>HelpfulnessNumerator</th>\n",
       "      <th>HelpfulnessDenominator</th>\n",
       "      <th>Time</th>\n",
       "    </tr>\n",
       "  </thead>\n",
       "  <tbody>\n",
       "    <tr>\n",
       "      <th>count</th>\n",
       "      <td>364171.000000</td>\n",
       "      <td>364171.000000</td>\n",
       "      <td>364171.000000</td>\n",
       "      <td>364171.000000</td>\n",
       "      <td>3.641710e+05</td>\n",
       "    </tr>\n",
       "    <tr>\n",
       "      <th>mean</th>\n",
       "      <td>241825.377603</td>\n",
       "      <td>261814.561014</td>\n",
       "      <td>1.739021</td>\n",
       "      <td>2.186841</td>\n",
       "      <td>1.296135e+09</td>\n",
       "    </tr>\n",
       "    <tr>\n",
       "      <th>std</th>\n",
       "      <td>154519.869452</td>\n",
       "      <td>166958.768333</td>\n",
       "      <td>6.723921</td>\n",
       "      <td>7.348482</td>\n",
       "      <td>4.864772e+07</td>\n",
       "    </tr>\n",
       "    <tr>\n",
       "      <th>min</th>\n",
       "      <td>0.000000</td>\n",
       "      <td>1.000000</td>\n",
       "      <td>0.000000</td>\n",
       "      <td>0.000000</td>\n",
       "      <td>9.393408e+08</td>\n",
       "    </tr>\n",
       "    <tr>\n",
       "      <th>25%</th>\n",
       "      <td>104427.500000</td>\n",
       "      <td>113379.500000</td>\n",
       "      <td>0.000000</td>\n",
       "      <td>0.000000</td>\n",
       "      <td>1.270858e+09</td>\n",
       "    </tr>\n",
       "    <tr>\n",
       "      <th>50%</th>\n",
       "      <td>230033.000000</td>\n",
       "      <td>249445.000000</td>\n",
       "      <td>0.000000</td>\n",
       "      <td>1.000000</td>\n",
       "      <td>1.311379e+09</td>\n",
       "    </tr>\n",
       "    <tr>\n",
       "      <th>75%</th>\n",
       "      <td>376763.500000</td>\n",
       "      <td>407408.500000</td>\n",
       "      <td>2.000000</td>\n",
       "      <td>2.000000</td>\n",
       "      <td>1.332893e+09</td>\n",
       "    </tr>\n",
       "    <tr>\n",
       "      <th>max</th>\n",
       "      <td>525813.000000</td>\n",
       "      <td>568454.000000</td>\n",
       "      <td>866.000000</td>\n",
       "      <td>878.000000</td>\n",
       "      <td>1.351210e+09</td>\n",
       "    </tr>\n",
       "  </tbody>\n",
       "</table>\n",
       "</div>"
      ],
      "text/plain": [
       "               index             Id  HelpfulnessNumerator  \\\n",
       "count  364171.000000  364171.000000         364171.000000   \n",
       "mean   241825.377603  261814.561014              1.739021   \n",
       "std    154519.869452  166958.768333              6.723921   \n",
       "min         0.000000       1.000000              0.000000   \n",
       "25%    104427.500000  113379.500000              0.000000   \n",
       "50%    230033.000000  249445.000000              0.000000   \n",
       "75%    376763.500000  407408.500000              2.000000   \n",
       "max    525813.000000  568454.000000            866.000000   \n",
       "\n",
       "       HelpfulnessDenominator          Time  \n",
       "count           364171.000000  3.641710e+05  \n",
       "mean                 2.186841  1.296135e+09  \n",
       "std                  7.348482  4.864772e+07  \n",
       "min                  0.000000  9.393408e+08  \n",
       "25%                  0.000000  1.270858e+09  \n",
       "50%                  1.000000  1.311379e+09  \n",
       "75%                  2.000000  1.332893e+09  \n",
       "max                878.000000  1.351210e+09  "
      ]
     },
     "execution_count": 5,
     "metadata": {
      "tags": []
     },
     "output_type": "execute_result"
    }
   ],
   "source": [
    "df.describe()"
   ]
  },
  {
   "cell_type": "code",
   "execution_count": 6,
   "metadata": {
    "colab": {
     "autoexec": {
      "startup": false,
      "wait_interval": 0
     },
     "base_uri": "https://localhost:8080/",
     "height": 34
    },
    "colab_type": "code",
    "executionInfo": {
     "elapsed": 1144,
     "status": "ok",
     "timestamp": 1531177791068,
     "user": {
      "displayName": "Vijay Bhati",
      "photoUrl": "//lh6.googleusercontent.com/-8eiDzCxazcQ/AAAAAAAAAAI/AAAAAAAAETg/em_yQO7VCzk/s50-c-k-no/photo.jpg",
      "userId": "111311313461951215577"
     },
     "user_tz": -330
    },
    "id": "OZBxzR032xwr",
    "outputId": "124918a2-9c8d-4921-c631-b7e3b74e16b8"
   },
   "outputs": [
    {
     "data": {
      "text/plain": [
       "(364171, 13)"
      ]
     },
     "execution_count": 6,
     "metadata": {
      "tags": []
     },
     "output_type": "execute_result"
    }
   ],
   "source": [
    "df.shape"
   ]
  },
  {
   "cell_type": "code",
   "execution_count": 7,
   "metadata": {
    "colab": {
     "autoexec": {
      "startup": false,
      "wait_interval": 0
     },
     "base_uri": "https://localhost:8080/",
     "height": 34
    },
    "colab_type": "code",
    "executionInfo": {
     "elapsed": 1393,
     "status": "ok",
     "timestamp": 1531177792669,
     "user": {
      "displayName": "Vijay Bhati",
      "photoUrl": "//lh6.googleusercontent.com/-8eiDzCxazcQ/AAAAAAAAAAI/AAAAAAAAETg/em_yQO7VCzk/s50-c-k-no/photo.jpg",
      "userId": "111311313461951215577"
     },
     "user_tz": -330
    },
    "id": "JwME6Fc521pZ",
    "outputId": "f2ea6114-f043-425c-e428-85784196894f"
   },
   "outputs": [
    {
     "data": {
      "text/plain": [
       "364171"
      ]
     },
     "execution_count": 7,
     "metadata": {
      "tags": []
     },
     "output_type": "execute_result"
    }
   ],
   "source": [
    "df['Score'].size"
   ]
  },
  {
   "cell_type": "code",
   "execution_count": 8,
   "metadata": {
    "colab": {
     "autoexec": {
      "startup": false,
      "wait_interval": 0
     },
     "base_uri": "https://localhost:8080/",
     "height": 584
    },
    "colab_type": "code",
    "executionInfo": {
     "elapsed": 991,
     "status": "ok",
     "timestamp": 1531177793948,
     "user": {
      "displayName": "Vijay Bhati",
      "photoUrl": "//lh6.googleusercontent.com/-8eiDzCxazcQ/AAAAAAAAAAI/AAAAAAAAETg/em_yQO7VCzk/s50-c-k-no/photo.jpg",
      "userId": "111311313461951215577"
     },
     "user_tz": -330
    },
    "id": "caj578WG245A",
    "outputId": "c81b3177-3cc6-49f5-ab73-76ad85bd651c"
   },
   "outputs": [
    {
     "data": {
      "text/html": [
       "<div>\n",
       "<style scoped>\n",
       "    .dataframe tbody tr th:only-of-type {\n",
       "        vertical-align: middle;\n",
       "    }\n",
       "\n",
       "    .dataframe tbody tr th {\n",
       "        vertical-align: top;\n",
       "    }\n",
       "\n",
       "    .dataframe thead th {\n",
       "        text-align: right;\n",
       "    }\n",
       "</style>\n",
       "<table border=\"1\" class=\"dataframe\">\n",
       "  <thead>\n",
       "    <tr style=\"text-align: right;\">\n",
       "      <th></th>\n",
       "      <th>index</th>\n",
       "      <th>Id</th>\n",
       "      <th>ProductId</th>\n",
       "      <th>UserId</th>\n",
       "      <th>ProfileName</th>\n",
       "      <th>HelpfulnessNumerator</th>\n",
       "      <th>HelpfulnessDenominator</th>\n",
       "      <th>Score</th>\n",
       "      <th>Time</th>\n",
       "      <th>Summary</th>\n",
       "      <th>Text</th>\n",
       "      <th>CleanedText</th>\n",
       "      <th>CleanedText_NoStem</th>\n",
       "    </tr>\n",
       "  </thead>\n",
       "  <tbody>\n",
       "    <tr>\n",
       "      <th>169304</th>\n",
       "      <td>212495</td>\n",
       "      <td>230309</td>\n",
       "      <td>B00004RYGX</td>\n",
       "      <td>A34NBH479RB0E</td>\n",
       "      <td>\"dmab6395\"</td>\n",
       "      <td>0</td>\n",
       "      <td>1</td>\n",
       "      <td>Positive</td>\n",
       "      <td>977184000</td>\n",
       "      <td>FUNNY</td>\n",
       "      <td>I THOUGHT THIS MOVIE WAS SO FUNNY, MICHAEL KEA...</td>\n",
       "      <td>b'thought movi funni michael keaton beetlejuic...</td>\n",
       "      <td>b'thought movie funny michael keaton beetlejui...</td>\n",
       "    </tr>\n",
       "    <tr>\n",
       "      <th>117349</th>\n",
       "      <td>138016</td>\n",
       "      <td>149787</td>\n",
       "      <td>B00004S1C6</td>\n",
       "      <td>A2XZKD83G4N9Y5</td>\n",
       "      <td>Cindy Elliott</td>\n",
       "      <td>43</td>\n",
       "      <td>45</td>\n",
       "      <td>Positive</td>\n",
       "      <td>1036454400</td>\n",
       "      <td>Great!</td>\n",
       "      <td>For those wondering, the bottles are each 3/4 ...</td>\n",
       "      <td>b'wonder bottl gel food color vibrant amount g...</td>\n",
       "      <td>b'wondering bottles gel food color vibrant amo...</td>\n",
       "    </tr>\n",
       "    <tr>\n",
       "      <th>117267</th>\n",
       "      <td>137934</td>\n",
       "      <td>149702</td>\n",
       "      <td>B00006L2ZT</td>\n",
       "      <td>A25CKRB0P506KH</td>\n",
       "      <td>Jonathan P. Higgins</td>\n",
       "      <td>1</td>\n",
       "      <td>4</td>\n",
       "      <td>Positive</td>\n",
       "      <td>1036627200</td>\n",
       "      <td>Camper van Beethoven is the greatest rock band...</td>\n",
       "      <td>Well, maybe not &amp;quot;the&amp;quot; greatest, but ...</td>\n",
       "      <td>b'well mayb greatest one best set bring togeth...</td>\n",
       "      <td>b'well maybe greatest one best set brings toge...</td>\n",
       "    </tr>\n",
       "    <tr>\n",
       "      <th>117268</th>\n",
       "      <td>137935</td>\n",
       "      <td>149703</td>\n",
       "      <td>B00006L2ZT</td>\n",
       "      <td>A2Y8DAMQ4PHSK9</td>\n",
       "      <td>AWKword</td>\n",
       "      <td>2</td>\n",
       "      <td>6</td>\n",
       "      <td>Positive</td>\n",
       "      <td>1036713600</td>\n",
       "      <td>Never A Dull Moment</td>\n",
       "      <td>Finally, a collection of the best Camper Van B...</td>\n",
       "      <td>b'final collect best camper van beethoven albu...</td>\n",
       "      <td>b'finally collection best camper van beethoven...</td>\n",
       "    </tr>\n",
       "    <tr>\n",
       "      <th>169253</th>\n",
       "      <td>212444</td>\n",
       "      <td>230255</td>\n",
       "      <td>B00004RYGX</td>\n",
       "      <td>A1JZV9MCT6KOX4</td>\n",
       "      <td>C. Eallonardo \"Kali's Copilot\"</td>\n",
       "      <td>0</td>\n",
       "      <td>0</td>\n",
       "      <td>Positive</td>\n",
       "      <td>1037923200</td>\n",
       "      <td>Good Tim Burton Flick</td>\n",
       "      <td>I like Tim Burton movies in general.  But this...</td>\n",
       "      <td>b'like tim burton movi general good one your m...</td>\n",
       "      <td>b'like tim burton movies general good one your...</td>\n",
       "    </tr>\n",
       "  </tbody>\n",
       "</table>\n",
       "</div>"
      ],
      "text/plain": [
       "         index      Id   ProductId          UserId  \\\n",
       "169304  212495  230309  B00004RYGX   A34NBH479RB0E   \n",
       "117349  138016  149787  B00004S1C6  A2XZKD83G4N9Y5   \n",
       "117267  137934  149702  B00006L2ZT  A25CKRB0P506KH   \n",
       "117268  137935  149703  B00006L2ZT  A2Y8DAMQ4PHSK9   \n",
       "169253  212444  230255  B00004RYGX  A1JZV9MCT6KOX4   \n",
       "\n",
       "                           ProfileName  HelpfulnessNumerator  \\\n",
       "169304                      \"dmab6395\"                     0   \n",
       "117349                   Cindy Elliott                    43   \n",
       "117267             Jonathan P. Higgins                     1   \n",
       "117268                         AWKword                     2   \n",
       "169253  C. Eallonardo \"Kali's Copilot\"                     0   \n",
       "\n",
       "        HelpfulnessDenominator     Score        Time  \\\n",
       "169304                       1  Positive   977184000   \n",
       "117349                      45  Positive  1036454400   \n",
       "117267                       4  Positive  1036627200   \n",
       "117268                       6  Positive  1036713600   \n",
       "169253                       0  Positive  1037923200   \n",
       "\n",
       "                                                  Summary  \\\n",
       "169304                                              FUNNY   \n",
       "117349                                             Great!   \n",
       "117267  Camper van Beethoven is the greatest rock band...   \n",
       "117268                                Never A Dull Moment   \n",
       "169253                              Good Tim Burton Flick   \n",
       "\n",
       "                                                     Text  \\\n",
       "169304  I THOUGHT THIS MOVIE WAS SO FUNNY, MICHAEL KEA...   \n",
       "117349  For those wondering, the bottles are each 3/4 ...   \n",
       "117267  Well, maybe not &quot;the&quot; greatest, but ...   \n",
       "117268  Finally, a collection of the best Camper Van B...   \n",
       "169253  I like Tim Burton movies in general.  But this...   \n",
       "\n",
       "                                              CleanedText  \\\n",
       "169304  b'thought movi funni michael keaton beetlejuic...   \n",
       "117349  b'wonder bottl gel food color vibrant amount g...   \n",
       "117267  b'well mayb greatest one best set bring togeth...   \n",
       "117268  b'final collect best camper van beethoven albu...   \n",
       "169253  b'like tim burton movi general good one your m...   \n",
       "\n",
       "                                       CleanedText_NoStem  \n",
       "169304  b'thought movie funny michael keaton beetlejui...  \n",
       "117349  b'wondering bottles gel food color vibrant amo...  \n",
       "117267  b'well maybe greatest one best set brings toge...  \n",
       "117268  b'finally collection best camper van beethoven...  \n",
       "169253  b'like tim burton movies general good one your...  "
      ]
     },
     "execution_count": 8,
     "metadata": {
      "tags": []
     },
     "output_type": "execute_result"
    }
   ],
   "source": [
    "# Taking Sample Datapoints\n",
    "n_samples = 15000\n",
    "df_sample = df.sample(n_samples)\n",
    "df_sample.sort_values('Time', inplace=True) #Sorting with respect to time\n",
    "df_sample.head()"
   ]
  },
  {
   "cell_type": "code",
   "execution_count": 0,
   "metadata": {
    "colab": {
     "autoexec": {
      "startup": false,
      "wait_interval": 0
     }
    },
    "colab_type": "code",
    "id": "Zu1BQqOlIPhs"
   },
   "outputs": [],
   "source": [
    "# Function to split train and test set by time\n",
    "\n",
    "def train_test_split_by_time(X, y, test_ratio = 0.3):\n",
    "    \"\"\"\n",
    "    y parameter needs to be a pandas series\n",
    "    with timestamp as its index\n",
    "    \"\"\"\n",
    "    \n",
    "    train_ratio = 1 - test_ratio\n",
    "    train_end = int(train_ratio * len(y))\n",
    "    \n",
    "    sorted_index = np.argsort(y)\n",
    "    train_index = sorted_index[:train_end]\n",
    "    test_index = sorted_index[train_end:]\n",
    "    \n",
    "    try:\n",
    "        return X[train_index], X[test_index], y.iloc[train_index], y.iloc[test_index]\n",
    "    except KeyError:\n",
    "        # if X is a pandas data structure\n",
    "        return X.iloc[train_index], X.iloc[test_index], y.iloc[train_index], y.iloc[test_index]"
   ]
  },
  {
   "cell_type": "code",
   "execution_count": 0,
   "metadata": {
    "colab": {
     "autoexec": {
      "startup": false,
      "wait_interval": 0
     }
    },
    "colab_type": "code",
    "id": "SDULjkavETx2"
   },
   "outputs": [],
   "source": [
    "# From kaggle\n",
    "from sklearn.model_selection import GridSearchCV\n",
    "\n",
    "def search_param(clf, param_grid, X, y, test_size=0.3, cv=10, n_jobs=-1,\n",
    "                 random_search=False, n_iter=10, return_train_score=False):\n",
    "    \"\"\"\n",
    "    Splits the data using time based slicing\n",
    "    Performs grid search to search for optimal parameter\n",
    "    using exaustive or random search\n",
    "    Print accuracy and classification report with\n",
    "    best parameter on test set\n",
    "    \"\"\"\n",
    "    \n",
    "    # time based splitting of dataset\n",
    "    X_train, X_test, y_train, y_test = train_test_split_by_time(X, y, test_size)\n",
    "    \n",
    "    if random_search:\n",
    "        grid_search = RandomizedSearchCV(clf, param_grid, n_iter=n_iter, \n",
    "                                         n_jobs=n_jobs, verbose=1, cv=cv, \n",
    "                                         return_train_score=return_train_score)\n",
    "    else:\n",
    "        grid_search = GridSearchCV(clf, param_grid, n_jobs=n_jobs, \n",
    "                                   verbose=1, cv=cv, \n",
    "                                   return_train_score=return_train_score)\n",
    "    \n",
    "    print('Performing grid search...\\n')\n",
    "    print('Parameters:')\n",
    "    print(param_grid)\n",
    "    print()\n",
    "    \n",
    "    grid_search.fit(X_train, y_train)\n",
    "    print('\\n')\n",
    "    \n",
    "    print(\"Best CV score: %f\" % grid_search.best_score_)\n",
    "    print(\"Best parameters set:\")\n",
    "    best_parameters = grid_search.best_estimator_.get_params()\n",
    "    for param_name in sorted(param_grid.keys()):\n",
    "        print(\"\\t%s: %r\" % (param_name, best_parameters[param_name]))\n",
    "        \n",
    "    print(\"\\nTest score with best_estimator_: %f\" % grid_search.best_estimator_.score(X_test, y_test))\n",
    "    print(\"\\n\")\n",
    "    print(\"                 Classification Report Test Data\")\n",
    "    print(classification_report(y_test, grid_search.best_estimator_.predict(X_test)))\n",
    "    \n",
    "    return grid_search"
   ]
  },
  {
   "cell_type": "markdown",
   "metadata": {
    "colab_type": "text",
    "id": "edHvgm3G3wQz"
   },
   "source": [
    "# Applying the logistic Regression on the different Vectorizing Techniques\n",
    "\n",
    "\n",
    "## Bag of Word(BOW)"
   ]
  },
  {
   "cell_type": "code",
   "execution_count": 0,
   "metadata": {
    "colab": {
     "autoexec": {
      "startup": false,
      "wait_interval": 0
     }
    },
    "colab_type": "code",
    "id": "29BnIfnz3lJK"
   },
   "outputs": [],
   "source": [
    "from sklearn.model_selection import train_test_split\n",
    "from sklearn.naive_bayes import MultinomialNB\n",
    "from sklearn.naive_bayes import GaussianNB\n",
    "from sklearn.metrics import classification_report\n",
    "from sklearn.metrics import accuracy_score\n",
    "from sklearn.metrics import confusion_matrix\n",
    "from sklearn.preprocessing import Normalizer\n",
    "from sklearn.linear_model import LogisticRegression\n",
    "from sklearn.model_selection import RandomizedSearchCV"
   ]
  },
  {
   "cell_type": "code",
   "execution_count": 12,
   "metadata": {
    "colab": {
     "autoexec": {
      "startup": false,
      "wait_interval": 0
     },
     "base_uri": "https://localhost:8080/",
     "height": 34
    },
    "colab_type": "code",
    "executionInfo": {
     "elapsed": 1271,
     "status": "ok",
     "timestamp": 1531177799303,
     "user": {
      "displayName": "Vijay Bhati",
      "photoUrl": "//lh6.googleusercontent.com/-8eiDzCxazcQ/AAAAAAAAAAI/AAAAAAAAETg/em_yQO7VCzk/s50-c-k-no/photo.jpg",
      "userId": "111311313461951215577"
     },
     "user_tz": -330
    },
    "id": "Ac2JOD-QIWGK",
    "outputId": "03dcb024-d308-4ed2-f2f9-8e9f5544355b"
   },
   "outputs": [
    {
     "data": {
      "text/plain": [
       "(15000, 3540)"
      ]
     },
     "execution_count": 12,
     "metadata": {
      "tags": []
     },
     "output_type": "execute_result"
    }
   ],
   "source": [
    "bi_gram = CountVectorizer(min_df=10)\n",
    "bi_gram_vectors = bi_gram.fit_transform(df_sample['CleanedText'])\n",
    "bi_gram_vectors.shape"
   ]
  },
  {
   "cell_type": "code",
   "execution_count": 0,
   "metadata": {
    "colab": {
     "autoexec": {
      "startup": false,
      "wait_interval": 0
     }
    },
    "colab_type": "code",
    "id": "rj1J51VVI2l5"
   },
   "outputs": [],
   "source": [
    "# spliting data into train and test\n",
    "X_train, X_test, y_train, y_test = train_test_split_by_time(bi_gram_vectors,df_sample['Score'])"
   ]
  },
  {
   "cell_type": "code",
   "execution_count": 14,
   "metadata": {
    "colab": {
     "autoexec": {
      "startup": false,
      "wait_interval": 0
     },
     "base_uri": "https://localhost:8080/",
     "height": 34
    },
    "colab_type": "code",
    "executionInfo": {
     "elapsed": 1071,
     "status": "ok",
     "timestamp": 1531177806299,
     "user": {
      "displayName": "Vijay Bhati",
      "photoUrl": "//lh6.googleusercontent.com/-8eiDzCxazcQ/AAAAAAAAAAI/AAAAAAAAETg/em_yQO7VCzk/s50-c-k-no/photo.jpg",
      "userId": "111311313461951215577"
     },
     "user_tz": -330
    },
    "id": "GMCduk-jJFrB",
    "outputId": "0c4cb6c2-9e3e-4043-fda7-261a812ea3c4"
   },
   "outputs": [
    {
     "name": "stdout",
     "output_type": "stream",
     "text": [
      "Accuracy on test set: 0.9466666666666667\n"
     ]
    }
   ],
   "source": [
    "# Train model with default hyperparameter\n",
    "clf = LogisticRegression()\n",
    "clf.fit(X_train, y_train)\n",
    "\n",
    "print('Accuracy on test set:', clf.score(X_test, y_test))"
   ]
  },
  {
   "cell_type": "code",
   "execution_count": 15,
   "metadata": {
    "colab": {
     "autoexec": {
      "startup": false,
      "wait_interval": 0
     },
     "base_uri": "https://localhost:8080/",
     "height": 111
    },
    "colab_type": "code",
    "executionInfo": {
     "elapsed": 1446,
     "status": "ok",
     "timestamp": 1531177807899,
     "user": {
      "displayName": "Vijay Bhati",
      "photoUrl": "//lh6.googleusercontent.com/-8eiDzCxazcQ/AAAAAAAAAAI/AAAAAAAAETg/em_yQO7VCzk/s50-c-k-no/photo.jpg",
      "userId": "111311313461951215577"
     },
     "user_tz": -330
    },
    "id": "5X-Dg8__1Akx",
    "outputId": "da372a3e-b604-46fb-8927-d4c56857503d"
   },
   "outputs": [
    {
     "name": "stderr",
     "output_type": "stream",
     "text": [
      "/usr/local/lib/python3.6/dist-packages/sklearn/utils/validation.py:475: DataConversionWarning: Data with input dtype int64 was converted to float64 by StandardScaler.\n",
      "  warnings.warn(msg, DataConversionWarning)\n"
     ]
    },
    {
     "name": "stdout",
     "output_type": "stream",
     "text": [
      "Accuracy on test set: 0.8955555555555555\n"
     ]
    }
   ],
   "source": [
    "# Column standardization\n",
    "from sklearn.pipeline import Pipeline\n",
    "from sklearn.preprocessing import StandardScaler\n",
    "\n",
    "clf = Pipeline([('Scalar', StandardScaler(with_mean=False)),\n",
    "               ('logreg', LogisticRegression())])\n",
    "clf.fit(X_train, y_train)\n",
    "print('Accuracy on test set:', clf.score(X_test, y_test))"
   ]
  },
  {
   "cell_type": "markdown",
   "metadata": {
    "colab_type": "text",
    "id": "i1T8Wgr26RZh"
   },
   "source": [
    "By using column standardization, the accuracy decreased by 5%."
   ]
  },
  {
   "cell_type": "code",
   "execution_count": 16,
   "metadata": {
    "colab": {
     "autoexec": {
      "startup": false,
      "wait_interval": 0
     },
     "base_uri": "https://localhost:8080/",
     "height": 34
    },
    "colab_type": "code",
    "executionInfo": {
     "elapsed": 1029,
     "status": "ok",
     "timestamp": 1531177809037,
     "user": {
      "displayName": "Vijay Bhati",
      "photoUrl": "//lh6.googleusercontent.com/-8eiDzCxazcQ/AAAAAAAAAAI/AAAAAAAAETg/em_yQO7VCzk/s50-c-k-no/photo.jpg",
      "userId": "111311313461951215577"
     },
     "user_tz": -330
    },
    "id": "kbiKPoyp1Ats",
    "outputId": "0decc8ac-800a-495a-d708-3d52724030d7"
   },
   "outputs": [
    {
     "name": "stdout",
     "output_type": "stream",
     "text": [
      "Accuracy on test set: 0.9733333333333334\n"
     ]
    }
   ],
   "source": [
    "# Normalize sample to unitform\n",
    "clf = Pipeline([\n",
    "    ('norm', Normalizer()),\n",
    "    ('logreg', LogisticRegression())\n",
    "])\n",
    "clf.fit(X_train, y_train)\n",
    "print('Accuracy on test set:', clf.score(X_test, y_test))"
   ]
  },
  {
   "cell_type": "markdown",
   "metadata": {
    "colab_type": "text",
    "id": "xPSmdHEp80Cy"
   },
   "source": [
    "The accuracy is about the same to our original Logistic Regression."
   ]
  },
  {
   "cell_type": "code",
   "execution_count": 17,
   "metadata": {
    "colab": {
     "autoexec": {
      "startup": false,
      "wait_interval": 0
     },
     "base_uri": "https://localhost:8080/",
     "height": 34
    },
    "colab_type": "code",
    "executionInfo": {
     "elapsed": 940,
     "status": "ok",
     "timestamp": 1531177810829,
     "user": {
      "displayName": "Vijay Bhati",
      "photoUrl": "//lh6.googleusercontent.com/-8eiDzCxazcQ/AAAAAAAAAAI/AAAAAAAAETg/em_yQO7VCzk/s50-c-k-no/photo.jpg",
      "userId": "111311313461951215577"
     },
     "user_tz": -330
    },
    "id": "4h0K6Y101ByD",
    "outputId": "c896325c-38d7-4e48-e044-8a1c11a3682f"
   },
   "outputs": [
    {
     "name": "stdout",
     "output_type": "stream",
     "text": [
      "Accuracy on test set: 0.9486666666666667\n"
     ]
    }
   ],
   "source": [
    "# L1 regularization\n",
    "clf = LogisticRegression(penalty='l1')\n",
    "clf.fit(X_train, y_train)\n",
    "\n",
    "print('Accuracy on test set:', clf.score(X_test, y_test))"
   ]
  },
  {
   "cell_type": "code",
   "execution_count": 18,
   "metadata": {
    "colab": {
     "autoexec": {
      "startup": false,
      "wait_interval": 0
     },
     "base_uri": "https://localhost:8080/",
     "height": 34
    },
    "colab_type": "code",
    "executionInfo": {
     "elapsed": 1124,
     "status": "ok",
     "timestamp": 1531177812309,
     "user": {
      "displayName": "Vijay Bhati",
      "photoUrl": "//lh6.googleusercontent.com/-8eiDzCxazcQ/AAAAAAAAAAI/AAAAAAAAETg/em_yQO7VCzk/s50-c-k-no/photo.jpg",
      "userId": "111311313461951215577"
     },
     "user_tz": -330
    },
    "id": "PQtmSQ281BuO",
    "outputId": "8f889cc8-5a17-41b9-ed8b-c673bdb2db77"
   },
   "outputs": [
    {
     "name": "stdout",
     "output_type": "stream",
     "text": [
      "Accuracy on test set: 0.962\n"
     ]
    }
   ],
   "source": [
    "clf = Pipeline([\n",
    "    ('norm', Normalizer()),\n",
    "    ('logreg', LogisticRegression(penalty='l1'))\n",
    "])\n",
    "clf.fit(X_train, y_train)\n",
    "print('Accuracy on test set:', clf.score(X_test, y_test))"
   ]
  },
  {
   "cell_type": "markdown",
   "metadata": {
    "colab_type": "text",
    "id": "davBaGJzJfbz"
   },
   "source": [
    "## Optimal C for L2 regularization\n",
    "* where C is inverse of lembda"
   ]
  },
  {
   "cell_type": "code",
   "execution_count": 0,
   "metadata": {
    "colab": {
     "autoexec": {
      "startup": false,
      "wait_interval": 0
     }
    },
    "colab_type": "code",
    "id": "jCZuiJMAFdaS"
   },
   "outputs": [],
   "source": [
    "class power_uniform():\n",
    "    def __init__(self, low=0.0, high=1.0, base=10.0):\n",
    "        self.low = low\n",
    "        self.high = high\n",
    "        self.base = base\n",
    "\n",
    "    def rvs(self, random_state):\n",
    "        return self.base ** np.random.uniform(self.low, self.high)\n"
   ]
  },
  {
   "cell_type": "code",
   "execution_count": 20,
   "metadata": {
    "colab": {
     "autoexec": {
      "startup": false,
      "wait_interval": 0
     },
     "base_uri": "https://localhost:8080/",
     "height": 496
    },
    "colab_type": "code",
    "executionInfo": {
     "elapsed": 27701,
     "status": "ok",
     "timestamp": 1531177841607,
     "user": {
      "displayName": "Vijay Bhati",
      "photoUrl": "//lh6.googleusercontent.com/-8eiDzCxazcQ/AAAAAAAAAAI/AAAAAAAAETg/em_yQO7VCzk/s50-c-k-no/photo.jpg",
      "userId": "111311313461951215577"
     },
     "user_tz": -330
    },
    "id": "kUd-Xyca1BrX",
    "outputId": "14f6fd22-748a-431e-9c1e-0e8b5ca5974f"
   },
   "outputs": [
    {
     "name": "stdout",
     "output_type": "stream",
     "text": [
      "Performing grid search...\n",
      "\n",
      "Parameters:\n",
      "{'log__C': <__main__.power_uniform object at 0x7f6064001860>}\n",
      "\n",
      "Fitting 10 folds for each of 10 candidates, totalling 100 fits\n"
     ]
    },
    {
     "name": "stderr",
     "output_type": "stream",
     "text": [
      "[Parallel(n_jobs=-1)]: Done  46 tasks      | elapsed:   11.4s\n",
      "[Parallel(n_jobs=-1)]: Done 100 out of 100 | elapsed:   22.0s finished\n"
     ]
    },
    {
     "name": "stdout",
     "output_type": "stream",
     "text": [
      "\n",
      "\n",
      "Best CV score: 0.874571\n",
      "Best parameters set:\n",
      "\tlog__C: 28.68819227165926\n",
      "\n",
      "Test score with best_estimator_: 0.947333\n",
      "\n",
      "\n",
      "                 Classification Report Test Data\n",
      "             precision    recall  f1-score   support\n",
      "\n",
      "   Negative       0.00      0.00      0.00         0\n",
      "   Positive       1.00      0.95      0.97      4500\n",
      "\n",
      "avg / total       1.00      0.95      0.97      4500\n",
      "\n"
     ]
    },
    {
     "name": "stderr",
     "output_type": "stream",
     "text": [
      "/usr/local/lib/python3.6/dist-packages/sklearn/metrics/classification.py:1137: UndefinedMetricWarning: Recall and F-score are ill-defined and being set to 0.0 in labels with no true samples.\n",
      "  'recall', 'true', average, warn_for)\n"
     ]
    }
   ],
   "source": [
    "# Using Random search\n",
    "param_grid = {\n",
    "    'log__C': power_uniform(-4, 4)\n",
    "}\n",
    "\n",
    "clf = Pipeline([\n",
    "    ('norm', Normalizer()),\n",
    "    ('log', LogisticRegression(penalty='l2'))\n",
    "])\n",
    "\n",
    "best_log = search_param(clf, param_grid, bi_gram_vectors, df_sample['Score'], random_search=True)"
   ]
  },
  {
   "cell_type": "markdown",
   "metadata": {
    "colab_type": "text",
    "id": "e2XKTm8xzHU4"
   },
   "source": [
    "## Optimal C for L1 regularization"
   ]
  },
  {
   "cell_type": "code",
   "execution_count": 0,
   "metadata": {
    "colab": {
     "autoexec": {
      "startup": false,
      "wait_interval": 0
     }
    },
    "colab_type": "code",
    "id": "8OnZqPEz-Yi8"
   },
   "outputs": [],
   "source": [
    "from sklearn.model_selection import RandomizedSearchCV\n",
    "from sklearn.model_selection import TimeSeriesSplit\n"
   ]
  },
  {
   "cell_type": "code",
   "execution_count": 22,
   "metadata": {
    "colab": {
     "autoexec": {
      "startup": false,
      "wait_interval": 0
     },
     "base_uri": "https://localhost:8080/",
     "height": 479
    },
    "colab_type": "code",
    "executionInfo": {
     "elapsed": 21971,
     "status": "ok",
     "timestamp": 1531177865819,
     "user": {
      "displayName": "Vijay Bhati",
      "photoUrl": "//lh6.googleusercontent.com/-8eiDzCxazcQ/AAAAAAAAAAI/AAAAAAAAETg/em_yQO7VCzk/s50-c-k-no/photo.jpg",
      "userId": "111311313461951215577"
     },
     "user_tz": -330
    },
    "id": "UgMQutRY1BpJ",
    "outputId": "a4fb08aa-8514-4bfc-d2a1-d1922c61b3da"
   },
   "outputs": [
    {
     "name": "stdout",
     "output_type": "stream",
     "text": [
      "Performing grid search...\n",
      "\n",
      "Parameters:\n",
      "{'log__C': array([1.e-04, 1.e-03, 1.e-02, 1.e-01, 1.e+00, 1.e+01, 1.e+02, 1.e+03])}\n",
      "\n",
      "Fitting 10 folds for each of 8 candidates, totalling 80 fits\n"
     ]
    },
    {
     "name": "stderr",
     "output_type": "stream",
     "text": [
      "[Parallel(n_jobs=-1)]: Done  80 out of  80 | elapsed:   15.8s finished\n"
     ]
    },
    {
     "name": "stdout",
     "output_type": "stream",
     "text": [
      "\n",
      "\n",
      "Best CV score: 0.873429\n",
      "Best parameters set:\n",
      "\tlog__C: 1.0\n",
      "\n",
      "Test score with best_estimator_: 0.962000\n",
      "\n",
      "\n",
      "                 Classification Report Test Data\n",
      "             precision    recall  f1-score   support\n",
      "\n",
      "   Negative       0.00      0.00      0.00         0\n",
      "   Positive       1.00      0.96      0.98      4500\n",
      "\n",
      "avg / total       1.00      0.96      0.98      4500\n",
      "\n"
     ]
    },
    {
     "name": "stderr",
     "output_type": "stream",
     "text": [
      "/usr/local/lib/python3.6/dist-packages/sklearn/metrics/classification.py:1137: UndefinedMetricWarning: Recall and F-score are ill-defined and being set to 0.0 in labels with no true samples.\n",
      "  'recall', 'true', average, warn_for)\n"
     ]
    }
   ],
   "source": [
    "# Using Random search\n",
    "param_grid = {\n",
    "    'log__C': 10.0 ** np.arange(-4, 4)\n",
    "}\n",
    "\n",
    "clf = Pipeline([\n",
    "    ('norm', Normalizer()),\n",
    "    ('log', LogisticRegression(penalty='l1'))\n",
    "])\n",
    "\n",
    "best_log = search_param(clf, param_grid, bi_gram_vectors, df_sample['Score'], n_jobs=-1)"
   ]
  },
  {
   "cell_type": "markdown",
   "metadata": {
    "colab_type": "text",
    "id": "2p-ZLsDezzla"
   },
   "source": [
    "* L2 regularization has a slightly better accuracy than L1 regularization."
   ]
  },
  {
   "cell_type": "markdown",
   "metadata": {
    "colab_type": "text",
    "id": "f6LwRavh0Ue5"
   },
   "source": [
    "## Error on changing C parameter in L1 regularization"
   ]
  },
  {
   "cell_type": "code",
   "execution_count": 0,
   "metadata": {
    "colab": {
     "autoexec": {
      "startup": false,
      "wait_interval": 0
     }
    },
    "colab_type": "code",
    "id": "1vnaOokn1BjT"
   },
   "outputs": [],
   "source": [
    "x = 10.0 ** np.arange(-4, 6)\n",
    "\n",
    "error = []\n",
    "cof = []\n",
    "\n",
    "for i in x:\n",
    "  clf = Pipeline([('norm', Normalizer()),\n",
    "                 ('log', LogisticRegression(penalty='l1', C=i))])\n",
    "  clf.fit(X_train, y_train)\n",
    "  error.append(1-clf.score(X_test, y_test))\n",
    "  w = clf.named_steps['log'].coef_\n",
    "  cof.append(np.count_nonzero(w))"
   ]
  },
  {
   "cell_type": "code",
   "execution_count": 24,
   "metadata": {
    "colab": {
     "autoexec": {
      "startup": false,
      "wait_interval": 0
     },
     "base_uri": "https://localhost:8080/",
     "height": 894
    },
    "colab_type": "code",
    "executionInfo": {
     "elapsed": 1514,
     "status": "ok",
     "timestamp": 1531177871587,
     "user": {
      "displayName": "Vijay Bhati",
      "photoUrl": "//lh6.googleusercontent.com/-8eiDzCxazcQ/AAAAAAAAAAI/AAAAAAAAETg/em_yQO7VCzk/s50-c-k-no/photo.jpg",
      "userId": "111311313461951215577"
     },
     "user_tz": -330
    },
    "id": "3LjPhDoBI15v",
    "outputId": "dfd904ae-a362-426f-cc11-67ea8bab7424"
   },
   "outputs": [
    {
     "data": {
      "text/plain": [
       "Text(0.5,0,'C (10^x)')"
      ]
     },
     "execution_count": 24,
     "metadata": {
      "tags": []
     },
     "output_type": "execute_result"
    },
    {
     "data": {
      "image/png": "[encoded data removed]",
      "text/plain": [
       "<matplotlib.figure.Figure at 0x7f6064001b38>"
      ]
     },
     "metadata": {
      "tags": []
     },
     "output_type": "display_data"
    }
   ],
   "source": [
    "# Drawing two figure in one graph\n",
    "plt.figure(figsize=(10, 15))\n",
    "plt.subplot(211)\n",
    "plt.plot(range(-4, 6), error, label=\"Errors\")\n",
    "plt.ylabel('Errors')\n",
    "\n",
    "# 2nd half figure part\n",
    "plt.subplot(212)\n",
    "plt.plot(range(-4, 6), cof, label='Non Zero weights')\n",
    "plt.ylabel('Non-Zero weights')\n",
    "plt.xlabel('C (10^x)')"
   ]
  },
  {
   "cell_type": "markdown",
   "metadata": {
    "colab_type": "text",
    "id": "ObFNxW9s4Brw"
   },
   "source": [
    "## Feature importance"
   ]
  },
  {
   "cell_type": "code",
   "execution_count": 0,
   "metadata": {
    "colab": {
     "autoexec": {
      "startup": false,
      "wait_interval": 0
     }
    },
    "colab_type": "code",
    "id": "0w_k0opV4BZr"
   },
   "outputs": [],
   "source": [
    "clf = Pipeline([('norm', Normalizer()),\n",
    "               ('log', LogisticRegression(C=10.0))])\n",
    "clf.fit(X_train, y_train)\n",
    "\n",
    "word = {x: i for (i, x) in bi_gram.vocabulary_.items()}\n",
    "weights = clf.named_steps['log'].coef_.ravel() # ravel convert 2D to 1D\n",
    "feature_weights = [(word[i], w) for(i, w) in enumerate(weights)]\n",
    "feature_weights = pd.DataFrame.from_records(feature_weights, columns=['word', 'weights'])\n",
    "feature_weights['abs_weights'] = feature_weights['weights'].apply(abs)\n",
    "feature_weights.sort_values('abs_weights', ascending=False, inplace=True)"
   ]
  },
  {
   "cell_type": "code",
   "execution_count": 26,
   "metadata": {
    "colab": {
     "autoexec": {
      "startup": false,
      "wait_interval": 0
     },
     "base_uri": "https://localhost:8080/",
     "height": 1183
    },
    "colab_type": "code",
    "executionInfo": {
     "elapsed": 5546,
     "status": "ok",
     "timestamp": 1531177879757,
     "user": {
      "displayName": "Vijay Bhati",
      "photoUrl": "//lh6.googleusercontent.com/-8eiDzCxazcQ/AAAAAAAAAAI/AAAAAAAAETg/em_yQO7VCzk/s50-c-k-no/photo.jpg",
      "userId": "111311313461951215577"
     },
     "user_tz": -330
    },
    "id": "R7ZAIOJs4BXO",
    "outputId": "d94732db-cd96-498a-871d-75e1d019f777"
   },
   "outputs": [
    {
     "name": "stderr",
     "output_type": "stream",
     "text": [
      "/usr/local/lib/python3.6/dist-packages/seaborn/categorical.py:1428: FutureWarning: remove_na is deprecated and is a private function. Do not use.\n",
      "  stat_data = remove_na(group_data)\n"
     ]
    },
    {
     "data": {
      "image/png": "[encoded data removed]",
      "text/plain": [
       "<matplotlib.figure.Figure at 0x7f6064001128>"
      ]
     },
     "metadata": {
      "tags": []
     },
     "output_type": "display_data"
    }
   ],
   "source": [
    "fig, ax =plt.subplots(figsize=(12,20))\n",
    "\n",
    "pallete = feature_weights['weights'].map(lambda w: 'b' if w > 0 else 'r')\n",
    "sns.barplot(x='weights', y='word', data=feature_weights.head(30), palette=pallete, ax=ax);"
   ]
  },
  {
   "cell_type": "markdown",
   "metadata": {
    "colab_type": "text",
    "id": "gkX5dsAd-8e8"
   },
   "source": [
    "# Tf-Idf Features"
   ]
  },
  {
   "cell_type": "code",
   "execution_count": 0,
   "metadata": {
    "colab": {
     "autoexec": {
      "startup": false,
      "wait_interval": 0
     }
    },
    "colab_type": "code",
    "id": "JXxFXg9bGULb"
   },
   "outputs": [],
   "source": [
    "tfidf = TfidfVectorizer(min_df=10) \n",
    "tfidf_vectors = tfidf.fit_transform(df_sample['CleanedText'].values)"
   ]
  },
  {
   "cell_type": "code",
   "execution_count": 0,
   "metadata": {
    "colab": {
     "autoexec": {
      "startup": false,
      "wait_interval": 0
     }
    },
    "colab_type": "code",
    "id": "oXyWphy7UXpu"
   },
   "outputs": [],
   "source": [
    "# spliting data into train and test\n",
    "X_train, X_test, y_train, y_test = train_test_split_by_time(tfidf_vectors,df_sample['Score'])"
   ]
  },
  {
   "cell_type": "code",
   "execution_count": 29,
   "metadata": {
    "colab": {
     "autoexec": {
      "startup": false,
      "wait_interval": 0
     },
     "base_uri": "https://localhost:8080/",
     "height": 34
    },
    "colab_type": "code",
    "executionInfo": {
     "elapsed": 1005,
     "status": "ok",
     "timestamp": 1531177889292,
     "user": {
      "displayName": "Vijay Bhati",
      "photoUrl": "//lh6.googleusercontent.com/-8eiDzCxazcQ/AAAAAAAAAAI/AAAAAAAAETg/em_yQO7VCzk/s50-c-k-no/photo.jpg",
      "userId": "111311313461951215577"
     },
     "user_tz": -330
    },
    "id": "IBK7zWpk_VAc",
    "outputId": "64366c44-c811-4138-8614-40b937a547b4"
   },
   "outputs": [
    {
     "name": "stdout",
     "output_type": "stream",
     "text": [
      "Accuracy on test set: 0.9793333333333333\n"
     ]
    }
   ],
   "source": [
    "# Train model with default hyperparameter\n",
    "clf = LogisticRegression()\n",
    "clf.fit(X_train, y_train)\n",
    "\n",
    "print('Accuracy on test set:', clf.score(X_test, y_test))"
   ]
  },
  {
   "cell_type": "code",
   "execution_count": 30,
   "metadata": {
    "colab": {
     "autoexec": {
      "startup": false,
      "wait_interval": 0
     },
     "base_uri": "https://localhost:8080/",
     "height": 34
    },
    "colab_type": "code",
    "executionInfo": {
     "elapsed": 1053,
     "status": "ok",
     "timestamp": 1531177890799,
     "user": {
      "displayName": "Vijay Bhati",
      "photoUrl": "//lh6.googleusercontent.com/-8eiDzCxazcQ/AAAAAAAAAAI/AAAAAAAAETg/em_yQO7VCzk/s50-c-k-no/photo.jpg",
      "userId": "111311313461951215577"
     },
     "user_tz": -330
    },
    "id": "KxixiMXu_Www",
    "outputId": "779bd9fe-fed2-4b2f-cee1-8cbe88cdc3d3"
   },
   "outputs": [
    {
     "name": "stdout",
     "output_type": "stream",
     "text": [
      "Accuracy on test set: 0.8815555555555555\n"
     ]
    }
   ],
   "source": [
    "# Column standardization\n",
    "from sklearn.pipeline import Pipeline\n",
    "from sklearn.preprocessing import StandardScaler\n",
    "\n",
    "clf = Pipeline([('Scalar', StandardScaler(with_mean=False)),\n",
    "               ('logreg', LogisticRegression())])\n",
    "clf.fit(X_train, y_train)\n",
    "print('Accuracy on test set:', clf.score(X_test, y_test))"
   ]
  },
  {
   "cell_type": "markdown",
   "metadata": {
    "colab_type": "text",
    "id": "mRnyHLum_hZB"
   },
   "source": [
    "* Column standardization decreases the overall accuracy"
   ]
  },
  {
   "cell_type": "code",
   "execution_count": 31,
   "metadata": {
    "colab": {
     "autoexec": {
      "startup": false,
      "wait_interval": 0
     },
     "base_uri": "https://localhost:8080/",
     "height": 34
    },
    "colab_type": "code",
    "executionInfo": {
     "elapsed": 1145,
     "status": "ok",
     "timestamp": 1531177892032,
     "user": {
      "displayName": "Vijay Bhati",
      "photoUrl": "//lh6.googleusercontent.com/-8eiDzCxazcQ/AAAAAAAAAAI/AAAAAAAAETg/em_yQO7VCzk/s50-c-k-no/photo.jpg",
      "userId": "111311313461951215577"
     },
     "user_tz": -330
    },
    "id": "NmIlxkIV_bV2",
    "outputId": "ddd05533-1097-4679-e552-1ff640d885e7"
   },
   "outputs": [
    {
     "name": "stdout",
     "output_type": "stream",
     "text": [
      "Accuracy on test set: 0.9793333333333333\n"
     ]
    }
   ],
   "source": [
    "# Normalize sample to unitform\n",
    "clf = Pipeline([\n",
    "    ('norm', Normalizer()),\n",
    "    ('logreg', LogisticRegression())\n",
    "])\n",
    "clf.fit(X_train, y_train)\n",
    "print('Accuracy on test set:', clf.score(X_test, y_test))"
   ]
  },
  {
   "cell_type": "code",
   "execution_count": 32,
   "metadata": {
    "colab": {
     "autoexec": {
      "startup": false,
      "wait_interval": 0
     },
     "base_uri": "https://localhost:8080/",
     "height": 34
    },
    "colab_type": "code",
    "executionInfo": {
     "elapsed": 983,
     "status": "ok",
     "timestamp": 1531177893119,
     "user": {
      "displayName": "Vijay Bhati",
      "photoUrl": "//lh6.googleusercontent.com/-8eiDzCxazcQ/AAAAAAAAAAI/AAAAAAAAETg/em_yQO7VCzk/s50-c-k-no/photo.jpg",
      "userId": "111311313461951215577"
     },
     "user_tz": -330
    },
    "id": "GnhUeZZ2_sAa",
    "outputId": "228a4573-d28e-4a5e-80f7-ac674efe646f"
   },
   "outputs": [
    {
     "name": "stdout",
     "output_type": "stream",
     "text": [
      "Accuracy on test set: 0.9648888888888889\n"
     ]
    }
   ],
   "source": [
    "# L1 regularization\n",
    "clf = LogisticRegression(penalty='l1')\n",
    "clf.fit(X_train, y_train)\n",
    "\n",
    "print('Accuracy on test set:', clf.score(X_test, y_test))"
   ]
  },
  {
   "cell_type": "code",
   "execution_count": 33,
   "metadata": {
    "colab": {
     "autoexec": {
      "startup": false,
      "wait_interval": 0
     },
     "base_uri": "https://localhost:8080/",
     "height": 34
    },
    "colab_type": "code",
    "executionInfo": {
     "elapsed": 958,
     "status": "ok",
     "timestamp": 1531177894201,
     "user": {
      "displayName": "Vijay Bhati",
      "photoUrl": "//lh6.googleusercontent.com/-8eiDzCxazcQ/AAAAAAAAAAI/AAAAAAAAETg/em_yQO7VCzk/s50-c-k-no/photo.jpg",
      "userId": "111311313461951215577"
     },
     "user_tz": -330
    },
    "id": "GNEoTTxU_ywU",
    "outputId": "80ba2e7c-3d41-4b6b-bf0f-ffa4081cce6e"
   },
   "outputs": [
    {
     "name": "stdout",
     "output_type": "stream",
     "text": [
      "Accuracy on test set: 0.9648888888888889\n"
     ]
    }
   ],
   "source": [
    "clf = Pipeline([\n",
    "    ('norm', Normalizer()),\n",
    "    ('logreg', LogisticRegression(penalty='l1'))\n",
    "])\n",
    "clf.fit(X_train, y_train)\n",
    "print('Accuracy on test set:', clf.score(X_test, y_test))"
   ]
  },
  {
   "cell_type": "markdown",
   "metadata": {
    "colab_type": "text",
    "id": "7SNRGaHk_2th"
   },
   "source": [
    "## Optimal C for L2 regularization\n",
    "* where C is inverse of lembda"
   ]
  },
  {
   "cell_type": "code",
   "execution_count": 34,
   "metadata": {
    "colab": {
     "autoexec": {
      "startup": false,
      "wait_interval": 0
     },
     "base_uri": "https://localhost:8080/",
     "height": 496
    },
    "colab_type": "code",
    "executionInfo": {
     "elapsed": 22964,
     "status": "ok",
     "timestamp": 1531177917255,
     "user": {
      "displayName": "Vijay Bhati",
      "photoUrl": "//lh6.googleusercontent.com/-8eiDzCxazcQ/AAAAAAAAAAI/AAAAAAAAETg/em_yQO7VCzk/s50-c-k-no/photo.jpg",
      "userId": "111311313461951215577"
     },
     "user_tz": -330
    },
    "id": "0orrlsdP_0dp",
    "outputId": "d0c3381d-a964-4983-d798-0fdec788f31d"
   },
   "outputs": [
    {
     "name": "stdout",
     "output_type": "stream",
     "text": [
      "Performing grid search...\n",
      "\n",
      "Parameters:\n",
      "{'log__C': <__main__.power_uniform object at 0x7f605784f0f0>}\n",
      "\n",
      "Fitting 10 folds for each of 10 candidates, totalling 100 fits\n"
     ]
    },
    {
     "name": "stderr",
     "output_type": "stream",
     "text": [
      "[Parallel(n_jobs=-1)]: Done  46 tasks      | elapsed:   10.4s\n",
      "[Parallel(n_jobs=-1)]: Done 100 out of 100 | elapsed:   15.6s finished\n"
     ]
    },
    {
     "name": "stdout",
     "output_type": "stream",
     "text": [
      "\n",
      "\n",
      "Best CV score: 0.881905\n",
      "Best parameters set:\n",
      "\tlog__C: 3.648893738722131\n",
      "\n",
      "Test score with best_estimator_: 0.962667\n",
      "\n",
      "\n",
      "                 Classification Report Test Data\n",
      "             precision    recall  f1-score   support\n",
      "\n",
      "   Negative       0.00      0.00      0.00         0\n",
      "   Positive       1.00      0.96      0.98      4500\n",
      "\n",
      "avg / total       1.00      0.96      0.98      4500\n",
      "\n"
     ]
    },
    {
     "name": "stderr",
     "output_type": "stream",
     "text": [
      "/usr/local/lib/python3.6/dist-packages/sklearn/metrics/classification.py:1137: UndefinedMetricWarning: Recall and F-score are ill-defined and being set to 0.0 in labels with no true samples.\n",
      "  'recall', 'true', average, warn_for)\n"
     ]
    }
   ],
   "source": [
    "# Using Random search\n",
    "param_grid = {\n",
    "    'log__C': power_uniform(-4, 4)\n",
    "}\n",
    "\n",
    "clf = Pipeline([\n",
    "    ('norm', Normalizer()),\n",
    "    ('log', LogisticRegression(penalty='l2'))\n",
    "])\n",
    "\n",
    "best_log = search_param(clf, param_grid, tfidf_vectors, df_sample['Score'], random_search=True)"
   ]
  },
  {
   "cell_type": "markdown",
   "metadata": {
    "colab_type": "text",
    "id": "Ej56Lri8AIhD"
   },
   "source": [
    "## Optimal C for L1 regularization"
   ]
  },
  {
   "cell_type": "code",
   "execution_count": 35,
   "metadata": {
    "colab": {
     "autoexec": {
      "startup": false,
      "wait_interval": 0
     },
     "base_uri": "https://localhost:8080/",
     "height": 496
    },
    "colab_type": "code",
    "executionInfo": {
     "elapsed": 25965,
     "status": "ok",
     "timestamp": 1531177943313,
     "user": {
      "displayName": "Vijay Bhati",
      "photoUrl": "//lh6.googleusercontent.com/-8eiDzCxazcQ/AAAAAAAAAAI/AAAAAAAAETg/em_yQO7VCzk/s50-c-k-no/photo.jpg",
      "userId": "111311313461951215577"
     },
     "user_tz": -330
    },
    "id": "RNLMfgZwAEgj",
    "outputId": "0879e9a6-e765-4464-e6af-a391b27283af"
   },
   "outputs": [
    {
     "name": "stdout",
     "output_type": "stream",
     "text": [
      "Performing grid search...\n",
      "\n",
      "Parameters:\n",
      "{'log__C': array([1.e-04, 1.e-03, 1.e-02, 1.e-01, 1.e+00, 1.e+01, 1.e+02, 1.e+03])}\n",
      "\n",
      "Fitting 10 folds for each of 8 candidates, totalling 80 fits\n"
     ]
    },
    {
     "name": "stderr",
     "output_type": "stream",
     "text": [
      "[Parallel(n_jobs=-1)]: Done  77 tasks      | elapsed:   17.7s\n",
      "[Parallel(n_jobs=-1)]: Done  80 out of  80 | elapsed:   19.0s finished\n"
     ]
    },
    {
     "name": "stdout",
     "output_type": "stream",
     "text": [
      "\n",
      "\n",
      "Best CV score: 0.877429\n",
      "Best parameters set:\n",
      "\tlog__C: 1.0\n",
      "\n",
      "Test score with best_estimator_: 0.964889\n",
      "\n",
      "\n",
      "                 Classification Report Test Data\n",
      "             precision    recall  f1-score   support\n",
      "\n",
      "   Negative       0.00      0.00      0.00         0\n",
      "   Positive       1.00      0.96      0.98      4500\n",
      "\n",
      "avg / total       1.00      0.96      0.98      4500\n",
      "\n"
     ]
    },
    {
     "name": "stderr",
     "output_type": "stream",
     "text": [
      "/usr/local/lib/python3.6/dist-packages/sklearn/metrics/classification.py:1137: UndefinedMetricWarning: Recall and F-score are ill-defined and being set to 0.0 in labels with no true samples.\n",
      "  'recall', 'true', average, warn_for)\n"
     ]
    }
   ],
   "source": [
    "# Using Random search\n",
    "param_grid = {\n",
    "    'log__C': 10.0 ** np.arange(-4, 4)\n",
    "}\n",
    "\n",
    "clf = Pipeline([\n",
    "    ('norm', Normalizer()),\n",
    "    ('log', LogisticRegression(penalty='l1'))\n",
    "])\n",
    "\n",
    "best_log = search_param(clf, param_grid, tfidf_vectors, df_sample['Score'], n_jobs=-1)"
   ]
  },
  {
   "cell_type": "markdown",
   "metadata": {
    "colab_type": "text",
    "id": "40avgOfsAPMa"
   },
   "source": [
    "## Error on changing C parameter in L1 regularization"
   ]
  },
  {
   "cell_type": "code",
   "execution_count": 0,
   "metadata": {
    "colab": {
     "autoexec": {
      "startup": false,
      "wait_interval": 0
     }
    },
    "colab_type": "code",
    "id": "lCUVZSHUAMc9"
   },
   "outputs": [],
   "source": [
    "x = 10.0 ** np.arange(-4, 6)\n",
    "\n",
    "error = []\n",
    "cof = []\n",
    "\n",
    "for i in x:\n",
    "  clf = Pipeline([('norm', Normalizer()),\n",
    "                 ('log', LogisticRegression(penalty='l1', C=i))])\n",
    "  clf.fit(X_train, y_train)\n",
    "  error.append(1-clf.score(X_test, y_test))\n",
    "  w = clf.named_steps['log'].coef_\n",
    "  cof.append(np.count_nonzero(w))"
   ]
  },
  {
   "cell_type": "code",
   "execution_count": 37,
   "metadata": {
    "colab": {
     "autoexec": {
      "startup": false,
      "wait_interval": 0
     },
     "base_uri": "https://localhost:8080/",
     "height": 894
    },
    "colab_type": "code",
    "executionInfo": {
     "elapsed": 1839,
     "status": "ok",
     "timestamp": 1531177949938,
     "user": {
      "displayName": "Vijay Bhati",
      "photoUrl": "//lh6.googleusercontent.com/-8eiDzCxazcQ/AAAAAAAAAAI/AAAAAAAAETg/em_yQO7VCzk/s50-c-k-no/photo.jpg",
      "userId": "111311313461951215577"
     },
     "user_tz": -330
    },
    "id": "tKg7PY52AVWR",
    "outputId": "21293ee6-96bf-4d9c-ed4f-871c52391748"
   },
   "outputs": [
    {
     "data": {
      "text/plain": [
       "Text(0.5,0,'C (10^x)')"
      ]
     },
     "execution_count": 37,
     "metadata": {
      "tags": []
     },
     "output_type": "execute_result"
    },
    {
     "data": {
      "image/png": "[encoded data removed]",
      "text/plain": [
       "<matplotlib.figure.Figure at 0x7f606187c8d0>"
      ]
     },
     "metadata": {
      "tags": []
     },
     "output_type": "display_data"
    }
   ],
   "source": [
    "# Drawing two figure in one graph\n",
    "plt.figure(figsize=(10, 15))\n",
    "plt.subplot(211)\n",
    "plt.plot(range(-4, 6), error, label=\"Errors\")\n",
    "plt.ylabel('Errors')\n",
    "\n",
    "# 2nd half figure part\n",
    "plt.subplot(212)\n",
    "plt.plot(range(-4, 6), cof, label='Non Zero weights')\n",
    "plt.ylabel('Non-Zero weights')\n",
    "plt.xlabel('C (10^x)')"
   ]
  },
  {
   "cell_type": "markdown",
   "metadata": {
    "colab_type": "text",
    "id": "r8rSnQ_fAadK"
   },
   "source": [
    "## Feature importance"
   ]
  },
  {
   "cell_type": "code",
   "execution_count": 0,
   "metadata": {
    "colab": {
     "autoexec": {
      "startup": false,
      "wait_interval": 0
     }
    },
    "colab_type": "code",
    "id": "PV3fJ0FPAWt0"
   },
   "outputs": [],
   "source": [
    "clf = Pipeline([('norm', Normalizer()),\n",
    "               ('log', LogisticRegression(C=10.0))])\n",
    "clf.fit(X_train, y_train)\n",
    "\n",
    "word = {x: i for (i, x) in bi_gram.vocabulary_.items()}\n",
    "weights = clf.named_steps['log'].coef_.ravel() # ravel convert 2D to 1D\n",
    "feature_weights = [(word[i], w) for(i, w) in enumerate(weights)]\n",
    "feature_weights = pd.DataFrame.from_records(feature_weights, columns=['word', 'weights'])\n",
    "feature_weights['abs_weights'] = feature_weights['weights'].apply(abs)\n",
    "feature_weights.sort_values('abs_weights', ascending=False, inplace=True)"
   ]
  },
  {
   "cell_type": "code",
   "execution_count": 39,
   "metadata": {
    "colab": {
     "autoexec": {
      "startup": false,
      "wait_interval": 0
     },
     "base_uri": "https://localhost:8080/",
     "height": 1183
    },
    "colab_type": "code",
    "executionInfo": {
     "elapsed": 4350,
     "status": "ok",
     "timestamp": 1531177963035,
     "user": {
      "displayName": "Vijay Bhati",
      "photoUrl": "//lh6.googleusercontent.com/-8eiDzCxazcQ/AAAAAAAAAAI/AAAAAAAAETg/em_yQO7VCzk/s50-c-k-no/photo.jpg",
      "userId": "111311313461951215577"
     },
     "user_tz": -330
    },
    "id": "LCXg0ffGAclm",
    "outputId": "a3c566a5-b5db-49f9-8754-f24e44e2184e"
   },
   "outputs": [
    {
     "name": "stderr",
     "output_type": "stream",
     "text": [
      "/usr/local/lib/python3.6/dist-packages/seaborn/categorical.py:1428: FutureWarning: remove_na is deprecated and is a private function. Do not use.\n",
      "  stat_data = remove_na(group_data)\n"
     ]
    },
    {
     "data": {
      "image/png": "[encoded data removed]",
      "text/plain": [
       "<matplotlib.figure.Figure at 0x7f60591a0390>"
      ]
     },
     "metadata": {
      "tags": []
     },
     "output_type": "display_data"
    }
   ],
   "source": [
    "fig, ax =plt.subplots(figsize=(12,20))\n",
    "\n",
    "pallete = feature_weights['weights'].map(lambda w: 'b' if w > 0 else 'r')\n",
    "sns.barplot(x='weights', y='word', data=feature_weights.head(30), palette=pallete, ax=ax);"
   ]
  },
  {
   "cell_type": "markdown",
   "metadata": {
    "colab_type": "text",
    "id": "DSamUN6iA6Rb"
   },
   "source": [
    "# Avg Word2Vec"
   ]
  },
  {
   "cell_type": "code",
   "execution_count": 0,
   "metadata": {
    "colab": {
     "autoexec": {
      "startup": false,
      "wait_interval": 0
     }
    },
    "colab_type": "code",
    "id": "Bs97pOnF1sui"
   },
   "outputs": [],
   "source": [
    "list_corpus = df_sample[\"Text\"].tolist()\n",
    "list_labels = df_sample[\"Score\"].tolist()"
   ]
  },
  {
   "cell_type": "code",
   "execution_count": 41,
   "metadata": {
    "colab": {
     "autoexec": {
      "startup": false,
      "wait_interval": 0
     },
     "base_uri": "https://localhost:8080/",
     "height": 204
    },
    "colab_type": "code",
    "executionInfo": {
     "elapsed": 176503,
     "status": "ok",
     "timestamp": 1531178140868,
     "user": {
      "displayName": "Vijay Bhati",
      "photoUrl": "//lh6.googleusercontent.com/-8eiDzCxazcQ/AAAAAAAAAAI/AAAAAAAAETg/em_yQO7VCzk/s50-c-k-no/photo.jpg",
      "userId": "111311313461951215577"
     },
     "user_tz": -330
    },
    "id": "0JXmBDWM5hVj",
    "outputId": "062c5fe8-df82-4837-f865-4f79f36dbd7f"
   },
   "outputs": [
    {
     "name": "stdout",
     "output_type": "stream",
     "text": [
      "--2018-07-09 23:12:46--  https://s3.amazonaws.com/dl4j-distribution/GoogleNews-vectors-negative300.bin.gz\n",
      "Resolving s3.amazonaws.com (s3.amazonaws.com)... 52.216.21.5\n",
      "Connecting to s3.amazonaws.com (s3.amazonaws.com)|52.216.21.5|:443... connected.\n",
      "HTTP request sent, awaiting response... 200 OK\n",
      "Length: 1647046227 (1.5G) [application/x-gzip]\n",
      "Saving to: ‘GoogleNews-vectors-negative300.bin.gz’\n",
      "\n",
      "GoogleNews-vectors- 100%[===================>]   1.53G  65.0MB/s    in 25s     \n",
      "\n",
      "2018-07-09 23:13:11 (61.7 MB/s) - ‘GoogleNews-vectors-negative300.bin.gz’ saved [1647046227/1647046227]\n",
      "\n"
     ]
    }
   ],
   "source": [
    "from gensim.models import KeyedVectors\n",
    "!wget -c \"https://s3.amazonaws.com/dl4j-distribution/GoogleNews-vectors-negative300.bin.gz\"\n",
    "w2v_model_google = KeyedVectors.load_word2vec_format('GoogleNews-vectors-negative300.bin.gz', binary=True)\n"
   ]
  },
  {
   "cell_type": "code",
   "execution_count": 0,
   "metadata": {
    "colab": {
     "autoexec": {
      "startup": false,
      "wait_interval": 0
     }
    },
    "colab_type": "code",
    "id": "DikzHW1T5hSR"
   },
   "outputs": [],
   "source": [
    "def get_average_word2vec(tokens_list, vector, generate_missing=False, k=300):\n",
    "    if len(tokens_list)<1:\n",
    "        return np.zeros(k)\n",
    "    if generate_missing:\n",
    "        vectorized = [vector[word] if word in vector else np.random.rand(k) for word in tokens_list]\n",
    "    else:\n",
    "        vectorized = [vector[word] if word in vector else np.zeros(k) for word in tokens_list]\n",
    "    length = len(vectorized)\n",
    "    summed = np.sum(vectorized, axis=0)\n",
    "    averaged = np.divide(summed, length)\n",
    "    return averaged\n",
    "\n",
    "def get_word2vec_embeddings(vectors, clean_questions, generate_missing=False):\n",
    "    embeddings = clean_questions['CleanedText'].apply(lambda x: get_average_word2vec(x, vectors, \n",
    "                                                                                generate_missing=generate_missing))\n",
    "    return list(embeddings)"
   ]
  },
  {
   "cell_type": "code",
   "execution_count": 0,
   "metadata": {
    "colab": {
     "autoexec": {
      "startup": false,
      "wait_interval": 0
     }
    },
    "colab_type": "code",
    "id": "Fz0tC4Va5hPM"
   },
   "outputs": [],
   "source": [
    "embeddings = get_word2vec_embeddings(w2v_model_google, df_sample)\n",
    "X_train, X_test, y_train, y_test = train_test_split(embeddings, list_labels, test_size=0.3, random_state=False)"
   ]
  },
  {
   "cell_type": "code",
   "execution_count": 44,
   "metadata": {
    "colab": {
     "autoexec": {
      "startup": false,
      "wait_interval": 0
     },
     "base_uri": "https://localhost:8080/",
     "height": 34
    },
    "colab_type": "code",
    "executionInfo": {
     "elapsed": 1500,
     "status": "ok",
     "timestamp": 1531178153595,
     "user": {
      "displayName": "Vijay Bhati",
      "photoUrl": "//lh6.googleusercontent.com/-8eiDzCxazcQ/AAAAAAAAAAI/AAAAAAAAETg/em_yQO7VCzk/s50-c-k-no/photo.jpg",
      "userId": "111311313461951215577"
     },
     "user_tz": -330
    },
    "id": "ICdiKqa15hLc",
    "outputId": "30f128f0-f128-4c04-8654-635e6503383a"
   },
   "outputs": [
    {
     "name": "stdout",
     "output_type": "stream",
     "text": [
      "Accuracy on test set: 0.8417777777777777\n"
     ]
    }
   ],
   "source": [
    "# Train model with default hyperparameter\n",
    "clf = LogisticRegression()\n",
    "clf.fit(X_train, y_train)\n",
    "\n",
    "print('Accuracy on test set:', clf.score(X_test, y_test))"
   ]
  },
  {
   "cell_type": "code",
   "execution_count": 45,
   "metadata": {
    "colab": {
     "autoexec": {
      "startup": false,
      "wait_interval": 0
     },
     "base_uri": "https://localhost:8080/",
     "height": 34
    },
    "colab_type": "code",
    "executionInfo": {
     "elapsed": 1721,
     "status": "ok",
     "timestamp": 1531178155441,
     "user": {
      "displayName": "Vijay Bhati",
      "photoUrl": "//lh6.googleusercontent.com/-8eiDzCxazcQ/AAAAAAAAAAI/AAAAAAAAETg/em_yQO7VCzk/s50-c-k-no/photo.jpg",
      "userId": "111311313461951215577"
     },
     "user_tz": -330
    },
    "id": "TOZCdmLK5hIS",
    "outputId": "8a998b35-2f18-45ef-f5ac-f197b35fcdd4"
   },
   "outputs": [
    {
     "name": "stdout",
     "output_type": "stream",
     "text": [
      "Accuracy on test set: 0.8417777777777777\n"
     ]
    }
   ],
   "source": [
    "# Column standardization\n",
    "from sklearn.pipeline import Pipeline\n",
    "from sklearn.preprocessing import StandardScaler\n",
    "\n",
    "clf = Pipeline([('Scalar', StandardScaler(with_mean=False)),\n",
    "               ('logreg', LogisticRegression())])\n",
    "clf.fit(X_train, y_train)\n",
    "print('Accuracy on test set:', clf.score(X_test, y_test))"
   ]
  },
  {
   "cell_type": "markdown",
   "metadata": {
    "colab_type": "text",
    "id": "JTzk2FFb9rGJ"
   },
   "source": [
    "## Optimal C for L2 regularization\n",
    "* where C is inverse of lembda"
   ]
  },
  {
   "cell_type": "code",
   "execution_count": 46,
   "metadata": {
    "colab": {
     "autoexec": {
      "startup": false,
      "wait_interval": 0
     },
     "base_uri": "https://localhost:8080/",
     "height": 85
    },
    "colab_type": "code",
    "executionInfo": {
     "elapsed": 9735,
     "status": "ok",
     "timestamp": 1531178165314,
     "user": {
      "displayName": "Vijay Bhati",
      "photoUrl": "//lh6.googleusercontent.com/-8eiDzCxazcQ/AAAAAAAAAAI/AAAAAAAAETg/em_yQO7VCzk/s50-c-k-no/photo.jpg",
      "userId": "111311313461951215577"
     },
     "user_tz": -330
    },
    "id": "vAx_DSkG9q5J",
    "outputId": "8ccac068-efac-4ae5-8d42-adb21340f213"
   },
   "outputs": [
    {
     "name": "stdout",
     "output_type": "stream",
     "text": [
      "Fitting 10 folds for each of 10 candidates, totalling 100 fits\n",
      "Best HyperParameter:  {'log__C': 517.0786866458167}\n",
      "Best Accuracy: 84.55%\n"
     ]
    },
    {
     "name": "stderr",
     "output_type": "stream",
     "text": [
      "[Parallel(n_jobs=1)]: Done 100 out of 100 | elapsed:    8.5s finished\n"
     ]
    }
   ],
   "source": [
    "# Using Random search\n",
    "param_grid = {\n",
    "    'log__C': power_uniform(-5, 5)\n",
    "}\n",
    "\n",
    "clf = Pipeline([\n",
    "    ('norm', Normalizer()),\n",
    "    ('log', LogisticRegression(penalty='l2'))\n",
    "])\n",
    "\n",
    "tscv = TimeSeriesSplit(n_splits=10) #For time based splitting\n",
    "gsv = RandomizedSearchCV(clf,param_grid,cv=tscv,verbose=1)\n",
    "gsv.fit(X_train,y_train)\n",
    "print(\"Best HyperParameter: \",gsv.best_params_)\n",
    "print(\"Best Accuracy: %.2f%%\"%(gsv.best_score_*100))"
   ]
  },
  {
   "cell_type": "markdown",
   "metadata": {
    "colab_type": "text",
    "id": "VTq9v2rEEL1k"
   },
   "source": [
    "## Optimal C for L1 regularization"
   ]
  },
  {
   "cell_type": "code",
   "execution_count": 47,
   "metadata": {
    "colab": {
     "autoexec": {
      "startup": false,
      "wait_interval": 0
     },
     "base_uri": "https://localhost:8080/",
     "height": 85
    },
    "colab_type": "code",
    "executionInfo": {
     "elapsed": 15159,
     "status": "ok",
     "timestamp": 1531178180535,
     "user": {
      "displayName": "Vijay Bhati",
      "photoUrl": "//lh6.googleusercontent.com/-8eiDzCxazcQ/AAAAAAAAAAI/AAAAAAAAETg/em_yQO7VCzk/s50-c-k-no/photo.jpg",
      "userId": "111311313461951215577"
     },
     "user_tz": -330
    },
    "id": "B9Fu-tVT9q2i",
    "outputId": "37b46cf1-4c09-412e-b5df-983968f504ba"
   },
   "outputs": [
    {
     "name": "stdout",
     "output_type": "stream",
     "text": [
      "Fitting 10 folds for each of 10 candidates, totalling 100 fits\n",
      "Best HyperParameter:  {'log__C': 0.01}\n",
      "Best Accuracy: 84.55%\n"
     ]
    },
    {
     "name": "stderr",
     "output_type": "stream",
     "text": [
      "[Parallel(n_jobs=1)]: Done 100 out of 100 | elapsed:    8.8s finished\n"
     ]
    }
   ],
   "source": [
    "# Using Random search\n",
    "param_grid = {\n",
    "    'log__C': 10.0 ** np.arange(-5, 5)\n",
    "}\n",
    "\n",
    "clf = Pipeline([\n",
    "    ('norm', Normalizer()),\n",
    "    ('log', LogisticRegression(penalty='l1'))\n",
    "])\n",
    "\n",
    "tscv = TimeSeriesSplit(n_splits=10) #For time based splitting\n",
    "gsv = RandomizedSearchCV(clf,param_grid,cv=tscv,verbose=1)\n",
    "gsv.fit(X_train,y_train)\n",
    "print(\"Best HyperParameter: \",gsv.best_params_)\n",
    "print(\"Best Accuracy: %.2f%%\"%(gsv.best_score_*100))"
   ]
  },
  {
   "cell_type": "markdown",
   "metadata": {
    "colab_type": "text",
    "id": "cQUSdgNEEawZ"
   },
   "source": [
    "## Error on changing C parameter in L1 regularization"
   ]
  },
  {
   "cell_type": "code",
   "execution_count": 48,
   "metadata": {
    "colab": {
     "autoexec": {
      "startup": false,
      "wait_interval": 0
     },
     "base_uri": "https://localhost:8080/",
     "height": 894
    },
    "colab_type": "code",
    "executionInfo": {
     "elapsed": 3140,
     "status": "ok",
     "timestamp": 1531178183746,
     "user": {
      "displayName": "Vijay Bhati",
      "photoUrl": "//lh6.googleusercontent.com/-8eiDzCxazcQ/AAAAAAAAAAI/AAAAAAAAETg/em_yQO7VCzk/s50-c-k-no/photo.jpg",
      "userId": "111311313461951215577"
     },
     "user_tz": -330
    },
    "id": "UkeCAAoW9qwf",
    "outputId": "b96226e6-1503-4fe4-e6e2-74abe22acaef"
   },
   "outputs": [
    {
     "data": {
      "text/plain": [
       "Text(0.5,0,'C (10^x)')"
      ]
     },
     "execution_count": 48,
     "metadata": {
      "tags": []
     },
     "output_type": "execute_result"
    },
    {
     "data": {
      "image/png": "[encoded data removed]",
      "text/plain": [
       "<matplotlib.figure.Figure at 0x7f6015832898>"
      ]
     },
     "metadata": {
      "tags": []
     },
     "output_type": "display_data"
    }
   ],
   "source": [
    "# Drawing two figure in one graph\n",
    "plt.figure(figsize=(10, 15))\n",
    "plt.subplot(211)\n",
    "plt.plot(range(-4, 6), error, label=\"Errors\")\n",
    "plt.ylabel('Errors')\n",
    "\n",
    "# 2nd half figure part\n",
    "plt.subplot(212)\n",
    "plt.plot(range(-4, 6), cof, label='Non Zero weights')\n",
    "plt.ylabel('Non-Zero weights')\n",
    "plt.xlabel('C (10^x)')"
   ]
  },
  {
   "cell_type": "markdown",
   "metadata": {
    "colab_type": "text",
    "id": "Ts0O9LAF9qlp"
   },
   "source": [
    "## Multicollinearity Check\n"
   ]
  },
  {
   "cell_type": "code",
   "execution_count": 49,
   "metadata": {
    "colab": {
     "autoexec": {
      "startup": false,
      "wait_interval": 0
     },
     "base_uri": "https://localhost:8080/",
     "height": 267
    },
    "colab_type": "code",
    "executionInfo": {
     "elapsed": 10470,
     "status": "ok",
     "timestamp": 1531178194286,
     "user": {
      "displayName": "Vijay Bhati",
      "photoUrl": "//lh6.googleusercontent.com/-8eiDzCxazcQ/AAAAAAAAAAI/AAAAAAAAETg/em_yQO7VCzk/s50-c-k-no/photo.jpg",
      "userId": "111311313461951215577"
     },
     "user_tz": -330
    },
    "id": "2cidy3q29qjQ",
    "outputId": "8a7e26c3-c9dd-4cd6-a642-7b5564de7de6"
   },
   "outputs": [
    {
     "data": {
      "image/png": "[encoded data removed]",
      "text/plain": [
       "<matplotlib.figure.Figure at 0x7f60155d1940>"
      ]
     },
     "metadata": {
      "tags": []
     },
     "output_type": "display_data"
    }
   ],
   "source": [
    "# using pertubation technique\n",
    "clf = Pipeline([\n",
    "    ('scaler', StandardScaler()),\n",
    "    ('log', LogisticRegression())\n",
    "])\n",
    "\n",
    "clf.fit(X_train, y_train)\n",
    "\n",
    "original_weights = clf.named_steps['log'].coef_.ravel()\n",
    "df = pd.DataFrame(X_train)\n",
    "\n",
    "# Add small noise and then train\n",
    "X_train_with_noise = df.applymap(lambda x: x + np.random.normal(0, 0.01))\n",
    "\n",
    "clf.fit(X_train_with_noise, y_train)\n",
    "\n",
    "noise_weights = clf.named_steps['log'].coef_.ravel()\n",
    "\n",
    "# Absolute difference in weights\n",
    "weight_diffs = np.absolute(original_weights - noise_weights)\n",
    "\n",
    "# Change in weights\n",
    "sns.distplot(weight_diffs, bins=20);"
   ]
  },
  {
   "cell_type": "markdown",
   "metadata": {
    "colab_type": "text",
    "id": "UEXMs7q0EH5q"
   },
   "source": [
    "# Tf-Idf Word2Vec\n"
   ]
  },
  {
   "cell_type": "code",
   "execution_count": 0,
   "metadata": {
    "colab": {
     "autoexec": {
      "startup": false,
      "wait_interval": 0
     }
    },
    "colab_type": "code",
    "id": "MJENLV8XCYca"
   },
   "outputs": [],
   "source": [
    "from sklearn.base import TransformerMixin, BaseEstimator\n",
    "from gensim.models import Word2Vec\n",
    "class tfidfw2v(TransformerMixin, BaseEstimator):\n",
    "\n",
    "    def __init__(self, size=100, alpha=0.025, window=5, min_count=10, max_vocab_size=None, sample=1e-3, seed=1,\n",
    "                 workers=3, min_alpha=0.0001, sg=1, hs=0, negative=5, cbow_mean=1, iter=10, null_word=0,\n",
    "                 trim_rule=None, sorted_vocab=1, batch_words=10000, tfidf_params ={}):\n",
    "        \n",
    "        # Sklearn wrapper for Word2Vec model. See gensim.models.Word2Vec for parameter details.\n",
    "        self.w2v_model = None\n",
    "        self.tfidf_model = TfidfVectorizer(**tfidf_params)\n",
    "        self.size = size\n",
    "        self.alpha = alpha\n",
    "        self.window = window\n",
    "        self.min_count = min_count\n",
    "        self.max_vocab_size = max_vocab_size\n",
    "        self.sample = sample\n",
    "        self.seed = seed\n",
    "        self.workers = workers\n",
    "        self.min_alpha = min_alpha\n",
    "        self.sg = sg\n",
    "        self.hs = hs\n",
    "        self.negative = negative\n",
    "        self.cbow_mean = int(cbow_mean)\n",
    "        self.iter = iter\n",
    "        self.null_word = null_word\n",
    "        self.trim_rule = trim_rule\n",
    "        self.sorted_vocab = sorted_vocab\n",
    "        self.batch_words = batch_words\n",
    "\n",
    "    def fit(self, X, y=None):\n",
    "        \n",
    "        # Fit the model according to the given training data.\n",
    "        # Calls gensim.models.Word2Vec\n",
    "        \n",
    "        X_tokenized = X.apply(lambda sent: sent.split())\n",
    "        \n",
    "        self.tfidf_model.fit(X)\n",
    "        \n",
    "        self.w2v_model = Word2Vec(\n",
    "            sentences=X_tokenized, size=self.size, alpha=self.alpha,\n",
    "            window=self.window, min_count=self.min_count, max_vocab_size=self.max_vocab_size,\n",
    "            sample=self.sample, seed=self.seed, workers=self.workers, min_alpha=self.min_alpha,\n",
    "            sg=self.sg, hs=self.hs, negative=self.negative, cbow_mean=self.cbow_mean, \n",
    "            iter=self.iter, null_word=self.null_word, trim_rule=self.trim_rule,\n",
    "            sorted_vocab=self.sorted_vocab, batch_words=self.batch_words\n",
    "        )\n",
    "        return self\n",
    "\n",
    "    def transform(self, X):\n",
    "        return X.apply(self.tfidf_w2v)\n",
    "    \n",
    "    def tfidf_w2v(self, sent):\n",
    "        \"\"\"\n",
    "        returns a tf-idf word vector of \n",
    "        sentence.\n",
    "        Word list should be a pd.Series\n",
    "        with name attribute as index for\n",
    "        finding the weight of the word from\n",
    "        tfidf features\n",
    "        \"\"\"\n",
    "        tfidf_feature = self.tfidf_model.transform([sent])\n",
    "        sent_vec = np.zeros(self.size)\n",
    "        weight_sum = 0\n",
    "        for word in sent.split():\n",
    "            try:\n",
    "                vec = self.w2v_model.wv[word]\n",
    "                index = self.tfidf_model.vocabulary_[word]\n",
    "                weight = tfidf_feature[0, index]\n",
    "                sent_vec += weight * vec\n",
    "                weight_sum += weight\n",
    "            except KeyError:\n",
    "                pass\n",
    "        if weight_sum != 0:\n",
    "            sent_vec /= weight_sum\n",
    "        return pd.Series(sent_vec)\n",
    "    \n",
    "    def most_similar(self, word):\n",
    "        return self.model.wv.most_similar(word)\n",
    "    \n",
    "    def vocabulary(self):\n",
    "        \"\"\"\n",
    "        Returns a sorted dataframe (by frequency)\n",
    "        with words as index and vector as rows\n",
    "        \"\"\"\n",
    "        \n",
    "        # build a list of the terms, integer indices and term counts from the word2vec model vocabulary\n",
    "        ordered_vocab = [(term, voc.index, voc.count)\n",
    "                         for term, voc in self.w2v_model.wv.vocab.items()]\n",
    "\n",
    "        # sort by the term counts, so the most common terms appear first\n",
    "        ordered_vocab = sorted(ordered_vocab, key=lambda k : k[2], reverse=True)\n",
    "\n",
    "        # unzip the terms, integer indices, and counts into separate lists\n",
    "        ordered_terms, term_indices, term_counts = zip(*ordered_vocab)\n",
    "\n",
    "        # create a DataFrame with the word vectors as data and the terms as row labels\n",
    "        wordvectors = pd.DataFrame(self.w2v_model.wv.vectors_norm[term_indices, :],\n",
    "                                    index=ordered_terms)\n",
    "\n",
    "        return wordvectors\n"
   ]
  },
  {
   "cell_type": "code",
   "execution_count": 0,
   "metadata": {
    "colab": {
     "autoexec": {
      "startup": false,
      "wait_interval": 0
     }
    },
    "colab_type": "code",
    "id": "RzGQiSCzCYY8"
   },
   "outputs": [],
   "source": [
    "from sklearn import preprocessing\n",
    "tfidf_w2v_model = tfidfw2v()\n",
    "tfidf_w2v_features = tfidf_w2v_model.fit_transform(df_sample['Text'])"
   ]
  },
  {
   "cell_type": "code",
   "execution_count": 0,
   "metadata": {
    "colab": {
     "autoexec": {
      "startup": false,
      "wait_interval": 0
     }
    },
    "colab_type": "code",
    "id": "EK4ZZempCYWU"
   },
   "outputs": [],
   "source": [
    "# spliting data into train and test\n",
    "X_train, X_test, y_train, y_test = train_test_split(tfidf_w2v_features,df_sample['Score'].values,test_size=0.3,shuffle=False)"
   ]
  },
  {
   "cell_type": "code",
   "execution_count": 79,
   "metadata": {
    "colab": {
     "autoexec": {
      "startup": false,
      "wait_interval": 0
     },
     "base_uri": "https://localhost:8080/",
     "height": 34
    },
    "colab_type": "code",
    "executionInfo": {
     "elapsed": 1223,
     "status": "ok",
     "timestamp": 1531179818685,
     "user": {
      "displayName": "Vijay Bhati",
      "photoUrl": "//lh6.googleusercontent.com/-8eiDzCxazcQ/AAAAAAAAAAI/AAAAAAAAETg/em_yQO7VCzk/s50-c-k-no/photo.jpg",
      "userId": "111311313461951215577"
     },
     "user_tz": -330
    },
    "id": "qEGYELCGCYTS",
    "outputId": "36256713-009d-4ffe-e650-0a97e4a958b8"
   },
   "outputs": [
    {
     "name": "stdout",
     "output_type": "stream",
     "text": [
      "Accuracy on test set: 0.8582222222222222\n"
     ]
    }
   ],
   "source": [
    "# Train model with default hyperparameter\n",
    "clf = LogisticRegression()\n",
    "clf.fit(X_train, y_train)\n",
    "\n",
    "print('Accuracy on test set:', clf.score(X_test, y_test))"
   ]
  },
  {
   "cell_type": "code",
   "execution_count": 80,
   "metadata": {
    "colab": {
     "autoexec": {
      "startup": false,
      "wait_interval": 0
     },
     "base_uri": "https://localhost:8080/",
     "height": 34
    },
    "colab_type": "code",
    "executionInfo": {
     "elapsed": 1180,
     "status": "ok",
     "timestamp": 1531179820726,
     "user": {
      "displayName": "Vijay Bhati",
      "photoUrl": "//lh6.googleusercontent.com/-8eiDzCxazcQ/AAAAAAAAAAI/AAAAAAAAETg/em_yQO7VCzk/s50-c-k-no/photo.jpg",
      "userId": "111311313461951215577"
     },
     "user_tz": -330
    },
    "id": "_8nk3HXACYQS",
    "outputId": "3d805030-e7c2-4de1-c76b-c4e50659559e"
   },
   "outputs": [
    {
     "name": "stdout",
     "output_type": "stream",
     "text": [
      "Accuracy on test set: 0.8595555555555555\n"
     ]
    }
   ],
   "source": [
    "# Column standardization\n",
    "from sklearn.pipeline import Pipeline\n",
    "from sklearn.preprocessing import StandardScaler\n",
    "\n",
    "clf = Pipeline([('Scalar', StandardScaler(with_mean=False)),\n",
    "               ('logreg', LogisticRegression())])\n",
    "clf.fit(X_train, y_train)\n",
    "print('Accuracy on test set:', clf.score(X_test, y_test))"
   ]
  },
  {
   "cell_type": "code",
   "execution_count": 81,
   "metadata": {
    "colab": {
     "autoexec": {
      "startup": false,
      "wait_interval": 0
     },
     "base_uri": "https://localhost:8080/",
     "height": 34
    },
    "colab_type": "code",
    "executionInfo": {
     "elapsed": 1339,
     "status": "ok",
     "timestamp": 1531179822682,
     "user": {
      "displayName": "Vijay Bhati",
      "photoUrl": "//lh6.googleusercontent.com/-8eiDzCxazcQ/AAAAAAAAAAI/AAAAAAAAETg/em_yQO7VCzk/s50-c-k-no/photo.jpg",
      "userId": "111311313461951215577"
     },
     "user_tz": -330
    },
    "id": "EN0l2U9ZCYMJ",
    "outputId": "08bbb299-212e-4096-dfa7-6066dd2b5062"
   },
   "outputs": [
    {
     "name": "stdout",
     "output_type": "stream",
     "text": [
      "Accuracy on test set: 0.8597777777777778\n"
     ]
    }
   ],
   "source": [
    "# Normalize sample to unitform\n",
    "clf = Pipeline([\n",
    "    ('norm', Normalizer()),\n",
    "    ('logreg', LogisticRegression())\n",
    "])\n",
    "clf.fit(X_train, y_train)\n",
    "print('Accuracy on test set:', clf.score(X_test, y_test))"
   ]
  },
  {
   "cell_type": "markdown",
   "metadata": {
    "colab_type": "text",
    "id": "bqralTiwEymT"
   },
   "source": [
    "## Optimal C for L2 regularization\n",
    "* where C is inverse of lembda"
   ]
  },
  {
   "cell_type": "code",
   "execution_count": 82,
   "metadata": {
    "colab": {
     "autoexec": {
      "startup": false,
      "wait_interval": 0
     },
     "base_uri": "https://localhost:8080/",
     "height": 516
    },
    "colab_type": "code",
    "executionInfo": {
     "elapsed": 32449,
     "status": "ok",
     "timestamp": 1531179855236,
     "user": {
      "displayName": "Vijay Bhati",
      "photoUrl": "//lh6.googleusercontent.com/-8eiDzCxazcQ/AAAAAAAAAAI/AAAAAAAAETg/em_yQO7VCzk/s50-c-k-no/photo.jpg",
      "userId": "111311313461951215577"
     },
     "user_tz": -330
    },
    "id": "G2NOz6HtCYJK",
    "outputId": "56e240fc-65a2-4486-afe1-bbeafa7cf308"
   },
   "outputs": [
    {
     "name": "stdout",
     "output_type": "stream",
     "text": [
      "Performing grid search...\n",
      "\n",
      "Parameters:\n",
      "{'log__C': <__main__.power_uniform object at 0x7f6013dc9780>}\n",
      "\n",
      "Fitting 10 folds for each of 10 candidates, totalling 100 fits\n"
     ]
    },
    {
     "name": "stderr",
     "output_type": "stream",
     "text": [
      "[Parallel(n_jobs=-1)]: Done  46 tasks      | elapsed:   10.5s\n",
      "[Parallel(n_jobs=-1)]: Done 100 out of 100 | elapsed:   28.9s finished\n"
     ]
    },
    {
     "name": "stdout",
     "output_type": "stream",
     "text": [
      "\n",
      "\n",
      "Best CV score: 0.838000\n",
      "Best parameters set:\n",
      "\tlog__C: 18.139786127818144\n",
      "\n",
      "Test score with best_estimator_: 0.939333\n",
      "\n",
      "\n",
      "                 Classification Report Test Data\n",
      "             precision    recall  f1-score   support\n",
      "\n",
      "   Negative       0.00      0.00      0.00         0\n",
      "   Positive       1.00      0.94      0.97      4500\n",
      "\n",
      "avg / total       1.00      0.94      0.97      4500\n",
      "\n"
     ]
    },
    {
     "name": "stderr",
     "output_type": "stream",
     "text": [
      "/usr/local/lib/python3.6/dist-packages/sklearn/metrics/classification.py:1137: UndefinedMetricWarning: Recall and F-score are ill-defined and being set to 0.0 in labels with no true samples.\n",
      "  'recall', 'true', average, warn_for)\n"
     ]
    }
   ],
   "source": [
    "# Using Random search\n",
    "param_grid = {\n",
    "    'log__C': power_uniform(-4, 4)\n",
    "}\n",
    "\n",
    "clf = Pipeline([\n",
    "    ('norm', Normalizer()),\n",
    "    ('log', LogisticRegression(penalty='l2'))\n",
    "])\n",
    "\n",
    "best_log = search_param(clf, param_grid, tfidf_w2v_features, df_sample['Score'], random_search=True)"
   ]
  },
  {
   "cell_type": "markdown",
   "metadata": {
    "colab_type": "text",
    "id": "pgujF0tpFWOY"
   },
   "source": [
    "## Optimal C for L1 regularization\n"
   ]
  },
  {
   "cell_type": "code",
   "execution_count": 83,
   "metadata": {
    "colab": {
     "autoexec": {
      "startup": false,
      "wait_interval": 0
     },
     "base_uri": "https://localhost:8080/",
     "height": 496
    },
    "colab_type": "code",
    "executionInfo": {
     "elapsed": 76909,
     "status": "ok",
     "timestamp": 1531179932240,
     "user": {
      "displayName": "Vijay Bhati",
      "photoUrl": "//lh6.googleusercontent.com/-8eiDzCxazcQ/AAAAAAAAAAI/AAAAAAAAETg/em_yQO7VCzk/s50-c-k-no/photo.jpg",
      "userId": "111311313461951215577"
     },
     "user_tz": -330
    },
    "id": "60mGhLJdE07r",
    "outputId": "4cdb3ac0-4cd0-4bfd-fea6-e54a05021c02"
   },
   "outputs": [
    {
     "name": "stdout",
     "output_type": "stream",
     "text": [
      "Performing grid search...\n",
      "\n",
      "Parameters:\n",
      "{'log__C': array([1.e-04, 1.e-03, 1.e-02, 1.e-01, 1.e+00, 1.e+01, 1.e+02, 1.e+03])}\n",
      "\n",
      "Fitting 10 folds for each of 8 candidates, totalling 80 fits\n"
     ]
    },
    {
     "name": "stderr",
     "output_type": "stream",
     "text": [
      "[Parallel(n_jobs=-1)]: Done  46 tasks      | elapsed:   17.0s\n",
      "[Parallel(n_jobs=-1)]: Done  80 out of  80 | elapsed:  1.2min finished\n"
     ]
    },
    {
     "name": "stdout",
     "output_type": "stream",
     "text": [
      "\n",
      "\n",
      "Best CV score: 0.837905\n",
      "Best parameters set:\n",
      "\tlog__C: 100.0\n",
      "\n",
      "Test score with best_estimator_: 0.938222\n",
      "\n",
      "\n",
      "                 Classification Report Test Data\n",
      "             precision    recall  f1-score   support\n",
      "\n",
      "   Negative       0.00      0.00      0.00         0\n",
      "   Positive       1.00      0.94      0.97      4500\n",
      "\n",
      "avg / total       1.00      0.94      0.97      4500\n",
      "\n"
     ]
    },
    {
     "name": "stderr",
     "output_type": "stream",
     "text": [
      "/usr/local/lib/python3.6/dist-packages/sklearn/metrics/classification.py:1137: UndefinedMetricWarning: Recall and F-score are ill-defined and being set to 0.0 in labels with no true samples.\n",
      "  'recall', 'true', average, warn_for)\n"
     ]
    }
   ],
   "source": [
    "# Using Random search\n",
    "param_grid = {\n",
    "    'log__C': 10.0 ** np.arange(-4, 4)\n",
    "}\n",
    "\n",
    "clf = Pipeline([\n",
    "    ('norm', Normalizer()),\n",
    "    ('log', LogisticRegression(penalty='l1'))\n",
    "])\n",
    "\n",
    "best_log = search_param(clf, param_grid, tfidf_w2v_features, df_sample['Score'], n_jobs=-1)"
   ]
  },
  {
   "cell_type": "markdown",
   "metadata": {
    "colab_type": "text",
    "id": "2kgGnpnJHl_C"
   },
   "source": [
    "## Error on changing C parameter in L1 regularization"
   ]
  },
  {
   "cell_type": "code",
   "execution_count": 0,
   "metadata": {
    "colab": {
     "autoexec": {
      "startup": false,
      "wait_interval": 0
     }
    },
    "colab_type": "code",
    "id": "zyN-PYVME02G"
   },
   "outputs": [],
   "source": [
    "x = 10.0 ** np.arange(-4, 6)\n",
    "\n",
    "error = []\n",
    "cof = []\n",
    "\n",
    "for i in x:\n",
    "  clf = Pipeline([('norm', Normalizer()),\n",
    "                 ('log', LogisticRegression(penalty='l1', C=i))])\n",
    "  clf.fit(X_train, y_train)\n",
    "  error.append(1-clf.score(X_test, y_test))\n",
    "  w = clf.named_steps['log'].coef_\n",
    "  cof.append(np.count_nonzero(w))"
   ]
  },
  {
   "cell_type": "code",
   "execution_count": 85,
   "metadata": {
    "colab": {
     "autoexec": {
      "startup": false,
      "wait_interval": 0
     },
     "base_uri": "https://localhost:8080/",
     "height": 894
    },
    "colab_type": "code",
    "executionInfo": {
     "elapsed": 1821,
     "status": "ok",
     "timestamp": 1531179955086,
     "user": {
      "displayName": "Vijay Bhati",
      "photoUrl": "//lh6.googleusercontent.com/-8eiDzCxazcQ/AAAAAAAAAAI/AAAAAAAAETg/em_yQO7VCzk/s50-c-k-no/photo.jpg",
      "userId": "111311313461951215577"
     },
     "user_tz": -330
    },
    "id": "P9yktqodE0uS",
    "outputId": "0395e6c9-4510-4fee-cb35-b2c9d07b58ab"
   },
   "outputs": [
    {
     "data": {
      "text/plain": [
       "Text(0.5,0,'C (10^x)')"
      ]
     },
     "execution_count": 85,
     "metadata": {
      "tags": []
     },
     "output_type": "execute_result"
    },
    {
     "data": {
      "image/png": "[encoded data removed]",
      "text/plain": [
       "<matplotlib.figure.Figure at 0x7f60121011d0>"
      ]
     },
     "metadata": {
      "tags": []
     },
     "output_type": "display_data"
    }
   ],
   "source": [
    "# Drawing two figure in one graph\n",
    "plt.figure(figsize=(10, 15))\n",
    "plt.subplot(211)\n",
    "plt.plot(range(-4, 6), error, label=\"Errors\")\n",
    "plt.ylabel('Errors')\n",
    "\n",
    "# 2nd half figure part\n",
    "plt.subplot(212)\n",
    "plt.plot(range(-4, 6), cof, label='Non Zero weights')\n",
    "plt.ylabel('Non-Zero weights')\n",
    "plt.xlabel('C (10^x)')"
   ]
  },
  {
   "cell_type": "markdown",
   "metadata": {
    "colab_type": "text",
    "id": "V2KTm5JNH8ah"
   },
   "source": [
    "## Multicollinearity Check\n"
   ]
  },
  {
   "cell_type": "code",
   "execution_count": 86,
   "metadata": {
    "colab": {
     "autoexec": {
      "startup": false,
      "wait_interval": 0
     },
     "base_uri": "https://localhost:8080/",
     "height": 265
    },
    "colab_type": "code",
    "executionInfo": {
     "elapsed": 6174,
     "status": "ok",
     "timestamp": 1531179961368,
     "user": {
      "displayName": "Vijay Bhati",
      "photoUrl": "//lh6.googleusercontent.com/-8eiDzCxazcQ/AAAAAAAAAAI/AAAAAAAAETg/em_yQO7VCzk/s50-c-k-no/photo.jpg",
      "userId": "111311313461951215577"
     },
     "user_tz": -330
    },
    "id": "8eectergE0Yg",
    "outputId": "fa102fdb-2f85-452e-d0ac-2b66eb37d2e4"
   },
   "outputs": [
    {
     "data": {
      "image/png": "[encoded data removed]",
      "text/plain": [
       "<matplotlib.figure.Figure at 0x7f6011372b70>"
      ]
     },
     "metadata": {
      "tags": []
     },
     "output_type": "display_data"
    }
   ],
   "source": [
    "# using pertubation technique\n",
    "clf = Pipeline([\n",
    "    ('scaler', StandardScaler()),\n",
    "    ('log', LogisticRegression())\n",
    "])\n",
    "\n",
    "clf.fit(X_train, y_train)\n",
    "\n",
    "original_weights = clf.named_steps['log'].coef_.ravel()\n",
    "\n",
    "\n",
    "# Add small noise and then train\n",
    "X_train_with_noise = X_train.applymap(lambda x: x + np.random.normal(0, 0.01))\n",
    "\n",
    "clf.fit(X_train_with_noise, y_train)\n",
    "\n",
    "noise_weights = clf.named_steps['log'].coef_.ravel()\n",
    "\n",
    "# Absolute difference in weights\n",
    "weight_diffs = np.absolute(original_weights - noise_weights)\n",
    "\n",
    "# Change in weights\n",
    "sns.distplot(weight_diffs, bins=20);"
   ]
  },
  {
   "cell_type": "markdown",
   "metadata": {
    "colab_type": "text",
    "id": "Q3hUuRl5II6r"
   },
   "source": [
    "# Comparison of accuracy of Logistic Regression on different features vectors"
   ]
  },
  {
   "cell_type": "code",
   "execution_count": 87,
   "metadata": {
    "colab": {
     "autoexec": {
      "startup": false,
      "wait_interval": 0
     },
     "base_uri": "https://localhost:8080/",
     "height": 308
    },
    "colab_type": "code",
    "executionInfo": {
     "elapsed": 1112,
     "status": "ok",
     "timestamp": 1531179962557,
     "user": {
      "displayName": "Vijay Bhati",
      "photoUrl": "//lh6.googleusercontent.com/-8eiDzCxazcQ/AAAAAAAAAAI/AAAAAAAAETg/em_yQO7VCzk/s50-c-k-no/photo.jpg",
      "userId": "111311313461951215577"
     },
     "user_tz": -330
    },
    "id": "gIEPRbF6CYGC",
    "outputId": "778635f8-ef91-45b6-a86e-122eda833534"
   },
   "outputs": [
    {
     "data": {
      "image/png": "[encoded data removed]",
      "text/plain": [
       "<matplotlib.figure.Figure at 0x7f6014959c50>"
      ]
     },
     "metadata": {
      "tags": []
     },
     "output_type": "display_data"
    }
   ],
   "source": [
    "log_model_accuracy = {\n",
    "    'BoW': 0.91,\n",
    "    'Tf-Idf':0.90,\n",
    "    'Avg-W2V': 0.88,\n",
    "    'Tf-Idf-W2V': 0.86\n",
    "}\n",
    "\n",
    "pd.Series(log_model_accuracy).plot(kind='bar')\n",
    "plt.ylabel('Accuracy Score')\n",
    "plt.ylim((0.85, 0.93));"
   ]
  }
 ],
 "metadata": {
  "accelerator": "GPU",
  "colab": {
   "collapsed_sections": [],
   "default_view": {},
   "name": "logistic Regression on Amazon reviews data set.ipynb",
   "provenance": [],
   "version": "0.3.2",
   "views": {}
  },
  "kernelspec": {
   "display_name": "Python 3",
   "language": "python",
   "name": "python3"
  },
  "language_info": {
   "codemirror_mode": {
    "name": "ipython",
    "version": 3
   },
   "file_extension": ".py",
   "mimetype": "text/x-python",
   "name": "python",
   "nbconvert_exporter": "python",
   "pygments_lexer": "ipython3",
   "version": "3.6.4"
  }
 },
 "nbformat": 4,
 "nbformat_minor": 1
}
