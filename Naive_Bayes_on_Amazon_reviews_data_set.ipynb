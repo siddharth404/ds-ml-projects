{
 "cells": [
  {
   "cell_type": "markdown",
   "metadata": {
    "colab_type": "text",
    "id": "RvGzHSqEOtZT"
   },
   "source": [
    "# Amazon Fine Food Reviews Analysis\n",
    "Data Source: https://www.kaggle.com/snap/amazon-fine-food-reviews\n",
    "The Amazon Fine Food Reviews dataset consists of reviews of fine foods from Amazon.<br>\n",
    "\n",
    "Number of reviews: 568,454<br>\n",
    "Number of users: 256,059<br>\n",
    "Number of products: 74,258<br>\n",
    "Timespan: Oct 1999 - Oct 2012<br>\n",
    "Number of Attributes/Columns in data: 10 \n",
    "\n",
    "Attribute Information:\n",
    "\n",
    "1. Id\n",
    "2. ProductId - unique identifier for the product\n",
    "3. UserId - unqiue identifier for the user\n",
    "4. ProfileName\n",
    "5. HelpfulnessNumerator - number of users who found the review helpful\n",
    "6. HelpfulnessDenominator - number of users who indicated whether they found the review helpful or not\n",
    "7. Score - rating between 1 and 5\n",
    "8. Time - timestamp for the review\n",
    "9. Summary - brief summary of the review\n",
    "10. Text - text of the review\n",
    "\n",
    "\n",
    "#### Objective:\n",
    "Given a review, determine whether the review is positive (Rating of 4 or 5) or negative (rating of 1 or 2).\n"
   ]
  },
  {
   "cell_type": "code",
   "execution_count": 0,
   "metadata": {
    "colab": {
     "autoexec": {
      "startup": false,
      "wait_interval": 0
     }
    },
    "colab_type": "code",
    "id": "GcZ-92WvOqVW"
   },
   "outputs": [],
   "source": [
    "!pip install pydrive\n",
    "!pip install gensim\n",
    "from pydrive.auth import GoogleAuth\n",
    "from pydrive.drive import GoogleDrive\n",
    "from google.colab import auth\n",
    "from oauth2client.client import GoogleCredentials\n",
    " \n",
    "# 1. Authenticate and create the PyDrive client.\n",
    "auth.authenticate_user()\n",
    "gauth = GoogleAuth()\n",
    "gauth.credentials = GoogleCredentials.get_application_default()\n",
    "drive = GoogleDrive(gauth)"
   ]
  },
  {
   "cell_type": "code",
   "execution_count": 0,
   "metadata": {
    "colab": {
     "autoexec": {
      "startup": false,
      "wait_interval": 0
     }
    },
    "colab_type": "code",
    "id": "vMmgIpP522W2"
   },
   "outputs": [],
   "source": [
    "downloaded = drive.CreateFile({'id':'1cZS7OUXVft4KTZ1AzZPu95hSgWzu3aC8'}) # replace the id with id of file you want to access\n",
    "downloaded.GetContentFile('final.sqlite')"
   ]
  },
  {
   "cell_type": "code",
   "execution_count": 0,
   "metadata": {
    "colab": {
     "autoexec": {
      "startup": false,
      "wait_interval": 0
     }
    },
    "colab_type": "code",
    "id": "GMWwAD2E2qpx"
   },
   "outputs": [],
   "source": [
    "# loading libraries and data\n",
    "\n",
    "%matplotlib inline\n",
    "\n",
    "import sqlite3                          # for sql database\n",
    "import pandas as pd\n",
    "import numpy as np\n",
    "import nltk                             # nltk:- Natural Language Processing Toolkit\n",
    "import string\n",
    "import re\n",
    "import io\n",
    "import matplotlib.pyplot as plt\n",
    "import seaborn as sns\n",
    "from sklearn.feature_extraction.text import TfidfTransformer\n",
    "from sklearn.feature_extraction.text import TfidfVectorizer\n",
    "from sklearn.feature_extraction.text import CountVectorizer\n",
    "from sklearn.metrics import confusion_matrix\n",
    "from sklearn import metrics\n",
    "from sklearn.metrics import roc_curve, auc\n",
    "from nltk.stem.porter import PorterStemmer\n",
    "\n",
    "import pickle\n",
    "def saveindisk(obj,filename):\n",
    "    pickle.dump(obj,open(filename+\".p\",\"wb\"), protocol=4)\n",
    "def openfromdisk(filename):\n",
    "    temp = pickle.load(open(filename+\".p\",\"rb\"))\n",
    "    return temp\n",
    "\n",
    "con = sqlite3.connect(\"final.sqlite\")\n",
    "\n",
    "# Filtering only positive and negative reviews that is\n",
    "# not taking into consideration those reviews with score = 3\n",
    "df = pd.read_sql_query(\"\"\"\n",
    "SELECT *\n",
    "FROM Reviews\n",
    "\"\"\", con)"
   ]
  },
  {
   "cell_type": "code",
   "execution_count": 8,
   "metadata": {
    "colab": {
     "autoexec": {
      "startup": false,
      "wait_interval": 0
     },
     "base_uri": "https://localhost:8080/",
     "height": 634
    },
    "colab_type": "code",
    "executionInfo": {
     "elapsed": 1005,
     "status": "ok",
     "timestamp": 1530352385705,
     "user": {
      "displayName": "Vijay Bhati",
      "photoUrl": "//lh6.googleusercontent.com/-8eiDzCxazcQ/AAAAAAAAAAI/AAAAAAAAETg/em_yQO7VCzk/s50-c-k-no/photo.jpg",
      "userId": "111311313461951215577"
     },
     "user_tz": -330
    },
    "id": "7Ye0R_HF2app",
    "outputId": "6f6262e1-895c-49e3-ff68-8dd7e54c8996"
   },
   "outputs": [
    {
     "data": {
      "text/html": [
       "<div>\n",
       "<style scoped>\n",
       "    .dataframe tbody tr th:only-of-type {\n",
       "        vertical-align: middle;\n",
       "    }\n",
       "\n",
       "    .dataframe tbody tr th {\n",
       "        vertical-align: top;\n",
       "    }\n",
       "\n",
       "    .dataframe thead th {\n",
       "        text-align: right;\n",
       "    }\n",
       "</style>\n",
       "<table border=\"1\" class=\"dataframe\">\n",
       "  <thead>\n",
       "    <tr style=\"text-align: right;\">\n",
       "      <th></th>\n",
       "      <th>index</th>\n",
       "      <th>Id</th>\n",
       "      <th>ProductId</th>\n",
       "      <th>UserId</th>\n",
       "      <th>ProfileName</th>\n",
       "      <th>HelpfulnessNumerator</th>\n",
       "      <th>HelpfulnessDenominator</th>\n",
       "      <th>Score</th>\n",
       "      <th>Time</th>\n",
       "      <th>Summary</th>\n",
       "      <th>Text</th>\n",
       "      <th>CleanedText</th>\n",
       "      <th>CleanedText_NoStem</th>\n",
       "    </tr>\n",
       "  </thead>\n",
       "  <tbody>\n",
       "    <tr>\n",
       "      <th>0</th>\n",
       "      <td>0</td>\n",
       "      <td>1</td>\n",
       "      <td>B001E4KFG0</td>\n",
       "      <td>A3SGXH7AUHU8GW</td>\n",
       "      <td>delmartian</td>\n",
       "      <td>1</td>\n",
       "      <td>1</td>\n",
       "      <td>Positive</td>\n",
       "      <td>1303862400</td>\n",
       "      <td>Good Quality Dog Food</td>\n",
       "      <td>I have bought several of the Vitality canned d...</td>\n",
       "      <td>b'bought sever vital can dog food product foun...</td>\n",
       "      <td>b'bought several vitality canned dog food prod...</td>\n",
       "    </tr>\n",
       "    <tr>\n",
       "      <th>1</th>\n",
       "      <td>1</td>\n",
       "      <td>2</td>\n",
       "      <td>B00813GRG4</td>\n",
       "      <td>A1D87F6ZCVE5NK</td>\n",
       "      <td>dll pa</td>\n",
       "      <td>0</td>\n",
       "      <td>0</td>\n",
       "      <td>Negative</td>\n",
       "      <td>1346976000</td>\n",
       "      <td>Not as Advertised</td>\n",
       "      <td>Product arrived labeled as Jumbo Salted Peanut...</td>\n",
       "      <td>b'product arriv label jumbo salt peanut peanut...</td>\n",
       "      <td>b'product arrived labeled jumbo salted peanuts...</td>\n",
       "    </tr>\n",
       "    <tr>\n",
       "      <th>2</th>\n",
       "      <td>2</td>\n",
       "      <td>3</td>\n",
       "      <td>B000LQOCH0</td>\n",
       "      <td>ABXLMWJIXXAIN</td>\n",
       "      <td>Natalia Corres \"Natalia Corres\"</td>\n",
       "      <td>1</td>\n",
       "      <td>1</td>\n",
       "      <td>Positive</td>\n",
       "      <td>1219017600</td>\n",
       "      <td>\"Delight\" says it all</td>\n",
       "      <td>This is a confection that has been around a fe...</td>\n",
       "      <td>b'confect around centuri light pillowi citrus ...</td>\n",
       "      <td>b'confection around centuries light pillowy ci...</td>\n",
       "    </tr>\n",
       "    <tr>\n",
       "      <th>3</th>\n",
       "      <td>3</td>\n",
       "      <td>4</td>\n",
       "      <td>B000UA0QIQ</td>\n",
       "      <td>A395BORC6FGVXV</td>\n",
       "      <td>Karl</td>\n",
       "      <td>3</td>\n",
       "      <td>3</td>\n",
       "      <td>Negative</td>\n",
       "      <td>1307923200</td>\n",
       "      <td>Cough Medicine</td>\n",
       "      <td>If you are looking for the secret ingredient i...</td>\n",
       "      <td>b'look secret ingredi robitussin believ found ...</td>\n",
       "      <td>b'looking secret ingredient robitussin believe...</td>\n",
       "    </tr>\n",
       "    <tr>\n",
       "      <th>4</th>\n",
       "      <td>4</td>\n",
       "      <td>5</td>\n",
       "      <td>B006K2ZZ7K</td>\n",
       "      <td>A1UQRSCLF8GW1T</td>\n",
       "      <td>Michael D. Bigham \"M. Wassir\"</td>\n",
       "      <td>0</td>\n",
       "      <td>0</td>\n",
       "      <td>Positive</td>\n",
       "      <td>1350777600</td>\n",
       "      <td>Great taffy</td>\n",
       "      <td>Great taffy at a great price.  There was a wid...</td>\n",
       "      <td>b'great taffi great price wide assort yummi ta...</td>\n",
       "      <td>b'great taffy great price wide assortment yumm...</td>\n",
       "    </tr>\n",
       "  </tbody>\n",
       "</table>\n",
       "</div>"
      ],
      "text/plain": [
       "   index  Id   ProductId          UserId                      ProfileName  \\\n",
       "0      0   1  B001E4KFG0  A3SGXH7AUHU8GW                       delmartian   \n",
       "1      1   2  B00813GRG4  A1D87F6ZCVE5NK                           dll pa   \n",
       "2      2   3  B000LQOCH0   ABXLMWJIXXAIN  Natalia Corres \"Natalia Corres\"   \n",
       "3      3   4  B000UA0QIQ  A395BORC6FGVXV                             Karl   \n",
       "4      4   5  B006K2ZZ7K  A1UQRSCLF8GW1T    Michael D. Bigham \"M. Wassir\"   \n",
       "\n",
       "   HelpfulnessNumerator  HelpfulnessDenominator     Score        Time  \\\n",
       "0                     1                       1  Positive  1303862400   \n",
       "1                     0                       0  Negative  1346976000   \n",
       "2                     1                       1  Positive  1219017600   \n",
       "3                     3                       3  Negative  1307923200   \n",
       "4                     0                       0  Positive  1350777600   \n",
       "\n",
       "                 Summary                                               Text  \\\n",
       "0  Good Quality Dog Food  I have bought several of the Vitality canned d...   \n",
       "1      Not as Advertised  Product arrived labeled as Jumbo Salted Peanut...   \n",
       "2  \"Delight\" says it all  This is a confection that has been around a fe...   \n",
       "3         Cough Medicine  If you are looking for the secret ingredient i...   \n",
       "4            Great taffy  Great taffy at a great price.  There was a wid...   \n",
       "\n",
       "                                         CleanedText  \\\n",
       "0  b'bought sever vital can dog food product foun...   \n",
       "1  b'product arriv label jumbo salt peanut peanut...   \n",
       "2  b'confect around centuri light pillowi citrus ...   \n",
       "3  b'look secret ingredi robitussin believ found ...   \n",
       "4  b'great taffi great price wide assort yummi ta...   \n",
       "\n",
       "                                  CleanedText_NoStem  \n",
       "0  b'bought several vitality canned dog food prod...  \n",
       "1  b'product arrived labeled jumbo salted peanuts...  \n",
       "2  b'confection around centuries light pillowy ci...  \n",
       "3  b'looking secret ingredient robitussin believe...  \n",
       "4  b'great taffy great price wide assortment yumm...  "
      ]
     },
     "execution_count": 8,
     "metadata": {
      "tags": []
     },
     "output_type": "execute_result"
    }
   ],
   "source": [
    "df.head()"
   ]
  },
  {
   "cell_type": "code",
   "execution_count": 9,
   "metadata": {
    "colab": {
     "autoexec": {
      "startup": false,
      "wait_interval": 0
     },
     "base_uri": "https://localhost:8080/",
     "height": 307
    },
    "colab_type": "code",
    "executionInfo": {
     "elapsed": 1136,
     "status": "ok",
     "timestamp": 1530352387318,
     "user": {
      "displayName": "Vijay Bhati",
      "photoUrl": "//lh6.googleusercontent.com/-8eiDzCxazcQ/AAAAAAAAAAI/AAAAAAAAETg/em_yQO7VCzk/s50-c-k-no/photo.jpg",
      "userId": "111311313461951215577"
     },
     "user_tz": -330
    },
    "id": "u_AoiH1C2eWX",
    "outputId": "5495010d-cdc2-48cc-ecaf-f7945a9b1292"
   },
   "outputs": [
    {
     "data": {
      "text/html": [
       "<div>\n",
       "<style scoped>\n",
       "    .dataframe tbody tr th:only-of-type {\n",
       "        vertical-align: middle;\n",
       "    }\n",
       "\n",
       "    .dataframe tbody tr th {\n",
       "        vertical-align: top;\n",
       "    }\n",
       "\n",
       "    .dataframe thead th {\n",
       "        text-align: right;\n",
       "    }\n",
       "</style>\n",
       "<table border=\"1\" class=\"dataframe\">\n",
       "  <thead>\n",
       "    <tr style=\"text-align: right;\">\n",
       "      <th></th>\n",
       "      <th>index</th>\n",
       "      <th>Id</th>\n",
       "      <th>HelpfulnessNumerator</th>\n",
       "      <th>HelpfulnessDenominator</th>\n",
       "      <th>Time</th>\n",
       "    </tr>\n",
       "  </thead>\n",
       "  <tbody>\n",
       "    <tr>\n",
       "      <th>count</th>\n",
       "      <td>364171.000000</td>\n",
       "      <td>364171.000000</td>\n",
       "      <td>364171.000000</td>\n",
       "      <td>364171.000000</td>\n",
       "      <td>3.641710e+05</td>\n",
       "    </tr>\n",
       "    <tr>\n",
       "      <th>mean</th>\n",
       "      <td>241825.377603</td>\n",
       "      <td>261814.561014</td>\n",
       "      <td>1.739021</td>\n",
       "      <td>2.186841</td>\n",
       "      <td>1.296135e+09</td>\n",
       "    </tr>\n",
       "    <tr>\n",
       "      <th>std</th>\n",
       "      <td>154519.869452</td>\n",
       "      <td>166958.768333</td>\n",
       "      <td>6.723921</td>\n",
       "      <td>7.348482</td>\n",
       "      <td>4.864772e+07</td>\n",
       "    </tr>\n",
       "    <tr>\n",
       "      <th>min</th>\n",
       "      <td>0.000000</td>\n",
       "      <td>1.000000</td>\n",
       "      <td>0.000000</td>\n",
       "      <td>0.000000</td>\n",
       "      <td>9.393408e+08</td>\n",
       "    </tr>\n",
       "    <tr>\n",
       "      <th>25%</th>\n",
       "      <td>104427.500000</td>\n",
       "      <td>113379.500000</td>\n",
       "      <td>0.000000</td>\n",
       "      <td>0.000000</td>\n",
       "      <td>1.270858e+09</td>\n",
       "    </tr>\n",
       "    <tr>\n",
       "      <th>50%</th>\n",
       "      <td>230033.000000</td>\n",
       "      <td>249445.000000</td>\n",
       "      <td>0.000000</td>\n",
       "      <td>1.000000</td>\n",
       "      <td>1.311379e+09</td>\n",
       "    </tr>\n",
       "    <tr>\n",
       "      <th>75%</th>\n",
       "      <td>376763.500000</td>\n",
       "      <td>407408.500000</td>\n",
       "      <td>2.000000</td>\n",
       "      <td>2.000000</td>\n",
       "      <td>1.332893e+09</td>\n",
       "    </tr>\n",
       "    <tr>\n",
       "      <th>max</th>\n",
       "      <td>525813.000000</td>\n",
       "      <td>568454.000000</td>\n",
       "      <td>866.000000</td>\n",
       "      <td>878.000000</td>\n",
       "      <td>1.351210e+09</td>\n",
       "    </tr>\n",
       "  </tbody>\n",
       "</table>\n",
       "</div>"
      ],
      "text/plain": [
       "               index             Id  HelpfulnessNumerator  \\\n",
       "count  364171.000000  364171.000000         364171.000000   \n",
       "mean   241825.377603  261814.561014              1.739021   \n",
       "std    154519.869452  166958.768333              6.723921   \n",
       "min         0.000000       1.000000              0.000000   \n",
       "25%    104427.500000  113379.500000              0.000000   \n",
       "50%    230033.000000  249445.000000              0.000000   \n",
       "75%    376763.500000  407408.500000              2.000000   \n",
       "max    525813.000000  568454.000000            866.000000   \n",
       "\n",
       "       HelpfulnessDenominator          Time  \n",
       "count           364171.000000  3.641710e+05  \n",
       "mean                 2.186841  1.296135e+09  \n",
       "std                  7.348482  4.864772e+07  \n",
       "min                  0.000000  9.393408e+08  \n",
       "25%                  0.000000  1.270858e+09  \n",
       "50%                  1.000000  1.311379e+09  \n",
       "75%                  2.000000  1.332893e+09  \n",
       "max                878.000000  1.351210e+09  "
      ]
     },
     "execution_count": 9,
     "metadata": {
      "tags": []
     },
     "output_type": "execute_result"
    }
   ],
   "source": [
    "df.describe()"
   ]
  },
  {
   "cell_type": "code",
   "execution_count": 10,
   "metadata": {
    "colab": {
     "autoexec": {
      "startup": false,
      "wait_interval": 0
     },
     "base_uri": "https://localhost:8080/",
     "height": 34
    },
    "colab_type": "code",
    "executionInfo": {
     "elapsed": 1009,
     "status": "ok",
     "timestamp": 1530352388773,
     "user": {
      "displayName": "Vijay Bhati",
      "photoUrl": "//lh6.googleusercontent.com/-8eiDzCxazcQ/AAAAAAAAAAI/AAAAAAAAETg/em_yQO7VCzk/s50-c-k-no/photo.jpg",
      "userId": "111311313461951215577"
     },
     "user_tz": -330
    },
    "id": "OZBxzR032xwr",
    "outputId": "c6b429de-db33-41bf-d5ec-db29f025086b"
   },
   "outputs": [
    {
     "data": {
      "text/plain": [
       "(364171, 13)"
      ]
     },
     "execution_count": 10,
     "metadata": {
      "tags": []
     },
     "output_type": "execute_result"
    }
   ],
   "source": [
    "df.shape"
   ]
  },
  {
   "cell_type": "code",
   "execution_count": 11,
   "metadata": {
    "colab": {
     "autoexec": {
      "startup": false,
      "wait_interval": 0
     },
     "base_uri": "https://localhost:8080/",
     "height": 34
    },
    "colab_type": "code",
    "executionInfo": {
     "elapsed": 993,
     "status": "ok",
     "timestamp": 1530352390006,
     "user": {
      "displayName": "Vijay Bhati",
      "photoUrl": "//lh6.googleusercontent.com/-8eiDzCxazcQ/AAAAAAAAAAI/AAAAAAAAETg/em_yQO7VCzk/s50-c-k-no/photo.jpg",
      "userId": "111311313461951215577"
     },
     "user_tz": -330
    },
    "id": "JwME6Fc521pZ",
    "outputId": "5155cd59-45c0-4921-cc29-5329a0ec9971"
   },
   "outputs": [
    {
     "data": {
      "text/plain": [
       "364171"
      ]
     },
     "execution_count": 11,
     "metadata": {
      "tags": []
     },
     "output_type": "execute_result"
    }
   ],
   "source": [
    "df['Score'].size"
   ]
  },
  {
   "cell_type": "code",
   "execution_count": 12,
   "metadata": {
    "colab": {
     "autoexec": {
      "startup": false,
      "wait_interval": 0
     },
     "base_uri": "https://localhost:8080/",
     "height": 634
    },
    "colab_type": "code",
    "executionInfo": {
     "elapsed": 1140,
     "status": "ok",
     "timestamp": 1530352391592,
     "user": {
      "displayName": "Vijay Bhati",
      "photoUrl": "//lh6.googleusercontent.com/-8eiDzCxazcQ/AAAAAAAAAAI/AAAAAAAAETg/em_yQO7VCzk/s50-c-k-no/photo.jpg",
      "userId": "111311313461951215577"
     },
     "user_tz": -330
    },
    "id": "caj578WG245A",
    "outputId": "f97c074f-2b4d-45fe-f8f7-e28218944c55"
   },
   "outputs": [
    {
     "data": {
      "text/html": [
       "<div>\n",
       "<style scoped>\n",
       "    .dataframe tbody tr th:only-of-type {\n",
       "        vertical-align: middle;\n",
       "    }\n",
       "\n",
       "    .dataframe tbody tr th {\n",
       "        vertical-align: top;\n",
       "    }\n",
       "\n",
       "    .dataframe thead th {\n",
       "        text-align: right;\n",
       "    }\n",
       "</style>\n",
       "<table border=\"1\" class=\"dataframe\">\n",
       "  <thead>\n",
       "    <tr style=\"text-align: right;\">\n",
       "      <th></th>\n",
       "      <th>index</th>\n",
       "      <th>Id</th>\n",
       "      <th>ProductId</th>\n",
       "      <th>UserId</th>\n",
       "      <th>ProfileName</th>\n",
       "      <th>HelpfulnessNumerator</th>\n",
       "      <th>HelpfulnessDenominator</th>\n",
       "      <th>Score</th>\n",
       "      <th>Time</th>\n",
       "      <th>Summary</th>\n",
       "      <th>Text</th>\n",
       "      <th>CleanedText</th>\n",
       "      <th>CleanedText_NoStem</th>\n",
       "    </tr>\n",
       "  </thead>\n",
       "  <tbody>\n",
       "    <tr>\n",
       "      <th>169258</th>\n",
       "      <td>212449</td>\n",
       "      <td>230260</td>\n",
       "      <td>B00004RYGX</td>\n",
       "      <td>A2HIZRVOKXKZ52</td>\n",
       "      <td>KAY N. FOWLER</td>\n",
       "      <td>0</td>\n",
       "      <td>0</td>\n",
       "      <td>Positive</td>\n",
       "      <td>1012780800</td>\n",
       "      <td>Beetlejuice - Great Fun for Everyone!</td>\n",
       "      <td>When vacationing Adam and Barbara Maitland mee...</td>\n",
       "      <td>b'vacat adam barbara maitland meet demis kill ...</td>\n",
       "      <td>b'vacationing adam barbara maitland meet demis...</td>\n",
       "    </tr>\n",
       "    <tr>\n",
       "      <th>128153</th>\n",
       "      <td>152809</td>\n",
       "      <td>165717</td>\n",
       "      <td>B0000D9N59</td>\n",
       "      <td>A59DU8EGS1QNU</td>\n",
       "      <td>Ryan Cardone</td>\n",
       "      <td>15</td>\n",
       "      <td>20</td>\n",
       "      <td>Positive</td>\n",
       "      <td>1068422400</td>\n",
       "      <td>The Cheese Served In Heaven</td>\n",
       "      <td>This amazingly flavored cheese was at the top ...</td>\n",
       "      <td>b'amaz flavor chees top food triangl throughou...</td>\n",
       "      <td>b'amazingly flavored cheese top food triangle ...</td>\n",
       "    </tr>\n",
       "    <tr>\n",
       "      <th>110280</th>\n",
       "      <td>128419</td>\n",
       "      <td>139366</td>\n",
       "      <td>B0000CGDUK</td>\n",
       "      <td>AU1N8A8XWHHTP</td>\n",
       "      <td>J. Wright \"Super Dad\"</td>\n",
       "      <td>35</td>\n",
       "      <td>35</td>\n",
       "      <td>Positive</td>\n",
       "      <td>1068508800</td>\n",
       "      <td>The Real Deal!</td>\n",
       "      <td>This is the real deal people.  This is real Ja...</td>\n",
       "      <td>b'real deal peopl real jamaican coffe brand cl...</td>\n",
       "      <td>b'real deal people real jamaican coffee brands...</td>\n",
       "    </tr>\n",
       "    <tr>\n",
       "      <th>178039</th>\n",
       "      <td>224637</td>\n",
       "      <td>243579</td>\n",
       "      <td>B0000DIYKD</td>\n",
       "      <td>AYHW6HJSUCSAE</td>\n",
       "      <td>\"insolent_shoeshine_grrl\"</td>\n",
       "      <td>11</td>\n",
       "      <td>13</td>\n",
       "      <td>Positive</td>\n",
       "      <td>1072656000</td>\n",
       "      <td>Fantastic Real Licorice From The Land Down Under</td>\n",
       "      <td>I recently purchased a bag of Kookaburra Black...</td>\n",
       "      <td>b'recent purchas bag kookaburra black licoric ...</td>\n",
       "      <td>b'recently purchased bag kookaburra black lico...</td>\n",
       "    </tr>\n",
       "    <tr>\n",
       "      <th>255133</th>\n",
       "      <td>347552</td>\n",
       "      <td>375943</td>\n",
       "      <td>B0000DBN1L</td>\n",
       "      <td>APWF2542427ZF</td>\n",
       "      <td>Raj</td>\n",
       "      <td>8</td>\n",
       "      <td>9</td>\n",
       "      <td>Positive</td>\n",
       "      <td>1072742400</td>\n",
       "      <td>Tazo Chai</td>\n",
       "      <td>This is Awesome!! Tastes like its a complex ho...</td>\n",
       "      <td>b'awesom tast like complex home mixtur spice e...</td>\n",
       "      <td>b'awesome tastes like complex home mixture spi...</td>\n",
       "    </tr>\n",
       "  </tbody>\n",
       "</table>\n",
       "</div>"
      ],
      "text/plain": [
       "         index      Id   ProductId          UserId                ProfileName  \\\n",
       "169258  212449  230260  B00004RYGX  A2HIZRVOKXKZ52              KAY N. FOWLER   \n",
       "128153  152809  165717  B0000D9N59   A59DU8EGS1QNU               Ryan Cardone   \n",
       "110280  128419  139366  B0000CGDUK   AU1N8A8XWHHTP      J. Wright \"Super Dad\"   \n",
       "178039  224637  243579  B0000DIYKD   AYHW6HJSUCSAE  \"insolent_shoeshine_grrl\"   \n",
       "255133  347552  375943  B0000DBN1L   APWF2542427ZF                        Raj   \n",
       "\n",
       "        HelpfulnessNumerator  HelpfulnessDenominator     Score        Time  \\\n",
       "169258                     0                       0  Positive  1012780800   \n",
       "128153                    15                      20  Positive  1068422400   \n",
       "110280                    35                      35  Positive  1068508800   \n",
       "178039                    11                      13  Positive  1072656000   \n",
       "255133                     8                       9  Positive  1072742400   \n",
       "\n",
       "                                                 Summary  \\\n",
       "169258             Beetlejuice - Great Fun for Everyone!   \n",
       "128153                       The Cheese Served In Heaven   \n",
       "110280                                    The Real Deal!   \n",
       "178039  Fantastic Real Licorice From The Land Down Under   \n",
       "255133                                         Tazo Chai   \n",
       "\n",
       "                                                     Text  \\\n",
       "169258  When vacationing Adam and Barbara Maitland mee...   \n",
       "128153  This amazingly flavored cheese was at the top ...   \n",
       "110280  This is the real deal people.  This is real Ja...   \n",
       "178039  I recently purchased a bag of Kookaburra Black...   \n",
       "255133  This is Awesome!! Tastes like its a complex ho...   \n",
       "\n",
       "                                              CleanedText  \\\n",
       "169258  b'vacat adam barbara maitland meet demis kill ...   \n",
       "128153  b'amaz flavor chees top food triangl throughou...   \n",
       "110280  b'real deal peopl real jamaican coffe brand cl...   \n",
       "178039  b'recent purchas bag kookaburra black licoric ...   \n",
       "255133  b'awesom tast like complex home mixtur spice e...   \n",
       "\n",
       "                                       CleanedText_NoStem  \n",
       "169258  b'vacationing adam barbara maitland meet demis...  \n",
       "128153  b'amazingly flavored cheese top food triangle ...  \n",
       "110280  b'real deal people real jamaican coffee brands...  \n",
       "178039  b'recently purchased bag kookaburra black lico...  \n",
       "255133  b'awesome tastes like complex home mixture spi...  "
      ]
     },
     "execution_count": 12,
     "metadata": {
      "tags": []
     },
     "output_type": "execute_result"
    }
   ],
   "source": [
    "# Taking Sample Datapoints\n",
    "n_samples = 15000\n",
    "df_sample = df.sample(n_samples)\n",
    "df_sample.sort_values('Time', inplace=True) #Sorting with respect to time\n",
    "df_sample.head()"
   ]
  },
  {
   "cell_type": "code",
   "execution_count": 0,
   "metadata": {
    "colab": {
     "autoexec": {
      "startup": false,
      "wait_interval": 0
     }
    },
    "colab_type": "code",
    "id": "Zu1BQqOlIPhs"
   },
   "outputs": [],
   "source": [
    "# Function to split train and test set by time\n",
    "\n",
    "def train_test_split_by_time(X, y, test_ratio = 0.3):\n",
    "    \"\"\"\n",
    "    y parameter needs to be a pandas series\n",
    "    with timestamp as its index\n",
    "    \"\"\"\n",
    "    \n",
    "    train_ratio = 1 - test_ratio\n",
    "    train_end = int(train_ratio * len(y))\n",
    "    \n",
    "    sorted_index = y.index.argsort()\n",
    "    train_index = sorted_index[:train_end]\n",
    "    test_index = sorted_index[train_end:]\n",
    "    \n",
    "    try:\n",
    "        return X[train_index], X[test_index], y.iloc[train_index], y.iloc[test_index]\n",
    "    except KeyError:\n",
    "        # if X is a pandas data structure\n",
    "        return X.iloc[train_index], X.iloc[test_index], y.iloc[train_index], y.iloc[test_index]"
   ]
  },
  {
   "cell_type": "code",
   "execution_count": 0,
   "metadata": {
    "colab": {
     "autoexec": {
      "startup": false,
      "wait_interval": 0
     }
    },
    "colab_type": "code",
    "id": "nMeDcCxNObOi"
   },
   "outputs": [],
   "source": [
    "# function to perform grid-search\n",
    "def GridSearch(clf, param_grid, X, y, test_size=0.3, cv=10, n_jobs=-1,\n",
    "                 random_search=False, n_iter=10, return_train_score=False):\n",
    "    \"\"\"\n",
    "    Splits the data using time based slicing\n",
    "    Performs grid search to search for optimal parameter\n",
    "    using exaustive or random search\n",
    "    Print accuracy and classification report with\n",
    "    best parameter on test set\n",
    "    \"\"\"\n",
    "    \n",
    "    # time based splitting of dataset\n",
    "    X_train, X_test, y_train, y_test = train_test_split_by_time(X, y, test_size)\n",
    "    \n",
    "    if random_search:\n",
    "        grid_search = RandomizedSearchCV(clf, param_grid, n_iter=n_iter, \n",
    "                                         n_jobs=n_jobs, verbose=1, cv=cv, \n",
    "                                         return_train_score=return_train_score)\n",
    "    else:\n",
    "        grid_search = GridSearchCV(clf, param_grid, n_jobs=n_jobs, \n",
    "                                   verbose=1, cv=cv, \n",
    "                                   return_train_score=return_train_score)\n",
    "    \n",
    "    print('Performing grid search...\\n')\n",
    "    print('Parameters:')\n",
    "    print(param_grid)\n",
    "    print()\n",
    "    \n",
    "    grid_search.fit(X_train, y_train)\n",
    "    print('\\n')\n",
    "    \n",
    "    print(\"Best CV score: %f\" % grid_search.best_score_)\n",
    "    print(\"Best parameters set:\")\n",
    "    best_parameters = grid_search.best_estimator_.get_params()\n",
    "    for param_name in sorted(param_grid.keys()):\n",
    "        print(\"\\t%s: %r\" % (param_name, best_parameters[param_name]))\n",
    "        \n",
    "    print(\"\\nTest score with best_estimator_: %f\" % grid_search.best_estimator_.score(X_test, y_test))\n",
    "    print(\"\\n              Classification Report Test Data\")\n",
    "    print(classification_report(y_test, grid_search.best_estimator_.predict(X_test)))\n",
    "    \n",
    "    return grid_search"
   ]
  },
  {
   "cell_type": "markdown",
   "metadata": {
    "colab_type": "text",
    "id": "edHvgm3G3wQz"
   },
   "source": [
    "# Applying the KNN Models on the different Vectorizing Techniques\n",
    "\n",
    "\n",
    "## Bag of Word(BOW)"
   ]
  },
  {
   "cell_type": "code",
   "execution_count": 0,
   "metadata": {
    "colab": {
     "autoexec": {
      "startup": false,
      "wait_interval": 0
     }
    },
    "colab_type": "code",
    "id": "29BnIfnz3lJK"
   },
   "outputs": [],
   "source": [
    "from sklearn.model_selection import train_test_split\n",
    "from sklearn.naive_bayes import MultinomialNB\n",
    "from sklearn.naive_bayes import GaussianNB\n",
    "from sklearn.metrics import classification_report\n",
    "from sklearn.metrics import accuracy_score\n",
    "from sklearn.metrics import confusion_matrix"
   ]
  },
  {
   "cell_type": "code",
   "execution_count": 16,
   "metadata": {
    "colab": {
     "autoexec": {
      "startup": false,
      "wait_interval": 0
     },
     "base_uri": "https://localhost:8080/",
     "height": 34
    },
    "colab_type": "code",
    "executionInfo": {
     "elapsed": 1840,
     "status": "ok",
     "timestamp": 1530352403352,
     "user": {
      "displayName": "Vijay Bhati",
      "photoUrl": "//lh6.googleusercontent.com/-8eiDzCxazcQ/AAAAAAAAAAI/AAAAAAAAETg/em_yQO7VCzk/s50-c-k-no/photo.jpg",
      "userId": "111311313461951215577"
     },
     "user_tz": -330
    },
    "id": "Ac2JOD-QIWGK",
    "outputId": "2934b0cd-594a-4ac8-fc1c-4259415bb3fb"
   },
   "outputs": [
    {
     "data": {
      "text/plain": [
       "(15000, 3468)"
      ]
     },
     "execution_count": 16,
     "metadata": {
      "tags": []
     },
     "output_type": "execute_result"
    }
   ],
   "source": [
    "bi_gram = CountVectorizer(min_df=10)\n",
    "bi_gram_vectors = bi_gram.fit_transform(df_sample['CleanedText'])\n",
    "bi_gram_vectors.shape"
   ]
  },
  {
   "cell_type": "code",
   "execution_count": 0,
   "metadata": {
    "colab": {
     "autoexec": {
      "startup": false,
      "wait_interval": 0
     }
    },
    "colab_type": "code",
    "id": "rj1J51VVI2l5"
   },
   "outputs": [],
   "source": [
    "# spliting data into train and test\n",
    "X_train, X_test, y_train, y_test = train_test_split_by_time(bi_gram_vectors,df_sample['Score'])"
   ]
  },
  {
   "cell_type": "code",
   "execution_count": 19,
   "metadata": {
    "colab": {
     "autoexec": {
      "startup": false,
      "wait_interval": 0
     },
     "base_uri": "https://localhost:8080/",
     "height": 34
    },
    "colab_type": "code",
    "executionInfo": {
     "elapsed": 1152,
     "status": "ok",
     "timestamp": 1530352940816,
     "user": {
      "displayName": "Vijay Bhati",
      "photoUrl": "//lh6.googleusercontent.com/-8eiDzCxazcQ/AAAAAAAAAAI/AAAAAAAAETg/em_yQO7VCzk/s50-c-k-no/photo.jpg",
      "userId": "111311313461951215577"
     },
     "user_tz": -330
    },
    "id": "GMCduk-jJFrB",
    "outputId": "bb3bf26d-e2cc-4577-9722-7078cf191877"
   },
   "outputs": [
    {
     "data": {
      "text/plain": [
       "MultinomialNB(alpha=1.0, class_prior=None, fit_prior=True)"
      ]
     },
     "execution_count": 19,
     "metadata": {
      "tags": []
     },
     "output_type": "execute_result"
    }
   ],
   "source": [
    "# Train model with default hyperparameter\n",
    "clf = MultinomialNB()\n",
    "clf.fit(X_train, y_train)"
   ]
  },
  {
   "cell_type": "code",
   "execution_count": 22,
   "metadata": {
    "colab": {
     "autoexec": {
      "startup": false,
      "wait_interval": 0
     },
     "base_uri": "https://localhost:8080/",
     "height": 194
    },
    "colab_type": "code",
    "executionInfo": {
     "elapsed": 1390,
     "status": "ok",
     "timestamp": 1530353201864,
     "user": {
      "displayName": "Vijay Bhati",
      "photoUrl": "//lh6.googleusercontent.com/-8eiDzCxazcQ/AAAAAAAAAAI/AAAAAAAAETg/em_yQO7VCzk/s50-c-k-no/photo.jpg",
      "userId": "111311313461951215577"
     },
     "user_tz": -330
    },
    "id": "9rcWsvLBJFo3",
    "outputId": "3d0c989a-71d9-4370-823e-afdb2177a6d0"
   },
   "outputs": [
    {
     "name": "stdout",
     "output_type": "stream",
     "text": [
      "Accuracy on test set: 0.8997777777777778\n",
      "\n",
      "                    Classification Report\n",
      "             precision    recall  f1-score   support\n",
      "\n",
      "   Negative       0.69      0.66      0.67       700\n",
      "   Positive       0.94      0.94      0.94      3800\n",
      "\n",
      "avg / total       0.90      0.90      0.90      4500\n",
      "\n"
     ]
    }
   ],
   "source": [
    "y_pred = clf.predict(X_test)\n",
    "\n",
    "print('Accuracy on test set:', accuracy_score(y_test, y_pred))\n",
    "print('\\n                    Classification Report')\n",
    "print(classification_report(y_test, y_pred))"
   ]
  },
  {
   "cell_type": "markdown",
   "metadata": {
    "colab_type": "text",
    "id": "SJREMba-KQ_V"
   },
   "source": [
    "## Searching optimal alpha for MultinomialNB"
   ]
  },
  {
   "cell_type": "code",
   "execution_count": 32,
   "metadata": {
    "colab": {
     "autoexec": {
      "startup": false,
      "wait_interval": 0
     },
     "base_uri": "https://localhost:8080/",
     "height": 463
    },
    "colab_type": "code",
    "executionInfo": {
     "elapsed": 3636,
     "status": "ok",
     "timestamp": 1530354538759,
     "user": {
      "displayName": "Vijay Bhati",
      "photoUrl": "//lh6.googleusercontent.com/-8eiDzCxazcQ/AAAAAAAAAAI/AAAAAAAAETg/em_yQO7VCzk/s50-c-k-no/photo.jpg",
      "userId": "111311313461951215577"
     },
     "user_tz": -330
    },
    "id": "8_3iDgiiJFja",
    "outputId": "21ce7723-4d77-485d-9efe-bc36acf05536"
   },
   "outputs": [
    {
     "name": "stdout",
     "output_type": "stream",
     "text": [
      "Performing grid search...\n",
      "\n",
      "Parameters:\n",
      "{'alpha': array([1.e-04, 1.e-03, 1.e-02, 1.e-01, 1.e+00, 1.e+01, 1.e+02, 1.e+03,\n",
      "       1.e+04])}\n",
      "\n",
      "Fitting 10 folds for each of 9 candidates, totalling 90 fits\n"
     ]
    },
    {
     "name": "stderr",
     "output_type": "stream",
     "text": [
      "[Parallel(n_jobs=-1)]: Done  90 out of  90 | elapsed:    2.3s finished\n"
     ]
    },
    {
     "name": "stdout",
     "output_type": "stream",
     "text": [
      "\n",
      "\n",
      "Best CV score: 0.896095\n",
      "Best parameters set:\n",
      "\talpha: 0.1\n",
      "\n",
      "Test score with best_estimator_: 0.898889\n",
      "\n",
      "              Classification Report Test Data\n",
      "             precision    recall  f1-score   support\n",
      "\n",
      "   Negative       0.70      0.62      0.66       700\n",
      "   Positive       0.93      0.95      0.94      3800\n",
      "\n",
      "avg / total       0.89      0.90      0.90      4500\n",
      "\n"
     ]
    }
   ],
   "source": [
    "param_grid = {'alpha': 10.0 ** np.arange(-4, 5)}\n",
    "\n",
    "best_alpha = GridSearch(clf, param_grid, bi_gram_vectors, df_sample['Score'])"
   ]
  },
  {
   "cell_type": "markdown",
   "metadata": {
    "colab_type": "text",
    "id": "t3rwgEdRPjAk"
   },
   "source": [
    "## Observation\n",
    "*Naive Bayes model is giving a good accuracy of 90%* "
   ]
  },
  {
   "cell_type": "markdown",
   "metadata": {
    "colab_type": "text",
    "id": "XnegxDiYQDtF"
   },
   "source": [
    "## Confusion matrix"
   ]
  },
  {
   "cell_type": "code",
   "execution_count": 0,
   "metadata": {
    "colab": {
     "autoexec": {
      "startup": false,
      "wait_interval": 0
     }
    },
    "colab_type": "code",
    "id": "lArS8P0QJFfY"
   },
   "outputs": [],
   "source": [
    "def plot_confusion_matrix_(y_true, y_pred, labels):\n",
    "    cm = confusion_matrix(y_true, y_pred, labels=labels)\n",
    "    df_cm = pd.DataFrame(cm, index = labels,\n",
    "                  columns = labels)\n",
    "    # convert to percentage\n",
    "    df_cm = df_cm.divide(df_cm.sum(axis=1), axis='index') * 100\n",
    "    sns.heatmap(df_cm, annot=True, fmt='.1f');\n",
    "    plt.show()"
   ]
  },
  {
   "cell_type": "code",
   "execution_count": 0,
   "metadata": {
    "colab": {
     "autoexec": {
      "startup": false,
      "wait_interval": 0
     }
    },
    "colab_type": "code",
    "id": "RX3ohV99JFcc"
   },
   "outputs": [],
   "source": [
    "pred = clf.predict(X_test)"
   ]
  },
  {
   "cell_type": "code",
   "execution_count": 49,
   "metadata": {
    "colab": {
     "autoexec": {
      "startup": false,
      "wait_interval": 0
     },
     "base_uri": "https://localhost:8080/",
     "height": 1118
    },
    "colab_type": "code",
    "executionInfo": {
     "elapsed": 915,
     "status": "ok",
     "timestamp": 1530355748726,
     "user": {
      "displayName": "Vijay Bhati",
      "photoUrl": "//lh6.googleusercontent.com/-8eiDzCxazcQ/AAAAAAAAAAI/AAAAAAAAETg/em_yQO7VCzk/s50-c-k-no/photo.jpg",
      "userId": "111311313461951215577"
     },
     "user_tz": -330
    },
    "id": "ZmnQ-Y2vT3w-",
    "outputId": "895c23a6-7e27-42ca-ab35-75d4a45f6c98"
   },
   "outputs": [
    {
     "data": {
      "text/plain": [
       "254010    Positive\n",
       "254025    Positive\n",
       "254107    Positive\n",
       "254141    Positive\n",
       "254145    Positive\n",
       "254200    Positive\n",
       "254201    Positive\n",
       "254220    Positive\n",
       "254243    Positive\n",
       "254263    Positive\n",
       "254274    Positive\n",
       "254275    Positive\n",
       "254277    Positive\n",
       "254296    Positive\n",
       "254322    Positive\n",
       "254357    Positive\n",
       "254377    Negative\n",
       "254400    Positive\n",
       "254412    Negative\n",
       "254438    Positive\n",
       "254445    Positive\n",
       "254481    Positive\n",
       "254492    Positive\n",
       "254494    Positive\n",
       "254499    Positive\n",
       "254516    Positive\n",
       "254547    Negative\n",
       "254580    Positive\n",
       "254587    Positive\n",
       "254592    Positive\n",
       "            ...   \n",
       "363502    Positive\n",
       "363509    Positive\n",
       "363526    Positive\n",
       "363531    Positive\n",
       "363539    Positive\n",
       "363582    Positive\n",
       "363612    Positive\n",
       "363629    Negative\n",
       "363643    Positive\n",
       "363675    Positive\n",
       "363684    Positive\n",
       "363777    Positive\n",
       "363807    Positive\n",
       "363814    Positive\n",
       "363850    Positive\n",
       "363884    Negative\n",
       "363888    Positive\n",
       "363921    Positive\n",
       "363937    Positive\n",
       "363989    Positive\n",
       "364013    Positive\n",
       "364016    Positive\n",
       "364037    Positive\n",
       "364052    Negative\n",
       "364053    Negative\n",
       "364082    Positive\n",
       "364090    Negative\n",
       "364144    Positive\n",
       "364151    Negative\n",
       "364166    Positive\n",
       "Name: Score, Length: 4500, dtype: object"
      ]
     },
     "execution_count": 49,
     "metadata": {
      "tags": []
     },
     "output_type": "execute_result"
    }
   ],
   "source": [
    "y_test"
   ]
  },
  {
   "cell_type": "code",
   "execution_count": 53,
   "metadata": {
    "colab": {
     "autoexec": {
      "startup": false,
      "wait_interval": 0
     },
     "base_uri": "https://localhost:8080/",
     "height": 264
    },
    "colab_type": "code",
    "executionInfo": {
     "elapsed": 1605,
     "status": "ok",
     "timestamp": 1530355797939,
     "user": {
      "displayName": "Vijay Bhati",
      "photoUrl": "//lh6.googleusercontent.com/-8eiDzCxazcQ/AAAAAAAAAAI/AAAAAAAAETg/em_yQO7VCzk/s50-c-k-no/photo.jpg",
      "userId": "111311313461951215577"
     },
     "user_tz": -330
    },
    "id": "LAhLH0lZRkBi",
    "outputId": "2520f796-6046-4ec0-aa2c-4eab87b8ca81"
   },
   "outputs": [
    {
     "data": {
      "image/png": "[encoded data removed]",
      "text/plain": [
       "<matplotlib.figure.Figure at 0x7f0e9d722400>"
      ]
     },
     "metadata": {
      "tags": []
     },
     "output_type": "display_data"
    }
   ],
   "source": [
    "plot_confusion_matrix_(y_test, pred, labels=['Negative', 'Positive'])\n"
   ]
  },
  {
   "cell_type": "markdown",
   "metadata": {
    "colab_type": "text",
    "id": "v5vjejWRX9LI"
   },
   "source": [
    "* From confusion matrix we can say that missclassification is 5.6% of positvie reviews and 34.3% of negative reviews are classified as positive reviews"
   ]
  },
  {
   "cell_type": "markdown",
   "metadata": {},
   "source": [
    "## Feature Importance"
   ]
  },
  {
   "cell_type": "code",
   "execution_count": 0,
   "metadata": {
    "colab": {
     "autoexec": {
      "startup": false,
      "wait_interval": 0
     }
    },
    "colab_type": "code",
    "id": "nECFk1OPYqmd"
   },
   "outputs": [],
   "source": [
    "word = {v: k for (k, v) in bi_gram.vocabulary_.items()}\n",
    "\n",
    "neg_prob = [(word[i], np.exp(prob)) for (i, prob) in enumerate(clf.feature_log_prob_[0])]\n",
    "pos_prob = [(word[i], np.exp(prob)) for (i, prob) in enumerate(clf.feature_log_prob_[1])]\n",
    "pos_prob = pd.DataFrame.from_records(pos_prob, columns=['word', 'log_prob']).sort_values('log_prob', ascending=False)\n",
    "neg_prob = pd.DataFrame.from_records(neg_prob, columns=['word', 'log_prob']).sort_values('log_prob', ascending=False)"
   ]
  },
  {
   "cell_type": "code",
   "execution_count": 73,
   "metadata": {
    "colab": {
     "autoexec": {
      "startup": false,
      "wait_interval": 0
     },
     "base_uri": "https://localhost:8080/",
     "height": 947
    },
    "colab_type": "code",
    "executionInfo": {
     "elapsed": 2108,
     "status": "ok",
     "timestamp": 1530357055653,
     "user": {
      "displayName": "Vijay Bhati",
      "photoUrl": "//lh6.googleusercontent.com/-8eiDzCxazcQ/AAAAAAAAAAI/AAAAAAAAETg/em_yQO7VCzk/s50-c-k-no/photo.jpg",
      "userId": "111311313461951215577"
     },
     "user_tz": -330
    },
    "id": "j74-WjyCY3N1",
    "outputId": "8aab469c-faed-48e5-efeb-186c9671cf99"
   },
   "outputs": [
    {
     "name": "stderr",
     "output_type": "stream",
     "text": [
      "/usr/local/lib/python3.6/dist-packages/seaborn/categorical.py:1428: FutureWarning: remove_na is deprecated and is a private function. Do not use.\n",
      "  stat_data = remove_na(group_data)\n"
     ]
    },
    {
     "data": {
      "image/png": "[encoded data removed]",
      "text/plain": [
       "<matplotlib.figure.Figure at 0x7f0e9c8f7a90>"
      ]
     },
     "metadata": {
      "tags": []
     },
     "output_type": "display_data"
    }
   ],
   "source": [
    "fig, ax =plt.subplots(1,2, figsize=(20,15))\n",
    "\n",
    "sns.barplot(x='log_prob', y='word', data=pos_prob.head(20), palette='Blues_d', ax=ax[0])\n",
    "ax[0].set_title('Most important feature for Positive reviews')\n",
    "\n",
    "\n",
    "sns.barplot(x='log_prob', y='word', data=neg_prob.head(20), palette='Reds_d', ax=ax[1])\n",
    "ax[1].set_title('Most important feature for Negative reviews');"
   ]
  },
  {
   "cell_type": "markdown",
   "metadata": {
    "colab_type": "text",
    "id": "P7QGRdu9IH40"
   },
   "source": [
    "# tf-idf\n",
    "\n",
    "TFIDF = TF x IDF"
   ]
  },
  {
   "cell_type": "code",
   "execution_count": 0,
   "metadata": {
    "colab": {
     "autoexec": {
      "startup": false,
      "wait_interval": 0
     }
    },
    "colab_type": "code",
    "id": "JXxFXg9bGULb"
   },
   "outputs": [],
   "source": [
    "tfidf = TfidfVectorizer(min_df=10) \n",
    "tfidf_vectors = tfidf.fit_transform(df_sample['CleanedText'].values)"
   ]
  },
  {
   "cell_type": "code",
   "execution_count": 0,
   "metadata": {
    "colab": {
     "autoexec": {
      "startup": false,
      "wait_interval": 0
     }
    },
    "colab_type": "code",
    "id": "oXyWphy7UXpu"
   },
   "outputs": [],
   "source": [
    "# spliting data into train and test\n",
    "X_train, X_test, y_train, y_test = train_test_split_by_time(tfidf_vectors,df_sample['Score'])"
   ]
  },
  {
   "cell_type": "code",
   "execution_count": 64,
   "metadata": {
    "colab": {
     "autoexec": {
      "startup": false,
      "wait_interval": 0
     },
     "base_uri": "https://localhost:8080/",
     "height": 34
    },
    "colab_type": "code",
    "executionInfo": {
     "elapsed": 1987,
     "status": "ok",
     "timestamp": 1530356187369,
     "user": {
      "displayName": "Vijay Bhati",
      "photoUrl": "//lh6.googleusercontent.com/-8eiDzCxazcQ/AAAAAAAAAAI/AAAAAAAAETg/em_yQO7VCzk/s50-c-k-no/photo.jpg",
      "userId": "111311313461951215577"
     },
     "user_tz": -330
    },
    "id": "-gjrBROAUXmx",
    "outputId": "3e0e0f2f-0434-409d-b064-754babd44e16"
   },
   "outputs": [
    {
     "data": {
      "text/plain": [
       "MultinomialNB(alpha=1.0, class_prior=None, fit_prior=True)"
      ]
     },
     "execution_count": 64,
     "metadata": {
      "tags": []
     },
     "output_type": "execute_result"
    }
   ],
   "source": [
    "# Train model with default hyperparameter\n",
    "clf = MultinomialNB()\n",
    "clf.fit(X_train, y_train)\n"
   ]
  },
  {
   "cell_type": "code",
   "execution_count": 65,
   "metadata": {
    "colab": {
     "autoexec": {
      "startup": false,
      "wait_interval": 0
     },
     "base_uri": "https://localhost:8080/",
     "height": 194
    },
    "colab_type": "code",
    "executionInfo": {
     "elapsed": 838,
     "status": "ok",
     "timestamp": 1530356188602,
     "user": {
      "displayName": "Vijay Bhati",
      "photoUrl": "//lh6.googleusercontent.com/-8eiDzCxazcQ/AAAAAAAAAAI/AAAAAAAAETg/em_yQO7VCzk/s50-c-k-no/photo.jpg",
      "userId": "111311313461951215577"
     },
     "user_tz": -330
    },
    "id": "RePPxxBmUXkO",
    "outputId": "bf714de2-fff9-4845-98a8-ff1c7cc1cb6f"
   },
   "outputs": [
    {
     "name": "stdout",
     "output_type": "stream",
     "text": [
      "Accuracy on test set: 0.8595555555555555\n",
      "\n",
      "                    Classification Report\n",
      "             precision    recall  f1-score   support\n",
      "\n",
      "   Negative       0.95      0.10      0.19       700\n",
      "   Positive       0.86      1.00      0.92      3800\n",
      "\n",
      "avg / total       0.87      0.86      0.81      4500\n",
      "\n"
     ]
    }
   ],
   "source": [
    "y_pred = clf.predict(X_test)\n",
    "\n",
    "print('Accuracy on test set:', accuracy_score(y_test, y_pred))\n",
    "print('\\n                    Classification Report')\n",
    "print(classification_report(y_test, y_pred))"
   ]
  },
  {
   "cell_type": "markdown",
   "metadata": {
    "colab_type": "text",
    "id": "JZ7ci7SYU9JZ"
   },
   "source": [
    "## Searching optimal alpha for MultinomialNB"
   ]
  },
  {
   "cell_type": "code",
   "execution_count": 66,
   "metadata": {
    "colab": {
     "autoexec": {
      "startup": false,
      "wait_interval": 0
     },
     "base_uri": "https://localhost:8080/",
     "height": 463
    },
    "colab_type": "code",
    "executionInfo": {
     "elapsed": 4153,
     "status": "ok",
     "timestamp": 1530356193240,
     "user": {
      "displayName": "Vijay Bhati",
      "photoUrl": "//lh6.googleusercontent.com/-8eiDzCxazcQ/AAAAAAAAAAI/AAAAAAAAETg/em_yQO7VCzk/s50-c-k-no/photo.jpg",
      "userId": "111311313461951215577"
     },
     "user_tz": -330
    },
    "id": "1mSimasPUXhH",
    "outputId": "515423a7-3229-4787-9efa-ff61ac8bd857"
   },
   "outputs": [
    {
     "name": "stdout",
     "output_type": "stream",
     "text": [
      "Performing grid search...\n",
      "\n",
      "Parameters:\n",
      "{'alpha': array([1.e-04, 1.e-03, 1.e-02, 1.e-01, 1.e+00, 1.e+01, 1.e+02, 1.e+03,\n",
      "       1.e+04])}\n",
      "\n",
      "Fitting 10 folds for each of 9 candidates, totalling 90 fits\n",
      "\n",
      "\n",
      "Best CV score: 0.896095\n",
      "Best parameters set:\n",
      "\talpha: 0.1\n",
      "\n",
      "Test score with best_estimator_: 0.898889\n",
      "\n",
      "              Classification Report Test Data\n",
      "             precision    recall  f1-score   support\n",
      "\n",
      "   Negative       0.70      0.62      0.66       700\n",
      "   Positive       0.93      0.95      0.94      3800\n",
      "\n",
      "avg / total       0.89      0.90      0.90      4500\n",
      "\n"
     ]
    },
    {
     "name": "stderr",
     "output_type": "stream",
     "text": [
      "[Parallel(n_jobs=-1)]: Done  90 out of  90 | elapsed:    2.6s finished\n"
     ]
    }
   ],
   "source": [
    "param_grid = {'alpha': 10.0 ** np.arange(-4, 5)}\n",
    "\n",
    "best_alpha = GridSearch(clf, param_grid, bi_gram_vectors, df_sample['Score'])"
   ]
  },
  {
   "cell_type": "markdown",
   "metadata": {
    "colab_type": "text",
    "id": "lR10Qz2mVKqc"
   },
   "source": [
    "## Confusion matrix"
   ]
  },
  {
   "cell_type": "code",
   "execution_count": 67,
   "metadata": {
    "colab": {
     "autoexec": {
      "startup": false,
      "wait_interval": 0
     },
     "base_uri": "https://localhost:8080/",
     "height": 264
    },
    "colab_type": "code",
    "executionInfo": {
     "elapsed": 926,
     "status": "ok",
     "timestamp": 1530356194240,
     "user": {
      "displayName": "Vijay Bhati",
      "photoUrl": "//lh6.googleusercontent.com/-8eiDzCxazcQ/AAAAAAAAAAI/AAAAAAAAETg/em_yQO7VCzk/s50-c-k-no/photo.jpg",
      "userId": "111311313461951215577"
     },
     "user_tz": -330
    },
    "id": "fozbkFmzUXeE",
    "outputId": "830577e3-5a3a-415b-b8da-e3e749c9b575"
   },
   "outputs": [
    {
     "data": {
      "image/png": "[encoded data removed]",
      "text/plain": [
       "<matplotlib.figure.Figure at 0x7f0e969a0400>"
      ]
     },
     "metadata": {
      "tags": []
     },
     "output_type": "display_data"
    }
   ],
   "source": [
    "pred = clf.predict(X_test)\n",
    "plot_confusion_matrix_(y_test, pred, labels=['Negative', 'Positive'])\n"
   ]
  },
  {
   "cell_type": "markdown",
   "metadata": {
    "colab_type": "text",
    "id": "csxsW76FYjFQ"
   },
   "source": [
    "* From confusion matrix we can say that missclassification is 0.1% of positvie reviews and 89.7% of negative reviews are classified as positive reviews"
   ]
  },
  {
   "cell_type": "markdown",
   "metadata": {},
   "source": [
    "## Feature Importance"
   ]
  },
  {
   "cell_type": "code",
   "execution_count": 0,
   "metadata": {
    "colab": {
     "autoexec": {
      "startup": false,
      "wait_interval": 0
     }
    },
    "colab_type": "code",
    "id": "A0-yi8H1WtTg"
   },
   "outputs": [],
   "source": [
    "id2word = {v: k for (k, v) in tfidf.vocabulary_.items()}\n",
    "\n",
    "neg_prob = [(id2word[i], np.exp(prob)) for (i, prob) in enumerate(clf.feature_log_prob_[0])]\n",
    "pos_prob = [(id2word[i], np.exp(prob)) for (i, prob) in enumerate(clf.feature_log_prob_[1])]\n",
    "pos_prob = pd.DataFrame.from_records(pos_prob, columns=['word', 'log_prob']).sort_values('log_prob', ascending=False)\n",
    "neg_prob = pd.DataFrame.from_records(neg_prob, columns=['word', 'log_prob']).sort_values('log_prob', ascending=False)"
   ]
  },
  {
   "cell_type": "code",
   "execution_count": 70,
   "metadata": {
    "colab": {
     "autoexec": {
      "startup": false,
      "wait_interval": 0
     },
     "base_uri": "https://localhost:8080/",
     "height": 947
    },
    "colab_type": "code",
    "executionInfo": {
     "elapsed": 1619,
     "status": "ok",
     "timestamp": 1530356743662,
     "user": {
      "displayName": "Vijay Bhati",
      "photoUrl": "//lh6.googleusercontent.com/-8eiDzCxazcQ/AAAAAAAAAAI/AAAAAAAAETg/em_yQO7VCzk/s50-c-k-no/photo.jpg",
      "userId": "111311313461951215577"
     },
     "user_tz": -330
    },
    "id": "0jJnAvInXlFb",
    "outputId": "99ccf35c-18bc-429e-d9b4-63ca1dafcbda"
   },
   "outputs": [
    {
     "name": "stderr",
     "output_type": "stream",
     "text": [
      "/usr/local/lib/python3.6/dist-packages/seaborn/categorical.py:1428: FutureWarning: remove_na is deprecated and is a private function. Do not use.\n",
      "  stat_data = remove_na(group_data)\n"
     ]
    },
    {
     "data": {
      "image/png": "[encoded data removed]",
      "text/plain": [
       "<matplotlib.figure.Figure at 0x7f0e97218e80>"
      ]
     },
     "metadata": {
      "tags": []
     },
     "output_type": "display_data"
    }
   ],
   "source": [
    "fig, ax =plt.subplots(1,2, figsize=(20,15))\n",
    "\n",
    "sns.barplot(x='log_prob', y='word', data=pos_prob.head(20), palette='Blues_d', ax=ax[0])\n",
    "ax[0].set_title('Most important feature for Positive reviews')\n",
    "\n",
    "\n",
    "sns.barplot(x='log_prob', y='word', data=neg_prob.head(20), palette='Reds_d', ax=ax[1])\n",
    "ax[1].set_title('Most important feature for Negative reviews');"
   ]
  },
  {
   "cell_type": "markdown",
   "metadata": {
    "colab_type": "text",
    "id": "mqQBeEtcW6E3"
   },
   "source": [
    "# Word2Vec\n",
    "* Word2Vec vectors sometimes contain negative values, whereas Naive Bayes is only compatible with positive values."
   ]
  },
  {
   "cell_type": "code",
   "execution_count": 74,
   "metadata": {
    "colab": {
     "autoexec": {
      "startup": false,
      "wait_interval": 0
     },
     "base_uri": "https://localhost:8080/",
     "height": 307
    },
    "colab_type": "code",
    "executionInfo": {
     "elapsed": 997,
     "status": "ok",
     "timestamp": 1530357342449,
     "user": {
      "displayName": "Vijay Bhati",
      "photoUrl": "//lh6.googleusercontent.com/-8eiDzCxazcQ/AAAAAAAAAAI/AAAAAAAAETg/em_yQO7VCzk/s50-c-k-no/photo.jpg",
      "userId": "111311313461951215577"
     },
     "user_tz": -330
    },
    "id": "b2NB2984XAC0",
    "outputId": "b0316d1f-f0ac-4c82-cc43-ad87637229af"
   },
   "outputs": [
    {
     "data": {
      "image/png": "[encoded data removed]",
      "text/plain": [
       "<matplotlib.figure.Figure at 0x7f0e87a30898>"
      ]
     },
     "metadata": {
      "tags": []
     },
     "output_type": "display_data"
    }
   ],
   "source": [
    "nb_model_accuracy = {\n",
    "    'BoW': 0.900,\n",
    "    'Tf-Idf': 0.890,\n",
    "    'Avg-W2V': np.nan,\n",
    "    'Tf-Idf-W2V': np.nan\n",
    "}\n",
    "\n",
    "pd.Series(nb_model_accuracy).plot(kind='bar')\n",
    "plt.ylabel('Accuracy Score')\n",
    "plt.ylim((0.83, 0.92));"
   ]
  },
  {
   "cell_type": "markdown",
   "metadata": {
    "colab_type": "text",
    "id": "WReXA2_oaBpm"
   },
   "source": [
    "# Conclusion:-\n",
    "* Naive Bayes gives very good accuracy compared to the knn classification."
   ]
  },
  {
   "cell_type": "code",
   "execution_count": 0,
   "metadata": {
    "colab": {
     "autoexec": {
      "startup": false,
      "wait_interval": 0
     }
    },
    "colab_type": "code",
    "id": "9K6wJjTNZ9x0"
   },
   "outputs": [],
   "source": []
  }
 ],
 "metadata": {
  "accelerator": "GPU",
  "colab": {
   "collapsed_sections": [],
   "default_view": {},
   "name": "Naive_Bayes_on_Amazon_reviews_data_set.ipynb",
   "provenance": [],
   "version": "0.3.2",
   "views": {}
  },
  "kernelspec": {
   "display_name": "Python 3",
   "language": "python",
   "name": "python3"
  },
  "language_info": {
   "codemirror_mode": {
    "name": "ipython",
    "version": 3
   },
   "file_extension": ".py",
   "mimetype": "text/x-python",
   "name": "python",
   "nbconvert_exporter": "python",
   "pygments_lexer": "ipython3",
   "version": "3.6.4"
  }
 },
 "nbformat": 4,
 "nbformat_minor": 1
}
