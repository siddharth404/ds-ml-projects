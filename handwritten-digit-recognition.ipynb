{
 "cells": [
  {
   "cell_type": "code",
   "execution_count": 1,
   "id": "105bde66",
   "metadata": {
    "_cell_guid": "b1076dfc-b9ad-4769-8c92-a6c4dae69d19",
    "_uuid": "8f2839f25d086af736a60e9eeb907d3b93b6e0e5",
    "execution": {
     "iopub.execute_input": "2025-02-13T19:49:34.971865Z",
     "iopub.status.busy": "2025-02-13T19:49:34.971558Z",
     "iopub.status.idle": "2025-02-13T19:49:49.150455Z",
     "shell.execute_reply": "2025-02-13T19:49:49.149447Z"
    },
    "papermill": {
     "duration": 14.18452,
     "end_time": "2025-02-13T19:49:49.151835",
     "exception": false,
     "start_time": "2025-02-13T19:49:34.967315",
     "status": "completed"
    },
    "tags": []
   },
   "outputs": [
    {
     "name": "stdout",
     "output_type": "stream",
     "text": [
      "/kaggle/input/mnist-original/mnist-original.mat\n"
     ]
    }
   ],
   "source": [
    "import numpy as np \n",
    "import pandas as pd \n",
    "import seaborn as sns\n",
    "import matplotlib.pyplot as plt\n",
    "import tensorflow as tf\n",
    "from tensorflow import keras\n",
    "%matplotlib inline\n",
    "\n",
    "# Input data files are available in the read-only \"../input/\" directory\n",
    "# For example, running this (by clicking run or pressing Shift+Enter) will list all files under the input directory\n",
    "\n",
    "import os\n",
    "for dirname, _, filenames in os.walk('/kaggle/input'):\n",
    "    for filename in filenames:\n",
    "        print(os.path.join(dirname, filename))"
   ]
  },
  {
   "cell_type": "code",
   "execution_count": 2,
   "id": "d6df26db",
   "metadata": {
    "execution": {
     "iopub.execute_input": "2025-02-13T19:49:49.158136Z",
     "iopub.status.busy": "2025-02-13T19:49:49.157495Z",
     "iopub.status.idle": "2025-02-13T19:49:50.505988Z",
     "shell.execute_reply": "2025-02-13T19:49:50.504740Z"
    },
    "papermill": {
     "duration": 1.353138,
     "end_time": "2025-02-13T19:49:50.507622",
     "exception": false,
     "start_time": "2025-02-13T19:49:49.154484",
     "status": "completed"
    },
    "tags": []
   },
   "outputs": [
    {
     "name": "stdout",
     "output_type": "stream",
     "text": [
      "Downloading data from https://storage.googleapis.com/tensorflow/tf-keras-datasets/mnist.npz\n",
      "\u001b[1m11490434/11490434\u001b[0m \u001b[32m━━━━━━━━━━━━━━━━━━━━\u001b[0m\u001b[37m\u001b[0m \u001b[1m1s\u001b[0m 0us/step\n"
     ]
    }
   ],
   "source": [
    "# Dataset\n",
    "(xtrain,ytrain), (xtest, ytest) = keras.datasets.mnist.load_data()"
   ]
  },
  {
   "cell_type": "code",
   "execution_count": 3,
   "id": "5f496537",
   "metadata": {
    "execution": {
     "iopub.execute_input": "2025-02-13T19:49:50.515922Z",
     "iopub.status.busy": "2025-02-13T19:49:50.515502Z",
     "iopub.status.idle": "2025-02-13T19:49:50.522313Z",
     "shell.execute_reply": "2025-02-13T19:49:50.521127Z"
    },
    "papermill": {
     "duration": 0.012423,
     "end_time": "2025-02-13T19:49:50.523767",
     "exception": false,
     "start_time": "2025-02-13T19:49:50.511344",
     "status": "completed"
    },
    "tags": []
   },
   "outputs": [
    {
     "data": {
      "text/plain": [
       "(60000, 28, 28)"
      ]
     },
     "execution_count": 3,
     "metadata": {},
     "output_type": "execute_result"
    }
   ],
   "source": [
    "xtrain.shape"
   ]
  },
  {
   "cell_type": "code",
   "execution_count": 4,
   "id": "fe1a2214",
   "metadata": {
    "execution": {
     "iopub.execute_input": "2025-02-13T19:49:50.532692Z",
     "iopub.status.busy": "2025-02-13T19:49:50.532347Z",
     "iopub.status.idle": "2025-02-13T19:49:50.537219Z",
     "shell.execute_reply": "2025-02-13T19:49:50.536407Z"
    },
    "papermill": {
     "duration": 0.00992,
     "end_time": "2025-02-13T19:49:50.538474",
     "exception": false,
     "start_time": "2025-02-13T19:49:50.528554",
     "status": "completed"
    },
    "tags": []
   },
   "outputs": [
    {
     "data": {
      "text/plain": [
       "(10000, 28, 28)"
      ]
     },
     "execution_count": 4,
     "metadata": {},
     "output_type": "execute_result"
    }
   ],
   "source": [
    "xtest.shape"
   ]
  },
  {
   "cell_type": "code",
   "execution_count": 5,
   "id": "45e0ec9f",
   "metadata": {
    "execution": {
     "iopub.execute_input": "2025-02-13T19:49:50.546090Z",
     "iopub.status.busy": "2025-02-13T19:49:50.545847Z",
     "iopub.status.idle": "2025-02-13T19:49:50.550252Z",
     "shell.execute_reply": "2025-02-13T19:49:50.549232Z"
    },
    "papermill": {
     "duration": 0.009695,
     "end_time": "2025-02-13T19:49:50.552021",
     "exception": false,
     "start_time": "2025-02-13T19:49:50.542326",
     "status": "completed"
    },
    "tags": []
   },
   "outputs": [
    {
     "data": {
      "text/plain": [
       "(60000,)"
      ]
     },
     "execution_count": 5,
     "metadata": {},
     "output_type": "execute_result"
    }
   ],
   "source": [
    "ytrain.shape"
   ]
  },
  {
   "cell_type": "code",
   "execution_count": 6,
   "id": "b77641a7",
   "metadata": {
    "execution": {
     "iopub.execute_input": "2025-02-13T19:49:50.560505Z",
     "iopub.status.busy": "2025-02-13T19:49:50.560176Z",
     "iopub.status.idle": "2025-02-13T19:49:50.565012Z",
     "shell.execute_reply": "2025-02-13T19:49:50.564177Z"
    },
    "papermill": {
     "duration": 0.010347,
     "end_time": "2025-02-13T19:49:50.566391",
     "exception": false,
     "start_time": "2025-02-13T19:49:50.556044",
     "status": "completed"
    },
    "tags": []
   },
   "outputs": [
    {
     "data": {
      "text/plain": [
       "(10000,)"
      ]
     },
     "execution_count": 6,
     "metadata": {},
     "output_type": "execute_result"
    }
   ],
   "source": [
    "ytest.shape"
   ]
  },
  {
   "cell_type": "code",
   "execution_count": 7,
   "id": "98e54742",
   "metadata": {
    "execution": {
     "iopub.execute_input": "2025-02-13T19:49:50.574437Z",
     "iopub.status.busy": "2025-02-13T19:49:50.574164Z",
     "iopub.status.idle": "2025-02-13T19:49:50.770838Z",
     "shell.execute_reply": "2025-02-13T19:49:50.769576Z"
    },
    "papermill": {
     "duration": 0.202365,
     "end_time": "2025-02-13T19:49:50.772548",
     "exception": false,
     "start_time": "2025-02-13T19:49:50.570183",
     "status": "completed"
    },
    "tags": []
   },
   "outputs": [],
   "source": [
    "# Normalize pixel values\n",
    "xtrain = xtrain / 255.0\n",
    "xtest = xtest / 255.0"
   ]
  },
  {
   "cell_type": "code",
   "execution_count": 8,
   "id": "537dcefb",
   "metadata": {
    "execution": {
     "iopub.execute_input": "2025-02-13T19:49:50.781196Z",
     "iopub.status.busy": "2025-02-13T19:49:50.780818Z",
     "iopub.status.idle": "2025-02-13T19:49:50.784424Z",
     "shell.execute_reply": "2025-02-13T19:49:50.783733Z"
    },
    "papermill": {
     "duration": 0.008962,
     "end_time": "2025-02-13T19:49:50.785586",
     "exception": false,
     "start_time": "2025-02-13T19:49:50.776624",
     "status": "completed"
    },
    "tags": []
   },
   "outputs": [],
   "source": [
    "# Reshape\n",
    "xtrain = xtrain.reshape(len(xtrain), 28*28)\n",
    "xtest = xtest.reshape(len(xtest), 28*28)"
   ]
  },
  {
   "cell_type": "code",
   "execution_count": 9,
   "id": "3f9ad752",
   "metadata": {
    "execution": {
     "iopub.execute_input": "2025-02-13T19:49:50.793509Z",
     "iopub.status.busy": "2025-02-13T19:49:50.793268Z",
     "iopub.status.idle": "2025-02-13T19:49:50.796996Z",
     "shell.execute_reply": "2025-02-13T19:49:50.796307Z"
    },
    "papermill": {
     "duration": 0.008592,
     "end_time": "2025-02-13T19:49:50.798039",
     "exception": false,
     "start_time": "2025-02-13T19:49:50.789447",
     "status": "completed"
    },
    "tags": []
   },
   "outputs": [
    {
     "name": "stdout",
     "output_type": "stream",
     "text": [
      "(60000, 784)\n",
      "(10000, 784)\n"
     ]
    }
   ],
   "source": [
    "print(xtrain.shape)\n",
    "print(xtest.shape)"
   ]
  },
  {
   "cell_type": "code",
   "execution_count": 10,
   "id": "8417f93a",
   "metadata": {
    "execution": {
     "iopub.execute_input": "2025-02-13T19:49:50.805899Z",
     "iopub.status.busy": "2025-02-13T19:49:50.805540Z",
     "iopub.status.idle": "2025-02-13T19:49:50.810851Z",
     "shell.execute_reply": "2025-02-13T19:49:50.810046Z"
    },
    "papermill": {
     "duration": 0.0105,
     "end_time": "2025-02-13T19:49:50.811980",
     "exception": false,
     "start_time": "2025-02-13T19:49:50.801480",
     "status": "completed"
    },
    "tags": []
   },
   "outputs": [
    {
     "data": {
      "text/plain": [
       "array([[0., 0., 0., ..., 0., 0., 0.],\n",
       "       [0., 0., 0., ..., 0., 0., 0.],\n",
       "       [0., 0., 0., ..., 0., 0., 0.],\n",
       "       ...,\n",
       "       [0., 0., 0., ..., 0., 0., 0.],\n",
       "       [0., 0., 0., ..., 0., 0., 0.],\n",
       "       [0., 0., 0., ..., 0., 0., 0.]])"
      ]
     },
     "execution_count": 10,
     "metadata": {},
     "output_type": "execute_result"
    }
   ],
   "source": [
    "xtrain"
   ]
  },
  {
   "cell_type": "code",
   "execution_count": 11,
   "id": "4a035185",
   "metadata": {
    "execution": {
     "iopub.execute_input": "2025-02-13T19:49:50.819394Z",
     "iopub.status.busy": "2025-02-13T19:49:50.819129Z",
     "iopub.status.idle": "2025-02-13T19:50:03.071109Z",
     "shell.execute_reply": "2025-02-13T19:50:03.070247Z"
    },
    "papermill": {
     "duration": 12.257046,
     "end_time": "2025-02-13T19:50:03.072406",
     "exception": false,
     "start_time": "2025-02-13T19:49:50.815360",
     "status": "completed"
    },
    "tags": []
   },
   "outputs": [
    {
     "name": "stderr",
     "output_type": "stream",
     "text": [
      "/usr/local/lib/python3.10/dist-packages/keras/src/layers/core/dense.py:87: UserWarning: Do not pass an `input_shape`/`input_dim` argument to a layer. When using Sequential models, prefer using an `Input(shape)` object as the first layer in the model instead.\n",
      "  super().__init__(activity_regularizer=activity_regularizer, **kwargs)\n"
     ]
    },
    {
     "name": "stdout",
     "output_type": "stream",
     "text": [
      "Epoch 1/5\n",
      "\u001b[1m1875/1875\u001b[0m \u001b[32m━━━━━━━━━━━━━━━━━━━━\u001b[0m\u001b[37m\u001b[0m \u001b[1m3s\u001b[0m 1ms/step - accuracy: 0.8120 - loss: 0.7158\n",
      "Epoch 2/5\n",
      "\u001b[1m1875/1875\u001b[0m \u001b[32m━━━━━━━━━━━━━━━━━━━━\u001b[0m\u001b[37m\u001b[0m \u001b[1m2s\u001b[0m 1ms/step - accuracy: 0.9145 - loss: 0.3116\n",
      "Epoch 3/5\n",
      "\u001b[1m1875/1875\u001b[0m \u001b[32m━━━━━━━━━━━━━━━━━━━━\u001b[0m\u001b[37m\u001b[0m \u001b[1m2s\u001b[0m 1ms/step - accuracy: 0.9191 - loss: 0.2833\n",
      "Epoch 4/5\n",
      "\u001b[1m1875/1875\u001b[0m \u001b[32m━━━━━━━━━━━━━━━━━━━━\u001b[0m\u001b[37m\u001b[0m \u001b[1m2s\u001b[0m 1ms/step - accuracy: 0.9237 - loss: 0.2729\n",
      "Epoch 5/5\n",
      "\u001b[1m1875/1875\u001b[0m \u001b[32m━━━━━━━━━━━━━━━━━━━━\u001b[0m\u001b[37m\u001b[0m \u001b[1m2s\u001b[0m 1ms/step - accuracy: 0.9260 - loss: 0.2619\n"
     ]
    },
    {
     "data": {
      "text/plain": [
       "<keras.src.callbacks.history.History at 0x7ad4bee0ce20>"
      ]
     },
     "execution_count": 11,
     "metadata": {},
     "output_type": "execute_result"
    }
   ],
   "source": [
    "model = keras.Sequential([\n",
    "    keras.layers.Dense(10, input_shape=(28*28,), activation=\"sigmoid\")\n",
    "])\n",
    "model.compile(optimizer=\"adam\",\n",
    "             loss=\"sparse_categorical_crossentropy\",\n",
    "             metrics=[\"accuracy\"])\n",
    "model.fit(xtrain, ytrain, epochs=5)"
   ]
  },
  {
   "cell_type": "code",
   "execution_count": 12,
   "id": "45c7ae75",
   "metadata": {
    "execution": {
     "iopub.execute_input": "2025-02-13T19:50:03.099751Z",
     "iopub.status.busy": "2025-02-13T19:50:03.099427Z",
     "iopub.status.idle": "2025-02-13T19:50:03.542761Z",
     "shell.execute_reply": "2025-02-13T19:50:03.541204Z"
    },
    "papermill": {
     "duration": 0.45814,
     "end_time": "2025-02-13T19:50:03.544447",
     "exception": false,
     "start_time": "2025-02-13T19:50:03.086307",
     "status": "completed"
    },
    "tags": []
   },
   "outputs": [
    {
     "name": "stdout",
     "output_type": "stream",
     "text": [
      "\u001b[1m313/313\u001b[0m \u001b[32m━━━━━━━━━━━━━━━━━━━━\u001b[0m\u001b[37m\u001b[0m \u001b[1m0s\u001b[0m 905us/step - accuracy: 0.9145 - loss: 0.3052\n"
     ]
    },
    {
     "data": {
      "text/plain": [
       "[0.2690708041191101, 0.9253000020980835]"
      ]
     },
     "execution_count": 12,
     "metadata": {},
     "output_type": "execute_result"
    }
   ],
   "source": [
    "model.evaluate(xtest, ytest)"
   ]
  },
  {
   "cell_type": "code",
   "execution_count": null,
   "id": "b972652e",
   "metadata": {
    "papermill": {
     "duration": 0.012585,
     "end_time": "2025-02-13T19:50:03.570848",
     "exception": false,
     "start_time": "2025-02-13T19:50:03.558263",
     "status": "completed"
    },
    "tags": []
   },
   "outputs": [],
   "source": []
  }
 ],
 "metadata": {
  "kaggle": {
   "accelerator": "none",
   "dataSources": [
    {
     "datasetId": 42853,
     "sourceId": 76002,
     "sourceType": "datasetVersion"
    }
   ],
   "dockerImageVersionId": 30886,
   "isGpuEnabled": false,
   "isInternetEnabled": true,
   "language": "python",
   "sourceType": "notebook"
  },
  "kernelspec": {
   "display_name": "Python 3",
   "language": "python",
   "name": "python3"
  },
  "language_info": {
   "codemirror_mode": {
    "name": "ipython",
    "version": 3
   },
   "file_extension": ".py",
   "mimetype": "text/x-python",
   "name": "python",
   "nbconvert_exporter": "python",
   "pygments_lexer": "ipython3",
   "version": "3.10.12"
  },
  "papermill": {
   "default_parameters": {},
   "duration": 32.376099,
   "end_time": "2025-02-13T19:50:05.207609",
   "environment_variables": {},
   "exception": null,
   "input_path": "__notebook__.ipynb",
   "output_path": "__notebook__.ipynb",
   "parameters": {},
   "start_time": "2025-02-13T19:49:32.831510",
   "version": "2.6.0"
  }
 },
 "nbformat": 4,
 "nbformat_minor": 5
}
