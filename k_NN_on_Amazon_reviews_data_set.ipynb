{
 "cells": [
  {
   "cell_type": "markdown",
   "metadata": {
    "colab_type": "text",
    "id": "RvGzHSqEOtZT"
   },
   "source": [
    "# Amazon Fine Food Reviews Analysis\n",
    "Data Source: https://www.kaggle.com/snap/amazon-fine-food-reviews\n",
    "The Amazon Fine Food Reviews dataset consists of reviews of fine foods from Amazon.<br>\n",
    "\n",
    "Number of reviews: 568,454<br>\n",
    "Number of users: 256,059<br>\n",
    "Number of products: 74,258<br>\n",
    "Timespan: Oct 1999 - Oct 2012<br>\n",
    "Number of Attributes/Columns in data: 10 \n",
    "\n",
    "Attribute Information:\n",
    "\n",
    "1. Id\n",
    "2. ProductId - unique identifier for the product\n",
    "3. UserId - unqiue identifier for the user\n",
    "4. ProfileName\n",
    "5. HelpfulnessNumerator - number of users who found the review helpful\n",
    "6. HelpfulnessDenominator - number of users who indicated whether they found the review helpful or not\n",
    "7. Score - rating between 1 and 5\n",
    "8. Time - timestamp for the review\n",
    "9. Summary - brief summary of the review\n",
    "10. Text - text of the review\n",
    "\n",
    "\n",
    "#### Objective:\n",
    "Given a review, determine whether the review is positive (Rating of 4 or 5) or negative (rating of 1 or 2).\n"
   ]
  },
  {
   "cell_type": "code",
   "execution_count": 92,
   "metadata": {
    "colab": {
     "autoexec": {
      "startup": false,
      "wait_interval": 0
     },
     "base_uri": "https://localhost:8080/",
     "height": 534
    },
    "colab_type": "code",
    "executionInfo": {
     "elapsed": 5617,
     "status": "ok",
     "timestamp": 1530331477467,
     "user": {
      "displayName": "Vijay Bhati",
      "photoUrl": "//lh6.googleusercontent.com/-8eiDzCxazcQ/AAAAAAAAAAI/AAAAAAAAETg/em_yQO7VCzk/s50-c-k-no/photo.jpg",
      "userId": "111311313461951215577"
     },
     "user_tz": -330
    },
    "id": "GcZ-92WvOqVW",
    "outputId": "7e106c5d-ee09-4588-e31e-2fff03e6a249"
   },
   "outputs": [
    {
     "name": "stdout",
     "output_type": "stream",
     "text": [
      "Requirement already satisfied: pydrive in /usr/local/lib/python3.6/dist-packages (1.3.1)\r\n",
      "Requirement already satisfied: oauth2client>=4.0.0 in /usr/local/lib/python3.6/dist-packages (from pydrive) (4.1.2)\r\n",
      "Requirement already satisfied: PyYAML>=3.0 in /usr/local/lib/python3.6/dist-packages (from pydrive) (3.12)\r\n",
      "Requirement already satisfied: google-api-python-client>=1.2 in /usr/local/lib/python3.6/dist-packages (from pydrive) (1.6.7)\n",
      "Requirement already satisfied: six>=1.6.1 in /usr/local/lib/python3.6/dist-packages (from oauth2client>=4.0.0->pydrive) (1.11.0)\n",
      "Requirement already satisfied: pyasn1>=0.1.7 in /usr/local/lib/python3.6/dist-packages (from oauth2client>=4.0.0->pydrive) (0.4.3)\n",
      "Requirement already satisfied: rsa>=3.1.4 in /usr/local/lib/python3.6/dist-packages (from oauth2client>=4.0.0->pydrive) (3.4.2)\n",
      "Requirement already satisfied: pyasn1-modules>=0.0.5 in /usr/local/lib/python3.6/dist-packages (from oauth2client>=4.0.0->pydrive) (0.2.2)\n",
      "Requirement already satisfied: httplib2>=0.9.1 in /usr/local/lib/python3.6/dist-packages (from oauth2client>=4.0.0->pydrive) (0.11.3)\n",
      "Requirement already satisfied: uritemplate<4dev,>=3.0.0 in /usr/local/lib/python3.6/dist-packages (from google-api-python-client>=1.2->pydrive) (3.0.0)\n",
      "Requirement already satisfied: gensim in /usr/local/lib/python3.6/dist-packages (3.4.0)\n",
      "Requirement already satisfied: scipy>=0.18.1 in /usr/local/lib/python3.6/dist-packages (from gensim) (0.19.1)\n",
      "Requirement already satisfied: numpy>=1.11.3 in /usr/local/lib/python3.6/dist-packages (from gensim) (1.14.5)\n",
      "Requirement already satisfied: smart-open>=1.2.1 in /usr/local/lib/python3.6/dist-packages (from gensim) (1.6.0)\n",
      "Requirement already satisfied: six>=1.5.0 in /usr/local/lib/python3.6/dist-packages (from gensim) (1.11.0)\n",
      "Requirement already satisfied: requests in /usr/local/lib/python3.6/dist-packages (from smart-open>=1.2.1->gensim) (2.18.4)\n",
      "Requirement already satisfied: boto>=2.32 in /usr/local/lib/python3.6/dist-packages (from smart-open>=1.2.1->gensim) (2.48.0)\n",
      "Requirement already satisfied: bz2file in /usr/local/lib/python3.6/dist-packages (from smart-open>=1.2.1->gensim) (0.98)\n",
      "Requirement already satisfied: boto3 in /usr/local/lib/python3.6/dist-packages (from smart-open>=1.2.1->gensim) (1.7.48)\n",
      "Requirement already satisfied: idna<2.7,>=2.5 in /usr/local/lib/python3.6/dist-packages (from requests->smart-open>=1.2.1->gensim) (2.6)\n",
      "Requirement already satisfied: chardet<3.1.0,>=3.0.2 in /usr/local/lib/python3.6/dist-packages (from requests->smart-open>=1.2.1->gensim) (3.0.4)\n",
      "Requirement already satisfied: urllib3<1.23,>=1.21.1 in /usr/local/lib/python3.6/dist-packages (from requests->smart-open>=1.2.1->gensim) (1.22)\n",
      "Requirement already satisfied: certifi>=2017.4.17 in /usr/local/lib/python3.6/dist-packages (from requests->smart-open>=1.2.1->gensim) (2018.4.16)\n",
      "Requirement already satisfied: botocore<1.11.0,>=1.10.48 in /usr/local/lib/python3.6/dist-packages (from boto3->smart-open>=1.2.1->gensim) (1.10.48)\n",
      "Requirement already satisfied: jmespath<1.0.0,>=0.7.1 in /usr/local/lib/python3.6/dist-packages (from boto3->smart-open>=1.2.1->gensim) (0.9.3)\n",
      "Requirement already satisfied: s3transfer<0.2.0,>=0.1.10 in /usr/local/lib/python3.6/dist-packages (from boto3->smart-open>=1.2.1->gensim) (0.1.13)\n",
      "Requirement already satisfied: docutils>=0.10 in /usr/local/lib/python3.6/dist-packages (from botocore<1.11.0,>=1.10.48->boto3->smart-open>=1.2.1->gensim) (0.14)\n",
      "Requirement already satisfied: python-dateutil<3.0.0,>=2.1; python_version >= \"2.7\" in /usr/local/lib/python3.6/dist-packages (from botocore<1.11.0,>=1.10.48->boto3->smart-open>=1.2.1->gensim) (2.5.3)\n"
     ]
    }
   ],
   "source": [
    "!pip install pydrive\n",
    "!pip install gensim\n",
    "from pydrive.auth import GoogleAuth\n",
    "from pydrive.drive import GoogleDrive\n",
    "from google.colab import auth\n",
    "from oauth2client.client import GoogleCredentials\n",
    " \n",
    "# 1. Authenticate and create the PyDrive client.\n",
    "auth.authenticate_user()\n",
    "gauth = GoogleAuth()\n",
    "gauth.credentials = GoogleCredentials.get_application_default()\n",
    "drive = GoogleDrive(gauth)"
   ]
  },
  {
   "cell_type": "code",
   "execution_count": 0,
   "metadata": {
    "colab": {
     "autoexec": {
      "startup": false,
      "wait_interval": 0
     }
    },
    "colab_type": "code",
    "id": "vMmgIpP522W2"
   },
   "outputs": [],
   "source": [
    "downloaded = drive.CreateFile({'id':'1cZS7OUXVft4KTZ1AzZPu95hSgWzu3aC8'}) # replace the id with id of file you want to access\n",
    "downloaded.GetContentFile('final.sqlite')"
   ]
  },
  {
   "cell_type": "code",
   "execution_count": 0,
   "metadata": {
    "colab": {
     "autoexec": {
      "startup": false,
      "wait_interval": 0
     }
    },
    "colab_type": "code",
    "id": "GMWwAD2E2qpx"
   },
   "outputs": [],
   "source": [
    "# loading libraries and data\n",
    "\n",
    "%matplotlib inline\n",
    "\n",
    "import sqlite3                          # for sql database\n",
    "import pandas as pd\n",
    "import numpy as np\n",
    "import nltk                             # nltk:- Natural Language Processing Toolkit\n",
    "import string\n",
    "import re\n",
    "import io\n",
    "import matplotlib.pyplot as plt\n",
    "import seaborn as sns\n",
    "from sklearn.feature_extraction.text import TfidfTransformer\n",
    "from sklearn.feature_extraction.text import TfidfVectorizer\n",
    "from sklearn.feature_extraction.text import CountVectorizer\n",
    "from sklearn.metrics import confusion_matrix\n",
    "from sklearn import metrics\n",
    "from sklearn.metrics import roc_curve, auc\n",
    "from nltk.stem.porter import PorterStemmer\n",
    "\n",
    "import pickle\n",
    "def saveindisk(obj,filename):\n",
    "    pickle.dump(obj,open(filename+\".p\",\"wb\"), protocol=4)\n",
    "def openfromdisk(filename):\n",
    "    temp = pickle.load(open(filename+\".p\",\"rb\"))\n",
    "    return temp\n",
    "\n",
    "con = sqlite3.connect(\"final.sqlite\")\n",
    "\n",
    "# Filtering only positive and negative reviews that is\n",
    "# not taking into consideration those reviews with score = 3\n",
    "df = pd.read_sql_query(\"\"\"\n",
    "SELECT *\n",
    "FROM Reviews\n",
    "\"\"\", con)"
   ]
  },
  {
   "cell_type": "code",
   "execution_count": 95,
   "metadata": {
    "colab": {
     "autoexec": {
      "startup": false,
      "wait_interval": 0
     },
     "base_uri": "https://localhost:8080/",
     "height": 547
    },
    "colab_type": "code",
    "executionInfo": {
     "elapsed": 1353,
     "status": "ok",
     "timestamp": 1530331490922,
     "user": {
      "displayName": "Vijay Bhati",
      "photoUrl": "//lh6.googleusercontent.com/-8eiDzCxazcQ/AAAAAAAAAAI/AAAAAAAAETg/em_yQO7VCzk/s50-c-k-no/photo.jpg",
      "userId": "111311313461951215577"
     },
     "user_tz": -330
    },
    "id": "7Ye0R_HF2app",
    "outputId": "51c9f00b-3d97-4663-bb5c-170636de37c3"
   },
   "outputs": [
    {
     "data": {
      "text/html": [
       "<div>\n",
       "<style scoped>\n",
       "    .dataframe tbody tr th:only-of-type {\n",
       "        vertical-align: middle;\n",
       "    }\n",
       "\n",
       "    .dataframe tbody tr th {\n",
       "        vertical-align: top;\n",
       "    }\n",
       "\n",
       "    .dataframe thead th {\n",
       "        text-align: right;\n",
       "    }\n",
       "</style>\n",
       "<table border=\"1\" class=\"dataframe\">\n",
       "  <thead>\n",
       "    <tr style=\"text-align: right;\">\n",
       "      <th></th>\n",
       "      <th>index</th>\n",
       "      <th>Id</th>\n",
       "      <th>ProductId</th>\n",
       "      <th>UserId</th>\n",
       "      <th>ProfileName</th>\n",
       "      <th>HelpfulnessNumerator</th>\n",
       "      <th>HelpfulnessDenominator</th>\n",
       "      <th>Score</th>\n",
       "      <th>Time</th>\n",
       "      <th>Summary</th>\n",
       "      <th>Text</th>\n",
       "      <th>CleanedText</th>\n",
       "      <th>CleanedText_NoStem</th>\n",
       "    </tr>\n",
       "  </thead>\n",
       "  <tbody>\n",
       "    <tr>\n",
       "      <th>0</th>\n",
       "      <td>0</td>\n",
       "      <td>1</td>\n",
       "      <td>B001E4KFG0</td>\n",
       "      <td>A3SGXH7AUHU8GW</td>\n",
       "      <td>delmartian</td>\n",
       "      <td>1</td>\n",
       "      <td>1</td>\n",
       "      <td>Positive</td>\n",
       "      <td>1303862400</td>\n",
       "      <td>Good Quality Dog Food</td>\n",
       "      <td>I have bought several of the Vitality canned d...</td>\n",
       "      <td>b'bought sever vital can dog food product foun...</td>\n",
       "      <td>b'bought several vitality canned dog food prod...</td>\n",
       "    </tr>\n",
       "    <tr>\n",
       "      <th>1</th>\n",
       "      <td>1</td>\n",
       "      <td>2</td>\n",
       "      <td>B00813GRG4</td>\n",
       "      <td>A1D87F6ZCVE5NK</td>\n",
       "      <td>dll pa</td>\n",
       "      <td>0</td>\n",
       "      <td>0</td>\n",
       "      <td>Negative</td>\n",
       "      <td>1346976000</td>\n",
       "      <td>Not as Advertised</td>\n",
       "      <td>Product arrived labeled as Jumbo Salted Peanut...</td>\n",
       "      <td>b'product arriv label jumbo salt peanut peanut...</td>\n",
       "      <td>b'product arrived labeled jumbo salted peanuts...</td>\n",
       "    </tr>\n",
       "    <tr>\n",
       "      <th>2</th>\n",
       "      <td>2</td>\n",
       "      <td>3</td>\n",
       "      <td>B000LQOCH0</td>\n",
       "      <td>ABXLMWJIXXAIN</td>\n",
       "      <td>Natalia Corres \"Natalia Corres\"</td>\n",
       "      <td>1</td>\n",
       "      <td>1</td>\n",
       "      <td>Positive</td>\n",
       "      <td>1219017600</td>\n",
       "      <td>\"Delight\" says it all</td>\n",
       "      <td>This is a confection that has been around a fe...</td>\n",
       "      <td>b'confect around centuri light pillowi citrus ...</td>\n",
       "      <td>b'confection around centuries light pillowy ci...</td>\n",
       "    </tr>\n",
       "    <tr>\n",
       "      <th>3</th>\n",
       "      <td>3</td>\n",
       "      <td>4</td>\n",
       "      <td>B000UA0QIQ</td>\n",
       "      <td>A395BORC6FGVXV</td>\n",
       "      <td>Karl</td>\n",
       "      <td>3</td>\n",
       "      <td>3</td>\n",
       "      <td>Negative</td>\n",
       "      <td>1307923200</td>\n",
       "      <td>Cough Medicine</td>\n",
       "      <td>If you are looking for the secret ingredient i...</td>\n",
       "      <td>b'look secret ingredi robitussin believ found ...</td>\n",
       "      <td>b'looking secret ingredient robitussin believe...</td>\n",
       "    </tr>\n",
       "    <tr>\n",
       "      <th>4</th>\n",
       "      <td>4</td>\n",
       "      <td>5</td>\n",
       "      <td>B006K2ZZ7K</td>\n",
       "      <td>A1UQRSCLF8GW1T</td>\n",
       "      <td>Michael D. Bigham \"M. Wassir\"</td>\n",
       "      <td>0</td>\n",
       "      <td>0</td>\n",
       "      <td>Positive</td>\n",
       "      <td>1350777600</td>\n",
       "      <td>Great taffy</td>\n",
       "      <td>Great taffy at a great price.  There was a wid...</td>\n",
       "      <td>b'great taffi great price wide assort yummi ta...</td>\n",
       "      <td>b'great taffy great price wide assortment yumm...</td>\n",
       "    </tr>\n",
       "  </tbody>\n",
       "</table>\n",
       "</div>"
      ],
      "text/plain": [
       "   index  Id   ProductId          UserId                      ProfileName  \\\n",
       "0      0   1  B001E4KFG0  A3SGXH7AUHU8GW                       delmartian   \n",
       "1      1   2  B00813GRG4  A1D87F6ZCVE5NK                           dll pa   \n",
       "2      2   3  B000LQOCH0   ABXLMWJIXXAIN  Natalia Corres \"Natalia Corres\"   \n",
       "3      3   4  B000UA0QIQ  A395BORC6FGVXV                             Karl   \n",
       "4      4   5  B006K2ZZ7K  A1UQRSCLF8GW1T    Michael D. Bigham \"M. Wassir\"   \n",
       "\n",
       "   HelpfulnessNumerator  HelpfulnessDenominator     Score        Time  \\\n",
       "0                     1                       1  Positive  1303862400   \n",
       "1                     0                       0  Negative  1346976000   \n",
       "2                     1                       1  Positive  1219017600   \n",
       "3                     3                       3  Negative  1307923200   \n",
       "4                     0                       0  Positive  1350777600   \n",
       "\n",
       "                 Summary                                               Text  \\\n",
       "0  Good Quality Dog Food  I have bought several of the Vitality canned d...   \n",
       "1      Not as Advertised  Product arrived labeled as Jumbo Salted Peanut...   \n",
       "2  \"Delight\" says it all  This is a confection that has been around a fe...   \n",
       "3         Cough Medicine  If you are looking for the secret ingredient i...   \n",
       "4            Great taffy  Great taffy at a great price.  There was a wid...   \n",
       "\n",
       "                                         CleanedText  \\\n",
       "0  b'bought sever vital can dog food product foun...   \n",
       "1  b'product arriv label jumbo salt peanut peanut...   \n",
       "2  b'confect around centuri light pillowi citrus ...   \n",
       "3  b'look secret ingredi robitussin believ found ...   \n",
       "4  b'great taffi great price wide assort yummi ta...   \n",
       "\n",
       "                                  CleanedText_NoStem  \n",
       "0  b'bought several vitality canned dog food prod...  \n",
       "1  b'product arrived labeled jumbo salted peanuts...  \n",
       "2  b'confection around centuries light pillowy ci...  \n",
       "3  b'looking secret ingredient robitussin believe...  \n",
       "4  b'great taffy great price wide assortment yumm...  "
      ]
     },
     "execution_count": 95,
     "metadata": {
      "tags": []
     },
     "output_type": "execute_result"
    }
   ],
   "source": [
    "df.head()"
   ]
  },
  {
   "cell_type": "code",
   "execution_count": 96,
   "metadata": {
    "colab": {
     "autoexec": {
      "startup": false,
      "wait_interval": 0
     },
     "base_uri": "https://localhost:8080/",
     "height": 287
    },
    "colab_type": "code",
    "executionInfo": {
     "elapsed": 1145,
     "status": "ok",
     "timestamp": 1530331492450,
     "user": {
      "displayName": "Vijay Bhati",
      "photoUrl": "//lh6.googleusercontent.com/-8eiDzCxazcQ/AAAAAAAAAAI/AAAAAAAAETg/em_yQO7VCzk/s50-c-k-no/photo.jpg",
      "userId": "111311313461951215577"
     },
     "user_tz": -330
    },
    "id": "u_AoiH1C2eWX",
    "outputId": "3312118f-c1b7-472e-8566-14df788b803b"
   },
   "outputs": [
    {
     "data": {
      "text/html": [
       "<div>\n",
       "<style scoped>\n",
       "    .dataframe tbody tr th:only-of-type {\n",
       "        vertical-align: middle;\n",
       "    }\n",
       "\n",
       "    .dataframe tbody tr th {\n",
       "        vertical-align: top;\n",
       "    }\n",
       "\n",
       "    .dataframe thead th {\n",
       "        text-align: right;\n",
       "    }\n",
       "</style>\n",
       "<table border=\"1\" class=\"dataframe\">\n",
       "  <thead>\n",
       "    <tr style=\"text-align: right;\">\n",
       "      <th></th>\n",
       "      <th>index</th>\n",
       "      <th>Id</th>\n",
       "      <th>HelpfulnessNumerator</th>\n",
       "      <th>HelpfulnessDenominator</th>\n",
       "      <th>Time</th>\n",
       "    </tr>\n",
       "  </thead>\n",
       "  <tbody>\n",
       "    <tr>\n",
       "      <th>count</th>\n",
       "      <td>364171.000000</td>\n",
       "      <td>364171.000000</td>\n",
       "      <td>364171.000000</td>\n",
       "      <td>364171.000000</td>\n",
       "      <td>3.641710e+05</td>\n",
       "    </tr>\n",
       "    <tr>\n",
       "      <th>mean</th>\n",
       "      <td>241825.377603</td>\n",
       "      <td>261814.561014</td>\n",
       "      <td>1.739021</td>\n",
       "      <td>2.186841</td>\n",
       "      <td>1.296135e+09</td>\n",
       "    </tr>\n",
       "    <tr>\n",
       "      <th>std</th>\n",
       "      <td>154519.869452</td>\n",
       "      <td>166958.768333</td>\n",
       "      <td>6.723921</td>\n",
       "      <td>7.348482</td>\n",
       "      <td>4.864772e+07</td>\n",
       "    </tr>\n",
       "    <tr>\n",
       "      <th>min</th>\n",
       "      <td>0.000000</td>\n",
       "      <td>1.000000</td>\n",
       "      <td>0.000000</td>\n",
       "      <td>0.000000</td>\n",
       "      <td>9.393408e+08</td>\n",
       "    </tr>\n",
       "    <tr>\n",
       "      <th>25%</th>\n",
       "      <td>104427.500000</td>\n",
       "      <td>113379.500000</td>\n",
       "      <td>0.000000</td>\n",
       "      <td>0.000000</td>\n",
       "      <td>1.270858e+09</td>\n",
       "    </tr>\n",
       "    <tr>\n",
       "      <th>50%</th>\n",
       "      <td>230033.000000</td>\n",
       "      <td>249445.000000</td>\n",
       "      <td>0.000000</td>\n",
       "      <td>1.000000</td>\n",
       "      <td>1.311379e+09</td>\n",
       "    </tr>\n",
       "    <tr>\n",
       "      <th>75%</th>\n",
       "      <td>376763.500000</td>\n",
       "      <td>407408.500000</td>\n",
       "      <td>2.000000</td>\n",
       "      <td>2.000000</td>\n",
       "      <td>1.332893e+09</td>\n",
       "    </tr>\n",
       "    <tr>\n",
       "      <th>max</th>\n",
       "      <td>525813.000000</td>\n",
       "      <td>568454.000000</td>\n",
       "      <td>866.000000</td>\n",
       "      <td>878.000000</td>\n",
       "      <td>1.351210e+09</td>\n",
       "    </tr>\n",
       "  </tbody>\n",
       "</table>\n",
       "</div>"
      ],
      "text/plain": [
       "               index             Id  HelpfulnessNumerator  \\\n",
       "count  364171.000000  364171.000000         364171.000000   \n",
       "mean   241825.377603  261814.561014              1.739021   \n",
       "std    154519.869452  166958.768333              6.723921   \n",
       "min         0.000000       1.000000              0.000000   \n",
       "25%    104427.500000  113379.500000              0.000000   \n",
       "50%    230033.000000  249445.000000              0.000000   \n",
       "75%    376763.500000  407408.500000              2.000000   \n",
       "max    525813.000000  568454.000000            866.000000   \n",
       "\n",
       "       HelpfulnessDenominator          Time  \n",
       "count           364171.000000  3.641710e+05  \n",
       "mean                 2.186841  1.296135e+09  \n",
       "std                  7.348482  4.864772e+07  \n",
       "min                  0.000000  9.393408e+08  \n",
       "25%                  0.000000  1.270858e+09  \n",
       "50%                  1.000000  1.311379e+09  \n",
       "75%                  2.000000  1.332893e+09  \n",
       "max                878.000000  1.351210e+09  "
      ]
     },
     "execution_count": 96,
     "metadata": {
      "tags": []
     },
     "output_type": "execute_result"
    }
   ],
   "source": [
    "df.describe()"
   ]
  },
  {
   "cell_type": "code",
   "execution_count": 97,
   "metadata": {
    "colab": {
     "autoexec": {
      "startup": false,
      "wait_interval": 0
     },
     "base_uri": "https://localhost:8080/",
     "height": 34
    },
    "colab_type": "code",
    "executionInfo": {
     "elapsed": 3674,
     "status": "ok",
     "timestamp": 1530331496453,
     "user": {
      "displayName": "Vijay Bhati",
      "photoUrl": "//lh6.googleusercontent.com/-8eiDzCxazcQ/AAAAAAAAAAI/AAAAAAAAETg/em_yQO7VCzk/s50-c-k-no/photo.jpg",
      "userId": "111311313461951215577"
     },
     "user_tz": -330
    },
    "id": "OZBxzR032xwr",
    "outputId": "6a45772d-7310-4d79-9cbb-f506587b5d68"
   },
   "outputs": [
    {
     "data": {
      "text/plain": [
       "(364171, 13)"
      ]
     },
     "execution_count": 97,
     "metadata": {
      "tags": []
     },
     "output_type": "execute_result"
    }
   ],
   "source": [
    "df.shape"
   ]
  },
  {
   "cell_type": "code",
   "execution_count": 98,
   "metadata": {
    "colab": {
     "autoexec": {
      "startup": false,
      "wait_interval": 0
     },
     "base_uri": "https://localhost:8080/",
     "height": 34
    },
    "colab_type": "code",
    "executionInfo": {
     "elapsed": 4782,
     "status": "ok",
     "timestamp": 1530331501453,
     "user": {
      "displayName": "Vijay Bhati",
      "photoUrl": "//lh6.googleusercontent.com/-8eiDzCxazcQ/AAAAAAAAAAI/AAAAAAAAETg/em_yQO7VCzk/s50-c-k-no/photo.jpg",
      "userId": "111311313461951215577"
     },
     "user_tz": -330
    },
    "id": "JwME6Fc521pZ",
    "outputId": "629c8326-e67b-41ed-fa05-66444a8a3ccf"
   },
   "outputs": [
    {
     "data": {
      "text/plain": [
       "364171"
      ]
     },
     "execution_count": 98,
     "metadata": {
      "tags": []
     },
     "output_type": "execute_result"
    }
   ],
   "source": [
    "df['Score'].size"
   ]
  },
  {
   "cell_type": "code",
   "execution_count": 99,
   "metadata": {
    "colab": {
     "autoexec": {
      "startup": false,
      "wait_interval": 0
     },
     "base_uri": "https://localhost:8080/",
     "height": 584
    },
    "colab_type": "code",
    "executionInfo": {
     "elapsed": 1118,
     "status": "ok",
     "timestamp": 1530331503103,
     "user": {
      "displayName": "Vijay Bhati",
      "photoUrl": "//lh6.googleusercontent.com/-8eiDzCxazcQ/AAAAAAAAAAI/AAAAAAAAETg/em_yQO7VCzk/s50-c-k-no/photo.jpg",
      "userId": "111311313461951215577"
     },
     "user_tz": -330
    },
    "id": "caj578WG245A",
    "outputId": "2492e82c-8c6d-471c-a534-7a2ead19babb"
   },
   "outputs": [
    {
     "data": {
      "text/html": [
       "<div>\n",
       "<style scoped>\n",
       "    .dataframe tbody tr th:only-of-type {\n",
       "        vertical-align: middle;\n",
       "    }\n",
       "\n",
       "    .dataframe tbody tr th {\n",
       "        vertical-align: top;\n",
       "    }\n",
       "\n",
       "    .dataframe thead th {\n",
       "        text-align: right;\n",
       "    }\n",
       "</style>\n",
       "<table border=\"1\" class=\"dataframe\">\n",
       "  <thead>\n",
       "    <tr style=\"text-align: right;\">\n",
       "      <th></th>\n",
       "      <th>index</th>\n",
       "      <th>Id</th>\n",
       "      <th>ProductId</th>\n",
       "      <th>UserId</th>\n",
       "      <th>ProfileName</th>\n",
       "      <th>HelpfulnessNumerator</th>\n",
       "      <th>HelpfulnessDenominator</th>\n",
       "      <th>Score</th>\n",
       "      <th>Time</th>\n",
       "      <th>Summary</th>\n",
       "      <th>Text</th>\n",
       "      <th>CleanedText</th>\n",
       "      <th>CleanedText_NoStem</th>\n",
       "    </tr>\n",
       "  </thead>\n",
       "  <tbody>\n",
       "    <tr>\n",
       "      <th>169304</th>\n",
       "      <td>212495</td>\n",
       "      <td>230309</td>\n",
       "      <td>B00004RYGX</td>\n",
       "      <td>A34NBH479RB0E</td>\n",
       "      <td>\"dmab6395\"</td>\n",
       "      <td>0</td>\n",
       "      <td>1</td>\n",
       "      <td>Positive</td>\n",
       "      <td>977184000</td>\n",
       "      <td>FUNNY</td>\n",
       "      <td>I THOUGHT THIS MOVIE WAS SO FUNNY, MICHAEL KEA...</td>\n",
       "      <td>b'thought movi funni michael keaton beetlejuic...</td>\n",
       "      <td>b'thought movie funny michael keaton beetlejui...</td>\n",
       "    </tr>\n",
       "    <tr>\n",
       "      <th>117266</th>\n",
       "      <td>137933</td>\n",
       "      <td>149701</td>\n",
       "      <td>B00006L2ZT</td>\n",
       "      <td>A2STZ646VQE8QI</td>\n",
       "      <td>anomalogue</td>\n",
       "      <td>1</td>\n",
       "      <td>3</td>\n",
       "      <td>Positive</td>\n",
       "      <td>1036540800</td>\n",
       "      <td>This is the best Camper Van Beethoven</td>\n",
       "      <td>This is a  beautiful repackaging of Camper Van...</td>\n",
       "      <td>b'beauti repackag camper van beethoven first t...</td>\n",
       "      <td>b'beautiful repackaging camper van beethovens ...</td>\n",
       "    </tr>\n",
       "    <tr>\n",
       "      <th>169278</th>\n",
       "      <td>212469</td>\n",
       "      <td>230282</td>\n",
       "      <td>B00004RYGX</td>\n",
       "      <td>A3ICHEO78NFE4Y</td>\n",
       "      <td>Rick D. Barszcz</td>\n",
       "      <td>1</td>\n",
       "      <td>2</td>\n",
       "      <td>Positive</td>\n",
       "      <td>1042416000</td>\n",
       "      <td>Just plain fun!</td>\n",
       "      <td>I recently saw the DVD 5.1 version of this fil...</td>\n",
       "      <td>b'recent saw dvd version film excel pictur qua...</td>\n",
       "      <td>b'recently saw dvd version film excellent pict...</td>\n",
       "    </tr>\n",
       "    <tr>\n",
       "      <th>276398</th>\n",
       "      <td>381856</td>\n",
       "      <td>412884</td>\n",
       "      <td>B0000CDAY2</td>\n",
       "      <td>A2QCB2GF8NLJCC</td>\n",
       "      <td>S. Scott</td>\n",
       "      <td>0</td>\n",
       "      <td>0</td>\n",
       "      <td>Positive</td>\n",
       "      <td>1071792000</td>\n",
       "      <td>Just like being in Maine</td>\n",
       "      <td>I recently received the Maine Lobster Salad, c...</td>\n",
       "      <td>b'recent receiv main lobster salad complet aut...</td>\n",
       "      <td>b'recently received maine lobster salad comple...</td>\n",
       "    </tr>\n",
       "    <tr>\n",
       "      <th>236007</th>\n",
       "      <td>312396</td>\n",
       "      <td>338208</td>\n",
       "      <td>B00013EWL4</td>\n",
       "      <td>A266IWDX3A2FZT</td>\n",
       "      <td>Christopher L. Dolmetsch</td>\n",
       "      <td>2</td>\n",
       "      <td>2</td>\n",
       "      <td>Positive</td>\n",
       "      <td>1076371200</td>\n",
       "      <td>A Great Find!</td>\n",
       "      <td>It's rare to find a condiment with both sweetn...</td>\n",
       "      <td>b'rare find condiment sweet tart combin well f...</td>\n",
       "      <td>b'rare find condiment sweetness tartness combi...</td>\n",
       "    </tr>\n",
       "  </tbody>\n",
       "</table>\n",
       "</div>"
      ],
      "text/plain": [
       "         index      Id   ProductId          UserId               ProfileName  \\\n",
       "169304  212495  230309  B00004RYGX   A34NBH479RB0E                \"dmab6395\"   \n",
       "117266  137933  149701  B00006L2ZT  A2STZ646VQE8QI                anomalogue   \n",
       "169278  212469  230282  B00004RYGX  A3ICHEO78NFE4Y           Rick D. Barszcz   \n",
       "276398  381856  412884  B0000CDAY2  A2QCB2GF8NLJCC                  S. Scott   \n",
       "236007  312396  338208  B00013EWL4  A266IWDX3A2FZT  Christopher L. Dolmetsch   \n",
       "\n",
       "        HelpfulnessNumerator  HelpfulnessDenominator     Score        Time  \\\n",
       "169304                     0                       1  Positive   977184000   \n",
       "117266                     1                       3  Positive  1036540800   \n",
       "169278                     1                       2  Positive  1042416000   \n",
       "276398                     0                       0  Positive  1071792000   \n",
       "236007                     2                       2  Positive  1076371200   \n",
       "\n",
       "                                      Summary  \\\n",
       "169304                                  FUNNY   \n",
       "117266  This is the best Camper Van Beethoven   \n",
       "169278                        Just plain fun!   \n",
       "276398               Just like being in Maine   \n",
       "236007                          A Great Find!   \n",
       "\n",
       "                                                     Text  \\\n",
       "169304  I THOUGHT THIS MOVIE WAS SO FUNNY, MICHAEL KEA...   \n",
       "117266  This is a  beautiful repackaging of Camper Van...   \n",
       "169278  I recently saw the DVD 5.1 version of this fil...   \n",
       "276398  I recently received the Maine Lobster Salad, c...   \n",
       "236007  It's rare to find a condiment with both sweetn...   \n",
       "\n",
       "                                              CleanedText  \\\n",
       "169304  b'thought movi funni michael keaton beetlejuic...   \n",
       "117266  b'beauti repackag camper van beethoven first t...   \n",
       "169278  b'recent saw dvd version film excel pictur qua...   \n",
       "276398  b'recent receiv main lobster salad complet aut...   \n",
       "236007  b'rare find condiment sweet tart combin well f...   \n",
       "\n",
       "                                       CleanedText_NoStem  \n",
       "169304  b'thought movie funny michael keaton beetlejui...  \n",
       "117266  b'beautiful repackaging camper van beethovens ...  \n",
       "169278  b'recently saw dvd version film excellent pict...  \n",
       "276398  b'recently received maine lobster salad comple...  \n",
       "236007  b'rare find condiment sweetness tartness combi...  "
      ]
     },
     "execution_count": 99,
     "metadata": {
      "tags": []
     },
     "output_type": "execute_result"
    }
   ],
   "source": [
    "# Taking Sample Datapoints\n",
    "n_samples = 15000\n",
    "df_sample = df.sample(n_samples)\n",
    "df_sample.sort_values('Time', inplace=True) #Sorting with respect to time\n",
    "df_sample.head()"
   ]
  },
  {
   "cell_type": "markdown",
   "metadata": {
    "colab_type": "text",
    "id": "edHvgm3G3wQz"
   },
   "source": [
    "# Applying the KNN Models on the different Vectorizing Techniques\n",
    "\n",
    "\n",
    "## Bag of Word(BOW)"
   ]
  },
  {
   "cell_type": "code",
   "execution_count": 0,
   "metadata": {
    "colab": {
     "autoexec": {
      "startup": false,
      "wait_interval": 0
     }
    },
    "colab_type": "code",
    "id": "29BnIfnz3lJK"
   },
   "outputs": [],
   "source": [
    "from sklearn.model_selection import train_test_split\n",
    "\n",
    "uni_gram = CountVectorizer() # Text to Uni gram Vectors\n",
    "uni_gram_vectors = uni_gram.fit_transform(df_sample['CleanedText'].values)"
   ]
  },
  {
   "cell_type": "code",
   "execution_count": 101,
   "metadata": {
    "colab": {
     "autoexec": {
      "startup": false,
      "wait_interval": 0
     },
     "base_uri": "https://localhost:8080/",
     "height": 34
    },
    "colab_type": "code",
    "executionInfo": {
     "elapsed": 978,
     "status": "ok",
     "timestamp": 1530331505714,
     "user": {
      "displayName": "Vijay Bhati",
      "photoUrl": "//lh6.googleusercontent.com/-8eiDzCxazcQ/AAAAAAAAAAI/AAAAAAAAETg/em_yQO7VCzk/s50-c-k-no/photo.jpg",
      "userId": "111311313461951215577"
     },
     "user_tz": -330
    },
    "id": "AYNZ6xaU7e6B",
    "outputId": "b2dc5481-1237-4642-89fc-7e89ecacb900"
   },
   "outputs": [
    {
     "data": {
      "text/plain": [
       "(15000, 15673)"
      ]
     },
     "execution_count": 101,
     "metadata": {
      "tags": []
     },
     "output_type": "execute_result"
    }
   ],
   "source": [
    "uni_gram_vectors.shape"
   ]
  },
  {
   "cell_type": "code",
   "execution_count": 0,
   "metadata": {
    "colab": {
     "autoexec": {
      "startup": false,
      "wait_interval": 0
     }
    },
    "colab_type": "code",
    "id": "3XGM_13o3eX-"
   },
   "outputs": [],
   "source": [
    "from  sklearn import  preprocessing\n",
    "uni_gram_vectors_norm = preprocessing.normalize(uni_gram_vectors)"
   ]
  },
  {
   "cell_type": "code",
   "execution_count": 0,
   "metadata": {
    "colab": {
     "autoexec": {
      "startup": false,
      "wait_interval": 0
     }
    },
    "colab_type": "code",
    "id": "SHt3hQLn7uRk"
   },
   "outputs": [],
   "source": [
    "from sklearn.cross_validation import train_test_split\n",
    "from sklearn.neighbors import KNeighborsClassifier\n",
    "from sklearn.metrics import accuracy_score\n",
    "from sklearn.cross_validation import cross_val_score\n",
    "from collections import Counter\n",
    "from sklearn.metrics import accuracy_score\n",
    "from sklearn import cross_validation\n",
    "from sklearn.model_selection import train_test_split\n",
    "from sklearn.model_selection import TimeSeriesSplit\n",
    "from sklearn.pipeline import Pipeline\n",
    "from sklearn.preprocessing import Normalizer\n",
    "from sklearn.metrics import classification_report\n",
    "\n",
    "def batch_predict(clf, X, batch_size=1000):\n",
    "    n = X.shape[0]\n",
    "    pred = np.empty(n, dtype=object)\n",
    "    i = 0\n",
    "    while i < n:\n",
    "        last = min(i+batch_size, n)\n",
    "        pred[i:last] = clf.predict(X[i:last, :])\n",
    "        i += batch_size\n",
    "        \n",
    "    return pred"
   ]
  },
  {
   "cell_type": "code",
   "execution_count": 0,
   "metadata": {
    "colab": {
     "autoexec": {
      "startup": false,
      "wait_interval": 0
     }
    },
    "colab_type": "code",
    "id": "z7pMGQ4G3WIX"
   },
   "outputs": [],
   "source": [
    "# spliting data into train and test\n",
    "X_train, X_test, y_train, y_test = train_test_split(uni_gram_vectors_norm,df_sample['Score'].values,\n",
    "                                                   test_size=0.3, shuffle=False)"
   ]
  },
  {
   "cell_type": "code",
   "execution_count": 0,
   "metadata": {
    "colab": {
     "autoexec": {
      "startup": false,
      "wait_interval": 0
     }
    },
    "colab_type": "code",
    "id": "GjHlf9_E2SKV"
   },
   "outputs": [],
   "source": [
    "neigh_near = 100\n",
    "tscv = TimeSeriesSplit(n_splits=10)\n",
    "cv_scores = []\n",
    "mylist = list(range(0, 101))\n",
    "neighbors = list(filter(lambda x: x % 2 != 0, mylist))\n",
    "\n",
    "for k in neighbors:\n",
    "    tmp = []\n",
    "    for train, cv in tscv.split(X_train):\n",
    "        knn = KNeighborsClassifier(n_neighbors=k)\n",
    "        knn.fit(X_train[train], y_train[train])\n",
    "        tmp.append(knn.score(X_train[cv], y_train[cv]) * 100)\n",
    "    tmp = np.array(tmp)\n",
    "    cv_scores.append(tmp.mean())"
   ]
  },
  {
   "cell_type": "code",
   "execution_count": 106,
   "metadata": {
    "colab": {
     "autoexec": {
      "startup": false,
      "wait_interval": 0
     },
     "base_uri": "https://localhost:8080/",
     "height": 34
    },
    "colab_type": "code",
    "executionInfo": {
     "elapsed": 971,
     "status": "ok",
     "timestamp": 1530331634688,
     "user": {
      "displayName": "Vijay Bhati",
      "photoUrl": "//lh6.googleusercontent.com/-8eiDzCxazcQ/AAAAAAAAAAI/AAAAAAAAETg/em_yQO7VCzk/s50-c-k-no/photo.jpg",
      "userId": "111311313461951215577"
     },
     "user_tz": -330
    },
    "id": "W2lqHyRo9rRT",
    "outputId": "0c6008c2-d0c3-49c5-fbb0-35099d96daa6"
   },
   "outputs": [
    {
     "name": "stdout",
     "output_type": "stream",
     "text": [
      "The optimal number of neighbors is 9\n"
     ]
    }
   ],
   "source": [
    "MSE = [1 - x for x in cv_scores] # changing to misclassification error\n",
    "optimal_k = neighbors[MSE.index(min(MSE))] # determining best k\n",
    "print('The optimal number of neighbors is %d' %optimal_k)"
   ]
  },
  {
   "cell_type": "code",
   "execution_count": 107,
   "metadata": {
    "colab": {
     "autoexec": {
      "startup": false,
      "wait_interval": 0
     },
     "base_uri": "https://localhost:8080/",
     "height": 293
    },
    "colab_type": "code",
    "executionInfo": {
     "elapsed": 1191,
     "status": "ok",
     "timestamp": 1530331636093,
     "user": {
      "displayName": "Vijay Bhati",
      "photoUrl": "//lh6.googleusercontent.com/-8eiDzCxazcQ/AAAAAAAAAAI/AAAAAAAAETg/em_yQO7VCzk/s50-c-k-no/photo.jpg",
      "userId": "111311313461951215577"
     },
     "user_tz": -330
    },
    "id": "YOTB-ih42SKd",
    "outputId": "24bb150a-a8b4-44fd-d2c5-64deedce9a90"
   },
   "outputs": [
    {
     "data": {
      "image/png": "[encoded data removed]",
      "text/plain": [
       "<matplotlib.figure.Figure at 0x7f9840bef6d8>"
      ]
     },
     "metadata": {
      "tags": []
     },
     "output_type": "display_data"
    }
   ],
   "source": [
    "plt.plot(np.arange(1, neigh_near, 2), cv_scores)\n",
    "plt.xlabel(\"K Nearest Neighbors\")\n",
    "plt.ylabel(\"Accuracy\")\n",
    "plt.title(\"Accuracy for different k values\")\n",
    "plt.show()"
   ]
  },
  {
   "cell_type": "code",
   "execution_count": 108,
   "metadata": {
    "colab": {
     "autoexec": {
      "startup": false,
      "wait_interval": 0
     },
     "base_uri": "https://localhost:8080/",
     "height": 34
    },
    "colab_type": "code",
    "executionInfo": {
     "elapsed": 3527,
     "status": "ok",
     "timestamp": 1530331639816,
     "user": {
      "displayName": "Vijay Bhati",
      "photoUrl": "//lh6.googleusercontent.com/-8eiDzCxazcQ/AAAAAAAAAAI/AAAAAAAAETg/em_yQO7VCzk/s50-c-k-no/photo.jpg",
      "userId": "111311313461951215577"
     },
     "user_tz": -330
    },
    "id": "A1KrYQyz2SKk",
    "outputId": "db5c4de7-cd1f-43c3-d016-946eb8076dda"
   },
   "outputs": [
    {
     "name": "stdout",
     "output_type": "stream",
     "text": [
      "Accuracy on training set: 84.844%\n"
     ]
    }
   ],
   "source": [
    "knn = KNeighborsClassifier(n_neighbors=optimal_k)\n",
    "knn.fit(X_train,y_train)\n",
    "score = knn.score(X_test,y_test)\n",
    "print(\"Accuracy on training set: %0.3f%%\"%(score*100))"
   ]
  },
  {
   "cell_type": "markdown",
   "metadata": {
    "colab_type": "text",
    "id": "BkC0AoGPIXHp"
   },
   "source": [
    "# Bi-gram"
   ]
  },
  {
   "cell_type": "code",
   "execution_count": 109,
   "metadata": {
    "colab": {
     "autoexec": {
      "startup": false,
      "wait_interval": 0
     },
     "base_uri": "https://localhost:8080/",
     "height": 34
    },
    "colab_type": "code",
    "executionInfo": {
     "elapsed": 3583,
     "status": "ok",
     "timestamp": 1530331643520,
     "user": {
      "displayName": "Vijay Bhati",
      "photoUrl": "//lh6.googleusercontent.com/-8eiDzCxazcQ/AAAAAAAAAAI/AAAAAAAAETg/em_yQO7VCzk/s50-c-k-no/photo.jpg",
      "userId": "111311313461951215577"
     },
     "user_tz": -330
    },
    "id": "Ac2JOD-QIWGK",
    "outputId": "715371d2-340b-468c-f41b-a31783e5c009"
   },
   "outputs": [
    {
     "data": {
      "text/plain": [
       "(15000, 320810)"
      ]
     },
     "execution_count": 109,
     "metadata": {
      "tags": []
     },
     "output_type": "execute_result"
    }
   ],
   "source": [
    "bi_gram = CountVectorizer(ngram_range=(1,2))\n",
    "bi_gram_vectors = bi_gram.fit_transform(df_sample['CleanedText'].values)\n",
    "bi_gram_vectors.shape"
   ]
  },
  {
   "cell_type": "code",
   "execution_count": 0,
   "metadata": {
    "colab": {
     "autoexec": {
      "startup": false,
      "wait_interval": 0
     }
    },
    "colab_type": "code",
    "id": "X05giUOQI2qI"
   },
   "outputs": [],
   "source": [
    "bi_gram_vectors_norm = preprocessing.normalize(bi_gram_vectors)"
   ]
  },
  {
   "cell_type": "code",
   "execution_count": 0,
   "metadata": {
    "colab": {
     "autoexec": {
      "startup": false,
      "wait_interval": 0
     }
    },
    "colab_type": "code",
    "id": "rj1J51VVI2l5"
   },
   "outputs": [],
   "source": [
    "# spliting data into train and test\n",
    "X_train, X_test, y_train, y_test = train_test_split(bi_gram_vectors_norm,df_sample['Score'].values,\n",
    "                                                   test_size=0.3, shuffle=False)"
   ]
  },
  {
   "cell_type": "code",
   "execution_count": 0,
   "metadata": {
    "colab": {
     "autoexec": {
      "startup": false,
      "wait_interval": 0
     }
    },
    "colab_type": "code",
    "id": "gPq6OxIlI2in"
   },
   "outputs": [],
   "source": [
    "neigh_near = 100\n",
    "tscv = TimeSeriesSplit(n_splits=10)\n",
    "cv_scores = []\n",
    "mylist = list(range(0, 101))\n",
    "neighbors = list(filter(lambda x: x % 2 != 0, mylist))\n",
    "\n",
    "for k in neighbors:\n",
    "    tmp = []\n",
    "    for train, cv in tscv.split(X_train):\n",
    "        knn = KNeighborsClassifier(n_neighbors=k)\n",
    "        knn.fit(X_train[train], y_train[train])\n",
    "        tmp.append(knn.score(X_train[cv], y_train[cv]) * 100)\n",
    "    tmp = np.array(tmp)\n",
    "    cv_scores.append(tmp.mean())"
   ]
  },
  {
   "cell_type": "code",
   "execution_count": 166,
   "metadata": {
    "colab": {
     "autoexec": {
      "startup": false,
      "wait_interval": 0
     },
     "base_uri": "https://localhost:8080/",
     "height": 34
    },
    "colab_type": "code",
    "executionInfo": {
     "elapsed": 1175,
     "status": "ok",
     "timestamp": 1530334248332,
     "user": {
      "displayName": "Vijay Bhati",
      "photoUrl": "//lh6.googleusercontent.com/-8eiDzCxazcQ/AAAAAAAAAAI/AAAAAAAAETg/em_yQO7VCzk/s50-c-k-no/photo.jpg",
      "userId": "111311313461951215577"
     },
     "user_tz": -330
    },
    "id": "mgrVKh7R2SK_",
    "outputId": "ec74a663-9dcf-4e91-ce05-a32ed1785cef"
   },
   "outputs": [
    {
     "name": "stdout",
     "output_type": "stream",
     "text": [
      "The optimal number of neighbors is 15\n"
     ]
    }
   ],
   "source": [
    "MSE = [1 - x for x in cv_scores] # changing to misclassification error\n",
    "optimal_k = neighbors[MSE.index(min(MSE))] # determining best k\n",
    "print('The optimal number of neighbors is %d' %optimal_k)"
   ]
  },
  {
   "cell_type": "code",
   "execution_count": 114,
   "metadata": {
    "colab": {
     "autoexec": {
      "startup": false,
      "wait_interval": 0
     },
     "base_uri": "https://localhost:8080/",
     "height": 293
    },
    "colab_type": "code",
    "executionInfo": {
     "elapsed": 1082,
     "status": "ok",
     "timestamp": 1530331782967,
     "user": {
      "displayName": "Vijay Bhati",
      "photoUrl": "//lh6.googleusercontent.com/-8eiDzCxazcQ/AAAAAAAAAAI/AAAAAAAAETg/em_yQO7VCzk/s50-c-k-no/photo.jpg",
      "userId": "111311313461951215577"
     },
     "user_tz": -330
    },
    "id": "8CiTA3mM2SLH",
    "outputId": "83828470-7768-470d-f2dd-708e037b468e"
   },
   "outputs": [
    {
     "data": {
      "image/png": "[encoded data removed]",
      "text/plain": [
       "<matplotlib.figure.Figure at 0x7f9824f87550>"
      ]
     },
     "metadata": {
      "tags": []
     },
     "output_type": "display_data"
    }
   ],
   "source": [
    "plt.plot(np.arange(1, neigh_near, 2), cv_scores)\n",
    "plt.xlabel(\"K Nearest Neighbors\")\n",
    "plt.ylabel(\"Accuracy\")\n",
    "plt.title(\"Accuracy for different k values\")\n",
    "plt.show()"
   ]
  },
  {
   "cell_type": "code",
   "execution_count": 115,
   "metadata": {
    "colab": {
     "autoexec": {
      "startup": false,
      "wait_interval": 0
     },
     "base_uri": "https://localhost:8080/",
     "height": 34
    },
    "colab_type": "code",
    "executionInfo": {
     "elapsed": 3677,
     "status": "ok",
     "timestamp": 1530331786887,
     "user": {
      "displayName": "Vijay Bhati",
      "photoUrl": "//lh6.googleusercontent.com/-8eiDzCxazcQ/AAAAAAAAAAI/AAAAAAAAETg/em_yQO7VCzk/s50-c-k-no/photo.jpg",
      "userId": "111311313461951215577"
     },
     "user_tz": -330
    },
    "id": "J0soINgi2SLW",
    "outputId": "110fbc54-4e9d-42b1-b9b5-8d12a6708f14"
   },
   "outputs": [
    {
     "name": "stdout",
     "output_type": "stream",
     "text": [
      "Accuracy on training set: 84.956%\n"
     ]
    }
   ],
   "source": [
    "knn = KNeighborsClassifier(n_neighbors=optimal_k)\n",
    "knn.fit(X_train, y_train)\n",
    "score = knn.score(X_test,y_test)\n",
    "print(\"Accuracy on training set: %0.3f%%\"%(score*100))"
   ]
  },
  {
   "cell_type": "markdown",
   "metadata": {
    "colab_type": "text",
    "id": "P7QGRdu9IH40"
   },
   "source": [
    "# tf-idf\n",
    "\n",
    "TFIDF = TF x IDF"
   ]
  },
  {
   "cell_type": "code",
   "execution_count": 0,
   "metadata": {
    "colab": {
     "autoexec": {
      "startup": false,
      "wait_interval": 0
     }
    },
    "colab_type": "code",
    "id": "JXxFXg9bGULb"
   },
   "outputs": [],
   "source": [
    "tfidf = TfidfVectorizer(ngram_range=(1, 2)) \n",
    "tfidf_vectors = tfidf.fit_transform(df_sample['CleanedText'].values)"
   ]
  },
  {
   "cell_type": "code",
   "execution_count": 0,
   "metadata": {
    "colab": {
     "autoexec": {
      "startup": false,
      "wait_interval": 0
     }
    },
    "colab_type": "code",
    "id": "V2iYax2wN6q_"
   },
   "outputs": [],
   "source": [
    "tfidf_vectors_norm = preprocessing.normalize(tfidf_vectors)"
   ]
  },
  {
   "cell_type": "code",
   "execution_count": 0,
   "metadata": {
    "colab": {
     "autoexec": {
      "startup": false,
      "wait_interval": 0
     }
    },
    "colab_type": "code",
    "id": "h-xapX8vOGqA"
   },
   "outputs": [],
   "source": [
    "# spliting data into train and test\n",
    "X_train, X_test, y_train, y_test = train_test_split(tfidf_vectors_norm,df_sample['Score'].values,\n",
    "                                                   test_size=0.3, shuffle=False)"
   ]
  },
  {
   "cell_type": "code",
   "execution_count": 0,
   "metadata": {
    "colab": {
     "autoexec": {
      "startup": false,
      "wait_interval": 0
     }
    },
    "colab_type": "code",
    "id": "vtqnWVkqOQCd"
   },
   "outputs": [],
   "source": [
    "neigh_near = 100\n",
    "tscv = TimeSeriesSplit(n_splits=10)\n",
    "cv_scores = []\n",
    "mylist = list(range(0, 101))\n",
    "neighbors = list(filter(lambda x: x % 2 != 0, mylist))\n",
    "\n",
    "for k in neighbors:\n",
    "    tmp = []\n",
    "    for train, cv in tscv.split(X_train):\n",
    "        knn = KNeighborsClassifier(n_neighbors=k)\n",
    "        knn.fit(X_train[train], y_train[train])\n",
    "        tmp.append(knn.score(X_train[cv], y_train[cv]) * 100)\n",
    "    tmp = np.array(tmp)\n",
    "    cv_scores.append(tmp.mean())"
   ]
  },
  {
   "cell_type": "code",
   "execution_count": 120,
   "metadata": {
    "colab": {
     "autoexec": {
      "startup": false,
      "wait_interval": 0
     },
     "base_uri": "https://localhost:8080/",
     "height": 34
    },
    "colab_type": "code",
    "executionInfo": {
     "elapsed": 823,
     "status": "ok",
     "timestamp": 1530331936114,
     "user": {
      "displayName": "Vijay Bhati",
      "photoUrl": "//lh6.googleusercontent.com/-8eiDzCxazcQ/AAAAAAAAAAI/AAAAAAAAETg/em_yQO7VCzk/s50-c-k-no/photo.jpg",
      "userId": "111311313461951215577"
     },
     "user_tz": -330
    },
    "id": "kdx7S6B5OeHC",
    "outputId": "fb497bc0-ca99-4c6a-ae66-de81455f0786"
   },
   "outputs": [
    {
     "name": "stdout",
     "output_type": "stream",
     "text": [
      "The optimal number of neighbors is 9\n"
     ]
    }
   ],
   "source": [
    "MSE = [1 - x for x in cv_scores] # changing to misclassification error\n",
    "optimal_k = neighbors[MSE.index(min(MSE))] # determining best k\n",
    "print('The optimal number of neighbors is %d' %optimal_k)"
   ]
  },
  {
   "cell_type": "code",
   "execution_count": 121,
   "metadata": {
    "colab": {
     "autoexec": {
      "startup": false,
      "wait_interval": 0
     },
     "base_uri": "https://localhost:8080/",
     "height": 293
    },
    "colab_type": "code",
    "executionInfo": {
     "elapsed": 1943,
     "status": "ok",
     "timestamp": 1530331938288,
     "user": {
      "displayName": "Vijay Bhati",
      "photoUrl": "//lh6.googleusercontent.com/-8eiDzCxazcQ/AAAAAAAAAAI/AAAAAAAAETg/em_yQO7VCzk/s50-c-k-no/photo.jpg",
      "userId": "111311313461951215577"
     },
     "user_tz": -330
    },
    "id": "BgVgn06j2SMR",
    "outputId": "f4091e4b-4e53-4d5e-cb5c-58b49825492c"
   },
   "outputs": [
    {
     "data": {
      "image/png": "[encoded data removed]",
      "text/plain": [
       "<matplotlib.figure.Figure at 0x7f9808d29cc0>"
      ]
     },
     "metadata": {
      "tags": []
     },
     "output_type": "display_data"
    }
   ],
   "source": [
    "plt.plot(np.arange(1, neigh_near, 2), cv_scores)\n",
    "plt.xlabel(\"K Nearest Neighbors\")\n",
    "plt.ylabel(\"Accuracy\")\n",
    "plt.title(\"Accuracy for different k values\")\n",
    "plt.show()"
   ]
  },
  {
   "cell_type": "code",
   "execution_count": 122,
   "metadata": {
    "colab": {
     "autoexec": {
      "startup": false,
      "wait_interval": 0
     },
     "base_uri": "https://localhost:8080/",
     "height": 34
    },
    "colab_type": "code",
    "executionInfo": {
     "elapsed": 4088,
     "status": "ok",
     "timestamp": 1530331942628,
     "user": {
      "displayName": "Vijay Bhati",
      "photoUrl": "//lh6.googleusercontent.com/-8eiDzCxazcQ/AAAAAAAAAAI/AAAAAAAAETg/em_yQO7VCzk/s50-c-k-no/photo.jpg",
      "userId": "111311313461951215577"
     },
     "user_tz": -330
    },
    "id": "y7cseydY2SMW",
    "outputId": "77cd505a-b68b-4256-cc12-2d11654b2973"
   },
   "outputs": [
    {
     "name": "stdout",
     "output_type": "stream",
     "text": [
      "Accuracy on training set: 84.889%\n"
     ]
    }
   ],
   "source": [
    "knn = KNeighborsClassifier(n_neighbors=optimal_k)\n",
    "knn.fit(X_train, y_train)\n",
    "score = knn.score(X_test,y_test)\n",
    "print(\"Accuracy on training set: %0.3f%%\"%(score*100))"
   ]
  },
  {
   "cell_type": "markdown",
   "metadata": {
    "colab_type": "text",
    "id": "IZMKWpoi2SNk"
   },
   "source": [
    "# Avg Word2Vec"
   ]
  },
  {
   "cell_type": "code",
   "execution_count": 0,
   "metadata": {
    "colab": {
     "autoexec": {
      "startup": false,
      "wait_interval": 0
     }
    },
    "colab_type": "code",
    "id": "INpsi6HIEZC4"
   },
   "outputs": [],
   "source": [
    "from sklearn.base import TransformerMixin, BaseEstimator\n",
    "from gensim.models import Word2Vec\n",
    "class w2v(TransformerMixin, BaseEstimator):\n",
    "\n",
    "    def __init__(self, size=100, alpha=0.025, window=5, min_count=10, max_vocab_size=None, sample=1e-3, seed=1,\n",
    "                 workers=3, min_alpha=0.0001, sg=1, hs=0, negative=5, cbow_mean=1, iter=10, null_word=0,\n",
    "                 trim_rule=None, sorted_vocab=1, batch_words=10000):\n",
    "        \"\"\"\n",
    "        Sklearn wrapper for Word2Vec model. See gensim.models.Word2Vec for parameter details.\n",
    "        \"\"\"\n",
    "        self.model = None\n",
    "        self.size = size\n",
    "        self.alpha = alpha\n",
    "        self.window = window\n",
    "        self.min_count = min_count\n",
    "        self.max_vocab_size = max_vocab_size\n",
    "        self.sample = sample\n",
    "        self.seed = seed\n",
    "        self.workers = workers\n",
    "        self.min_alpha = min_alpha\n",
    "        self.sg = sg\n",
    "        self.hs = hs\n",
    "        self.negative = negative\n",
    "        self.cbow_mean = int(cbow_mean)\n",
    "        self.iter = iter\n",
    "        self.null_word = null_word\n",
    "        self.trim_rule = trim_rule\n",
    "        self.sorted_vocab = sorted_vocab\n",
    "        self.batch_words = batch_words\n",
    "\n",
    "    def fit(self, X, y=None):\n",
    "        \"\"\"\n",
    "        Fit the model according to the given training data.\n",
    "        Calls gensim.models.Word2Vec\n",
    "        \"\"\"\n",
    "        X_tokenized = X.apply(lambda sent: sent.split())\n",
    "        \n",
    "        self.model = Word2Vec(\n",
    "            sentences=X_tokenized, size=self.size, alpha=self.alpha,\n",
    "            window=self.window, min_count=self.min_count, max_vocab_size=self.max_vocab_size,\n",
    "            sample=self.sample, seed=self.seed, workers=self.workers, min_alpha=self.min_alpha,\n",
    "            sg=self.sg, hs=self.hs, negative=self.negative, cbow_mean=self.cbow_mean, \n",
    "            iter=self.iter, null_word=self.null_word, trim_rule=self.trim_rule,\n",
    "            sorted_vocab=self.sorted_vocab, batch_words=self.batch_words\n",
    "        )\n",
    "        return self\n",
    "\n",
    "    def transform(self, X):\n",
    "        return X.apply(self.avg_word_vector)\n",
    "    \n",
    "    def avg_word_vector(self, sent):\n",
    "        \"\"\"\n",
    "        Returns an average word vector \n",
    "        from list of words\n",
    "        if words are not in the wordvector\n",
    "        vocabulary or in wordlist is \n",
    "        empty then returns a zero vector\n",
    "        \"\"\"\n",
    "        word_list = sent.split()\n",
    "        sent_vec = np.zeros(self.size)\n",
    "        word_cnt = 0\n",
    "        for word in word_list:\n",
    "            try:\n",
    "                vec = self.model.wv[word]\n",
    "                sent_vec += vec\n",
    "                word_cnt += 1\n",
    "            except KeyError:\n",
    "                pass\n",
    "        if word_cnt != 0:\n",
    "            sent_vec /= word_cnt\n",
    "        return pd.Series(sent_vec)\n",
    "    \n",
    "    def most_similar(self, word):\n",
    "        return self.model.wv.most_similar(word)\n",
    "    \n",
    "    def vocabulary(self):\n",
    "        \"\"\"\n",
    "        Returns a Dataframe with \n",
    "        word as index and rows as vectors\n",
    "        \"\"\"\n",
    "        # build a list of the terms, integer indices,\n",
    "        # and term counts from the word2vec model vocabulary\n",
    "        ordered_vocab = [(term, voc.index, voc.count)\n",
    "                         for term, voc in self.model.wv.vocab.items()]\n",
    "\n",
    "        # sort by the term counts, so the most common terms appear first\n",
    "        ordered_vocab = sorted(ordered_vocab, key=lambda k : k[2], reverse=True)\n",
    "\n",
    "        # unzip the terms, integer indices, and counts into separate lists\n",
    "        ordered_terms, term_indices, term_counts = zip(*ordered_vocab)\n",
    "\n",
    "        # create a DataFrame with the word vectors as data,\n",
    "        # and the terms as row labels\n",
    "        wordvectors = pd.DataFrame(self.model.wv.vectors_norm[term_indices, :],\n",
    "                                    index=ordered_terms)\n",
    "\n",
    "        return wordvectors"
   ]
  },
  {
   "cell_type": "code",
   "execution_count": 124,
   "metadata": {
    "colab": {
     "autoexec": {
      "startup": false,
      "wait_interval": 0
     },
     "base_uri": "https://localhost:8080/",
     "height": 34
    },
    "colab_type": "code",
    "executionInfo": {
     "elapsed": 49492,
     "status": "ok",
     "timestamp": 1530331993584,
     "user": {
      "displayName": "Vijay Bhati",
      "photoUrl": "//lh6.googleusercontent.com/-8eiDzCxazcQ/AAAAAAAAAAI/AAAAAAAAETg/em_yQO7VCzk/s50-c-k-no/photo.jpg",
      "userId": "111311313461951215577"
     },
     "user_tz": -330
    },
    "id": "LnLj20DNpkvL",
    "outputId": "b50cd263-1867-407e-fd00-7d50a4ae3c20"
   },
   "outputs": [
    {
     "data": {
      "text/plain": [
       "(15000, 100)"
      ]
     },
     "execution_count": 124,
     "metadata": {
      "tags": []
     },
     "output_type": "execute_result"
    }
   ],
   "source": [
    "w2v_model = w2v()\n",
    "\n",
    "w2v_features = w2v_model.fit_transform(df_sample['Text'])\n",
    "w2v_features.shape"
   ]
  },
  {
   "cell_type": "code",
   "execution_count": 125,
   "metadata": {
    "colab": {
     "autoexec": {
      "startup": false,
      "wait_interval": 0
     },
     "base_uri": "https://localhost:8080/",
     "height": 34
    },
    "colab_type": "code",
    "executionInfo": {
     "elapsed": 1611,
     "status": "ok",
     "timestamp": 1530331995305,
     "user": {
      "displayName": "Vijay Bhati",
      "photoUrl": "//lh6.googleusercontent.com/-8eiDzCxazcQ/AAAAAAAAAAI/AAAAAAAAETg/em_yQO7VCzk/s50-c-k-no/photo.jpg",
      "userId": "111311313461951215577"
     },
     "user_tz": -330
    },
    "id": "HFTfYI5DplNB",
    "outputId": "53927ca7-411f-41fa-815f-523a5b8f52c9"
   },
   "outputs": [
    {
     "data": {
      "text/plain": [
       "False"
      ]
     },
     "execution_count": 125,
     "metadata": {
      "tags": []
     },
     "output_type": "execute_result"
    }
   ],
   "source": [
    "np.any(np.isnan(w2v_features))"
   ]
  },
  {
   "cell_type": "code",
   "execution_count": 0,
   "metadata": {
    "colab": {
     "autoexec": {
      "startup": false,
      "wait_interval": 0
     }
    },
    "colab_type": "code",
    "id": "BHVvpJTH2SNo"
   },
   "outputs": [],
   "source": [
    "avg_w2v_norm = preprocessing.normalize(w2v_features)"
   ]
  },
  {
   "cell_type": "code",
   "execution_count": 0,
   "metadata": {
    "colab": {
     "autoexec": {
      "startup": false,
      "wait_interval": 0
     }
    },
    "colab_type": "code",
    "id": "Ogl0Q0qz2SNr"
   },
   "outputs": [],
   "source": [
    "# spliting data into train and test\n",
    "X_train, X_test, y_train, y_test = train_test_split(avg_w2v_norm,df_sample['Score'].values,\n",
    "                                                   test_size=0.3, shuffle=False)"
   ]
  },
  {
   "cell_type": "code",
   "execution_count": 0,
   "metadata": {
    "colab": {
     "autoexec": {
      "startup": false,
      "wait_interval": 0
     }
    },
    "colab_type": "code",
    "id": "lE5oHcoc2SNx"
   },
   "outputs": [],
   "source": [
    "neigh_near = 100\n",
    "tscv = TimeSeriesSplit(n_splits=10)\n",
    "cv_scores = []\n",
    "mylist = list(range(0, 101))\n",
    "neighbors = list(filter(lambda x: x % 2 != 0, mylist))\n",
    "\n",
    "for k in neighbors:\n",
    "    tmp = []\n",
    "    for train, cv in tscv.split(X_train):\n",
    "        knn = KNeighborsClassifier(n_neighbors=k)\n",
    "        knn.fit(X_train[train], y_train[train])\n",
    "        tmp.append(knn.score(X_train[cv], y_train[cv]) * 100)\n",
    "    tmp = np.array(tmp)\n",
    "    cv_scores.append(tmp.mean())"
   ]
  },
  {
   "cell_type": "code",
   "execution_count": 161,
   "metadata": {
    "colab": {
     "autoexec": {
      "startup": false,
      "wait_interval": 0
     },
     "base_uri": "https://localhost:8080/",
     "height": 34
    },
    "colab_type": "code",
    "executionInfo": {
     "elapsed": 1638,
     "status": "ok",
     "timestamp": 1530334188798,
     "user": {
      "displayName": "Vijay Bhati",
      "photoUrl": "//lh6.googleusercontent.com/-8eiDzCxazcQ/AAAAAAAAAAI/AAAAAAAAETg/em_yQO7VCzk/s50-c-k-no/photo.jpg",
      "userId": "111311313461951215577"
     },
     "user_tz": -330
    },
    "id": "nDaIRaEI2SNz",
    "outputId": "204a5273-d4a9-4f1a-cca7-576f0669ef42"
   },
   "outputs": [
    {
     "name": "stdout",
     "output_type": "stream",
     "text": [
      "The optimal number of neighbors is 15\n"
     ]
    }
   ],
   "source": [
    "MSE = [1 - x for x in cv_scores] # changing to misclassification error\n",
    "optimal_k = neighbors[MSE.index(min(MSE))] # determining best k\n",
    "print('The optimal number of neighbors is %d' %optimal_k)"
   ]
  },
  {
   "cell_type": "code",
   "execution_count": 130,
   "metadata": {
    "colab": {
     "autoexec": {
      "startup": false,
      "wait_interval": 0
     },
     "base_uri": "https://localhost:8080/",
     "height": 293
    },
    "colab_type": "code",
    "executionInfo": {
     "elapsed": 1266,
     "status": "ok",
     "timestamp": 1530332518807,
     "user": {
      "displayName": "Vijay Bhati",
      "photoUrl": "//lh6.googleusercontent.com/-8eiDzCxazcQ/AAAAAAAAAAI/AAAAAAAAETg/em_yQO7VCzk/s50-c-k-no/photo.jpg",
      "userId": "111311313461951215577"
     },
     "user_tz": -330
    },
    "id": "WrbOei_02SN8",
    "outputId": "53a8dd1d-0044-4dc4-df97-d560c4cdcf63"
   },
   "outputs": [
    {
     "data": {
      "image/png": "[encoded data removed]",
      "text/plain": [
       "<matplotlib.figure.Figure at 0x7f97ff34ccf8>"
      ]
     },
     "metadata": {
      "tags": []
     },
     "output_type": "display_data"
    }
   ],
   "source": [
    "plt.plot(np.arange(1, neigh_near, 2), cv_scores)\n",
    "plt.xlabel(\"K Nearest Neighbors\")\n",
    "plt.ylabel(\"Accuracy\")\n",
    "plt.title(\"Accuracy for different k values\")\n",
    "plt.show()"
   ]
  },
  {
   "cell_type": "code",
   "execution_count": 131,
   "metadata": {
    "colab": {
     "autoexec": {
      "startup": false,
      "wait_interval": 0
     },
     "base_uri": "https://localhost:8080/",
     "height": 34
    },
    "colab_type": "code",
    "executionInfo": {
     "elapsed": 10709,
     "status": "ok",
     "timestamp": 1530332530144,
     "user": {
      "displayName": "Vijay Bhati",
      "photoUrl": "//lh6.googleusercontent.com/-8eiDzCxazcQ/AAAAAAAAAAI/AAAAAAAAETg/em_yQO7VCzk/s50-c-k-no/photo.jpg",
      "userId": "111311313461951215577"
     },
     "user_tz": -330
    },
    "id": "9n0Aydvi2SN_",
    "outputId": "85a6374d-8551-461b-9627-48f22e9bb35d"
   },
   "outputs": [
    {
     "name": "stdout",
     "output_type": "stream",
     "text": [
      "Accuracy on training set: 85.311%\n"
     ]
    }
   ],
   "source": [
    "knn = KNeighborsClassifier(n_neighbors=optimal_k)\n",
    "knn.fit(X_train, y_train)\n",
    "score = knn.score(X_test,y_test)\n",
    "print(\"Accuracy on training set: %0.3f%%\"%(score*100))"
   ]
  },
  {
   "cell_type": "markdown",
   "metadata": {
    "colab_type": "text",
    "id": "FldtUhOi2SOB"
   },
   "source": [
    "# Tf-idf W2Vec"
   ]
  },
  {
   "cell_type": "code",
   "execution_count": 0,
   "metadata": {
    "colab": {
     "autoexec": {
      "startup": false,
      "wait_interval": 0
     }
    },
    "colab_type": "code",
    "id": "bVorcloO2SOE"
   },
   "outputs": [],
   "source": [
    "from sklearn.base import TransformerMixin, BaseEstimator\n",
    "from gensim.models import Word2Vec\n",
    "class tfidfw2v(TransformerMixin, BaseEstimator):\n",
    "\n",
    "    def __init__(self, size=100, alpha=0.025, window=5, min_count=10, max_vocab_size=None, sample=1e-3, seed=1,\n",
    "                 workers=3, min_alpha=0.0001, sg=1, hs=0, negative=5, cbow_mean=1, iter=10, null_word=0,\n",
    "                 trim_rule=None, sorted_vocab=1, batch_words=10000, tfidf_params ={}):\n",
    "        \n",
    "        # Sklearn wrapper for Word2Vec model. See gensim.models.Word2Vec for parameter details.\n",
    "        self.w2v_model = None\n",
    "        self.tfidf_model = TfidfVectorizer(**tfidf_params)\n",
    "        self.size = size\n",
    "        self.alpha = alpha\n",
    "        self.window = window\n",
    "        self.min_count = min_count\n",
    "        self.max_vocab_size = max_vocab_size\n",
    "        self.sample = sample\n",
    "        self.seed = seed\n",
    "        self.workers = workers\n",
    "        self.min_alpha = min_alpha\n",
    "        self.sg = sg\n",
    "        self.hs = hs\n",
    "        self.negative = negative\n",
    "        self.cbow_mean = int(cbow_mean)\n",
    "        self.iter = iter\n",
    "        self.null_word = null_word\n",
    "        self.trim_rule = trim_rule\n",
    "        self.sorted_vocab = sorted_vocab\n",
    "        self.batch_words = batch_words\n",
    "\n",
    "    def fit(self, X, y=None):\n",
    "        \n",
    "        # Fit the model according to the given training data.\n",
    "        # Calls gensim.models.Word2Vec\n",
    "        \n",
    "        X_tokenized = X.apply(lambda sent: sent.split())\n",
    "        \n",
    "        self.tfidf_model.fit(X)\n",
    "        \n",
    "        self.w2v_model = Word2Vec(\n",
    "            sentences=X_tokenized, size=self.size, alpha=self.alpha,\n",
    "            window=self.window, min_count=self.min_count, max_vocab_size=self.max_vocab_size,\n",
    "            sample=self.sample, seed=self.seed, workers=self.workers, min_alpha=self.min_alpha,\n",
    "            sg=self.sg, hs=self.hs, negative=self.negative, cbow_mean=self.cbow_mean, \n",
    "            iter=self.iter, null_word=self.null_word, trim_rule=self.trim_rule,\n",
    "            sorted_vocab=self.sorted_vocab, batch_words=self.batch_words\n",
    "        )\n",
    "        return self\n",
    "\n",
    "    def transform(self, X):\n",
    "        return X.apply(self.tfidf_w2v)\n",
    "    \n",
    "    def tfidf_w2v(self, sent):\n",
    "        \"\"\"\n",
    "        returns a tf-idf word vector of \n",
    "        sentence.\n",
    "        Word list should be a pd.Series\n",
    "        with name attribute as index for\n",
    "        finding the weight of the word from\n",
    "        tfidf features\n",
    "        \"\"\"\n",
    "        tfidf_feature = self.tfidf_model.transform([sent])\n",
    "        sent_vec = np.zeros(self.size)\n",
    "        weight_sum = 0\n",
    "        for word in sent.split():\n",
    "            try:\n",
    "                vec = self.w2v_model.wv[word]\n",
    "                index = self.tfidf_model.vocabulary_[word]\n",
    "                weight = tfidf_feature[0, index]\n",
    "                sent_vec += weight * vec\n",
    "                weight_sum += weight\n",
    "            except KeyError:\n",
    "                pass\n",
    "        if weight_sum != 0:\n",
    "            sent_vec /= weight_sum\n",
    "        return pd.Series(sent_vec)\n",
    "    \n",
    "    def most_similar(self, word):\n",
    "        return self.model.wv.most_similar(word)\n",
    "    \n",
    "    def vocabulary(self):\n",
    "        \"\"\"\n",
    "        Returns a sorted dataframe (by frequency)\n",
    "        with words as index and vector as rows\n",
    "        \"\"\"\n",
    "        \n",
    "        # build a list of the terms, integer indices and term counts from the word2vec model vocabulary\n",
    "        ordered_vocab = [(term, voc.index, voc.count)\n",
    "                         for term, voc in self.w2v_model.wv.vocab.items()]\n",
    "\n",
    "        # sort by the term counts, so the most common terms appear first\n",
    "        ordered_vocab = sorted(ordered_vocab, key=lambda k : k[2], reverse=True)\n",
    "\n",
    "        # unzip the terms, integer indices, and counts into separate lists\n",
    "        ordered_terms, term_indices, term_counts = zip(*ordered_vocab)\n",
    "\n",
    "        # create a DataFrame with the word vectors as data and the terms as row labels\n",
    "        wordvectors = pd.DataFrame(self.w2v_model.wv.vectors_norm[term_indices, :],\n",
    "                                    index=ordered_terms)\n",
    "\n",
    "        return wordvectors"
   ]
  },
  {
   "cell_type": "code",
   "execution_count": 133,
   "metadata": {
    "colab": {
     "autoexec": {
      "startup": false,
      "wait_interval": 0
     },
     "base_uri": "https://localhost:8080/",
     "height": 34
    },
    "colab_type": "code",
    "executionInfo": {
     "elapsed": 92278,
     "status": "ok",
     "timestamp": 1530332624745,
     "user": {
      "displayName": "Vijay Bhati",
      "photoUrl": "//lh6.googleusercontent.com/-8eiDzCxazcQ/AAAAAAAAAAI/AAAAAAAAETg/em_yQO7VCzk/s50-c-k-no/photo.jpg",
      "userId": "111311313461951215577"
     },
     "user_tz": -330
    },
    "id": "yZ-NPhZa2SOR",
    "outputId": "371157ce-e09b-4dd2-9fc5-63def627ecb8"
   },
   "outputs": [
    {
     "data": {
      "text/plain": [
       "(15000, 100)"
      ]
     },
     "execution_count": 133,
     "metadata": {
      "tags": []
     },
     "output_type": "execute_result"
    }
   ],
   "source": [
    "tfidf_w2v_model = tfidfw2v()\n",
    "\n",
    "tfidf_w2v_features = tfidf_w2v_model.fit_transform(df_sample['Text'])\n",
    "tfidf_w2v_features.shape"
   ]
  },
  {
   "cell_type": "code",
   "execution_count": 134,
   "metadata": {
    "colab": {
     "autoexec": {
      "startup": false,
      "wait_interval": 0
     },
     "base_uri": "https://localhost:8080/",
     "height": 34
    },
    "colab_type": "code",
    "executionInfo": {
     "elapsed": 875,
     "status": "ok",
     "timestamp": 1530332626479,
     "user": {
      "displayName": "Vijay Bhati",
      "photoUrl": "//lh6.googleusercontent.com/-8eiDzCxazcQ/AAAAAAAAAAI/AAAAAAAAETg/em_yQO7VCzk/s50-c-k-no/photo.jpg",
      "userId": "111311313461951215577"
     },
     "user_tz": -330
    },
    "id": "4zCeWXo-D6EC",
    "outputId": "f04016c6-677c-472f-d483-dd9a1fb4ac6d"
   },
   "outputs": [
    {
     "data": {
      "text/plain": [
       "False"
      ]
     },
     "execution_count": 134,
     "metadata": {
      "tags": []
     },
     "output_type": "execute_result"
    }
   ],
   "source": [
    "np.any(np.isnan(tfidf_w2v_features))"
   ]
  },
  {
   "cell_type": "code",
   "execution_count": 0,
   "metadata": {
    "colab": {
     "autoexec": {
      "startup": false,
      "wait_interval": 0
     }
    },
    "colab_type": "code",
    "id": "SEdrjFC-2SOo"
   },
   "outputs": [],
   "source": [
    "tfidfw2v_vecs_norm = preprocessing.normalize(tfidf_w2v_features)"
   ]
  },
  {
   "cell_type": "code",
   "execution_count": 0,
   "metadata": {
    "colab": {
     "autoexec": {
      "startup": false,
      "wait_interval": 0
     }
    },
    "colab_type": "code",
    "id": "javAF-uIEPSF"
   },
   "outputs": [],
   "source": [
    "# spliting data into train and test\n",
    "X_train, X_test, y_train, y_test = train_test_split(tfidfw2v_vecs_norm,df_sample['Score'].values,\n",
    "                                                   test_size=0.3, shuffle=False)"
   ]
  },
  {
   "cell_type": "code",
   "execution_count": 0,
   "metadata": {
    "colab": {
     "autoexec": {
      "startup": false,
      "wait_interval": 0
     }
    },
    "colab_type": "code",
    "id": "pXJRnixHE9H9"
   },
   "outputs": [],
   "source": [
    "neigh_near = 100\n",
    "tscv = TimeSeriesSplit(n_splits=10)\n",
    "cv_scores = []\n",
    "mylist = list(range(0, 101))\n",
    "neighbors = list(filter(lambda x: x % 2 != 0, mylist))\n",
    "\n",
    "for k in neighbors:\n",
    "    tmp = []\n",
    "    for train, cv in tscv.split(X_train):\n",
    "        knn = KNeighborsClassifier(n_neighbors=k)\n",
    "        knn.fit(X_train[train], y_train[train])\n",
    "        tmp.append(knn.score(X_train[cv], y_train[cv]) * 100)\n",
    "    tmp = np.array(tmp)\n",
    "    cv_scores.append(tmp.mean())"
   ]
  },
  {
   "cell_type": "code",
   "execution_count": 155,
   "metadata": {
    "colab": {
     "autoexec": {
      "startup": false,
      "wait_interval": 0
     },
     "base_uri": "https://localhost:8080/",
     "height": 34
    },
    "colab_type": "code",
    "executionInfo": {
     "elapsed": 1060,
     "status": "ok",
     "timestamp": 1530334119607,
     "user": {
      "displayName": "Vijay Bhati",
      "photoUrl": "//lh6.googleusercontent.com/-8eiDzCxazcQ/AAAAAAAAAAI/AAAAAAAAETg/em_yQO7VCzk/s50-c-k-no/photo.jpg",
      "userId": "111311313461951215577"
     },
     "user_tz": -330
    },
    "id": "gG33j6_QFxRB",
    "outputId": "6f79419a-0b8a-4caf-d327-cafc1dbc8ee1"
   },
   "outputs": [
    {
     "name": "stdout",
     "output_type": "stream",
     "text": [
      "The optimal number of neighbors is 15\n"
     ]
    }
   ],
   "source": [
    "MSE = [1 - x for x in cv_scores] # changing to misclassification error\n",
    "optimal_k = neighbors[MSE.index(min(MSE))] # determining best k\n",
    "print('The optimal number of neighbors is %d' %optimal_k)"
   ]
  },
  {
   "cell_type": "code",
   "execution_count": 139,
   "metadata": {
    "colab": {
     "autoexec": {
      "startup": false,
      "wait_interval": 0
     },
     "base_uri": "https://localhost:8080/",
     "height": 293
    },
    "colab_type": "code",
    "executionInfo": {
     "elapsed": 859,
     "status": "ok",
     "timestamp": 1530333157465,
     "user": {
      "displayName": "Vijay Bhati",
      "photoUrl": "//lh6.googleusercontent.com/-8eiDzCxazcQ/AAAAAAAAAAI/AAAAAAAAETg/em_yQO7VCzk/s50-c-k-no/photo.jpg",
      "userId": "111311313461951215577"
     },
     "user_tz": -330
    },
    "id": "XhbbGLTgGrHx",
    "outputId": "4f80c2a3-40fc-4f58-8c6a-eedc092cd720"
   },
   "outputs": [
    {
     "data": {
      "image/png": "[encoded data removed]",
      "text/plain": [
       "<matplotlib.figure.Figure at 0x7f98296119e8>"
      ]
     },
     "metadata": {
      "tags": []
     },
     "output_type": "display_data"
    }
   ],
   "source": [
    "plt.plot(np.arange(1, neigh_near, 2), cv_scores)\n",
    "plt.xlabel(\"K Nearest Neighbors\")\n",
    "plt.ylabel(\"Accuracy\")\n",
    "plt.title(\"Accuracy for different k values\")\n",
    "plt.show()"
   ]
  },
  {
   "cell_type": "code",
   "execution_count": 140,
   "metadata": {
    "colab": {
     "autoexec": {
      "startup": false,
      "wait_interval": 0
     },
     "base_uri": "https://localhost:8080/",
     "height": 34
    },
    "colab_type": "code",
    "executionInfo": {
     "elapsed": 11432,
     "status": "ok",
     "timestamp": 1530333169908,
     "user": {
      "displayName": "Vijay Bhati",
      "photoUrl": "//lh6.googleusercontent.com/-8eiDzCxazcQ/AAAAAAAAAAI/AAAAAAAAETg/em_yQO7VCzk/s50-c-k-no/photo.jpg",
      "userId": "111311313461951215577"
     },
     "user_tz": -330
    },
    "id": "6cMx5RRnGtqk",
    "outputId": "da61b3a9-36b2-43ce-93f2-09695219630d"
   },
   "outputs": [
    {
     "name": "stdout",
     "output_type": "stream",
     "text": [
      "Accuracy on training set: 84.689%\n"
     ]
    }
   ],
   "source": [
    "knn = KNeighborsClassifier(n_neighbors=optimal_k)\n",
    "knn.fit(X_train, y_train)\n",
    "score = knn.score(X_test,y_test)\n",
    "print(\"Accuracy on training set: %0.3f%%\"%(score*100))"
   ]
  },
  {
   "cell_type": "markdown",
   "metadata": {
    "colab_type": "text",
    "id": "eCWsRa43JhEY"
   },
   "source": [
    "# Conclusion:-\n",
    "* Avg W2Vec gives the best result in classifying the reviews as positive or negative"
   ]
  },
  {
   "cell_type": "code",
   "execution_count": 172,
   "metadata": {
    "colab": {
     "autoexec": {
      "startup": false,
      "wait_interval": 0
     },
     "base_uri": "https://localhost:8080/",
     "height": 732
    },
    "colab_type": "code",
    "executionInfo": {
     "elapsed": 2231,
     "status": "ok",
     "timestamp": 1530335484276,
     "user": {
      "displayName": "Vijay Bhati",
      "photoUrl": "//lh6.googleusercontent.com/-8eiDzCxazcQ/AAAAAAAAAAI/AAAAAAAAETg/em_yQO7VCzk/s50-c-k-no/photo.jpg",
      "userId": "111311313461951215577"
     },
     "user_tz": -330
    },
    "id": "jRZXuMqFc1Vg",
    "outputId": "3cae5d22-8b42-4913-c67b-608c71f95e47"
   },
   "outputs": [
    {
     "data": {
      "image/png": "[encoded data removed]",
      "text/plain": [
       "<matplotlib.figure.Figure at 0x7f98274cf4a8>"
      ]
     },
     "metadata": {
      "tags": []
     },
     "output_type": "display_data"
    },
    {
     "name": "stdout",
     "output_type": "stream",
     "text": [
      "the misclassification error for each k value is :  [-79.786 -82.857 -83.853 -84.252 -84.252 -84.356 -84.377 -84.409 -84.377\n",
      " -84.346 -84.252 -84.21  -84.199 -84.168 -84.052 -84.073 -84.073 -83.948\n",
      " -83.885 -83.906 -83.853 -83.885 -83.906 -83.885 -83.843 -83.843 -83.853\n",
      " -83.832 -83.811 -83.79  -83.822 -83.822 -83.843 -83.822 -83.79  -83.78\n",
      " -83.759 -83.748 -83.748 -83.759 -83.759 -83.727 -83.727 -83.717 -83.717\n",
      " -83.717 -83.696 -83.696 -83.675 -83.665]\n"
     ]
    }
   ],
   "source": [
    "plt.figure(figsize=(50,10))\n",
    "plt.plot(neighbors, MSE)\n",
    "\n",
    "for xy in zip(neighbors, np.round(MSE,3)):\n",
    "    plt.annotate('(%s, %s)' % xy, xy=xy, textcoords='data')\n",
    "\n",
    "\n",
    "plt.xlabel('Number of Neighbors K')\n",
    "plt.ylabel('Misclassification Error')\n",
    "plt.show()\n",
    "\n",
    "print(\"the misclassification error for each k value is : \", np.round(MSE,3))"
   ]
  },
  {
   "cell_type": "code",
   "execution_count": 170,
   "metadata": {
    "colab": {
     "autoexec": {
      "startup": false,
      "wait_interval": 0
     },
     "base_uri": "https://localhost:8080/",
     "height": 307
    },
    "colab_type": "code",
    "executionInfo": {
     "elapsed": 938,
     "status": "ok",
     "timestamp": 1530335443043,
     "user": {
      "displayName": "Vijay Bhati",
      "photoUrl": "//lh6.googleusercontent.com/-8eiDzCxazcQ/AAAAAAAAAAI/AAAAAAAAETg/em_yQO7VCzk/s50-c-k-no/photo.jpg",
      "userId": "111311313461951215577"
     },
     "user_tz": -330
    },
    "id": "jr3yvAqNDmXg",
    "outputId": "4a5ce179-a4bd-4909-8a1b-ed4859b9d4cb"
   },
   "outputs": [
    {
     "data": {
      "image/png": "[encoded data removed]",
      "text/plain": [
       "<matplotlib.figure.Figure at 0x7f9803907c88>"
      ]
     },
     "metadata": {
      "tags": []
     },
     "output_type": "display_data"
    }
   ],
   "source": [
    "knn_model_accuracy = {\n",
    "    'BoW': 0.84965,\n",
    "    'Tf-Idf': 0.84889,\n",
    "    'Avg-W2V': 0.85311,\n",
    "    'Tf-Idf-W2V': 0.84689\n",
    "}\n",
    "\n",
    "pd.Series(knn_model_accuracy).plot(kind='bar')\n",
    "plt.ylabel('Accuracy Score')\n",
    "plt.ylim((0.84, 0.86));"
   ]
  },
  {
   "cell_type": "code",
   "execution_count": 0,
   "metadata": {
    "colab": {
     "autoexec": {
      "startup": false,
      "wait_interval": 0
     }
    },
    "colab_type": "code",
    "id": "8LPeBFFUGVK3"
   },
   "outputs": [],
   "source": []
  }
 ],
 "metadata": {
  "accelerator": "GPU",
  "colab": {
   "collapsed_sections": [],
   "default_view": {},
   "name": "k_NN_on_Amazon_reviews_data_set.ipynb",
   "provenance": [],
   "version": "0.3.2",
   "views": {}
  },
  "kernelspec": {
   "display_name": "Python 3",
   "language": "python",
   "name": "python3"
  },
  "language_info": {
   "codemirror_mode": {
    "name": "ipython",
    "version": 3
   },
   "file_extension": ".py",
   "mimetype": "text/x-python",
   "name": "python",
   "nbconvert_exporter": "python",
   "pygments_lexer": "ipython3",
   "version": "3.6.5"
  }
 },
 "nbformat": 4,
 "nbformat_minor": 1
}
