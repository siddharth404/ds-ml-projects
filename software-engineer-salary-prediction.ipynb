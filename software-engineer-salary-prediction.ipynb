{
 "cells": [
  {
   "cell_type": "code",
   "execution_count": 1,
   "id": "beacc49d",
   "metadata": {
    "_cell_guid": "b1076dfc-b9ad-4769-8c92-a6c4dae69d19",
    "_uuid": "8f2839f25d086af736a60e9eeb907d3b93b6e0e5",
    "execution": {
     "iopub.execute_input": "2023-12-25T14:04:10.741595Z",
     "iopub.status.busy": "2023-12-25T14:04:10.741047Z",
     "iopub.status.idle": "2023-12-25T14:04:13.888522Z",
     "shell.execute_reply": "2023-12-25T14:04:13.887123Z"
    },
    "papermill": {
     "duration": 3.164663,
     "end_time": "2023-12-25T14:04:13.891247",
     "exception": false,
     "start_time": "2023-12-25T14:04:10.726584",
     "status": "completed"
    },
    "tags": []
   },
   "outputs": [
    {
     "name": "stdout",
     "output_type": "stream",
     "text": [
      "/kaggle/input/salary-data/Salary_Data.csv\n"
     ]
    }
   ],
   "source": [
    "# Import\n",
    "import numpy as np\n",
    "import pandas as pd\n",
    "from matplotlib import pyplot as plt\n",
    "import seaborn \n",
    "from sklearn.model_selection import train_test_split\n",
    "from sklearn.linear_model import LinearRegression\n",
    "%matplotlib inline\n",
    "\n",
    "# Input data files are available in the read-only \"../input/\" directory\n",
    "# For example, running this (by clicking run or pressing Shift+Enter) will list all files under the input directory\n",
    "\n",
    "import os\n",
    "for dirname, _, filenames in os.walk('/kaggle/input'):\n",
    "    for filename in filenames:\n",
    "        print(os.path.join(dirname, filename))"
   ]
  },
  {
   "cell_type": "code",
   "execution_count": 2,
   "id": "e6c6c440",
   "metadata": {
    "execution": {
     "iopub.execute_input": "2023-12-25T14:04:13.923963Z",
     "iopub.status.busy": "2023-12-25T14:04:13.923385Z",
     "iopub.status.idle": "2023-12-25T14:04:13.928713Z",
     "shell.execute_reply": "2023-12-25T14:04:13.927473Z"
    },
    "papermill": {
     "duration": 0.024828,
     "end_time": "2023-12-25T14:04:13.931148",
     "exception": false,
     "start_time": "2023-12-25T14:04:13.906320",
     "status": "completed"
    },
    "tags": []
   },
   "outputs": [],
   "source": [
    "# Path\n",
    "path = \"/kaggle/input/salary-data/Salary_Data.csv\""
   ]
  },
  {
   "cell_type": "code",
   "execution_count": 3,
   "id": "3c648809",
   "metadata": {
    "execution": {
     "iopub.execute_input": "2023-12-25T14:04:13.956957Z",
     "iopub.status.busy": "2023-12-25T14:04:13.955794Z",
     "iopub.status.idle": "2023-12-25T14:04:14.024319Z",
     "shell.execute_reply": "2023-12-25T14:04:14.022958Z"
    },
    "papermill": {
     "duration": 0.085,
     "end_time": "2023-12-25T14:04:14.027683",
     "exception": false,
     "start_time": "2023-12-25T14:04:13.942683",
     "status": "completed"
    },
    "tags": []
   },
   "outputs": [
    {
     "data": {
      "text/html": [
       "<div>\n",
       "<style scoped>\n",
       "    .dataframe tbody tr th:only-of-type {\n",
       "        vertical-align: middle;\n",
       "    }\n",
       "\n",
       "    .dataframe tbody tr th {\n",
       "        vertical-align: top;\n",
       "    }\n",
       "\n",
       "    .dataframe thead th {\n",
       "        text-align: right;\n",
       "    }\n",
       "</style>\n",
       "<table border=\"1\" class=\"dataframe\">\n",
       "  <thead>\n",
       "    <tr style=\"text-align: right;\">\n",
       "      <th></th>\n",
       "      <th>Age</th>\n",
       "      <th>Gender</th>\n",
       "      <th>Education Level</th>\n",
       "      <th>Job Title</th>\n",
       "      <th>Years of Experience</th>\n",
       "      <th>Salary</th>\n",
       "    </tr>\n",
       "  </thead>\n",
       "  <tbody>\n",
       "    <tr>\n",
       "      <th>0</th>\n",
       "      <td>32.0</td>\n",
       "      <td>Male</td>\n",
       "      <td>Bachelor's</td>\n",
       "      <td>Software Engineer</td>\n",
       "      <td>5.0</td>\n",
       "      <td>90000.0</td>\n",
       "    </tr>\n",
       "    <tr>\n",
       "      <th>1</th>\n",
       "      <td>28.0</td>\n",
       "      <td>Female</td>\n",
       "      <td>Master's</td>\n",
       "      <td>Data Analyst</td>\n",
       "      <td>3.0</td>\n",
       "      <td>65000.0</td>\n",
       "    </tr>\n",
       "    <tr>\n",
       "      <th>2</th>\n",
       "      <td>45.0</td>\n",
       "      <td>Male</td>\n",
       "      <td>PhD</td>\n",
       "      <td>Senior Manager</td>\n",
       "      <td>15.0</td>\n",
       "      <td>150000.0</td>\n",
       "    </tr>\n",
       "    <tr>\n",
       "      <th>3</th>\n",
       "      <td>36.0</td>\n",
       "      <td>Female</td>\n",
       "      <td>Bachelor's</td>\n",
       "      <td>Sales Associate</td>\n",
       "      <td>7.0</td>\n",
       "      <td>60000.0</td>\n",
       "    </tr>\n",
       "    <tr>\n",
       "      <th>4</th>\n",
       "      <td>52.0</td>\n",
       "      <td>Male</td>\n",
       "      <td>Master's</td>\n",
       "      <td>Director</td>\n",
       "      <td>20.0</td>\n",
       "      <td>200000.0</td>\n",
       "    </tr>\n",
       "    <tr>\n",
       "      <th>5</th>\n",
       "      <td>29.0</td>\n",
       "      <td>Male</td>\n",
       "      <td>Bachelor's</td>\n",
       "      <td>Marketing Analyst</td>\n",
       "      <td>2.0</td>\n",
       "      <td>55000.0</td>\n",
       "    </tr>\n",
       "    <tr>\n",
       "      <th>6</th>\n",
       "      <td>42.0</td>\n",
       "      <td>Female</td>\n",
       "      <td>Master's</td>\n",
       "      <td>Product Manager</td>\n",
       "      <td>12.0</td>\n",
       "      <td>120000.0</td>\n",
       "    </tr>\n",
       "    <tr>\n",
       "      <th>7</th>\n",
       "      <td>31.0</td>\n",
       "      <td>Male</td>\n",
       "      <td>Bachelor's</td>\n",
       "      <td>Sales Manager</td>\n",
       "      <td>4.0</td>\n",
       "      <td>80000.0</td>\n",
       "    </tr>\n",
       "    <tr>\n",
       "      <th>8</th>\n",
       "      <td>26.0</td>\n",
       "      <td>Female</td>\n",
       "      <td>Bachelor's</td>\n",
       "      <td>Marketing Coordinator</td>\n",
       "      <td>1.0</td>\n",
       "      <td>45000.0</td>\n",
       "    </tr>\n",
       "    <tr>\n",
       "      <th>9</th>\n",
       "      <td>38.0</td>\n",
       "      <td>Male</td>\n",
       "      <td>PhD</td>\n",
       "      <td>Senior Scientist</td>\n",
       "      <td>10.0</td>\n",
       "      <td>110000.0</td>\n",
       "    </tr>\n",
       "  </tbody>\n",
       "</table>\n",
       "</div>"
      ],
      "text/plain": [
       "    Age  Gender Education Level              Job Title  Years of Experience  \\\n",
       "0  32.0    Male      Bachelor's      Software Engineer                  5.0   \n",
       "1  28.0  Female        Master's           Data Analyst                  3.0   \n",
       "2  45.0    Male             PhD         Senior Manager                 15.0   \n",
       "3  36.0  Female      Bachelor's        Sales Associate                  7.0   \n",
       "4  52.0    Male        Master's               Director                 20.0   \n",
       "5  29.0    Male      Bachelor's      Marketing Analyst                  2.0   \n",
       "6  42.0  Female        Master's        Product Manager                 12.0   \n",
       "7  31.0    Male      Bachelor's          Sales Manager                  4.0   \n",
       "8  26.0  Female      Bachelor's  Marketing Coordinator                  1.0   \n",
       "9  38.0    Male             PhD       Senior Scientist                 10.0   \n",
       "\n",
       "     Salary  \n",
       "0   90000.0  \n",
       "1   65000.0  \n",
       "2  150000.0  \n",
       "3   60000.0  \n",
       "4  200000.0  \n",
       "5   55000.0  \n",
       "6  120000.0  \n",
       "7   80000.0  \n",
       "8   45000.0  \n",
       "9  110000.0  "
      ]
     },
     "execution_count": 3,
     "metadata": {},
     "output_type": "execute_result"
    }
   ],
   "source": [
    "# Loading the dataset\n",
    "data = pd.read_csv(path)\n",
    "\n",
    "# Head\n",
    "data.head(10)"
   ]
  },
  {
   "cell_type": "code",
   "execution_count": 4,
   "id": "a7cf9f11",
   "metadata": {
    "execution": {
     "iopub.execute_input": "2023-12-25T14:04:14.063057Z",
     "iopub.status.busy": "2023-12-25T14:04:14.062446Z",
     "iopub.status.idle": "2023-12-25T14:04:14.096663Z",
     "shell.execute_reply": "2023-12-25T14:04:14.095541Z"
    },
    "papermill": {
     "duration": 0.057016,
     "end_time": "2023-12-25T14:04:14.099819",
     "exception": false,
     "start_time": "2023-12-25T14:04:14.042803",
     "status": "completed"
    },
    "tags": []
   },
   "outputs": [
    {
     "name": "stdout",
     "output_type": "stream",
     "text": [
      "<class 'pandas.core.frame.DataFrame'>\n",
      "RangeIndex: 6704 entries, 0 to 6703\n",
      "Data columns (total 6 columns):\n",
      " #   Column               Non-Null Count  Dtype  \n",
      "---  ------               --------------  -----  \n",
      " 0   Age                  6702 non-null   float64\n",
      " 1   Gender               6702 non-null   object \n",
      " 2   Education Level      6701 non-null   object \n",
      " 3   Job Title            6702 non-null   object \n",
      " 4   Years of Experience  6701 non-null   float64\n",
      " 5   Salary               6699 non-null   float64\n",
      "dtypes: float64(3), object(3)\n",
      "memory usage: 314.4+ KB\n"
     ]
    }
   ],
   "source": [
    "# Info\n",
    "data.info()"
   ]
  },
  {
   "cell_type": "code",
   "execution_count": 5,
   "id": "6d2cc7fe",
   "metadata": {
    "execution": {
     "iopub.execute_input": "2023-12-25T14:04:14.139482Z",
     "iopub.status.busy": "2023-12-25T14:04:14.138501Z",
     "iopub.status.idle": "2023-12-25T14:04:14.173093Z",
     "shell.execute_reply": "2023-12-25T14:04:14.171886Z"
    },
    "papermill": {
     "duration": 0.060057,
     "end_time": "2023-12-25T14:04:14.175711",
     "exception": false,
     "start_time": "2023-12-25T14:04:14.115654",
     "status": "completed"
    },
    "tags": []
   },
   "outputs": [
    {
     "data": {
      "text/html": [
       "<div>\n",
       "<style scoped>\n",
       "    .dataframe tbody tr th:only-of-type {\n",
       "        vertical-align: middle;\n",
       "    }\n",
       "\n",
       "    .dataframe tbody tr th {\n",
       "        vertical-align: top;\n",
       "    }\n",
       "\n",
       "    .dataframe thead th {\n",
       "        text-align: right;\n",
       "    }\n",
       "</style>\n",
       "<table border=\"1\" class=\"dataframe\">\n",
       "  <thead>\n",
       "    <tr style=\"text-align: right;\">\n",
       "      <th></th>\n",
       "      <th>count</th>\n",
       "      <th>mean</th>\n",
       "      <th>std</th>\n",
       "      <th>min</th>\n",
       "      <th>25%</th>\n",
       "      <th>50%</th>\n",
       "      <th>75%</th>\n",
       "      <th>max</th>\n",
       "    </tr>\n",
       "  </thead>\n",
       "  <tbody>\n",
       "    <tr>\n",
       "      <th>Age</th>\n",
       "      <td>6702.0</td>\n",
       "      <td>33.620859</td>\n",
       "      <td>7.614633</td>\n",
       "      <td>21.0</td>\n",
       "      <td>28.0</td>\n",
       "      <td>32.0</td>\n",
       "      <td>38.0</td>\n",
       "      <td>62.0</td>\n",
       "    </tr>\n",
       "    <tr>\n",
       "      <th>Years of Experience</th>\n",
       "      <td>6701.0</td>\n",
       "      <td>8.094687</td>\n",
       "      <td>6.059003</td>\n",
       "      <td>0.0</td>\n",
       "      <td>3.0</td>\n",
       "      <td>7.0</td>\n",
       "      <td>12.0</td>\n",
       "      <td>34.0</td>\n",
       "    </tr>\n",
       "    <tr>\n",
       "      <th>Salary</th>\n",
       "      <td>6699.0</td>\n",
       "      <td>115326.964771</td>\n",
       "      <td>52786.183911</td>\n",
       "      <td>350.0</td>\n",
       "      <td>70000.0</td>\n",
       "      <td>115000.0</td>\n",
       "      <td>160000.0</td>\n",
       "      <td>250000.0</td>\n",
       "    </tr>\n",
       "  </tbody>\n",
       "</table>\n",
       "</div>"
      ],
      "text/plain": [
       "                      count           mean           std    min      25%  \\\n",
       "Age                  6702.0      33.620859      7.614633   21.0     28.0   \n",
       "Years of Experience  6701.0       8.094687      6.059003    0.0      3.0   \n",
       "Salary               6699.0  115326.964771  52786.183911  350.0  70000.0   \n",
       "\n",
       "                          50%       75%       max  \n",
       "Age                      32.0      38.0      62.0  \n",
       "Years of Experience       7.0      12.0      34.0  \n",
       "Salary               115000.0  160000.0  250000.0  "
      ]
     },
     "execution_count": 5,
     "metadata": {},
     "output_type": "execute_result"
    }
   ],
   "source": [
    "# Basic stats (Numerical)\n",
    "data.describe().T"
   ]
  },
  {
   "cell_type": "code",
   "execution_count": 6,
   "id": "5b3ff491",
   "metadata": {
    "execution": {
     "iopub.execute_input": "2023-12-25T14:04:14.202375Z",
     "iopub.status.busy": "2023-12-25T14:04:14.201957Z",
     "iopub.status.idle": "2023-12-25T14:04:14.229817Z",
     "shell.execute_reply": "2023-12-25T14:04:14.228853Z"
    },
    "papermill": {
     "duration": 0.044276,
     "end_time": "2023-12-25T14:04:14.232506",
     "exception": false,
     "start_time": "2023-12-25T14:04:14.188230",
     "status": "completed"
    },
    "tags": []
   },
   "outputs": [
    {
     "data": {
      "text/html": [
       "<div>\n",
       "<style scoped>\n",
       "    .dataframe tbody tr th:only-of-type {\n",
       "        vertical-align: middle;\n",
       "    }\n",
       "\n",
       "    .dataframe tbody tr th {\n",
       "        vertical-align: top;\n",
       "    }\n",
       "\n",
       "    .dataframe thead th {\n",
       "        text-align: right;\n",
       "    }\n",
       "</style>\n",
       "<table border=\"1\" class=\"dataframe\">\n",
       "  <thead>\n",
       "    <tr style=\"text-align: right;\">\n",
       "      <th></th>\n",
       "      <th>count</th>\n",
       "      <th>unique</th>\n",
       "      <th>top</th>\n",
       "      <th>freq</th>\n",
       "    </tr>\n",
       "  </thead>\n",
       "  <tbody>\n",
       "    <tr>\n",
       "      <th>Gender</th>\n",
       "      <td>6702</td>\n",
       "      <td>3</td>\n",
       "      <td>Male</td>\n",
       "      <td>3674</td>\n",
       "    </tr>\n",
       "    <tr>\n",
       "      <th>Education Level</th>\n",
       "      <td>6701</td>\n",
       "      <td>7</td>\n",
       "      <td>Bachelor's Degree</td>\n",
       "      <td>2267</td>\n",
       "    </tr>\n",
       "    <tr>\n",
       "      <th>Job Title</th>\n",
       "      <td>6702</td>\n",
       "      <td>193</td>\n",
       "      <td>Software Engineer</td>\n",
       "      <td>518</td>\n",
       "    </tr>\n",
       "  </tbody>\n",
       "</table>\n",
       "</div>"
      ],
      "text/plain": [
       "                count unique                top  freq\n",
       "Gender           6702      3               Male  3674\n",
       "Education Level  6701      7  Bachelor's Degree  2267\n",
       "Job Title        6702    193  Software Engineer   518"
      ]
     },
     "execution_count": 6,
     "metadata": {},
     "output_type": "execute_result"
    }
   ],
   "source": [
    "# Basic stats (Categorical)\n",
    "data.describe(include=\"object\").T"
   ]
  },
  {
   "cell_type": "code",
   "execution_count": 7,
   "id": "d0bf5a06",
   "metadata": {
    "execution": {
     "iopub.execute_input": "2023-12-25T14:04:14.259885Z",
     "iopub.status.busy": "2023-12-25T14:04:14.259097Z",
     "iopub.status.idle": "2023-12-25T14:04:15.313888Z",
     "shell.execute_reply": "2023-12-25T14:04:15.312569Z"
    },
    "papermill": {
     "duration": 1.07158,
     "end_time": "2023-12-25T14:04:15.316733",
     "exception": false,
     "start_time": "2023-12-25T14:04:14.245153",
     "status": "completed"
    },
    "tags": []
   },
   "outputs": [
    {
     "data": {
      "text/plain": [
       "array([[<Axes: title={'center': 'Age'}>,\n",
       "        <Axes: title={'center': 'Years of Experience'}>],\n",
       "       [<Axes: title={'center': 'Salary'}>, <Axes: >]], dtype=object)"
      ]
     },
     "execution_count": 7,
     "metadata": {},
     "output_type": "execute_result"
    },
    {
     "data": {
      "image/png": "[encoded data removed]",
      "text/plain": [
       "<Figure size 1500x1000 with 4 Axes>"
      ]
     },
     "metadata": {},
     "output_type": "display_data"
    }
   ],
   "source": [
    "# Distribution of quantitive data\n",
    "data.hist(figsize=(15,10))"
   ]
  },
  {
   "cell_type": "code",
   "execution_count": 8,
   "id": "6af647b8",
   "metadata": {
    "execution": {
     "iopub.execute_input": "2023-12-25T14:04:15.346150Z",
     "iopub.status.busy": "2023-12-25T14:04:15.345696Z",
     "iopub.status.idle": "2023-12-25T14:04:16.169259Z",
     "shell.execute_reply": "2023-12-25T14:04:16.167977Z"
    },
    "papermill": {
     "duration": 0.841289,
     "end_time": "2023-12-25T14:04:16.172111",
     "exception": false,
     "start_time": "2023-12-25T14:04:15.330822",
     "status": "completed"
    },
    "tags": []
   },
   "outputs": [
    {
     "data": {
      "text/plain": [
       "<seaborn.axisgrid.FacetGrid at 0x79b92fae0910>"
      ]
     },
     "execution_count": 8,
     "metadata": {},
     "output_type": "execute_result"
    },
    {
     "data": {
      "image/png": "[encoded data removed]",
      "text/plain": [
       "<Figure size 500x500 with 1 Axes>"
      ]
     },
     "metadata": {},
     "output_type": "display_data"
    },
    {
     "data": {
      "image/png": "[encoded data removed]",
      "text/plain": [
       "<Figure size 500x500 with 1 Axes>"
      ]
     },
     "metadata": {},
     "output_type": "display_data"
    }
   ],
   "source": [
    "# distribution of qualitative data\n",
    "seaborn.catplot(data=data,x = \"Gender\", kind=\"count\")\n",
    "seaborn.catplot(data=data,y = \"Education Level\", kind=\"count\")"
   ]
  },
  {
   "cell_type": "code",
   "execution_count": 9,
   "id": "c09d7b85",
   "metadata": {
    "execution": {
     "iopub.execute_input": "2023-12-25T14:04:16.205045Z",
     "iopub.status.busy": "2023-12-25T14:04:16.204544Z",
     "iopub.status.idle": "2023-12-25T14:04:16.213389Z",
     "shell.execute_reply": "2023-12-25T14:04:16.212433Z"
    },
    "papermill": {
     "duration": 0.029034,
     "end_time": "2023-12-25T14:04:16.215840",
     "exception": false,
     "start_time": "2023-12-25T14:04:16.186806",
     "status": "completed"
    },
    "tags": []
   },
   "outputs": [
    {
     "data": {
      "text/plain": [
       "array([\"Bachelor's\", \"Master's\", 'PhD', nan, \"Bachelor's Degree\",\n",
       "       \"Master's Degree\", 'High School', 'phD'], dtype=object)"
      ]
     },
     "execution_count": 9,
     "metadata": {},
     "output_type": "execute_result"
    }
   ],
   "source": [
    "# Unique Values in Education Level column\n",
    "data[\"Education Level\"].unique()"
   ]
  },
  {
   "cell_type": "code",
   "execution_count": 10,
   "id": "20887fb8",
   "metadata": {
    "execution": {
     "iopub.execute_input": "2023-12-25T14:04:16.248803Z",
     "iopub.status.busy": "2023-12-25T14:04:16.247990Z",
     "iopub.status.idle": "2023-12-25T14:04:16.259373Z",
     "shell.execute_reply": "2023-12-25T14:04:16.258454Z"
    },
    "papermill": {
     "duration": 0.03061,
     "end_time": "2023-12-25T14:04:16.262005",
     "exception": false,
     "start_time": "2023-12-25T14:04:16.231395",
     "status": "completed"
    },
    "tags": []
   },
   "outputs": [
    {
     "data": {
      "text/plain": [
       "Age                    2\n",
       "Gender                 2\n",
       "Education Level        3\n",
       "Job Title              2\n",
       "Years of Experience    3\n",
       "Salary                 5\n",
       "dtype: int64"
      ]
     },
     "execution_count": 10,
     "metadata": {},
     "output_type": "execute_result"
    }
   ],
   "source": [
    "# Sum of missing/NAN values\n",
    "data.isnull().sum()"
   ]
  },
  {
   "cell_type": "code",
   "execution_count": 11,
   "id": "94b4798b",
   "metadata": {
    "execution": {
     "iopub.execute_input": "2023-12-25T14:04:16.296171Z",
     "iopub.status.busy": "2023-12-25T14:04:16.295207Z",
     "iopub.status.idle": "2023-12-25T14:04:16.311490Z",
     "shell.execute_reply": "2023-12-25T14:04:16.310240Z"
    },
    "papermill": {
     "duration": 0.035613,
     "end_time": "2023-12-25T14:04:16.314393",
     "exception": false,
     "start_time": "2023-12-25T14:04:16.278780",
     "status": "completed"
    },
    "tags": []
   },
   "outputs": [
    {
     "data": {
      "text/plain": [
       "Age                    0\n",
       "Gender                 0\n",
       "Education Level        0\n",
       "Job Title              0\n",
       "Years of Experience    0\n",
       "Salary                 0\n",
       "dtype: int64"
      ]
     },
     "execution_count": 11,
     "metadata": {},
     "output_type": "execute_result"
    }
   ],
   "source": [
    "# Dropping rows with missing/NAN values\n",
    "data = data.dropna()\n",
    "\n",
    "# Recheck\n",
    "data.isnull().sum()"
   ]
  },
  {
   "cell_type": "markdown",
   "id": "b4893cab",
   "metadata": {
    "papermill": {
     "duration": 0.01448,
     "end_time": "2023-12-25T14:04:16.344244",
     "exception": false,
     "start_time": "2023-12-25T14:04:16.329764",
     "status": "completed"
    },
    "tags": []
   },
   "source": [
    "### **Synopsis**: The higher the experience, the better the pay gets with respect to the field/job title. The line graph below doesn't take job/field into account."
   ]
  },
  {
   "cell_type": "code",
   "execution_count": 12,
   "id": "92aba593",
   "metadata": {
    "execution": {
     "iopub.execute_input": "2023-12-25T14:04:16.376684Z",
     "iopub.status.busy": "2023-12-25T14:04:16.376244Z",
     "iopub.status.idle": "2023-12-25T14:04:18.051002Z",
     "shell.execute_reply": "2023-12-25T14:04:18.049759Z"
    },
    "papermill": {
     "duration": 1.69418,
     "end_time": "2023-12-25T14:04:18.053566",
     "exception": false,
     "start_time": "2023-12-25T14:04:16.359386",
     "status": "completed"
    },
    "tags": []
   },
   "outputs": [
    {
     "data": {
      "text/plain": [
       "<Axes: xlabel='Years of Experience', ylabel='Salary'>"
      ]
     },
     "execution_count": 12,
     "metadata": {},
     "output_type": "execute_result"
    },
    {
     "data": {
      "image/png": "[encoded data removed]",
      "text/plain": [
       "<Figure size 640x480 with 1 Axes>"
      ]
     },
     "metadata": {},
     "output_type": "display_data"
    }
   ],
   "source": [
    "seaborn.lineplot(data = data,x = \"Years of Experience\",y = \"Salary\")"
   ]
  },
  {
   "cell_type": "markdown",
   "id": "629e8201",
   "metadata": {
    "papermill": {
     "duration": 0.015349,
     "end_time": "2023-12-25T14:04:18.084897",
     "exception": false,
     "start_time": "2023-12-25T14:04:18.069548",
     "status": "completed"
    },
    "tags": []
   },
   "source": [
    "> Selecting Rows with 'Software Engineer' as title"
   ]
  },
  {
   "cell_type": "code",
   "execution_count": 13,
   "id": "6b6ecb10",
   "metadata": {
    "execution": {
     "iopub.execute_input": "2023-12-25T14:04:18.119347Z",
     "iopub.status.busy": "2023-12-25T14:04:18.118915Z",
     "iopub.status.idle": "2023-12-25T14:04:18.137570Z",
     "shell.execute_reply": "2023-12-25T14:04:18.136533Z"
    },
    "papermill": {
     "duration": 0.038759,
     "end_time": "2023-12-25T14:04:18.139960",
     "exception": false,
     "start_time": "2023-12-25T14:04:18.101201",
     "status": "completed"
    },
    "tags": []
   },
   "outputs": [
    {
     "data": {
      "text/html": [
       "<div>\n",
       "<style scoped>\n",
       "    .dataframe tbody tr th:only-of-type {\n",
       "        vertical-align: middle;\n",
       "    }\n",
       "\n",
       "    .dataframe tbody tr th {\n",
       "        vertical-align: top;\n",
       "    }\n",
       "\n",
       "    .dataframe thead th {\n",
       "        text-align: right;\n",
       "    }\n",
       "</style>\n",
       "<table border=\"1\" class=\"dataframe\">\n",
       "  <thead>\n",
       "    <tr style=\"text-align: right;\">\n",
       "      <th></th>\n",
       "      <th>Age</th>\n",
       "      <th>Gender</th>\n",
       "      <th>Education Level</th>\n",
       "      <th>Job Title</th>\n",
       "      <th>Years of Experience</th>\n",
       "      <th>Salary</th>\n",
       "    </tr>\n",
       "  </thead>\n",
       "  <tbody>\n",
       "    <tr>\n",
       "      <th>0</th>\n",
       "      <td>32.0</td>\n",
       "      <td>Male</td>\n",
       "      <td>Bachelor's</td>\n",
       "      <td>Software Engineer</td>\n",
       "      <td>5.0</td>\n",
       "      <td>90000.0</td>\n",
       "    </tr>\n",
       "    <tr>\n",
       "      <th>376</th>\n",
       "      <td>28.0</td>\n",
       "      <td>Female</td>\n",
       "      <td>Bachelor's</td>\n",
       "      <td>Software Engineer</td>\n",
       "      <td>3.0</td>\n",
       "      <td>125000.0</td>\n",
       "    </tr>\n",
       "    <tr>\n",
       "      <th>380</th>\n",
       "      <td>29.0</td>\n",
       "      <td>Female</td>\n",
       "      <td>Bachelor's</td>\n",
       "      <td>Software Engineer</td>\n",
       "      <td>4.0</td>\n",
       "      <td>140000.0</td>\n",
       "    </tr>\n",
       "    <tr>\n",
       "      <th>384</th>\n",
       "      <td>31.0</td>\n",
       "      <td>Female</td>\n",
       "      <td>Bachelor's</td>\n",
       "      <td>Software Engineer</td>\n",
       "      <td>6.0</td>\n",
       "      <td>155000.0</td>\n",
       "    </tr>\n",
       "    <tr>\n",
       "      <th>388</th>\n",
       "      <td>29.0</td>\n",
       "      <td>Female</td>\n",
       "      <td>Bachelor's</td>\n",
       "      <td>Software Engineer</td>\n",
       "      <td>4.0</td>\n",
       "      <td>140000.0</td>\n",
       "    </tr>\n",
       "  </tbody>\n",
       "</table>\n",
       "</div>"
      ],
      "text/plain": [
       "      Age  Gender Education Level          Job Title  Years of Experience  \\\n",
       "0    32.0    Male      Bachelor's  Software Engineer                  5.0   \n",
       "376  28.0  Female      Bachelor's  Software Engineer                  3.0   \n",
       "380  29.0  Female      Bachelor's  Software Engineer                  4.0   \n",
       "384  31.0  Female      Bachelor's  Software Engineer                  6.0   \n",
       "388  29.0  Female      Bachelor's  Software Engineer                  4.0   \n",
       "\n",
       "       Salary  \n",
       "0     90000.0  \n",
       "376  125000.0  \n",
       "380  140000.0  \n",
       "384  155000.0  \n",
       "388  140000.0  "
      ]
     },
     "execution_count": 13,
     "metadata": {},
     "output_type": "execute_result"
    }
   ],
   "source": [
    "# Filtering Data\n",
    "swedata =  data.loc[data[\"Job Title\"] == 'Software Engineer']\n",
    "\n",
    "# Peeking in swedata\n",
    "swedata.head()"
   ]
  },
  {
   "cell_type": "code",
   "execution_count": 14,
   "id": "dfbeac0d",
   "metadata": {
    "execution": {
     "iopub.execute_input": "2023-12-25T14:04:18.173973Z",
     "iopub.status.busy": "2023-12-25T14:04:18.173239Z",
     "iopub.status.idle": "2023-12-25T14:04:18.181235Z",
     "shell.execute_reply": "2023-12-25T14:04:18.179841Z"
    },
    "papermill": {
     "duration": 0.02788,
     "end_time": "2023-12-25T14:04:18.183837",
     "exception": false,
     "start_time": "2023-12-25T14:04:18.155957",
     "status": "completed"
    },
    "tags": []
   },
   "outputs": [
    {
     "data": {
      "text/plain": [
       "(518, 6)"
      ]
     },
     "execution_count": 14,
     "metadata": {},
     "output_type": "execute_result"
    }
   ],
   "source": [
    "# Shape of the new dataframe\n",
    "swedata.shape"
   ]
  },
  {
   "cell_type": "code",
   "execution_count": 15,
   "id": "4b588b67",
   "metadata": {
    "execution": {
     "iopub.execute_input": "2023-12-25T14:04:18.219375Z",
     "iopub.status.busy": "2023-12-25T14:04:18.218957Z",
     "iopub.status.idle": "2023-12-25T14:04:18.249361Z",
     "shell.execute_reply": "2023-12-25T14:04:18.248005Z"
    },
    "papermill": {
     "duration": 0.051411,
     "end_time": "2023-12-25T14:04:18.251947",
     "exception": false,
     "start_time": "2023-12-25T14:04:18.200536",
     "status": "completed"
    },
    "tags": []
   },
   "outputs": [
    {
     "data": {
      "text/html": [
       "<div>\n",
       "<style scoped>\n",
       "    .dataframe tbody tr th:only-of-type {\n",
       "        vertical-align: middle;\n",
       "    }\n",
       "\n",
       "    .dataframe tbody tr th {\n",
       "        vertical-align: top;\n",
       "    }\n",
       "\n",
       "    .dataframe thead th {\n",
       "        text-align: right;\n",
       "    }\n",
       "</style>\n",
       "<table border=\"1\" class=\"dataframe\">\n",
       "  <thead>\n",
       "    <tr style=\"text-align: right;\">\n",
       "      <th></th>\n",
       "      <th>count</th>\n",
       "      <th>mean</th>\n",
       "      <th>std</th>\n",
       "      <th>min</th>\n",
       "      <th>25%</th>\n",
       "      <th>50%</th>\n",
       "      <th>75%</th>\n",
       "      <th>max</th>\n",
       "    </tr>\n",
       "  </thead>\n",
       "  <tbody>\n",
       "    <tr>\n",
       "      <th>Age</th>\n",
       "      <td>518.0</td>\n",
       "      <td>28.318533</td>\n",
       "      <td>2.617617</td>\n",
       "      <td>22.0</td>\n",
       "      <td>27.0</td>\n",
       "      <td>28.0</td>\n",
       "      <td>30.0</td>\n",
       "      <td>42.0</td>\n",
       "    </tr>\n",
       "    <tr>\n",
       "      <th>Years of Experience</th>\n",
       "      <td>518.0</td>\n",
       "      <td>4.449807</td>\n",
       "      <td>2.219221</td>\n",
       "      <td>1.0</td>\n",
       "      <td>3.0</td>\n",
       "      <td>4.0</td>\n",
       "      <td>5.0</td>\n",
       "      <td>13.0</td>\n",
       "    </tr>\n",
       "    <tr>\n",
       "      <th>Salary</th>\n",
       "      <td>518.0</td>\n",
       "      <td>113243.243243</td>\n",
       "      <td>48031.287179</td>\n",
       "      <td>50000.0</td>\n",
       "      <td>70000.0</td>\n",
       "      <td>90000.0</td>\n",
       "      <td>160000.0</td>\n",
       "      <td>197000.0</td>\n",
       "    </tr>\n",
       "  </tbody>\n",
       "</table>\n",
       "</div>"
      ],
      "text/plain": [
       "                     count           mean           std      min      25%  \\\n",
       "Age                  518.0      28.318533      2.617617     22.0     27.0   \n",
       "Years of Experience  518.0       4.449807      2.219221      1.0      3.0   \n",
       "Salary               518.0  113243.243243  48031.287179  50000.0  70000.0   \n",
       "\n",
       "                         50%       75%       max  \n",
       "Age                     28.0      30.0      42.0  \n",
       "Years of Experience      4.0       5.0      13.0  \n",
       "Salary               90000.0  160000.0  197000.0  "
      ]
     },
     "execution_count": 15,
     "metadata": {},
     "output_type": "execute_result"
    }
   ],
   "source": [
    "# Basic stats (Numerical)\n",
    "swedata.describe().T"
   ]
  },
  {
   "cell_type": "code",
   "execution_count": 16,
   "id": "82033836",
   "metadata": {
    "execution": {
     "iopub.execute_input": "2023-12-25T14:04:18.286481Z",
     "iopub.status.busy": "2023-12-25T14:04:18.286064Z",
     "iopub.status.idle": "2023-12-25T14:04:18.304391Z",
     "shell.execute_reply": "2023-12-25T14:04:18.303093Z"
    },
    "papermill": {
     "duration": 0.038886,
     "end_time": "2023-12-25T14:04:18.307280",
     "exception": false,
     "start_time": "2023-12-25T14:04:18.268394",
     "status": "completed"
    },
    "tags": []
   },
   "outputs": [
    {
     "data": {
      "text/html": [
       "<div>\n",
       "<style scoped>\n",
       "    .dataframe tbody tr th:only-of-type {\n",
       "        vertical-align: middle;\n",
       "    }\n",
       "\n",
       "    .dataframe tbody tr th {\n",
       "        vertical-align: top;\n",
       "    }\n",
       "\n",
       "    .dataframe thead th {\n",
       "        text-align: right;\n",
       "    }\n",
       "</style>\n",
       "<table border=\"1\" class=\"dataframe\">\n",
       "  <thead>\n",
       "    <tr style=\"text-align: right;\">\n",
       "      <th></th>\n",
       "      <th>count</th>\n",
       "      <th>unique</th>\n",
       "      <th>top</th>\n",
       "      <th>freq</th>\n",
       "    </tr>\n",
       "  </thead>\n",
       "  <tbody>\n",
       "    <tr>\n",
       "      <th>Gender</th>\n",
       "      <td>518</td>\n",
       "      <td>2</td>\n",
       "      <td>Male</td>\n",
       "      <td>325</td>\n",
       "    </tr>\n",
       "    <tr>\n",
       "      <th>Education Level</th>\n",
       "      <td>518</td>\n",
       "      <td>4</td>\n",
       "      <td>Bachelor's Degree</td>\n",
       "      <td>251</td>\n",
       "    </tr>\n",
       "    <tr>\n",
       "      <th>Job Title</th>\n",
       "      <td>518</td>\n",
       "      <td>1</td>\n",
       "      <td>Software Engineer</td>\n",
       "      <td>518</td>\n",
       "    </tr>\n",
       "  </tbody>\n",
       "</table>\n",
       "</div>"
      ],
      "text/plain": [
       "                count unique                top freq\n",
       "Gender            518      2               Male  325\n",
       "Education Level   518      4  Bachelor's Degree  251\n",
       "Job Title         518      1  Software Engineer  518"
      ]
     },
     "execution_count": 16,
     "metadata": {},
     "output_type": "execute_result"
    }
   ],
   "source": [
    "# Basic stats (Categorical)\n",
    "swedata.describe(include = \"object\").T"
   ]
  },
  {
   "cell_type": "code",
   "execution_count": 17,
   "id": "7d314834",
   "metadata": {
    "execution": {
     "iopub.execute_input": "2023-12-25T14:04:18.343460Z",
     "iopub.status.busy": "2023-12-25T14:04:18.343000Z",
     "iopub.status.idle": "2023-12-25T14:04:19.333392Z",
     "shell.execute_reply": "2023-12-25T14:04:19.331965Z"
    },
    "papermill": {
     "duration": 1.011878,
     "end_time": "2023-12-25T14:04:19.336325",
     "exception": false,
     "start_time": "2023-12-25T14:04:18.324447",
     "status": "completed"
    },
    "tags": []
   },
   "outputs": [
    {
     "data": {
      "text/plain": [
       "array([[<Axes: title={'center': 'Age'}>,\n",
       "        <Axes: title={'center': 'Years of Experience'}>],\n",
       "       [<Axes: title={'center': 'Salary'}>, <Axes: >]], dtype=object)"
      ]
     },
     "execution_count": 17,
     "metadata": {},
     "output_type": "execute_result"
    },
    {
     "data": {
      "image/png": "[encoded data removed]",
      "text/plain": [
       "<Figure size 1500x1000 with 4 Axes>"
      ]
     },
     "metadata": {},
     "output_type": "display_data"
    }
   ],
   "source": [
    "# Distribution\n",
    "swedata.hist(figsize=(15,10))"
   ]
  },
  {
   "cell_type": "code",
   "execution_count": 18,
   "id": "30b86780",
   "metadata": {
    "execution": {
     "iopub.execute_input": "2023-12-25T14:04:19.374417Z",
     "iopub.status.busy": "2023-12-25T14:04:19.373971Z",
     "iopub.status.idle": "2023-12-25T14:04:20.479552Z",
     "shell.execute_reply": "2023-12-25T14:04:20.478256Z"
    },
    "papermill": {
     "duration": 1.127371,
     "end_time": "2023-12-25T14:04:20.482203",
     "exception": false,
     "start_time": "2023-12-25T14:04:19.354832",
     "status": "completed"
    },
    "tags": []
   },
   "outputs": [
    {
     "data": {
      "text/plain": [
       "<seaborn.axisgrid.FacetGrid at 0x79b92fac38b0>"
      ]
     },
     "execution_count": 18,
     "metadata": {},
     "output_type": "execute_result"
    },
    {
     "data": {
      "image/png": "[encoded data removed]",
      "text/plain": [
       "<Figure size 500x500 with 1 Axes>"
      ]
     },
     "metadata": {},
     "output_type": "display_data"
    },
    {
     "data": {
      "image/png": "[encoded data removed]",
      "text/plain": [
       "<Figure size 500x500 with 1 Axes>"
      ]
     },
     "metadata": {},
     "output_type": "display_data"
    }
   ],
   "source": [
    "# Experience (x) vs Salary (y) plot\n",
    "seaborn.relplot(swedata, x = 'Years of Experience', y = 'Salary')\n",
    "seaborn.relplot(swedata, x = 'Years of Experience', y = 'Salary', kind = 'line')"
   ]
  },
  {
   "cell_type": "code",
   "execution_count": 19,
   "id": "f22df338",
   "metadata": {
    "execution": {
     "iopub.execute_input": "2023-12-25T14:04:20.587757Z",
     "iopub.status.busy": "2023-12-25T14:04:20.587341Z",
     "iopub.status.idle": "2023-12-25T14:04:21.106782Z",
     "shell.execute_reply": "2023-12-25T14:04:21.105683Z"
    },
    "papermill": {
     "duration": 0.608629,
     "end_time": "2023-12-25T14:04:21.109550",
     "exception": false,
     "start_time": "2023-12-25T14:04:20.500921",
     "status": "completed"
    },
    "tags": []
   },
   "outputs": [
    {
     "data": {
      "text/plain": [
       "<Axes: xlabel='Years of Experience', ylabel='Salary'>"
      ]
     },
     "execution_count": 19,
     "metadata": {},
     "output_type": "execute_result"
    },
    {
     "data": {
      "image/png": "[encoded data removed]",
      "text/plain": [
       "<Figure size 640x480 with 1 Axes>"
      ]
     },
     "metadata": {},
     "output_type": "display_data"
    }
   ],
   "source": [
    "# Regression Plot\n",
    "seaborn.regplot(swedata, x = 'Years of Experience', y = 'Salary')"
   ]
  },
  {
   "cell_type": "markdown",
   "id": "8ab5b6d9",
   "metadata": {
    "papermill": {
     "duration": 0.021024,
     "end_time": "2023-12-25T14:04:21.151340",
     "exception": false,
     "start_time": "2023-12-25T14:04:21.130316",
     "status": "completed"
    },
    "tags": []
   },
   "source": [
    "# Simple Regression"
   ]
  },
  {
   "cell_type": "code",
   "execution_count": 20,
   "id": "02312030",
   "metadata": {
    "execution": {
     "iopub.execute_input": "2023-12-25T14:04:21.197986Z",
     "iopub.status.busy": "2023-12-25T14:04:21.197481Z",
     "iopub.status.idle": "2023-12-25T14:04:21.208590Z",
     "shell.execute_reply": "2023-12-25T14:04:21.206852Z"
    },
    "papermill": {
     "duration": 0.036937,
     "end_time": "2023-12-25T14:04:21.211622",
     "exception": false,
     "start_time": "2023-12-25T14:04:21.174685",
     "status": "completed"
    },
    "tags": []
   },
   "outputs": [],
   "source": [
    "# Splitting the data for model training\n",
    "# features = swedata.drop(['Salary'], axis=1).values\n",
    "features = swedata[['Years of Experience']]\n",
    "label = swedata['Salary']\n",
    "Ftrain, Ftest, Ltrain, Ltest = train_test_split(features, label, test_size=0.2)"
   ]
  },
  {
   "cell_type": "code",
   "execution_count": 21,
   "id": "e6c07227",
   "metadata": {
    "execution": {
     "iopub.execute_input": "2023-12-25T14:04:21.257082Z",
     "iopub.status.busy": "2023-12-25T14:04:21.256616Z",
     "iopub.status.idle": "2023-12-25T14:04:21.282836Z",
     "shell.execute_reply": "2023-12-25T14:04:21.281647Z"
    },
    "papermill": {
     "duration": 0.052209,
     "end_time": "2023-12-25T14:04:21.285733",
     "exception": false,
     "start_time": "2023-12-25T14:04:21.233524",
     "status": "completed"
    },
    "tags": []
   },
   "outputs": [
    {
     "data": {
      "text/html": [
       "<style>#sk-container-id-1 {color: black;background-color: white;}#sk-container-id-1 pre{padding: 0;}#sk-container-id-1 div.sk-toggleable {background-color: white;}#sk-container-id-1 label.sk-toggleable__label {cursor: pointer;display: block;width: 100%;margin-bottom: 0;padding: 0.3em;box-sizing: border-box;text-align: center;}#sk-container-id-1 label.sk-toggleable__label-arrow:before {content: \"▸\";float: left;margin-right: 0.25em;color: #696969;}#sk-container-id-1 label.sk-toggleable__label-arrow:hover:before {color: black;}#sk-container-id-1 div.sk-estimator:hover label.sk-toggleable__label-arrow:before {color: black;}#sk-container-id-1 div.sk-toggleable__content {max-height: 0;max-width: 0;overflow: hidden;text-align: left;background-color: #f0f8ff;}#sk-container-id-1 div.sk-toggleable__content pre {margin: 0.2em;color: black;border-radius: 0.25em;background-color: #f0f8ff;}#sk-container-id-1 input.sk-toggleable__control:checked~div.sk-toggleable__content {max-height: 200px;max-width: 100%;overflow: auto;}#sk-container-id-1 input.sk-toggleable__control:checked~label.sk-toggleable__label-arrow:before {content: \"▾\";}#sk-container-id-1 div.sk-estimator input.sk-toggleable__control:checked~label.sk-toggleable__label {background-color: #d4ebff;}#sk-container-id-1 div.sk-label input.sk-toggleable__control:checked~label.sk-toggleable__label {background-color: #d4ebff;}#sk-container-id-1 input.sk-hidden--visually {border: 0;clip: rect(1px 1px 1px 1px);clip: rect(1px, 1px, 1px, 1px);height: 1px;margin: -1px;overflow: hidden;padding: 0;position: absolute;width: 1px;}#sk-container-id-1 div.sk-estimator {font-family: monospace;background-color: #f0f8ff;border: 1px dotted black;border-radius: 0.25em;box-sizing: border-box;margin-bottom: 0.5em;}#sk-container-id-1 div.sk-estimator:hover {background-color: #d4ebff;}#sk-container-id-1 div.sk-parallel-item::after {content: \"\";width: 100%;border-bottom: 1px solid gray;flex-grow: 1;}#sk-container-id-1 div.sk-label:hover label.sk-toggleable__label {background-color: #d4ebff;}#sk-container-id-1 div.sk-serial::before {content: \"\";position: absolute;border-left: 1px solid gray;box-sizing: border-box;top: 0;bottom: 0;left: 50%;z-index: 0;}#sk-container-id-1 div.sk-serial {display: flex;flex-direction: column;align-items: center;background-color: white;padding-right: 0.2em;padding-left: 0.2em;position: relative;}#sk-container-id-1 div.sk-item {position: relative;z-index: 1;}#sk-container-id-1 div.sk-parallel {display: flex;align-items: stretch;justify-content: center;background-color: white;position: relative;}#sk-container-id-1 div.sk-item::before, #sk-container-id-1 div.sk-parallel-item::before {content: \"\";position: absolute;border-left: 1px solid gray;box-sizing: border-box;top: 0;bottom: 0;left: 50%;z-index: -1;}#sk-container-id-1 div.sk-parallel-item {display: flex;flex-direction: column;z-index: 1;position: relative;background-color: white;}#sk-container-id-1 div.sk-parallel-item:first-child::after {align-self: flex-end;width: 50%;}#sk-container-id-1 div.sk-parallel-item:last-child::after {align-self: flex-start;width: 50%;}#sk-container-id-1 div.sk-parallel-item:only-child::after {width: 0;}#sk-container-id-1 div.sk-dashed-wrapped {border: 1px dashed gray;margin: 0 0.4em 0.5em 0.4em;box-sizing: border-box;padding-bottom: 0.4em;background-color: white;}#sk-container-id-1 div.sk-label label {font-family: monospace;font-weight: bold;display: inline-block;line-height: 1.2em;}#sk-container-id-1 div.sk-label-container {text-align: center;}#sk-container-id-1 div.sk-container {/* jupyter's `normalize.less` sets `[hidden] { display: none; }` but bootstrap.min.css set `[hidden] { display: none !important; }` so we also need the `!important` here to be able to override the default hidden behavior on the sphinx rendered scikit-learn.org. See: https://github.com/scikit-learn/scikit-learn/issues/21755 */display: inline-block !important;position: relative;}#sk-container-id-1 div.sk-text-repr-fallback {display: none;}</style><div id=\"sk-container-id-1\" class=\"sk-top-container\"><div class=\"sk-text-repr-fallback\"><pre>LinearRegression()</pre><b>In a Jupyter environment, please rerun this cell to show the HTML representation or trust the notebook. <br />On GitHub, the HTML representation is unable to render, please try loading this page with nbviewer.org.</b></div><div class=\"sk-container\" hidden><div class=\"sk-item\"><div class=\"sk-estimator sk-toggleable\"><input class=\"sk-toggleable__control sk-hidden--visually\" id=\"sk-estimator-id-1\" type=\"checkbox\" checked><label for=\"sk-estimator-id-1\" class=\"sk-toggleable__label sk-toggleable__label-arrow\">LinearRegression</label><div class=\"sk-toggleable__content\"><pre>LinearRegression()</pre></div></div></div></div></div>"
      ],
      "text/plain": [
       "LinearRegression()"
      ]
     },
     "execution_count": 21,
     "metadata": {},
     "output_type": "execute_result"
    }
   ],
   "source": [
    "# Training the model\n",
    "model = LinearRegression()\n",
    "\n",
    "# Fitting the data\n",
    "model.fit(Ftrain, Ltrain)"
   ]
  },
  {
   "cell_type": "code",
   "execution_count": 22,
   "id": "9fb0cefe",
   "metadata": {
    "execution": {
     "iopub.execute_input": "2023-12-25T14:04:21.331870Z",
     "iopub.status.busy": "2023-12-25T14:04:21.331448Z",
     "iopub.status.idle": "2023-12-25T14:04:21.343308Z",
     "shell.execute_reply": "2023-12-25T14:04:21.342014Z"
    },
    "papermill": {
     "duration": 0.038984,
     "end_time": "2023-12-25T14:04:21.345932",
     "exception": false,
     "start_time": "2023-12-25T14:04:21.306948",
     "status": "completed"
    },
    "tags": []
   },
   "outputs": [
    {
     "data": {
      "text/plain": [
       "0.5841261202324304"
      ]
     },
     "execution_count": 22,
     "metadata": {},
     "output_type": "execute_result"
    }
   ],
   "source": [
    "# Evaluation \n",
    "model.score(Ftest, Ltest)"
   ]
  },
  {
   "cell_type": "markdown",
   "id": "8abbdb97",
   "metadata": {
    "papermill": {
     "duration": 0.021545,
     "end_time": "2023-12-25T14:04:21.388756",
     "exception": false,
     "start_time": "2023-12-25T14:04:21.367211",
     "status": "completed"
    },
    "tags": []
   },
   "source": [
    "> Very poor model because the relationship between x & y doesnt appear to be linear"
   ]
  },
  {
   "cell_type": "markdown",
   "id": "fc10fbe0",
   "metadata": {
    "papermill": {
     "duration": 0.020376,
     "end_time": "2023-12-25T14:04:21.430171",
     "exception": false,
     "start_time": "2023-12-25T14:04:21.409795",
     "status": "completed"
    },
    "tags": []
   },
   "source": [
    "# Multiple Regression"
   ]
  },
  {
   "cell_type": "markdown",
   "id": "6b092985",
   "metadata": {
    "papermill": {
     "duration": 0.020356,
     "end_time": "2023-12-25T14:04:21.471400",
     "exception": false,
     "start_time": "2023-12-25T14:04:21.451044",
     "status": "completed"
    },
    "tags": []
   },
   "source": [
    "#### Now I will try to estimate the salary while taking the experience and education label into account. "
   ]
  },
  {
   "cell_type": "code",
   "execution_count": 23,
   "id": "e787aefb",
   "metadata": {
    "execution": {
     "iopub.execute_input": "2023-12-25T14:04:21.514746Z",
     "iopub.status.busy": "2023-12-25T14:04:21.514347Z",
     "iopub.status.idle": "2023-12-25T14:04:21.522382Z",
     "shell.execute_reply": "2023-12-25T14:04:21.521212Z"
    },
    "papermill": {
     "duration": 0.032988,
     "end_time": "2023-12-25T14:04:21.525074",
     "exception": false,
     "start_time": "2023-12-25T14:04:21.492086",
     "status": "completed"
    },
    "tags": []
   },
   "outputs": [
    {
     "data": {
      "text/plain": [
       "array([\"Bachelor's\", \"Bachelor's Degree\", \"Master's\", \"Master's Degree\"],\n",
       "      dtype=object)"
      ]
     },
     "execution_count": 23,
     "metadata": {},
     "output_type": "execute_result"
    }
   ],
   "source": [
    "# Unique values of Education Level\n",
    "swedata['Education Level'].unique()"
   ]
  },
  {
   "cell_type": "markdown",
   "id": "fb4b5ff5",
   "metadata": {
    "papermill": {
     "duration": 0.021137,
     "end_time": "2023-12-25T14:04:21.568224",
     "exception": false,
     "start_time": "2023-12-25T14:04:21.547087",
     "status": "completed"
    },
    "tags": []
   },
   "source": [
    "> While examining the education label column, I noticed that some column had the degree as i.e. \"Bachelor's\" while some other had \"Bachelor's degree\". What does this imply? I checked the data page on kaggle but it doesn't address anything about it. What I think that the rows with education as 'Degree_Name' could imply the person was either a student or dropped out in the middle while 'Degree Name' actually completed the degree. I could be wrong. But to keep everything simple, I will assume that everyone on this data finished their degree and this is just random formatting issue. So, I will change the formats into a singular one."
   ]
  },
  {
   "cell_type": "code",
   "execution_count": 24,
   "id": "8f9426bd",
   "metadata": {
    "execution": {
     "iopub.execute_input": "2023-12-25T14:04:21.612600Z",
     "iopub.status.busy": "2023-12-25T14:04:21.612202Z",
     "iopub.status.idle": "2023-12-25T14:04:21.623776Z",
     "shell.execute_reply": "2023-12-25T14:04:21.622553Z"
    },
    "papermill": {
     "duration": 0.036728,
     "end_time": "2023-12-25T14:04:21.626239",
     "exception": false,
     "start_time": "2023-12-25T14:04:21.589511",
     "status": "completed"
    },
    "tags": []
   },
   "outputs": [
    {
     "data": {
      "text/plain": [
       "array(['Bachelors', 'Masters'], dtype=object)"
      ]
     },
     "execution_count": 24,
     "metadata": {},
     "output_type": "execute_result"
    }
   ],
   "source": [
    "swedata.loc[swedata['Education Level'].str.contains(\"Bachelor\"), 'Education Level'] = 'Bachelors'\n",
    "swedata.loc[swedata['Education Level'].str.contains(\"Master\"), 'Education Level'] = 'Masters'\n",
    "\n",
    "# Unique values now\n",
    "swedata['Education Level'].unique()"
   ]
  },
  {
   "cell_type": "markdown",
   "id": "55d00cf4",
   "metadata": {
    "papermill": {
     "duration": 0.020482,
     "end_time": "2023-12-25T14:04:21.667821",
     "exception": false,
     "start_time": "2023-12-25T14:04:21.647339",
     "status": "completed"
    },
    "tags": []
   },
   "source": [
    "> Since the education level is ordinal data, I want to see the model performs in one hot encoding and label encoding technique. So...."
   ]
  },
  {
   "cell_type": "markdown",
   "id": "9f2b12c7",
   "metadata": {
    "papermill": {
     "duration": 0.020667,
     "end_time": "2023-12-25T14:04:21.709707",
     "exception": false,
     "start_time": "2023-12-25T14:04:21.689040",
     "status": "completed"
    },
    "tags": []
   },
   "source": [
    "## One Hot Encoding"
   ]
  },
  {
   "cell_type": "code",
   "execution_count": 25,
   "id": "c8f2eee4",
   "metadata": {
    "execution": {
     "iopub.execute_input": "2023-12-25T14:04:21.755304Z",
     "iopub.status.busy": "2023-12-25T14:04:21.754883Z",
     "iopub.status.idle": "2023-12-25T14:04:21.777036Z",
     "shell.execute_reply": "2023-12-25T14:04:21.775645Z"
    },
    "papermill": {
     "duration": 0.048403,
     "end_time": "2023-12-25T14:04:21.780215",
     "exception": false,
     "start_time": "2023-12-25T14:04:21.731812",
     "status": "completed"
    },
    "tags": []
   },
   "outputs": [
    {
     "data": {
      "text/html": [
       "<div>\n",
       "<style scoped>\n",
       "    .dataframe tbody tr th:only-of-type {\n",
       "        vertical-align: middle;\n",
       "    }\n",
       "\n",
       "    .dataframe tbody tr th {\n",
       "        vertical-align: top;\n",
       "    }\n",
       "\n",
       "    .dataframe thead th {\n",
       "        text-align: right;\n",
       "    }\n",
       "</style>\n",
       "<table border=\"1\" class=\"dataframe\">\n",
       "  <thead>\n",
       "    <tr style=\"text-align: right;\">\n",
       "      <th></th>\n",
       "      <th>Age</th>\n",
       "      <th>Gender</th>\n",
       "      <th>Job Title</th>\n",
       "      <th>Years of Experience</th>\n",
       "      <th>Salary</th>\n",
       "      <th>Education Level_Bachelors</th>\n",
       "      <th>Education Level_Masters</th>\n",
       "    </tr>\n",
       "  </thead>\n",
       "  <tbody>\n",
       "    <tr>\n",
       "      <th>0</th>\n",
       "      <td>32.0</td>\n",
       "      <td>Male</td>\n",
       "      <td>Software Engineer</td>\n",
       "      <td>5.0</td>\n",
       "      <td>90000.0</td>\n",
       "      <td>1</td>\n",
       "      <td>0</td>\n",
       "    </tr>\n",
       "    <tr>\n",
       "      <th>376</th>\n",
       "      <td>28.0</td>\n",
       "      <td>Female</td>\n",
       "      <td>Software Engineer</td>\n",
       "      <td>3.0</td>\n",
       "      <td>125000.0</td>\n",
       "      <td>1</td>\n",
       "      <td>0</td>\n",
       "    </tr>\n",
       "    <tr>\n",
       "      <th>380</th>\n",
       "      <td>29.0</td>\n",
       "      <td>Female</td>\n",
       "      <td>Software Engineer</td>\n",
       "      <td>4.0</td>\n",
       "      <td>140000.0</td>\n",
       "      <td>1</td>\n",
       "      <td>0</td>\n",
       "    </tr>\n",
       "    <tr>\n",
       "      <th>384</th>\n",
       "      <td>31.0</td>\n",
       "      <td>Female</td>\n",
       "      <td>Software Engineer</td>\n",
       "      <td>6.0</td>\n",
       "      <td>155000.0</td>\n",
       "      <td>1</td>\n",
       "      <td>0</td>\n",
       "    </tr>\n",
       "    <tr>\n",
       "      <th>388</th>\n",
       "      <td>29.0</td>\n",
       "      <td>Female</td>\n",
       "      <td>Software Engineer</td>\n",
       "      <td>4.0</td>\n",
       "      <td>140000.0</td>\n",
       "      <td>1</td>\n",
       "      <td>0</td>\n",
       "    </tr>\n",
       "  </tbody>\n",
       "</table>\n",
       "</div>"
      ],
      "text/plain": [
       "      Age  Gender          Job Title  Years of Experience    Salary  \\\n",
       "0    32.0    Male  Software Engineer                  5.0   90000.0   \n",
       "376  28.0  Female  Software Engineer                  3.0  125000.0   \n",
       "380  29.0  Female  Software Engineer                  4.0  140000.0   \n",
       "384  31.0  Female  Software Engineer                  6.0  155000.0   \n",
       "388  29.0  Female  Software Engineer                  4.0  140000.0   \n",
       "\n",
       "     Education Level_Bachelors  Education Level_Masters  \n",
       "0                            1                        0  \n",
       "376                          1                        0  \n",
       "380                          1                        0  \n",
       "384                          1                        0  \n",
       "388                          1                        0  "
      ]
     },
     "execution_count": 25,
     "metadata": {},
     "output_type": "execute_result"
    }
   ],
   "source": [
    "# Encoding the education label: One-Hot-Encoding\n",
    "HotOne = swedata.copy()\n",
    "ohencoded = pd.get_dummies(HotOne, columns = ['Education Level'], dtype=int)\n",
    "ohencoded.head()"
   ]
  },
  {
   "cell_type": "code",
   "execution_count": 26,
   "id": "bf4c6543",
   "metadata": {
    "execution": {
     "iopub.execute_input": "2023-12-25T14:04:21.825886Z",
     "iopub.status.busy": "2023-12-25T14:04:21.825482Z",
     "iopub.status.idle": "2023-12-25T14:04:21.835392Z",
     "shell.execute_reply": "2023-12-25T14:04:21.834239Z"
    },
    "papermill": {
     "duration": 0.036304,
     "end_time": "2023-12-25T14:04:21.838106",
     "exception": false,
     "start_time": "2023-12-25T14:04:21.801802",
     "status": "completed"
    },
    "tags": []
   },
   "outputs": [],
   "source": [
    "# Preparing & splitting dataset\n",
    "ohefeatures = ohencoded[['Education Level_Masters', 'Education Level_Bachelors', 'Years of Experience']]\n",
    "ohelabel = ohencoded[['Salary']]\n",
    "ohf_train, ohf_test, ohl_train, ohl_test = train_test_split(ohefeatures, ohelabel, test_size = 0.2)"
   ]
  },
  {
   "cell_type": "code",
   "execution_count": 27,
   "id": "0236462f",
   "metadata": {
    "execution": {
     "iopub.execute_input": "2023-12-25T14:04:21.885800Z",
     "iopub.status.busy": "2023-12-25T14:04:21.884863Z",
     "iopub.status.idle": "2023-12-25T14:04:21.907684Z",
     "shell.execute_reply": "2023-12-25T14:04:21.906001Z"
    },
    "papermill": {
     "duration": 0.049737,
     "end_time": "2023-12-25T14:04:21.910496",
     "exception": false,
     "start_time": "2023-12-25T14:04:21.860759",
     "status": "completed"
    },
    "tags": []
   },
   "outputs": [
    {
     "data": {
      "text/html": [
       "<style>#sk-container-id-2 {color: black;background-color: white;}#sk-container-id-2 pre{padding: 0;}#sk-container-id-2 div.sk-toggleable {background-color: white;}#sk-container-id-2 label.sk-toggleable__label {cursor: pointer;display: block;width: 100%;margin-bottom: 0;padding: 0.3em;box-sizing: border-box;text-align: center;}#sk-container-id-2 label.sk-toggleable__label-arrow:before {content: \"▸\";float: left;margin-right: 0.25em;color: #696969;}#sk-container-id-2 label.sk-toggleable__label-arrow:hover:before {color: black;}#sk-container-id-2 div.sk-estimator:hover label.sk-toggleable__label-arrow:before {color: black;}#sk-container-id-2 div.sk-toggleable__content {max-height: 0;max-width: 0;overflow: hidden;text-align: left;background-color: #f0f8ff;}#sk-container-id-2 div.sk-toggleable__content pre {margin: 0.2em;color: black;border-radius: 0.25em;background-color: #f0f8ff;}#sk-container-id-2 input.sk-toggleable__control:checked~div.sk-toggleable__content {max-height: 200px;max-width: 100%;overflow: auto;}#sk-container-id-2 input.sk-toggleable__control:checked~label.sk-toggleable__label-arrow:before {content: \"▾\";}#sk-container-id-2 div.sk-estimator input.sk-toggleable__control:checked~label.sk-toggleable__label {background-color: #d4ebff;}#sk-container-id-2 div.sk-label input.sk-toggleable__control:checked~label.sk-toggleable__label {background-color: #d4ebff;}#sk-container-id-2 input.sk-hidden--visually {border: 0;clip: rect(1px 1px 1px 1px);clip: rect(1px, 1px, 1px, 1px);height: 1px;margin: -1px;overflow: hidden;padding: 0;position: absolute;width: 1px;}#sk-container-id-2 div.sk-estimator {font-family: monospace;background-color: #f0f8ff;border: 1px dotted black;border-radius: 0.25em;box-sizing: border-box;margin-bottom: 0.5em;}#sk-container-id-2 div.sk-estimator:hover {background-color: #d4ebff;}#sk-container-id-2 div.sk-parallel-item::after {content: \"\";width: 100%;border-bottom: 1px solid gray;flex-grow: 1;}#sk-container-id-2 div.sk-label:hover label.sk-toggleable__label {background-color: #d4ebff;}#sk-container-id-2 div.sk-serial::before {content: \"\";position: absolute;border-left: 1px solid gray;box-sizing: border-box;top: 0;bottom: 0;left: 50%;z-index: 0;}#sk-container-id-2 div.sk-serial {display: flex;flex-direction: column;align-items: center;background-color: white;padding-right: 0.2em;padding-left: 0.2em;position: relative;}#sk-container-id-2 div.sk-item {position: relative;z-index: 1;}#sk-container-id-2 div.sk-parallel {display: flex;align-items: stretch;justify-content: center;background-color: white;position: relative;}#sk-container-id-2 div.sk-item::before, #sk-container-id-2 div.sk-parallel-item::before {content: \"\";position: absolute;border-left: 1px solid gray;box-sizing: border-box;top: 0;bottom: 0;left: 50%;z-index: -1;}#sk-container-id-2 div.sk-parallel-item {display: flex;flex-direction: column;z-index: 1;position: relative;background-color: white;}#sk-container-id-2 div.sk-parallel-item:first-child::after {align-self: flex-end;width: 50%;}#sk-container-id-2 div.sk-parallel-item:last-child::after {align-self: flex-start;width: 50%;}#sk-container-id-2 div.sk-parallel-item:only-child::after {width: 0;}#sk-container-id-2 div.sk-dashed-wrapped {border: 1px dashed gray;margin: 0 0.4em 0.5em 0.4em;box-sizing: border-box;padding-bottom: 0.4em;background-color: white;}#sk-container-id-2 div.sk-label label {font-family: monospace;font-weight: bold;display: inline-block;line-height: 1.2em;}#sk-container-id-2 div.sk-label-container {text-align: center;}#sk-container-id-2 div.sk-container {/* jupyter's `normalize.less` sets `[hidden] { display: none; }` but bootstrap.min.css set `[hidden] { display: none !important; }` so we also need the `!important` here to be able to override the default hidden behavior on the sphinx rendered scikit-learn.org. See: https://github.com/scikit-learn/scikit-learn/issues/21755 */display: inline-block !important;position: relative;}#sk-container-id-2 div.sk-text-repr-fallback {display: none;}</style><div id=\"sk-container-id-2\" class=\"sk-top-container\"><div class=\"sk-text-repr-fallback\"><pre>LinearRegression()</pre><b>In a Jupyter environment, please rerun this cell to show the HTML representation or trust the notebook. <br />On GitHub, the HTML representation is unable to render, please try loading this page with nbviewer.org.</b></div><div class=\"sk-container\" hidden><div class=\"sk-item\"><div class=\"sk-estimator sk-toggleable\"><input class=\"sk-toggleable__control sk-hidden--visually\" id=\"sk-estimator-id-2\" type=\"checkbox\" checked><label for=\"sk-estimator-id-2\" class=\"sk-toggleable__label sk-toggleable__label-arrow\">LinearRegression</label><div class=\"sk-toggleable__content\"><pre>LinearRegression()</pre></div></div></div></div></div>"
      ],
      "text/plain": [
       "LinearRegression()"
      ]
     },
     "execution_count": 27,
     "metadata": {},
     "output_type": "execute_result"
    }
   ],
   "source": [
    "# Training the model\n",
    "model_2 = LinearRegression()\n",
    "model_2.fit(ohf_train, ohl_train)"
   ]
  },
  {
   "cell_type": "code",
   "execution_count": 28,
   "id": "2208bcbc",
   "metadata": {
    "execution": {
     "iopub.execute_input": "2023-12-25T14:04:21.957595Z",
     "iopub.status.busy": "2023-12-25T14:04:21.957156Z",
     "iopub.status.idle": "2023-12-25T14:04:21.968332Z",
     "shell.execute_reply": "2023-12-25T14:04:21.967200Z"
    },
    "papermill": {
     "duration": 0.036541,
     "end_time": "2023-12-25T14:04:21.970630",
     "exception": false,
     "start_time": "2023-12-25T14:04:21.934089",
     "status": "completed"
    },
    "tags": []
   },
   "outputs": [
    {
     "data": {
      "text/plain": [
       "0.6618221976950922"
      ]
     },
     "execution_count": 28,
     "metadata": {},
     "output_type": "execute_result"
    }
   ],
   "source": [
    "# Evaluation\n",
    "model_2.score(ohf_test, ohl_test)"
   ]
  },
  {
   "cell_type": "code",
   "execution_count": null,
   "id": "6de03faa",
   "metadata": {
    "papermill": {
     "duration": 0.02256,
     "end_time": "2023-12-25T14:04:22.015609",
     "exception": false,
     "start_time": "2023-12-25T14:04:21.993049",
     "status": "completed"
    },
    "tags": []
   },
   "outputs": [],
   "source": []
  }
 ],
 "metadata": {
  "kaggle": {
   "accelerator": "none",
   "dataSources": [
    {
     "datasetId": 3282301,
     "sourceId": 5716504,
     "sourceType": "datasetVersion"
    }
   ],
   "dockerImageVersionId": 30615,
   "isGpuEnabled": false,
   "isInternetEnabled": true,
   "language": "python",
   "sourceType": "notebook"
  },
  "kernelspec": {
   "display_name": "Python 3",
   "language": "python",
   "name": "python3"
  },
  "language_info": {
   "codemirror_mode": {
    "name": "ipython",
    "version": 3
   },
   "file_extension": ".py",
   "mimetype": "text/x-python",
   "name": "python",
   "nbconvert_exporter": "python",
   "pygments_lexer": "ipython3",
   "version": "3.10.12"
  },
  "papermill": {
   "default_parameters": {},
   "duration": 16.107386,
   "end_time": "2023-12-25T14:04:22.862851",
   "environment_variables": {},
   "exception": null,
   "input_path": "__notebook__.ipynb",
   "output_path": "__notebook__.ipynb",
   "parameters": {},
   "start_time": "2023-12-25T14:04:06.755465",
   "version": "2.4.0"
  }
 },
 "nbformat": 4,
 "nbformat_minor": 5
}
