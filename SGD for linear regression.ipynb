{
 "cells": [
  {
   "cell_type": "markdown",
   "metadata": {},
   "source": [
    "# Boston dataset \n",
    "\n",
    "* The Boston Housing Dataset consists of price of houses in various places in Boston. Alongside with price, the dataset also provide information such as Crime (CRIM), areas of non-retail business in the town (INDUS), the age of people who own the house (AGE), and there are many other attributes.\n",
    "\n",
    "\n",
    "<img src=\"https://cdn-images-1.medium.com/max/2000/1*bvXWvdDMk8FTS1WWd9_JEg.jpeg\">"
   ]
  },
  {
   "cell_type": "code",
   "execution_count": 1,
   "metadata": {},
   "outputs": [
    {
     "name": "stdout",
     "output_type": "stream",
     "text": [
      "Requirement already satisfied: seaborn in /opt/conda/envs/py3.6/lib/python3.6/site-packages (0.9.0)\n",
      "Requirement already satisfied: matplotlib>=1.4.3 in /opt/conda/envs/py3.6/lib/python3.6/site-packages (from seaborn) (2.1.2)\n",
      "Requirement already satisfied: pandas>=0.15.2 in /opt/conda/envs/py3.6/lib/python3.6/site-packages (from seaborn) (0.20.3)\n",
      "Requirement already satisfied: numpy>=1.9.3 in /opt/conda/envs/py3.6/lib/python3.6/site-packages (from seaborn) (1.12.1)\n",
      "Requirement already satisfied: scipy>=0.14.0 in /opt/conda/envs/py3.6/lib/python3.6/site-packages (from seaborn) (0.19.1)\n",
      "Requirement already satisfied: six>=1.10 in /opt/conda/envs/py3.6/lib/python3.6/site-packages (from matplotlib>=1.4.3->seaborn) (1.11.0)\n",
      "Requirement already satisfied: python-dateutil>=2.1 in /opt/conda/envs/py3.6/lib/python3.6/site-packages (from matplotlib>=1.4.3->seaborn) (2.7.3)\n",
      "Requirement already satisfied: pytz in /opt/conda/envs/py3.6/lib/python3.6/site-packages (from matplotlib>=1.4.3->seaborn) (2018.4)\n",
      "Requirement already satisfied: cycler>=0.10 in /opt/conda/envs/py3.6/lib/python3.6/site-packages (from matplotlib>=1.4.3->seaborn) (0.10.0)\n",
      "Requirement already satisfied: pyparsing!=2.0.4,!=2.1.2,!=2.1.6,>=2.0.1 in /opt/conda/envs/py3.6/lib/python3.6/site-packages (from matplotlib>=1.4.3->seaborn) (2.2.0)\n"
     ]
    }
   ],
   "source": [
    "# Using sklearn inbuilt dataset boston\n",
    "!pip install seaborn\n",
    "import numpy as np\n",
    "import pandas as pd\n",
    "import matplotlib.pyplot as plt\n",
    "import seaborn as sns\n",
    "\n",
    "from sklearn.datasets import load_boston\n",
    "from sklearn.model_selection import train_test_split\n",
    "from sklearn.preprocessing import StandardScaler\n",
    "from sklearn.linear_model import LinearRegression\n",
    "from sklearn.metrics import r2_score\n",
    "from sklearn.base import BaseEstimator\n",
    "from sklearn.linear_model import SGDRegressor"
   ]
  },
  {
   "cell_type": "code",
   "execution_count": 2,
   "metadata": {},
   "outputs": [
    {
     "name": "stdout",
     "output_type": "stream",
     "text": [
      "Requirement already up-to-date: ipython[all] in /opt/conda/envs/py3.6/lib/python3.6/site-packages (6.4.0)\n",
      "Requirement not upgraded as not directly required: pickleshare in /opt/conda/envs/py3.6/lib/python3.6/site-packages (from ipython[all]) (0.7.4)\n",
      "Requirement not upgraded as not directly required: pexpect; sys_platform != \"win32\" in /opt/conda/envs/py3.6/lib/python3.6/site-packages (from ipython[all]) (4.3.0)\n",
      "Requirement not upgraded as not directly required: pygments in /opt/conda/envs/py3.6/lib/python3.6/site-packages (from ipython[all]) (2.2.0)\n",
      "Requirement not upgraded as not directly required: traitlets>=4.2 in /opt/conda/envs/py3.6/lib/python3.6/site-packages (from ipython[all]) (4.3.2)\n",
      "Requirement not upgraded as not directly required: simplegeneric>0.8 in /opt/conda/envs/py3.6/lib/python3.6/site-packages (from ipython[all]) (0.8.1)\n",
      "Requirement not upgraded as not directly required: prompt-toolkit<2.0.0,>=1.0.15 in /opt/conda/envs/py3.6/lib/python3.6/site-packages (from ipython[all]) (1.0.15)\n",
      "Requirement not upgraded as not directly required: setuptools>=18.5 in /opt/conda/envs/py3.6/lib/python3.6/site-packages (from ipython[all]) (36.4.0)\n",
      "Requirement not upgraded as not directly required: jedi>=0.10 in /opt/conda/envs/py3.6/lib/python3.6/site-packages (from ipython[all]) (0.11.0)\n",
      "Requirement not upgraded as not directly required: backcall in /opt/conda/envs/py3.6/lib/python3.6/site-packages (from ipython[all]) (0.1.0)\n",
      "Requirement not upgraded as not directly required: decorator in /opt/conda/envs/py3.6/lib/python3.6/site-packages (from ipython[all]) (4.3.0)\n",
      "Requirement not upgraded as not directly required: testpath; extra == \"all\" in /opt/conda/envs/py3.6/lib/python3.6/site-packages (from ipython[all]) (0.3.1)\n",
      "Requirement not upgraded as not directly required: ipyparallel; extra == \"all\" in /opt/conda/envs/py3.6/lib/python3.6/site-packages (from ipython[all]) (6.2.2)\n",
      "Requirement not upgraded as not directly required: nose>=0.10.1; extra == \"all\" in /opt/conda/envs/py3.6/lib/python3.6/site-packages (from ipython[all]) (1.3.7)\n",
      "Requirement not upgraded as not directly required: nbformat; extra == \"all\" in /opt/conda/envs/py3.6/lib/python3.6/site-packages (from ipython[all]) (4.4.0)\n",
      "Requirement not upgraded as not directly required: nbconvert; extra == \"all\" in /opt/conda/envs/py3.6/lib/python3.6/site-packages (from ipython[all]) (5.3.1)\n",
      "Requirement not upgraded as not directly required: ipykernel; extra == \"all\" in /opt/conda/envs/py3.6/lib/python3.6/site-packages (from ipython[all]) (4.8.0)\n",
      "Requirement not upgraded as not directly required: qtconsole; extra == \"all\" in /opt/conda/envs/py3.6/lib/python3.6/site-packages (from ipython[all]) (4.3.1)\n",
      "Requirement not upgraded as not directly required: ipywidgets; extra == \"all\" in /opt/conda/envs/py3.6/lib/python3.6/site-packages (from ipython[all]) (7.0.3)\n",
      "Requirement not upgraded as not directly required: requests; extra == \"all\" in /opt/conda/envs/py3.6/lib/python3.6/site-packages (from ipython[all]) (2.18.4)\n",
      "Requirement not upgraded as not directly required: notebook; extra == \"all\" in /opt/conda/envs/py3.6/lib/python3.6/site-packages (from ipython[all]) (5.5.0)\n",
      "Requirement not upgraded as not directly required: Sphinx>=1.3; extra == \"all\" in /opt/conda/envs/py3.6/lib/python3.6/site-packages (from ipython[all]) (1.7.6)\n",
      "Requirement not upgraded as not directly required: ipython_genutils in /opt/conda/envs/py3.6/lib/python3.6/site-packages (from traitlets>=4.2->ipython[all]) (0.2.0)\n",
      "Requirement not upgraded as not directly required: six in /opt/conda/envs/py3.6/lib/python3.6/site-packages (from traitlets>=4.2->ipython[all]) (1.11.0)\n",
      "Requirement not upgraded as not directly required: wcwidth in /opt/conda/envs/py3.6/lib/python3.6/site-packages (from prompt-toolkit<2.0.0,>=1.0.15->ipython[all]) (0.1.7)\n",
      "Requirement not upgraded as not directly required: parso==0.1.* in /opt/conda/envs/py3.6/lib/python3.6/site-packages (from jedi>=0.10->ipython[all]) (0.1.1)\n",
      "Requirement not upgraded as not directly required: pyzmq>=13 in /opt/conda/envs/py3.6/lib/python3.6/site-packages (from ipyparallel; extra == \"all\"->ipython[all]) (17.0.0)\n",
      "Requirement not upgraded as not directly required: python-dateutil>=2.1 in /opt/conda/envs/py3.6/lib/python3.6/site-packages (from ipyparallel; extra == \"all\"->ipython[all]) (2.7.3)\n",
      "Requirement not upgraded as not directly required: tornado>=4 in /opt/conda/envs/py3.6/lib/python3.6/site-packages (from ipyparallel; extra == \"all\"->ipython[all]) (5.0.2)\n",
      "Requirement not upgraded as not directly required: jupyter-client in /opt/conda/envs/py3.6/lib/python3.6/site-packages (from ipyparallel; extra == \"all\"->ipython[all]) (5.2.3)\n",
      "Requirement not upgraded as not directly required: jsonschema!=2.5.0,>=2.4 in /opt/conda/envs/py3.6/lib/python3.6/site-packages (from nbformat; extra == \"all\"->ipython[all]) (2.6.0)\n",
      "Requirement not upgraded as not directly required: jupyter_core in /opt/conda/envs/py3.6/lib/python3.6/site-packages (from nbformat; extra == \"all\"->ipython[all]) (4.4.0)\n",
      "Requirement not upgraded as not directly required: jinja2 in /opt/conda/envs/py3.6/lib/python3.6/site-packages (from nbconvert; extra == \"all\"->ipython[all]) (2.10)\n",
      "Requirement not upgraded as not directly required: bleach in /opt/conda/envs/py3.6/lib/python3.6/site-packages (from nbconvert; extra == \"all\"->ipython[all]) (1.5.0)\n",
      "Requirement not upgraded as not directly required: pandocfilters>=1.4.1 in /opt/conda/envs/py3.6/lib/python3.6/site-packages (from nbconvert; extra == \"all\"->ipython[all]) (1.4.2)\n",
      "Requirement not upgraded as not directly required: entrypoints>=0.2.2 in /opt/conda/envs/py3.6/lib/python3.6/site-packages (from nbconvert; extra == \"all\"->ipython[all]) (0.2.3)\n",
      "Requirement not upgraded as not directly required: mistune>=0.7.4 in /opt/conda/envs/py3.6/lib/python3.6/site-packages (from nbconvert; extra == \"all\"->ipython[all]) (0.8.3)\n",
      "Requirement not upgraded as not directly required: widgetsnbextension~=3.0.0 in /opt/conda/envs/py3.6/lib/python3.6/site-packages (from ipywidgets; extra == \"all\"->ipython[all]) (3.0.8)\n",
      "Requirement not upgraded as not directly required: chardet<3.1.0,>=3.0.2 in /opt/conda/envs/py3.6/lib/python3.6/site-packages (from requests; extra == \"all\"->ipython[all]) (3.0.4)\n",
      "Requirement not upgraded as not directly required: idna<2.7,>=2.5 in /opt/conda/envs/py3.6/lib/python3.6/site-packages (from requests; extra == \"all\"->ipython[all]) (2.6)\n",
      "Requirement not upgraded as not directly required: urllib3<1.23,>=1.21.1 in /opt/conda/envs/py3.6/lib/python3.6/site-packages (from requests; extra == \"all\"->ipython[all]) (1.22)\n",
      "Requirement not upgraded as not directly required: certifi>=2017.4.17 in /opt/conda/envs/py3.6/lib/python3.6/site-packages (from requests; extra == \"all\"->ipython[all]) (2018.4.16)\n",
      "Requirement not upgraded as not directly required: Send2Trash in /opt/conda/envs/py3.6/lib/python3.6/site-packages (from notebook; extra == \"all\"->ipython[all]) (1.5.0)\n",
      "Requirement not upgraded as not directly required: terminado>=0.8.1 in /opt/conda/envs/py3.6/lib/python3.6/site-packages (from notebook; extra == \"all\"->ipython[all]) (0.8.1)\n",
      "Requirement not upgraded as not directly required: packaging in /opt/conda/envs/py3.6/lib/python3.6/site-packages (from Sphinx>=1.3; extra == \"all\"->ipython[all]) (17.1)\n",
      "Requirement not upgraded as not directly required: snowballstemmer>=1.1 in /opt/conda/envs/py3.6/lib/python3.6/site-packages (from Sphinx>=1.3; extra == \"all\"->ipython[all]) (1.2.1)\n",
      "Requirement not upgraded as not directly required: sphinxcontrib-websupport in /opt/conda/envs/py3.6/lib/python3.6/site-packages (from Sphinx>=1.3; extra == \"all\"->ipython[all]) (1.1.0)\n",
      "Requirement not upgraded as not directly required: babel!=2.0,>=1.3 in /opt/conda/envs/py3.6/lib/python3.6/site-packages (from Sphinx>=1.3; extra == \"all\"->ipython[all]) (2.6.0)\n",
      "Requirement not upgraded as not directly required: imagesize in /opt/conda/envs/py3.6/lib/python3.6/site-packages (from Sphinx>=1.3; extra == \"all\"->ipython[all]) (1.0.0)\n",
      "Requirement not upgraded as not directly required: alabaster<0.8,>=0.7 in /opt/conda/envs/py3.6/lib/python3.6/site-packages (from Sphinx>=1.3; extra == \"all\"->ipython[all]) (0.7.11)\n",
      "Requirement not upgraded as not directly required: docutils>=0.11 in /opt/conda/envs/py3.6/lib/python3.6/site-packages (from Sphinx>=1.3; extra == \"all\"->ipython[all]) (0.14)\n",
      "Requirement not upgraded as not directly required: MarkupSafe>=0.23 in /opt/conda/envs/py3.6/lib/python3.6/site-packages (from jinja2->nbconvert; extra == \"all\"->ipython[all]) (1.0)\n",
      "Requirement not upgraded as not directly required: html5lib!=0.9999,!=0.99999,<0.99999999,>=0.999 in /opt/conda/envs/py3.6/lib/python3.6/site-packages (from bleach->nbconvert; extra == \"all\"->ipython[all]) (0.9999999)\n"
     ]
    },
    {
     "name": "stdout",
     "output_type": "stream",
     "text": [
      "Requirement not upgraded as not directly required: pyparsing>=2.0.2 in /opt/conda/envs/py3.6/lib/python3.6/site-packages (from packaging->Sphinx>=1.3; extra == \"all\"->ipython[all]) (2.2.0)\r\n",
      "Requirement not upgraded as not directly required: pytz>=0a in /opt/conda/envs/py3.6/lib/python3.6/site-packages (from babel!=2.0,>=1.3->Sphinx>=1.3; extra == \"all\"->ipython[all]) (2018.4)\r\n"
     ]
    }
   ],
   "source": [
    "!pip install --upgrade \"ipython[all]\""
   ]
  },
  {
   "cell_type": "code",
   "execution_count": 3,
   "metadata": {},
   "outputs": [],
   "source": [
    "boston = load_boston() # loading the data"
   ]
  },
  {
   "cell_type": "code",
   "execution_count": 4,
   "metadata": {},
   "outputs": [
    {
     "name": "stdout",
     "output_type": "stream",
     "text": [
      "Boston House Prices dataset\n",
      "===========================\n",
      "\n",
      "Notes\n",
      "------\n",
      "Data Set Characteristics:  \n",
      "\n",
      "    :Number of Instances: 506 \n",
      "\n",
      "    :Number of Attributes: 13 numeric/categorical predictive\n",
      "    \n",
      "    :Median Value (attribute 14) is usually the target\n",
      "\n",
      "    :Attribute Information (in order):\n",
      "        - CRIM     per capita crime rate by town\n",
      "        - ZN       proportion of residential land zoned for lots over 25,000 sq.ft.\n",
      "        - INDUS    proportion of non-retail business acres per town\n",
      "        - CHAS     Charles River dummy variable (= 1 if tract bounds river; 0 otherwise)\n",
      "        - NOX      nitric oxides concentration (parts per 10 million)\n",
      "        - RM       average number of rooms per dwelling\n",
      "        - AGE      proportion of owner-occupied units built prior to 1940\n",
      "        - DIS      weighted distances to five Boston employment centres\n",
      "        - RAD      index of accessibility to radial highways\n",
      "        - TAX      full-value property-tax rate per $10,000\n",
      "        - PTRATIO  pupil-teacher ratio by town\n",
      "        - B        1000(Bk - 0.63)^2 where Bk is the proportion of blacks by town\n",
      "        - LSTAT    % lower status of the population\n",
      "        - MEDV     Median value of owner-occupied homes in $1000's\n",
      "\n",
      "    :Missing Attribute Values: None\n",
      "\n",
      "    :Creator: Harrison, D. and Rubinfeld, D.L.\n",
      "\n",
      "This is a copy of UCI ML housing dataset.\n",
      "http://archive.ics.uci.edu/ml/datasets/Housing\n",
      "\n",
      "\n",
      "This dataset was taken from the StatLib library which is maintained at Carnegie Mellon University.\n",
      "\n",
      "The Boston house-price data of Harrison, D. and Rubinfeld, D.L. 'Hedonic\n",
      "prices and the demand for clean air', J. Environ. Economics & Management,\n",
      "vol.5, 81-102, 1978.   Used in Belsley, Kuh & Welsch, 'Regression diagnostics\n",
      "...', Wiley, 1980.   N.B. Various transformations are used in the table on\n",
      "pages 244-261 of the latter.\n",
      "\n",
      "The Boston house-price data has been used in many machine learning papers that address regression\n",
      "problems.   \n",
      "     \n",
      "**References**\n",
      "\n",
      "   - Belsley, Kuh & Welsch, 'Regression diagnostics: Identifying Influential Data and Sources of Collinearity', Wiley, 1980. 244-261.\n",
      "   - Quinlan,R. (1993). Combining Instance-Based and Model-Based Learning. In Proceedings on the Tenth International Conference of Machine Learning, 236-243, University of Massachusetts, Amherst. Morgan Kaufmann.\n",
      "   - many more! (see http://archive.ics.uci.edu/ml/datasets/Housing)\n",
      "\n"
     ]
    }
   ],
   "source": [
    "print(boston.DESCR) # Describtion of the data"
   ]
  },
  {
   "cell_type": "code",
   "execution_count": 5,
   "metadata": {},
   "outputs": [
    {
     "name": "stdout",
     "output_type": "stream",
     "text": [
      "(506, 13)\n"
     ]
    }
   ],
   "source": [
    "print(boston.data.shape)"
   ]
  },
  {
   "cell_type": "code",
   "execution_count": 6,
   "metadata": {},
   "outputs": [
    {
     "name": "stdout",
     "output_type": "stream",
     "text": [
      "['CRIM' 'ZN' 'INDUS' 'CHAS' 'NOX' 'RM' 'AGE' 'DIS' 'RAD' 'TAX' 'PTRATIO'\n",
      " 'B' 'LSTAT']\n"
     ]
    }
   ],
   "source": [
    "print(boston.feature_names)"
   ]
  },
  {
   "cell_type": "code",
   "execution_count": 7,
   "metadata": {},
   "outputs": [
    {
     "name": "stdout",
     "output_type": "stream",
     "text": [
      "        0     1     2    3      4      5     6       7    8      9     10  \\\n",
      "0  0.00632  18.0  2.31  0.0  0.538  6.575  65.2  4.0900  1.0  296.0  15.3   \n",
      "1  0.02731   0.0  7.07  0.0  0.469  6.421  78.9  4.9671  2.0  242.0  17.8   \n",
      "2  0.02729   0.0  7.07  0.0  0.469  7.185  61.1  4.9671  2.0  242.0  17.8   \n",
      "3  0.03237   0.0  2.18  0.0  0.458  6.998  45.8  6.0622  3.0  222.0  18.7   \n",
      "4  0.06905   0.0  2.18  0.0  0.458  7.147  54.2  6.0622  3.0  222.0  18.7   \n",
      "\n",
      "       11    12  \n",
      "0  396.90  4.98  \n",
      "1  396.90  9.14  \n",
      "2  392.83  4.03  \n",
      "3  394.63  2.94  \n",
      "4  396.90  5.33  \n"
     ]
    }
   ],
   "source": [
    "bos = pd.DataFrame(boston.data)\n",
    "print(bos.head())"
   ]
  },
  {
   "cell_type": "code",
   "execution_count": 8,
   "metadata": {},
   "outputs": [],
   "source": [
    "bos['PRICE'] = boston.target\n",
    "\n",
    "X = bos.drop('PRICE', axis = 1) # axis = 1 means all columns of the Price\n",
    "Y = bos['PRICE']"
   ]
  },
  {
   "cell_type": "code",
   "execution_count": 9,
   "metadata": {},
   "outputs": [
    {
     "name": "stdout",
     "output_type": "stream",
     "text": [
      "(354, 13)\n",
      "(152, 13)\n",
      "(354,)\n",
      "(152,)\n"
     ]
    }
   ],
   "source": [
    "X_train, X_test, y_train, y_test = train_test_split(X, Y, test_size=0.3, random_state=5)\n",
    "print(X_train.shape)\n",
    "print(X_test.shape)\n",
    "print(y_train.shape)\n",
    "print(y_test.shape)"
   ]
  },
  {
   "cell_type": "code",
   "execution_count": 10,
   "metadata": {},
   "outputs": [
    {
     "data": {
      "image/png": "[encoded data removed]",
      "text/plain": [
       "<matplotlib.figure.Figure at 0x3fff2bcb9f28>"
      ]
     },
     "metadata": {},
     "output_type": "display_data"
    },
    {
     "name": "stdout",
     "output_type": "stream",
     "text": [
      "R^2 score 0.677104554504\n"
     ]
    }
   ],
   "source": [
    "# code source:https://medium.com/@haydar_ai/learning-data-science-day-9-linear-regression-on-boston-housing-dataset-cd62a80775ef\n",
    "\n",
    "lm = LinearRegression()\n",
    "lm.fit(X_train, y_train)\n",
    "\n",
    "y_pred = lm.predict(X_test)\n",
    "\n",
    "plt.scatter(y_test, y_pred)\n",
    "plt.xlabel('Prices: $Y_i$')\n",
    "plt.ylabel(\"Predicted prices: $\\hat{Y}_i$\")\n",
    "plt.title(\"Prices vs Predicted prices: $Y_i$ vs $\\hat{Y}_i$\")\n",
    "plt.show()\n",
    "print('R^2 score', r2_score(y_test, y_pred))"
   ]
  },
  {
   "cell_type": "markdown",
   "metadata": {},
   "source": [
    "# SGD Linear Regression Model"
   ]
  },
  {
   "cell_type": "code",
   "execution_count": 11,
   "metadata": {},
   "outputs": [],
   "source": [
    "class SGDRegressors(BaseEstimator):\n",
    "    \"\"\"\n",
    "    Custom stochastic gradient descent\n",
    "    algorithm for linear regression\n",
    "    \"\"\"\n",
    "    def __init__(self,max_iter=1000, alpha=0.0001, tol=0.0001, batch_size=50):\n",
    "        self.max_iter = max_iter\n",
    "        self.alpha = alpha\n",
    "        self.tol = tol\n",
    "        self.batch_size = batch_size\n",
    "        \n",
    "        self.coef_ = None\n",
    "        self.intercept_ = None\n",
    "        \n",
    "        # for debugging\n",
    "        self.total_errors = []\n",
    "        self.sample_errors = []\n",
    "        self.coef_diffs = []\n",
    "        self.intercept_diffs = []\n",
    "    \n",
    "    def fit(self, X, y):\n",
    "        X = np.array(X)\n",
    "        y = np.array(y)\n",
    "        \n",
    "        rows, features = X.shape\n",
    "        \n",
    "        # Initialize coef and intercept\n",
    "        self.coef_ = np.zeros(features)\n",
    "        self.intercept_ = 0.0\n",
    "        \n",
    "        self.optimize(X, y)\n",
    "        return self\n",
    "    \n",
    "    def predict(self, X):\n",
    "        return X.dot(self.coef_) + self.intercept_\n",
    "    \n",
    "    def sample(self, X, y):\n",
    "        \"\"\"\n",
    "        returns a random sample of rows\n",
    "        \"\"\"\n",
    "        idx = np.random.randint(X.shape[0], size=self.batch_size)\n",
    "        return X[idx,:], y[idx]\n",
    "    \n",
    "    def compute_rms_error(self, X, y):\n",
    "        return np.sqrt(np.sum((y - self.predict(X)) ** 2) / len(X))\n",
    "    \n",
    "    def optimize(self, X, y):\n",
    "        \"\"\"\n",
    "        Optimizes the coef_ and intercept\n",
    "        for lower squared errors\n",
    "        \"\"\"\n",
    "        for i in range(1, self.max_iter + 1):\n",
    "            \n",
    "            # Save the error on whole dataset\n",
    "            self.total_errors.append(self.compute_rms_error(X, y))\n",
    "            \n",
    "            # Save previous\n",
    "            prev_coef = self.coef_\n",
    "            prev_intercept = self.intercept_\n",
    "            \n",
    "            # Take a sample\n",
    "            X_sample, y_sample = self.sample(X, y)\n",
    "            \n",
    "            # Save sample error\n",
    "            self.sample_errors.append(self.compute_rms_error(X_sample, y_sample))\n",
    "            \n",
    "            pred = self.predict(X_sample)\n",
    "            diff = y_sample - pred\n",
    "            \n",
    "            \n",
    "            # compute gradients\n",
    "            coef_grad = -2 * np.dot(X_sample.T, diff)\n",
    "            intercept_grad = -2 * np.sum(diff)\n",
    "            \n",
    "            # update coef_ and intercept\n",
    "            self.coef_ = self.coef_ - (self.alpha / i) * coef_grad\n",
    "            self.intercept_ = self.intercept_ - (self.alpha / i) * intercept_grad\n",
    "            \n",
    "            # Compute diff of intercept and coef\n",
    "            coef_diff = np.linalg.norm(self.coef_ - prev_coef)\n",
    "            intercept_diff = self.intercept_ - prev_intercept\n",
    "            \n",
    "            # Save the difference\n",
    "            self.coef_diffs.append(coef_diff)\n",
    "            self.intercept_diffs.append(intercept_diff)\n",
    "            \n",
    "            # if diff is less than tolerence then terminate\n",
    "            if coef_diff < self.tol and intercept_diff < self.tol:\n",
    "                # Save final errors\n",
    "                self.total_errors.append(self.compute_rms_error(X, y))\n",
    "                self.sample_errors.append(self.compute_rms_error(X_sample, y_sample))\n",
    "                break"
   ]
  },
  {
   "cell_type": "code",
   "execution_count": 12,
   "metadata": {},
   "outputs": [
    {
     "data": {
      "text/plain": [
       "SGDRegressors(alpha=0.005, batch_size=50, max_iter=1000, tol=0.0001)"
      ]
     },
     "execution_count": 12,
     "metadata": {},
     "output_type": "execute_result"
    }
   ],
   "source": [
    "model = SGDRegressors(alpha=0.005)\n",
    "scaler = StandardScaler() # The idea behind StandardScaler is that it will transform your data such that its distribution will have a mean value 0 and standard deviation of 1.\n",
    "X_scaled = scaler.fit_transform(X_train)\n",
    "model.fit(X_scaled, y_train)"
   ]
  },
  {
   "cell_type": "code",
   "execution_count": 13,
   "metadata": {},
   "outputs": [
    {
     "data": {
      "text/plain": [
       "7.4690264459532791"
      ]
     },
     "execution_count": 13,
     "metadata": {},
     "output_type": "execute_result"
    }
   ],
   "source": [
    "model.coef_diffs[0]"
   ]
  },
  {
   "cell_type": "code",
   "execution_count": 14,
   "metadata": {},
   "outputs": [
    {
     "data": {
      "text/plain": [
       "24.261493868798819"
      ]
     },
     "execution_count": 14,
     "metadata": {},
     "output_type": "execute_result"
    }
   ],
   "source": [
    "model.total_errors[0] # initial error"
   ]
  },
  {
   "cell_type": "code",
   "execution_count": 15,
   "metadata": {},
   "outputs": [
    {
     "data": {
      "text/plain": [
       "4.5258242141443619"
      ]
     },
     "execution_count": 15,
     "metadata": {},
     "output_type": "execute_result"
    }
   ],
   "source": [
    "model.total_errors[-1] # final error"
   ]
  },
  {
   "cell_type": "code",
   "execution_count": 16,
   "metadata": {},
   "outputs": [
    {
     "data": {
      "text/plain": [
       "1000"
      ]
     },
     "execution_count": 16,
     "metadata": {},
     "output_type": "execute_result"
    }
   ],
   "source": [
    "len(model.total_errors)"
   ]
  },
  {
   "cell_type": "code",
   "execution_count": 17,
   "metadata": {},
   "outputs": [
    {
     "data": {
      "image/png": "[encoded data removed]",
      "text/plain": [
       "<matplotlib.figure.Figure at 0x3fff22338d30>"
      ]
     },
     "metadata": {},
     "output_type": "display_data"
    }
   ],
   "source": [
    "plt.plot(model.total_errors)\n",
    "plt.xlabel('Iterations')\n",
    "plt.ylabel('Total Error')\n",
    "plt.xscale('log')"
   ]
  },
  {
   "cell_type": "code",
   "execution_count": 18,
   "metadata": {},
   "outputs": [
    {
     "data": {
      "image/png": "[encoded data removed]",
      "text/plain": [
       "<matplotlib.figure.Figure at 0x3fff222996d8>"
      ]
     },
     "metadata": {},
     "output_type": "display_data"
    }
   ],
   "source": [
    "plt.plot(model.sample_errors)\n",
    "plt.xlabel('Iterations')\n",
    "plt.ylabel('Sample Error')\n",
    "plt.xscale('log')"
   ]
  },
  {
   "cell_type": "markdown",
   "metadata": {},
   "source": [
    "* AS expected with Stochastic gradient descent, the error fluctuates at the minimum error and with bigger batch size we migh get less fluctuations"
   ]
  },
  {
   "cell_type": "code",
   "execution_count": 19,
   "metadata": {},
   "outputs": [
    {
     "data": {
      "image/png": "[encoded data removed]",
      "text/plain": [
       "<matplotlib.figure.Figure at 0x3fff2218c198>"
      ]
     },
     "metadata": {},
     "output_type": "display_data"
    }
   ],
   "source": [
    "plt.plot(model.coef_diffs)\n",
    "plt.xlabel('Iteration')\n",
    "plt.ylabel('Change in weights')\n",
    "plt.xscale('log')"
   ]
  },
  {
   "cell_type": "code",
   "execution_count": 20,
   "metadata": {},
   "outputs": [
    {
     "data": {
      "image/png": "[encoded data removed]",
      "text/plain": [
       "<matplotlib.figure.Figure at 0x3fff221dbb70>"
      ]
     },
     "metadata": {},
     "output_type": "display_data"
    }
   ],
   "source": [
    "plt.plot(model.intercept_diffs)\n",
    "plt.xlabel('Iteration')\n",
    "plt.ylabel('Change in intercept')\n",
    "plt.xscale('log')"
   ]
  },
  {
   "cell_type": "markdown",
   "metadata": {},
   "source": [
    "## Evaluation on test set of  modified SGD"
   ]
  },
  {
   "cell_type": "code",
   "execution_count": 21,
   "metadata": {},
   "outputs": [
    {
     "name": "stdout",
     "output_type": "stream",
     "text": [
      "R^2 score 0.660411376265\n"
     ]
    },
    {
     "data": {
      "image/png": "[encoded data removed]",
      "text/plain": [
       "<matplotlib.figure.Figure at 0x3fff2209bf60>"
      ]
     },
     "metadata": {},
     "output_type": "display_data"
    }
   ],
   "source": [
    "X_test_scaled = scaler.transform(X_test)\n",
    "y_pred = model.predict(X_test_scaled)\n",
    "\n",
    "plt.scatter(y_test, y_pred)\n",
    "plt.xlabel(\"Prices: $Y_i$\")\n",
    "plt.ylabel(\"Predicted prices: $\\hat{Y}_i$\")\n",
    "plt.title(\"Prices vs Predicted prices: $Y_i$ vs $\\hat{Y}_i$\")\n",
    "print('R^2 score', r2_score(y_test, y_pred))\n",
    "plt.show()"
   ]
  },
  {
   "cell_type": "code",
   "execution_count": 22,
   "metadata": {},
   "outputs": [
    {
     "name": "stderr",
     "output_type": "stream",
     "text": [
      "/opt/conda/envs/py3.6/lib/python3.6/site-packages/sklearn/linear_model/stochastic_gradient.py:84: FutureWarning: max_iter and tol parameters have been added in <class 'sklearn.linear_model.stochastic_gradient.SGDRegressor'> in 0.19. If both are left unset, they default to max_iter=5 and tol=None. If tol is not None, max_iter defaults to max_iter=1000. From 0.21, default max_iter will be 1000, and default tol will be 1e-3.\n",
      "  \"and default tol will be 1e-3.\" % type(self), FutureWarning)\n"
     ]
    },
    {
     "data": {
      "text/plain": [
       "SGDRegressor(alpha=0.005, average=False, epsilon=0.1, eta0=0.01,\n",
       "       fit_intercept=True, l1_ratio=0.15, learning_rate='invscaling',\n",
       "       loss='squared_loss', max_iter=5, n_iter=None, penalty='l2',\n",
       "       power_t=0.25, random_state=None, shuffle=True, tol=None, verbose=0,\n",
       "       warm_start=False)"
      ]
     },
     "execution_count": 22,
     "metadata": {},
     "output_type": "execute_result"
    }
   ],
   "source": [
    "# Built in sklearn SGD\n",
    "from sklearn.linear_model import SGDRegressor\n",
    "model = SGDRegressor(alpha=0.005)\n",
    "scaler = StandardScaler()\n",
    "X_scaled = scaler.fit_transform(X_train)\n",
    "model.fit(X_scaled, y_train)"
   ]
  },
  {
   "cell_type": "markdown",
   "metadata": {},
   "source": [
    "## Evaluation on sklearn inbuilt SGD"
   ]
  },
  {
   "cell_type": "code",
   "execution_count": 23,
   "metadata": {},
   "outputs": [
    {
     "name": "stdout",
     "output_type": "stream",
     "text": [
      "R^2 score 0.647524062748\n"
     ]
    },
    {
     "data": {
      "image/png": "[encoded data removed]",
      "text/plain": [
       "<matplotlib.figure.Figure at 0x3fff2bcadc88>"
      ]
     },
     "metadata": {},
     "output_type": "display_data"
    }
   ],
   "source": [
    "X_test_scaledx = scaler.transform(X_test)\n",
    "y_predi = model.predict(X_test_scaledx)\n",
    "\n",
    "plt.scatter(y_test, y_predi)\n",
    "plt.xlabel(\"Prices: $Y_i$\")\n",
    "plt.ylabel(\"Predicted prices: $\\hat{Y}_i$\")\n",
    "plt.title(\"Prices vs Predicted prices: $Y_i$ vs $\\hat{Y}_i$\")\n",
    "print('R^2 score', r2_score(y_test, y_predi))\n",
    "plt.show()"
   ]
  },
  {
   "cell_type": "markdown",
   "metadata": {},
   "source": [
    "## SKlearn SGD VS Modiefied SGD"
   ]
  },
  {
   "cell_type": "code",
   "execution_count": 24,
   "metadata": {},
   "outputs": [
    {
     "data": {
      "image/png": "[encoded data removed]",
      "text/plain": [
       "<matplotlib.figure.Figure at 0x3fff220d37f0>"
      ]
     },
     "metadata": {},
     "output_type": "display_data"
    }
   ],
   "source": [
    "plt.scatter(y_test, y_predi, label='Sklearn SGD')\n",
    "plt.scatter(y_test, y_pred, label='Modiefied SGD')\n",
    "plt.xlabel('Prices')\n",
    "plt.ylabel('Predicted prices')\n",
    "plt.title('SKlearn SGD VS Modiefied SGD')\n",
    "plt.legend(loc='best')\n",
    "plt.show()"
   ]
  },
  {
   "cell_type": "markdown",
   "metadata": {},
   "source": [
    "# Comparison on accuracy"
   ]
  },
  {
   "cell_type": "code",
   "execution_count": 26,
   "metadata": {},
   "outputs": [
    {
     "data": {
      "text/plain": [
       "(0.6, 0.7)"
      ]
     },
     "execution_count": 26,
     "metadata": {},
     "output_type": "execute_result"
    },
    {
     "data": {
      "image/png": "[encoded data removed]",
      "text/plain": [
       "<matplotlib.figure.Figure at 0x3fff2200b198>"
      ]
     },
     "metadata": {},
     "output_type": "display_data"
    }
   ],
   "source": [
    "Sgd_accuracy = {\n",
    "    'SGD Sklearn': 0.6475,\n",
    "    'SGD Modified': 0.6604\n",
    "}\n",
    "\n",
    "pd.Series(Sgd_accuracy).plot(kind='bar', color='bg')\n",
    "plt.ylabel('Accuracy Score')\n",
    "plt.ylim(0.60, .70)"
   ]
  },
  {
   "cell_type": "markdown",
   "metadata": {},
   "source": [
    "# Conclusion:-\n",
    "* From the above bar graph we can say that the SGD modified algorithm has the slightly high R^2 score than the skleanr's SGD model."
   ]
  },
  {
   "cell_type": "code",
   "execution_count": null,
   "metadata": {},
   "outputs": [],
   "source": []
  }
 ],
 "metadata": {
  "kernelspec": {
   "display_name": "Python 3",
   "language": "python",
   "name": "python3"
  },
  "language_info": {
   "codemirror_mode": {
    "name": "ipython",
    "version": 3
   },
   "file_extension": ".py",
   "mimetype": "text/x-python",
   "name": "python",
   "nbconvert_exporter": "python",
   "pygments_lexer": "ipython3",
   "version": "3.6.4"
  }
 },
 "nbformat": 4,
 "nbformat_minor": 2
}
