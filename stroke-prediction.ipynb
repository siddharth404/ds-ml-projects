{
 "cells": [
  {
   "cell_type": "code",
   "execution_count": 1,
   "id": "60646b29",
   "metadata": {
    "_cell_guid": "b1076dfc-b9ad-4769-8c92-a6c4dae69d19",
    "_uuid": "8f2839f25d086af736a60e9eeb907d3b93b6e0e5",
    "execution": {
     "iopub.execute_input": "2024-10-28T09:01:12.360765Z",
     "iopub.status.busy": "2024-10-28T09:01:12.360324Z",
     "iopub.status.idle": "2024-10-28T09:01:20.847786Z",
     "shell.execute_reply": "2024-10-28T09:01:20.846559Z"
    },
    "papermill": {
     "duration": 8.50391,
     "end_time": "2024-10-28T09:01:20.850547",
     "exception": false,
     "start_time": "2024-10-28T09:01:12.346637",
     "status": "completed"
    },
    "tags": []
   },
   "outputs": [
    {
     "name": "stdout",
     "output_type": "stream",
     "text": [
      "/kaggle/input/stroke-prediction-dataset/healthcare-dataset-stroke-data.csv\n"
     ]
    }
   ],
   "source": [
    "import numpy as np # linear algebra\n",
    "import pandas as pd # data processing, CSV file I/O (e.g. pd.read_csv)\n",
    "import seaborn\n",
    "import matplotlib.pyplot as plt\n",
    "from ydata_profiling import ProfileReport\n",
    "from imblearn.over_sampling import SMOTE\n",
    "from sklearn.model_selection import train_test_split\n",
    "from sklearn.linear_model import LogisticRegression\n",
    "from sklearn.tree import DecisionTreeClassifier\n",
    "from sklearn.ensemble import RandomForestClassifier\n",
    "from sklearn.naive_bayes import GaussianNB\n",
    "from sklearn.neighbors import KNeighborsClassifier\n",
    "from sklearn.svm import SVC\n",
    "from sklearn.metrics import confusion_matrix, ConfusionMatrixDisplay, classification_report\n",
    "%matplotlib inline\n",
    "\n",
    "# Inits\n",
    "seaborn.set_theme()\n",
    "seaborn.set_style(\"darkgrid\")\n",
    "\n",
    "# Kaggle Path\n",
    "import os\n",
    "for dirname, _, filenames in os.walk('/kaggle/input'):\n",
    "    for filename in filenames:\n",
    "        print(os.path.join(dirname, filename))\n",
    "\n",
    "# You can write up to 20GB to the current directory (/kaggle/working/) that gets preserved as output when you create a version using \"Save & Run All\" \n",
    "# You can also write temporary files to /kaggle/temp/, but they won't be saved outside of the current session\n",
    "\n"
   ]
  },
  {
   "cell_type": "code",
   "execution_count": 2,
   "id": "a77c0dc2",
   "metadata": {
    "execution": {
     "iopub.execute_input": "2024-10-28T09:01:20.876083Z",
     "iopub.status.busy": "2024-10-28T09:01:20.875386Z",
     "iopub.status.idle": "2024-10-28T09:01:20.931991Z",
     "shell.execute_reply": "2024-10-28T09:01:20.930668Z"
    },
    "papermill": {
     "duration": 0.071664,
     "end_time": "2024-10-28T09:01:20.934780",
     "exception": false,
     "start_time": "2024-10-28T09:01:20.863116",
     "status": "completed"
    },
    "tags": []
   },
   "outputs": [
    {
     "data": {
      "text/html": [
       "<div>\n",
       "<style scoped>\n",
       "    .dataframe tbody tr th:only-of-type {\n",
       "        vertical-align: middle;\n",
       "    }\n",
       "\n",
       "    .dataframe tbody tr th {\n",
       "        vertical-align: top;\n",
       "    }\n",
       "\n",
       "    .dataframe thead th {\n",
       "        text-align: right;\n",
       "    }\n",
       "</style>\n",
       "<table border=\"1\" class=\"dataframe\">\n",
       "  <thead>\n",
       "    <tr style=\"text-align: right;\">\n",
       "      <th></th>\n",
       "      <th>id</th>\n",
       "      <th>gender</th>\n",
       "      <th>age</th>\n",
       "      <th>hypertension</th>\n",
       "      <th>heart_disease</th>\n",
       "      <th>ever_married</th>\n",
       "      <th>work_type</th>\n",
       "      <th>Residence_type</th>\n",
       "      <th>avg_glucose_level</th>\n",
       "      <th>bmi</th>\n",
       "      <th>smoking_status</th>\n",
       "      <th>stroke</th>\n",
       "    </tr>\n",
       "  </thead>\n",
       "  <tbody>\n",
       "    <tr>\n",
       "      <th>0</th>\n",
       "      <td>9046</td>\n",
       "      <td>Male</td>\n",
       "      <td>67.0</td>\n",
       "      <td>0</td>\n",
       "      <td>1</td>\n",
       "      <td>Yes</td>\n",
       "      <td>Private</td>\n",
       "      <td>Urban</td>\n",
       "      <td>228.69</td>\n",
       "      <td>36.6</td>\n",
       "      <td>formerly smoked</td>\n",
       "      <td>1</td>\n",
       "    </tr>\n",
       "    <tr>\n",
       "      <th>1</th>\n",
       "      <td>51676</td>\n",
       "      <td>Female</td>\n",
       "      <td>61.0</td>\n",
       "      <td>0</td>\n",
       "      <td>0</td>\n",
       "      <td>Yes</td>\n",
       "      <td>Self-employed</td>\n",
       "      <td>Rural</td>\n",
       "      <td>202.21</td>\n",
       "      <td>NaN</td>\n",
       "      <td>never smoked</td>\n",
       "      <td>1</td>\n",
       "    </tr>\n",
       "    <tr>\n",
       "      <th>2</th>\n",
       "      <td>31112</td>\n",
       "      <td>Male</td>\n",
       "      <td>80.0</td>\n",
       "      <td>0</td>\n",
       "      <td>1</td>\n",
       "      <td>Yes</td>\n",
       "      <td>Private</td>\n",
       "      <td>Rural</td>\n",
       "      <td>105.92</td>\n",
       "      <td>32.5</td>\n",
       "      <td>never smoked</td>\n",
       "      <td>1</td>\n",
       "    </tr>\n",
       "    <tr>\n",
       "      <th>3</th>\n",
       "      <td>60182</td>\n",
       "      <td>Female</td>\n",
       "      <td>49.0</td>\n",
       "      <td>0</td>\n",
       "      <td>0</td>\n",
       "      <td>Yes</td>\n",
       "      <td>Private</td>\n",
       "      <td>Urban</td>\n",
       "      <td>171.23</td>\n",
       "      <td>34.4</td>\n",
       "      <td>smokes</td>\n",
       "      <td>1</td>\n",
       "    </tr>\n",
       "    <tr>\n",
       "      <th>4</th>\n",
       "      <td>1665</td>\n",
       "      <td>Female</td>\n",
       "      <td>79.0</td>\n",
       "      <td>1</td>\n",
       "      <td>0</td>\n",
       "      <td>Yes</td>\n",
       "      <td>Self-employed</td>\n",
       "      <td>Rural</td>\n",
       "      <td>174.12</td>\n",
       "      <td>24.0</td>\n",
       "      <td>never smoked</td>\n",
       "      <td>1</td>\n",
       "    </tr>\n",
       "  </tbody>\n",
       "</table>\n",
       "</div>"
      ],
      "text/plain": [
       "      id  gender   age  hypertension  heart_disease ever_married  \\\n",
       "0   9046    Male  67.0             0              1          Yes   \n",
       "1  51676  Female  61.0             0              0          Yes   \n",
       "2  31112    Male  80.0             0              1          Yes   \n",
       "3  60182  Female  49.0             0              0          Yes   \n",
       "4   1665  Female  79.0             1              0          Yes   \n",
       "\n",
       "       work_type Residence_type  avg_glucose_level   bmi   smoking_status  \\\n",
       "0        Private          Urban             228.69  36.6  formerly smoked   \n",
       "1  Self-employed          Rural             202.21   NaN     never smoked   \n",
       "2        Private          Rural             105.92  32.5     never smoked   \n",
       "3        Private          Urban             171.23  34.4           smokes   \n",
       "4  Self-employed          Rural             174.12  24.0     never smoked   \n",
       "\n",
       "   stroke  \n",
       "0       1  \n",
       "1       1  \n",
       "2       1  \n",
       "3       1  \n",
       "4       1  "
      ]
     },
     "execution_count": 2,
     "metadata": {},
     "output_type": "execute_result"
    }
   ],
   "source": [
    "# FilePath\n",
    "path = \"/kaggle/input/stroke-prediction-dataset/healthcare-dataset-stroke-data.csv\"\n",
    "\n",
    "# Dataframe\n",
    "df = pd.read_csv(path)\n",
    "df.head()"
   ]
  },
  {
   "cell_type": "code",
   "execution_count": 3,
   "id": "f807f58f",
   "metadata": {
    "execution": {
     "iopub.execute_input": "2024-10-28T09:01:20.959253Z",
     "iopub.status.busy": "2024-10-28T09:01:20.958827Z",
     "iopub.status.idle": "2024-10-28T09:01:20.976115Z",
     "shell.execute_reply": "2024-10-28T09:01:20.974744Z"
    },
    "papermill": {
     "duration": 0.032141,
     "end_time": "2024-10-28T09:01:20.978575",
     "exception": false,
     "start_time": "2024-10-28T09:01:20.946434",
     "status": "completed"
    },
    "tags": []
   },
   "outputs": [
    {
     "data": {
      "text/html": [
       "<div>\n",
       "<style scoped>\n",
       "    .dataframe tbody tr th:only-of-type {\n",
       "        vertical-align: middle;\n",
       "    }\n",
       "\n",
       "    .dataframe tbody tr th {\n",
       "        vertical-align: top;\n",
       "    }\n",
       "\n",
       "    .dataframe thead th {\n",
       "        text-align: right;\n",
       "    }\n",
       "</style>\n",
       "<table border=\"1\" class=\"dataframe\">\n",
       "  <thead>\n",
       "    <tr style=\"text-align: right;\">\n",
       "      <th></th>\n",
       "      <th>id</th>\n",
       "      <th>gender</th>\n",
       "      <th>age</th>\n",
       "      <th>hypertension</th>\n",
       "      <th>heart_disease</th>\n",
       "      <th>ever_married</th>\n",
       "      <th>work_type</th>\n",
       "      <th>Residence_type</th>\n",
       "      <th>avg_glucose_level</th>\n",
       "      <th>bmi</th>\n",
       "      <th>smoking_status</th>\n",
       "      <th>stroke</th>\n",
       "    </tr>\n",
       "  </thead>\n",
       "  <tbody>\n",
       "    <tr>\n",
       "      <th>5105</th>\n",
       "      <td>18234</td>\n",
       "      <td>Female</td>\n",
       "      <td>80.0</td>\n",
       "      <td>1</td>\n",
       "      <td>0</td>\n",
       "      <td>Yes</td>\n",
       "      <td>Private</td>\n",
       "      <td>Urban</td>\n",
       "      <td>83.75</td>\n",
       "      <td>NaN</td>\n",
       "      <td>never smoked</td>\n",
       "      <td>0</td>\n",
       "    </tr>\n",
       "    <tr>\n",
       "      <th>5106</th>\n",
       "      <td>44873</td>\n",
       "      <td>Female</td>\n",
       "      <td>81.0</td>\n",
       "      <td>0</td>\n",
       "      <td>0</td>\n",
       "      <td>Yes</td>\n",
       "      <td>Self-employed</td>\n",
       "      <td>Urban</td>\n",
       "      <td>125.20</td>\n",
       "      <td>40.0</td>\n",
       "      <td>never smoked</td>\n",
       "      <td>0</td>\n",
       "    </tr>\n",
       "    <tr>\n",
       "      <th>5107</th>\n",
       "      <td>19723</td>\n",
       "      <td>Female</td>\n",
       "      <td>35.0</td>\n",
       "      <td>0</td>\n",
       "      <td>0</td>\n",
       "      <td>Yes</td>\n",
       "      <td>Self-employed</td>\n",
       "      <td>Rural</td>\n",
       "      <td>82.99</td>\n",
       "      <td>30.6</td>\n",
       "      <td>never smoked</td>\n",
       "      <td>0</td>\n",
       "    </tr>\n",
       "    <tr>\n",
       "      <th>5108</th>\n",
       "      <td>37544</td>\n",
       "      <td>Male</td>\n",
       "      <td>51.0</td>\n",
       "      <td>0</td>\n",
       "      <td>0</td>\n",
       "      <td>Yes</td>\n",
       "      <td>Private</td>\n",
       "      <td>Rural</td>\n",
       "      <td>166.29</td>\n",
       "      <td>25.6</td>\n",
       "      <td>formerly smoked</td>\n",
       "      <td>0</td>\n",
       "    </tr>\n",
       "    <tr>\n",
       "      <th>5109</th>\n",
       "      <td>44679</td>\n",
       "      <td>Female</td>\n",
       "      <td>44.0</td>\n",
       "      <td>0</td>\n",
       "      <td>0</td>\n",
       "      <td>Yes</td>\n",
       "      <td>Govt_job</td>\n",
       "      <td>Urban</td>\n",
       "      <td>85.28</td>\n",
       "      <td>26.2</td>\n",
       "      <td>Unknown</td>\n",
       "      <td>0</td>\n",
       "    </tr>\n",
       "  </tbody>\n",
       "</table>\n",
       "</div>"
      ],
      "text/plain": [
       "         id  gender   age  hypertension  heart_disease ever_married  \\\n",
       "5105  18234  Female  80.0             1              0          Yes   \n",
       "5106  44873  Female  81.0             0              0          Yes   \n",
       "5107  19723  Female  35.0             0              0          Yes   \n",
       "5108  37544    Male  51.0             0              0          Yes   \n",
       "5109  44679  Female  44.0             0              0          Yes   \n",
       "\n",
       "          work_type Residence_type  avg_glucose_level   bmi   smoking_status  \\\n",
       "5105        Private          Urban              83.75   NaN     never smoked   \n",
       "5106  Self-employed          Urban             125.20  40.0     never smoked   \n",
       "5107  Self-employed          Rural              82.99  30.6     never smoked   \n",
       "5108        Private          Rural             166.29  25.6  formerly smoked   \n",
       "5109       Govt_job          Urban              85.28  26.2          Unknown   \n",
       "\n",
       "      stroke  \n",
       "5105       0  \n",
       "5106       0  \n",
       "5107       0  \n",
       "5108       0  \n",
       "5109       0  "
      ]
     },
     "execution_count": 3,
     "metadata": {},
     "output_type": "execute_result"
    }
   ],
   "source": [
    "df.tail()"
   ]
  },
  {
   "cell_type": "markdown",
   "id": "c17c5bf2",
   "metadata": {
    "papermill": {
     "duration": 0.011643,
     "end_time": "2024-10-28T09:01:21.002507",
     "exception": false,
     "start_time": "2024-10-28T09:01:20.990864",
     "status": "completed"
    },
    "tags": []
   },
   "source": [
    "# EDA"
   ]
  },
  {
   "cell_type": "code",
   "execution_count": 4,
   "id": "7310942a",
   "metadata": {
    "execution": {
     "iopub.execute_input": "2024-10-28T09:01:21.028087Z",
     "iopub.status.busy": "2024-10-28T09:01:21.027659Z",
     "iopub.status.idle": "2024-10-28T09:01:21.061230Z",
     "shell.execute_reply": "2024-10-28T09:01:21.059378Z"
    },
    "papermill": {
     "duration": 0.048802,
     "end_time": "2024-10-28T09:01:21.063884",
     "exception": false,
     "start_time": "2024-10-28T09:01:21.015082",
     "status": "completed"
    },
    "tags": []
   },
   "outputs": [
    {
     "name": "stdout",
     "output_type": "stream",
     "text": [
      "<class 'pandas.core.frame.DataFrame'>\n",
      "RangeIndex: 5110 entries, 0 to 5109\n",
      "Data columns (total 12 columns):\n",
      " #   Column             Non-Null Count  Dtype  \n",
      "---  ------             --------------  -----  \n",
      " 0   id                 5110 non-null   int64  \n",
      " 1   gender             5110 non-null   object \n",
      " 2   age                5110 non-null   float64\n",
      " 3   hypertension       5110 non-null   int64  \n",
      " 4   heart_disease      5110 non-null   int64  \n",
      " 5   ever_married       5110 non-null   object \n",
      " 6   work_type          5110 non-null   object \n",
      " 7   Residence_type     5110 non-null   object \n",
      " 8   avg_glucose_level  5110 non-null   float64\n",
      " 9   bmi                4909 non-null   float64\n",
      " 10  smoking_status     5110 non-null   object \n",
      " 11  stroke             5110 non-null   int64  \n",
      "dtypes: float64(3), int64(4), object(5)\n",
      "memory usage: 479.2+ KB\n"
     ]
    }
   ],
   "source": [
    "# info\n",
    "df.info()"
   ]
  },
  {
   "cell_type": "code",
   "execution_count": 5,
   "id": "000dc3b8",
   "metadata": {
    "execution": {
     "iopub.execute_input": "2024-10-28T09:01:21.093235Z",
     "iopub.status.busy": "2024-10-28T09:01:21.092805Z",
     "iopub.status.idle": "2024-10-28T09:01:21.131410Z",
     "shell.execute_reply": "2024-10-28T09:01:21.130191Z"
    },
    "papermill": {
     "duration": 0.057665,
     "end_time": "2024-10-28T09:01:21.134061",
     "exception": false,
     "start_time": "2024-10-28T09:01:21.076396",
     "status": "completed"
    },
    "tags": []
   },
   "outputs": [
    {
     "data": {
      "text/html": [
       "<div>\n",
       "<style scoped>\n",
       "    .dataframe tbody tr th:only-of-type {\n",
       "        vertical-align: middle;\n",
       "    }\n",
       "\n",
       "    .dataframe tbody tr th {\n",
       "        vertical-align: top;\n",
       "    }\n",
       "\n",
       "    .dataframe thead th {\n",
       "        text-align: right;\n",
       "    }\n",
       "</style>\n",
       "<table border=\"1\" class=\"dataframe\">\n",
       "  <thead>\n",
       "    <tr style=\"text-align: right;\">\n",
       "      <th></th>\n",
       "      <th>count</th>\n",
       "      <th>mean</th>\n",
       "      <th>std</th>\n",
       "      <th>min</th>\n",
       "      <th>25%</th>\n",
       "      <th>50%</th>\n",
       "      <th>75%</th>\n",
       "      <th>max</th>\n",
       "    </tr>\n",
       "  </thead>\n",
       "  <tbody>\n",
       "    <tr>\n",
       "      <th>id</th>\n",
       "      <td>5110.0</td>\n",
       "      <td>36517.829354</td>\n",
       "      <td>21161.721625</td>\n",
       "      <td>67.00</td>\n",
       "      <td>17741.250</td>\n",
       "      <td>36932.000</td>\n",
       "      <td>54682.00</td>\n",
       "      <td>72940.00</td>\n",
       "    </tr>\n",
       "    <tr>\n",
       "      <th>age</th>\n",
       "      <td>5110.0</td>\n",
       "      <td>43.226614</td>\n",
       "      <td>22.612647</td>\n",
       "      <td>0.08</td>\n",
       "      <td>25.000</td>\n",
       "      <td>45.000</td>\n",
       "      <td>61.00</td>\n",
       "      <td>82.00</td>\n",
       "    </tr>\n",
       "    <tr>\n",
       "      <th>hypertension</th>\n",
       "      <td>5110.0</td>\n",
       "      <td>0.097456</td>\n",
       "      <td>0.296607</td>\n",
       "      <td>0.00</td>\n",
       "      <td>0.000</td>\n",
       "      <td>0.000</td>\n",
       "      <td>0.00</td>\n",
       "      <td>1.00</td>\n",
       "    </tr>\n",
       "    <tr>\n",
       "      <th>heart_disease</th>\n",
       "      <td>5110.0</td>\n",
       "      <td>0.054012</td>\n",
       "      <td>0.226063</td>\n",
       "      <td>0.00</td>\n",
       "      <td>0.000</td>\n",
       "      <td>0.000</td>\n",
       "      <td>0.00</td>\n",
       "      <td>1.00</td>\n",
       "    </tr>\n",
       "    <tr>\n",
       "      <th>avg_glucose_level</th>\n",
       "      <td>5110.0</td>\n",
       "      <td>106.147677</td>\n",
       "      <td>45.283560</td>\n",
       "      <td>55.12</td>\n",
       "      <td>77.245</td>\n",
       "      <td>91.885</td>\n",
       "      <td>114.09</td>\n",
       "      <td>271.74</td>\n",
       "    </tr>\n",
       "    <tr>\n",
       "      <th>bmi</th>\n",
       "      <td>4909.0</td>\n",
       "      <td>28.893237</td>\n",
       "      <td>7.854067</td>\n",
       "      <td>10.30</td>\n",
       "      <td>23.500</td>\n",
       "      <td>28.100</td>\n",
       "      <td>33.10</td>\n",
       "      <td>97.60</td>\n",
       "    </tr>\n",
       "    <tr>\n",
       "      <th>stroke</th>\n",
       "      <td>5110.0</td>\n",
       "      <td>0.048728</td>\n",
       "      <td>0.215320</td>\n",
       "      <td>0.00</td>\n",
       "      <td>0.000</td>\n",
       "      <td>0.000</td>\n",
       "      <td>0.00</td>\n",
       "      <td>1.00</td>\n",
       "    </tr>\n",
       "  </tbody>\n",
       "</table>\n",
       "</div>"
      ],
      "text/plain": [
       "                    count          mean           std    min        25%  \\\n",
       "id                 5110.0  36517.829354  21161.721625  67.00  17741.250   \n",
       "age                5110.0     43.226614     22.612647   0.08     25.000   \n",
       "hypertension       5110.0      0.097456      0.296607   0.00      0.000   \n",
       "heart_disease      5110.0      0.054012      0.226063   0.00      0.000   \n",
       "avg_glucose_level  5110.0    106.147677     45.283560  55.12     77.245   \n",
       "bmi                4909.0     28.893237      7.854067  10.30     23.500   \n",
       "stroke             5110.0      0.048728      0.215320   0.00      0.000   \n",
       "\n",
       "                         50%       75%       max  \n",
       "id                 36932.000  54682.00  72940.00  \n",
       "age                   45.000     61.00     82.00  \n",
       "hypertension           0.000      0.00      1.00  \n",
       "heart_disease          0.000      0.00      1.00  \n",
       "avg_glucose_level     91.885    114.09    271.74  \n",
       "bmi                   28.100     33.10     97.60  \n",
       "stroke                 0.000      0.00      1.00  "
      ]
     },
     "execution_count": 5,
     "metadata": {},
     "output_type": "execute_result"
    }
   ],
   "source": [
    "# Data description\n",
    "df.describe().T"
   ]
  },
  {
   "cell_type": "code",
   "execution_count": 6,
   "id": "71400bf0",
   "metadata": {
    "execution": {
     "iopub.execute_input": "2024-10-28T09:01:21.158709Z",
     "iopub.status.busy": "2024-10-28T09:01:21.158308Z",
     "iopub.status.idle": "2024-10-28T09:01:21.181452Z",
     "shell.execute_reply": "2024-10-28T09:01:21.180301Z"
    },
    "papermill": {
     "duration": 0.038306,
     "end_time": "2024-10-28T09:01:21.183922",
     "exception": false,
     "start_time": "2024-10-28T09:01:21.145616",
     "status": "completed"
    },
    "tags": []
   },
   "outputs": [
    {
     "data": {
      "text/html": [
       "<div>\n",
       "<style scoped>\n",
       "    .dataframe tbody tr th:only-of-type {\n",
       "        vertical-align: middle;\n",
       "    }\n",
       "\n",
       "    .dataframe tbody tr th {\n",
       "        vertical-align: top;\n",
       "    }\n",
       "\n",
       "    .dataframe thead th {\n",
       "        text-align: right;\n",
       "    }\n",
       "</style>\n",
       "<table border=\"1\" class=\"dataframe\">\n",
       "  <thead>\n",
       "    <tr style=\"text-align: right;\">\n",
       "      <th></th>\n",
       "      <th>count</th>\n",
       "      <th>unique</th>\n",
       "      <th>top</th>\n",
       "      <th>freq</th>\n",
       "    </tr>\n",
       "  </thead>\n",
       "  <tbody>\n",
       "    <tr>\n",
       "      <th>gender</th>\n",
       "      <td>5110</td>\n",
       "      <td>3</td>\n",
       "      <td>Female</td>\n",
       "      <td>2994</td>\n",
       "    </tr>\n",
       "    <tr>\n",
       "      <th>ever_married</th>\n",
       "      <td>5110</td>\n",
       "      <td>2</td>\n",
       "      <td>Yes</td>\n",
       "      <td>3353</td>\n",
       "    </tr>\n",
       "    <tr>\n",
       "      <th>work_type</th>\n",
       "      <td>5110</td>\n",
       "      <td>5</td>\n",
       "      <td>Private</td>\n",
       "      <td>2925</td>\n",
       "    </tr>\n",
       "    <tr>\n",
       "      <th>Residence_type</th>\n",
       "      <td>5110</td>\n",
       "      <td>2</td>\n",
       "      <td>Urban</td>\n",
       "      <td>2596</td>\n",
       "    </tr>\n",
       "    <tr>\n",
       "      <th>smoking_status</th>\n",
       "      <td>5110</td>\n",
       "      <td>4</td>\n",
       "      <td>never smoked</td>\n",
       "      <td>1892</td>\n",
       "    </tr>\n",
       "  </tbody>\n",
       "</table>\n",
       "</div>"
      ],
      "text/plain": [
       "               count unique           top  freq\n",
       "gender          5110      3        Female  2994\n",
       "ever_married    5110      2           Yes  3353\n",
       "work_type       5110      5       Private  2925\n",
       "Residence_type  5110      2         Urban  2596\n",
       "smoking_status  5110      4  never smoked  1892"
      ]
     },
     "execution_count": 6,
     "metadata": {},
     "output_type": "execute_result"
    }
   ],
   "source": [
    "df.describe(include=\"object\").T"
   ]
  },
  {
   "cell_type": "code",
   "execution_count": 7,
   "id": "9ef1cbce",
   "metadata": {
    "execution": {
     "iopub.execute_input": "2024-10-28T09:01:21.211069Z",
     "iopub.status.busy": "2024-10-28T09:01:21.210641Z",
     "iopub.status.idle": "2024-10-28T09:01:21.229123Z",
     "shell.execute_reply": "2024-10-28T09:01:21.227912Z"
    },
    "papermill": {
     "duration": 0.035493,
     "end_time": "2024-10-28T09:01:21.231992",
     "exception": false,
     "start_time": "2024-10-28T09:01:21.196499",
     "status": "completed"
    },
    "tags": []
   },
   "outputs": [
    {
     "name": "stdout",
     "output_type": "stream",
     "text": [
      "id's Unique Value\n",
      "=============================================\n",
      "[ 9046 51676 31112 ... 19723 37544 44679]\n",
      "\n",
      "gender's Unique Value\n",
      "=============================================\n",
      "['Male' 'Female' 'Other']\n",
      "\n",
      "age's Unique Value\n",
      "=============================================\n",
      "[6.70e+01 6.10e+01 8.00e+01 4.90e+01 7.90e+01 8.10e+01 7.40e+01 6.90e+01\n",
      " 5.90e+01 7.80e+01 5.40e+01 5.00e+01 6.40e+01 7.50e+01 6.00e+01 5.70e+01\n",
      " 7.10e+01 5.20e+01 8.20e+01 6.50e+01 5.80e+01 4.20e+01 4.80e+01 7.20e+01\n",
      " 6.30e+01 7.60e+01 3.90e+01 7.70e+01 7.30e+01 5.60e+01 4.50e+01 7.00e+01\n",
      " 6.60e+01 5.10e+01 4.30e+01 6.80e+01 4.70e+01 5.30e+01 3.80e+01 5.50e+01\n",
      " 1.32e+00 4.60e+01 3.20e+01 1.40e+01 3.00e+00 8.00e+00 3.70e+01 4.00e+01\n",
      " 3.50e+01 2.00e+01 4.40e+01 2.50e+01 2.70e+01 2.30e+01 1.70e+01 1.30e+01\n",
      " 4.00e+00 1.60e+01 2.20e+01 3.00e+01 2.90e+01 1.10e+01 2.10e+01 1.80e+01\n",
      " 3.30e+01 2.40e+01 3.40e+01 3.60e+01 6.40e-01 4.10e+01 8.80e-01 5.00e+00\n",
      " 2.60e+01 3.10e+01 7.00e+00 1.20e+01 6.20e+01 2.00e+00 9.00e+00 1.50e+01\n",
      " 2.80e+01 1.00e+01 1.80e+00 3.20e-01 1.08e+00 1.90e+01 6.00e+00 1.16e+00\n",
      " 1.00e+00 1.40e+00 1.72e+00 2.40e-01 1.64e+00 1.56e+00 7.20e-01 1.88e+00\n",
      " 1.24e+00 8.00e-01 4.00e-01 8.00e-02 1.48e+00 5.60e-01 4.80e-01 1.60e-01]\n",
      "\n",
      "hypertension's Unique Value\n",
      "=============================================\n",
      "[0 1]\n",
      "\n",
      "heart_disease's Unique Value\n",
      "=============================================\n",
      "[1 0]\n",
      "\n",
      "ever_married's Unique Value\n",
      "=============================================\n",
      "['Yes' 'No']\n",
      "\n",
      "work_type's Unique Value\n",
      "=============================================\n",
      "['Private' 'Self-employed' 'Govt_job' 'children' 'Never_worked']\n",
      "\n",
      "Residence_type's Unique Value\n",
      "=============================================\n",
      "['Urban' 'Rural']\n",
      "\n",
      "avg_glucose_level's Unique Value\n",
      "=============================================\n",
      "[228.69 202.21 105.92 ...  82.99 166.29  85.28]\n",
      "\n",
      "bmi's Unique Value\n",
      "=============================================\n",
      "[36.6  nan 32.5 34.4 24.  29.  27.4 22.8 24.2 29.7 36.8 27.3 28.2 30.9\n",
      " 37.5 25.8 37.8 22.4 48.9 26.6 27.2 23.5 28.3 44.2 25.4 22.2 30.5 26.5\n",
      " 33.7 23.1 32.  29.9 23.9 28.5 26.4 20.2 33.6 38.6 39.2 27.7 31.4 36.5\n",
      " 33.2 32.8 40.4 25.3 30.2 47.5 20.3 30.  28.9 28.1 31.1 21.7 27.  24.1\n",
      " 45.9 44.1 22.9 29.1 32.3 41.1 25.6 29.8 26.3 26.2 29.4 24.4 28.  28.8\n",
      " 34.6 19.4 30.3 41.5 22.6 56.6 27.1 31.3 31.  31.7 35.8 28.4 20.1 26.7\n",
      " 38.7 34.9 25.  23.8 21.8 27.5 24.6 32.9 26.1 31.9 34.1 36.9 37.3 45.7\n",
      " 34.2 23.6 22.3 37.1 45.  25.5 30.8 37.4 34.5 27.9 29.5 46.  42.5 35.5\n",
      " 26.9 45.5 31.5 33.  23.4 30.7 20.5 21.5 40.  28.6 42.2 29.6 35.4 16.9\n",
      " 26.8 39.3 32.6 35.9 21.2 42.4 40.5 36.7 29.3 19.6 18.  17.6 19.1 50.1\n",
      " 17.7 54.6 35.  22.  39.4 19.7 22.5 25.2 41.8 60.9 23.7 24.5 31.2 16.\n",
      " 31.6 25.1 24.8 18.3 20.  19.5 36.  35.3 40.1 43.1 21.4 34.3 27.6 16.5\n",
      " 24.3 25.7 21.9 38.4 25.9 54.7 18.6 24.9 48.2 20.7 39.5 23.3 64.8 35.1\n",
      " 43.6 21.  47.3 16.6 21.6 15.5 35.6 16.7 41.9 16.4 17.1 29.2 37.9 44.6\n",
      " 39.6 40.3 41.6 39.  23.2 18.9 36.1 36.3 46.5 16.8 46.6 35.2 20.9 13.8\n",
      " 31.8 15.3 38.2 45.2 17.  49.8 27.8 60.2 23.  22.1 26.  44.3 51.  39.7\n",
      " 34.7 21.3 41.2 34.8 19.2 35.7 40.8 24.7 19.  32.4 34.  28.7 32.1 51.5\n",
      " 20.4 30.6 71.9 19.3 40.9 17.2 16.1 16.2 40.6 18.4 21.1 42.3 32.2 50.2\n",
      " 17.5 18.7 42.1 47.8 20.8 30.1 17.3 36.4 12.  36.2 55.7 14.4 43.  41.7\n",
      " 33.8 43.9 22.7 57.5 37.  38.5 16.3 44.  32.7 54.2 40.2 33.3 17.4 41.3\n",
      " 52.3 14.6 17.8 46.1 33.1 18.1 43.8 50.3 38.9 43.7 39.9 15.9 19.8 12.3\n",
      " 78.  38.3 41.  42.6 43.4 15.1 20.6 33.5 43.2 30.4 38.  33.4 44.9 44.7\n",
      " 37.6 39.8 53.4 55.2 42.  37.2 42.8 18.8 42.9 14.3 37.7 48.4 50.6 46.2\n",
      " 49.5 43.3 33.9 18.5 44.5 45.4 55.  54.8 19.9 17.9 15.6 52.8 15.2 66.8\n",
      " 55.1 18.2 48.5 55.9 57.3 10.3 14.1 15.7 56.  44.8 13.4 51.8 38.1 57.7\n",
      " 44.4 38.8 49.3 39.1 54.  56.1 97.6 53.9 13.7 11.5 41.4 14.2 49.4 15.4\n",
      " 45.1 49.2 48.7 53.8 42.7 48.8 52.7 53.5 50.5 15.8 45.3 14.8 51.9 63.3\n",
      " 40.7 61.2 48.  46.8 48.3 58.1 50.4 11.3 12.8 13.5 14.5 15.  59.7 47.4\n",
      " 52.5 13.2 52.9 61.6 49.9 54.3 47.9 13.  13.9 50.9 57.2 64.4 92.  50.8\n",
      " 57.9 45.8 47.6 14.  46.4 46.9 47.1 13.3 48.1 51.7 46.3 54.1 14.9]\n",
      "\n",
      "smoking_status's Unique Value\n",
      "=============================================\n",
      "['formerly smoked' 'never smoked' 'smokes' 'Unknown']\n",
      "\n",
      "stroke's Unique Value\n",
      "=============================================\n",
      "[1 0]\n",
      "\n"
     ]
    }
   ],
   "source": [
    "# Unique Values\n",
    "for column in df.columns:\n",
    "    print(f\"{column}'s Unique Value\")\n",
    "    print(\"=\" * 45)\n",
    "    print(df[column].unique())\n",
    "    print()"
   ]
  },
  {
   "cell_type": "code",
   "execution_count": 8,
   "id": "ee697726",
   "metadata": {
    "execution": {
     "iopub.execute_input": "2024-10-28T09:01:21.258228Z",
     "iopub.status.busy": "2024-10-28T09:01:21.257795Z",
     "iopub.status.idle": "2024-10-28T09:01:23.585926Z",
     "shell.execute_reply": "2024-10-28T09:01:23.584788Z"
    },
    "papermill": {
     "duration": 2.344508,
     "end_time": "2024-10-28T09:01:23.588519",
     "exception": false,
     "start_time": "2024-10-28T09:01:21.244011",
     "status": "completed"
    },
    "tags": []
   },
   "outputs": [
    {
     "data": {
      "text/plain": [
       "array([[<Axes: title={'center': 'id'}>, <Axes: title={'center': 'age'}>,\n",
       "        <Axes: title={'center': 'hypertension'}>],\n",
       "       [<Axes: title={'center': 'heart_disease'}>,\n",
       "        <Axes: title={'center': 'avg_glucose_level'}>,\n",
       "        <Axes: title={'center': 'bmi'}>],\n",
       "       [<Axes: title={'center': 'stroke'}>, <Axes: >, <Axes: >]],\n",
       "      dtype=object)"
      ]
     },
     "execution_count": 8,
     "metadata": {},
     "output_type": "execute_result"
    },
    {
     "data": {
      "image/png": "[encoded data removed]",
      "text/plain": [
       "<Figure size 1500x1200 with 9 Axes>"
      ]
     },
     "metadata": {},
     "output_type": "display_data"
    }
   ],
   "source": [
    "# Distributions\n",
    "df.hist(figsize=(15,12))"
   ]
  },
  {
   "cell_type": "code",
   "execution_count": 9,
   "id": "0c49754a",
   "metadata": {
    "execution": {
     "iopub.execute_input": "2024-10-28T09:01:23.617855Z",
     "iopub.status.busy": "2024-10-28T09:01:23.617431Z",
     "iopub.status.idle": "2024-10-28T09:01:23.837246Z",
     "shell.execute_reply": "2024-10-28T09:01:23.836153Z"
    },
    "papermill": {
     "duration": 0.237705,
     "end_time": "2024-10-28T09:01:23.839997",
     "exception": false,
     "start_time": "2024-10-28T09:01:23.602292",
     "status": "completed"
    },
    "tags": []
   },
   "outputs": [
    {
     "data": {
      "text/plain": [
       "<Axes: xlabel='gender', ylabel='count'>"
      ]
     },
     "execution_count": 9,
     "metadata": {},
     "output_type": "execute_result"
    },
    {
     "data": {
      "image/png": "[encoded data removed]",
      "text/plain": [
       "<Figure size 640x480 with 1 Axes>"
      ]
     },
     "metadata": {},
     "output_type": "display_data"
    }
   ],
   "source": [
    "# Countplot\n",
    "categorical_col = df.select_dtypes(include=\"object\").columns.tolist()\n",
    "seaborn.countplot(data=df, x=categorical_col[0])"
   ]
  },
  {
   "cell_type": "code",
   "execution_count": 10,
   "id": "8dc5b4ba",
   "metadata": {
    "execution": {
     "iopub.execute_input": "2024-10-28T09:01:23.869457Z",
     "iopub.status.busy": "2024-10-28T09:01:23.868650Z",
     "iopub.status.idle": "2024-10-28T09:01:24.086938Z",
     "shell.execute_reply": "2024-10-28T09:01:24.085685Z"
    },
    "papermill": {
     "duration": 0.236157,
     "end_time": "2024-10-28T09:01:24.089954",
     "exception": false,
     "start_time": "2024-10-28T09:01:23.853797",
     "status": "completed"
    },
    "tags": []
   },
   "outputs": [
    {
     "data": {
      "text/plain": [
       "<Axes: xlabel='ever_married', ylabel='count'>"
      ]
     },
     "execution_count": 10,
     "metadata": {},
     "output_type": "execute_result"
    },
    {
     "data": {
      "image/png": "[encoded data removed]",
      "text/plain": [
       "<Figure size 640x480 with 1 Axes>"
      ]
     },
     "metadata": {},
     "output_type": "display_data"
    }
   ],
   "source": [
    "seaborn.countplot(data=df, x=categorical_col[1])"
   ]
  },
  {
   "cell_type": "code",
   "execution_count": 11,
   "id": "defc3c7c",
   "metadata": {
    "execution": {
     "iopub.execute_input": "2024-10-28T09:01:24.123005Z",
     "iopub.status.busy": "2024-10-28T09:01:24.122496Z",
     "iopub.status.idle": "2024-10-28T09:01:24.413430Z",
     "shell.execute_reply": "2024-10-28T09:01:24.412180Z"
    },
    "papermill": {
     "duration": 0.311525,
     "end_time": "2024-10-28T09:01:24.416020",
     "exception": false,
     "start_time": "2024-10-28T09:01:24.104495",
     "status": "completed"
    },
    "tags": []
   },
   "outputs": [
    {
     "data": {
      "text/plain": [
       "<Axes: xlabel='work_type', ylabel='count'>"
      ]
     },
     "execution_count": 11,
     "metadata": {},
     "output_type": "execute_result"
    },
    {
     "data": {
      "image/png": "[encoded data removed]",
      "text/plain": [
       "<Figure size 640x480 with 1 Axes>"
      ]
     },
     "metadata": {},
     "output_type": "display_data"
    }
   ],
   "source": [
    "seaborn.countplot(data=df, x=categorical_col[2])"
   ]
  },
  {
   "cell_type": "code",
   "execution_count": 12,
   "id": "b918d03e",
   "metadata": {
    "execution": {
     "iopub.execute_input": "2024-10-28T09:01:24.447088Z",
     "iopub.status.busy": "2024-10-28T09:01:24.446681Z",
     "iopub.status.idle": "2024-10-28T09:01:24.794928Z",
     "shell.execute_reply": "2024-10-28T09:01:24.793639Z"
    },
    "papermill": {
     "duration": 0.367011,
     "end_time": "2024-10-28T09:01:24.797732",
     "exception": false,
     "start_time": "2024-10-28T09:01:24.430721",
     "status": "completed"
    },
    "tags": []
   },
   "outputs": [
    {
     "data": {
      "text/plain": [
       "<Axes: xlabel='Residence_type', ylabel='count'>"
      ]
     },
     "execution_count": 12,
     "metadata": {},
     "output_type": "execute_result"
    },
    {
     "data": {
      "image/png": "[encoded data removed]",
      "text/plain": [
       "<Figure size 640x480 with 1 Axes>"
      ]
     },
     "metadata": {},
     "output_type": "display_data"
    }
   ],
   "source": [
    "seaborn.countplot(data=df, x=categorical_col[3])"
   ]
  },
  {
   "cell_type": "code",
   "execution_count": 13,
   "id": "047e9308",
   "metadata": {
    "execution": {
     "iopub.execute_input": "2024-10-28T09:01:24.831780Z",
     "iopub.status.busy": "2024-10-28T09:01:24.831188Z",
     "iopub.status.idle": "2024-10-28T09:01:25.121626Z",
     "shell.execute_reply": "2024-10-28T09:01:25.120345Z"
    },
    "papermill": {
     "duration": 0.310131,
     "end_time": "2024-10-28T09:01:25.124474",
     "exception": false,
     "start_time": "2024-10-28T09:01:24.814343",
     "status": "completed"
    },
    "tags": []
   },
   "outputs": [
    {
     "data": {
      "text/plain": [
       "<Axes: xlabel='smoking_status', ylabel='count'>"
      ]
     },
     "execution_count": 13,
     "metadata": {},
     "output_type": "execute_result"
    },
    {
     "data": {
      "image/png": "[encoded data removed]",
      "text/plain": [
       "<Figure size 640x480 with 1 Axes>"
      ]
     },
     "metadata": {},
     "output_type": "display_data"
    }
   ],
   "source": [
    "seaborn.countplot(data=df, x=categorical_col[4])"
   ]
  },
  {
   "cell_type": "code",
   "execution_count": 14,
   "id": "bbb4ccc9",
   "metadata": {
    "execution": {
     "iopub.execute_input": "2024-10-28T09:01:25.158340Z",
     "iopub.status.busy": "2024-10-28T09:01:25.157905Z",
     "iopub.status.idle": "2024-10-28T09:01:25.583264Z",
     "shell.execute_reply": "2024-10-28T09:01:25.581959Z"
    },
    "papermill": {
     "duration": 0.445883,
     "end_time": "2024-10-28T09:01:25.585843",
     "exception": false,
     "start_time": "2024-10-28T09:01:25.139960",
     "status": "completed"
    },
    "tags": []
   },
   "outputs": [
    {
     "data": {
      "text/plain": [
       "<Axes: xlabel='gender', ylabel='bmi'>"
      ]
     },
     "execution_count": 14,
     "metadata": {},
     "output_type": "execute_result"
    },
    {
     "data": {
      "image/png": "[encoded data removed]",
      "text/plain": [
       "<Figure size 640x480 with 1 Axes>"
      ]
     },
     "metadata": {},
     "output_type": "display_data"
    }
   ],
   "source": [
    "# Gender vs BMI barchart\n",
    "seaborn.barplot(data=df, x=\"gender\", y=\"bmi\")"
   ]
  },
  {
   "cell_type": "code",
   "execution_count": 15,
   "id": "d7551ffb",
   "metadata": {
    "execution": {
     "iopub.execute_input": "2024-10-28T09:01:25.620929Z",
     "iopub.status.busy": "2024-10-28T09:01:25.620003Z",
     "iopub.status.idle": "2024-10-28T09:01:26.050461Z",
     "shell.execute_reply": "2024-10-28T09:01:26.049194Z"
    },
    "papermill": {
     "duration": 0.450648,
     "end_time": "2024-10-28T09:01:26.053277",
     "exception": false,
     "start_time": "2024-10-28T09:01:25.602629",
     "status": "completed"
    },
    "tags": []
   },
   "outputs": [
    {
     "data": {
      "text/plain": [
       "<Axes: xlabel='avg_glucose_level', ylabel='gender'>"
      ]
     },
     "execution_count": 15,
     "metadata": {},
     "output_type": "execute_result"
    },
    {
     "data": {
      "image/png": "[encoded data removed]",
      "text/plain": [
       "<Figure size 640x480 with 1 Axes>"
      ]
     },
     "metadata": {},
     "output_type": "display_data"
    }
   ],
   "source": [
    "# Gender vs avg_glucose_level\n",
    "seaborn.barplot(data=df, x=\"avg_glucose_level\", y=\"gender\")"
   ]
  },
  {
   "cell_type": "code",
   "execution_count": 16,
   "id": "e975f9e9",
   "metadata": {
    "execution": {
     "iopub.execute_input": "2024-10-28T09:01:26.088857Z",
     "iopub.status.busy": "2024-10-28T09:01:26.088448Z",
     "iopub.status.idle": "2024-10-28T09:01:26.513141Z",
     "shell.execute_reply": "2024-10-28T09:01:26.511225Z"
    },
    "papermill": {
     "duration": 0.446547,
     "end_time": "2024-10-28T09:01:26.516577",
     "exception": false,
     "start_time": "2024-10-28T09:01:26.070030",
     "status": "completed"
    },
    "tags": []
   },
   "outputs": [
    {
     "data": {
      "text/plain": [
       "<Axes: xlabel='heart_disease', ylabel='gender'>"
      ]
     },
     "execution_count": 16,
     "metadata": {},
     "output_type": "execute_result"
    },
    {
     "data": {
      "image/png": "[encoded data removed]",
      "text/plain": [
       "<Figure size 640x480 with 1 Axes>"
      ]
     },
     "metadata": {},
     "output_type": "display_data"
    }
   ],
   "source": [
    "# Gender vs Heart diseases\n",
    "seaborn.barplot(data=df, x=\"heart_disease\", y=\"gender\")"
   ]
  },
  {
   "cell_type": "code",
   "execution_count": 17,
   "id": "14a1a529",
   "metadata": {
    "execution": {
     "iopub.execute_input": "2024-10-28T09:01:26.555378Z",
     "iopub.status.busy": "2024-10-28T09:01:26.554779Z",
     "iopub.status.idle": "2024-10-28T09:01:27.045759Z",
     "shell.execute_reply": "2024-10-28T09:01:27.043462Z"
    },
    "papermill": {
     "duration": 0.515631,
     "end_time": "2024-10-28T09:01:27.049395",
     "exception": false,
     "start_time": "2024-10-28T09:01:26.533764",
     "status": "completed"
    },
    "tags": []
   },
   "outputs": [
    {
     "data": {
      "text/plain": [
       "<Axes: xlabel='age', ylabel='work_type'>"
      ]
     },
     "execution_count": 17,
     "metadata": {},
     "output_type": "execute_result"
    },
    {
     "data": {
      "image/png": "[encoded data removed]",
      "text/plain": [
       "<Figure size 640x480 with 1 Axes>"
      ]
     },
     "metadata": {},
     "output_type": "display_data"
    }
   ],
   "source": [
    "# WorkType vs Age\n",
    "seaborn.barplot(data=df, y=\"work_type\", x=\"age\")"
   ]
  },
  {
   "cell_type": "code",
   "execution_count": 18,
   "id": "20277fb1",
   "metadata": {
    "execution": {
     "iopub.execute_input": "2024-10-28T09:01:27.087807Z",
     "iopub.status.busy": "2024-10-28T09:01:27.086475Z",
     "iopub.status.idle": "2024-10-28T09:01:27.442367Z",
     "shell.execute_reply": "2024-10-28T09:01:27.441192Z"
    },
    "papermill": {
     "duration": 0.37828,
     "end_time": "2024-10-28T09:01:27.445787",
     "exception": false,
     "start_time": "2024-10-28T09:01:27.067507",
     "status": "completed"
    },
    "tags": []
   },
   "outputs": [
    {
     "data": {
      "text/plain": [
       "<Axes: xlabel='heart_disease', ylabel='age'>"
      ]
     },
     "execution_count": 18,
     "metadata": {},
     "output_type": "execute_result"
    },
    {
     "data": {
      "image/png": "[encoded data removed]",
      "text/plain": [
       "<Figure size 640x480 with 1 Axes>"
      ]
     },
     "metadata": {},
     "output_type": "display_data"
    }
   ],
   "source": [
    "# Heart disease vs Age\n",
    "seaborn.barplot(data=df, x=\"heart_disease\", y=\"age\")"
   ]
  },
  {
   "cell_type": "code",
   "execution_count": 19,
   "id": "f6d7c4ca",
   "metadata": {
    "execution": {
     "iopub.execute_input": "2024-10-28T09:01:27.497294Z",
     "iopub.status.busy": "2024-10-28T09:01:27.496839Z",
     "iopub.status.idle": "2024-10-28T09:01:27.834548Z",
     "shell.execute_reply": "2024-10-28T09:01:27.833105Z"
    },
    "papermill": {
     "duration": 0.361882,
     "end_time": "2024-10-28T09:01:27.837337",
     "exception": false,
     "start_time": "2024-10-28T09:01:27.475455",
     "status": "completed"
    },
    "tags": []
   },
   "outputs": [
    {
     "data": {
      "text/plain": [
       "<Axes: xlabel='ever_married', ylabel='age'>"
      ]
     },
     "execution_count": 19,
     "metadata": {},
     "output_type": "execute_result"
    },
    {
     "data": {
      "image/png": "[encoded data removed]",
      "text/plain": [
       "<Figure size 640x480 with 1 Axes>"
      ]
     },
     "metadata": {},
     "output_type": "display_data"
    }
   ],
   "source": [
    "# ever_married vs age\n",
    "seaborn.barplot(data=df, x=\"ever_married\", y=\"age\")"
   ]
  },
  {
   "cell_type": "code",
   "execution_count": 20,
   "id": "422bdf3f",
   "metadata": {
    "execution": {
     "iopub.execute_input": "2024-10-28T09:01:27.879252Z",
     "iopub.status.busy": "2024-10-28T09:01:27.878764Z",
     "iopub.status.idle": "2024-10-28T09:01:28.268730Z",
     "shell.execute_reply": "2024-10-28T09:01:28.267128Z"
    },
    "papermill": {
     "duration": 0.413062,
     "end_time": "2024-10-28T09:01:28.271371",
     "exception": false,
     "start_time": "2024-10-28T09:01:27.858309",
     "status": "completed"
    },
    "tags": []
   },
   "outputs": [
    {
     "data": {
      "text/plain": [
       "<Axes: xlabel='ever_married', ylabel='hypertension'>"
      ]
     },
     "execution_count": 20,
     "metadata": {},
     "output_type": "execute_result"
    },
    {
     "data": {
      "image/png": "[encoded data removed]",
      "text/plain": [
       "<Figure size 640x480 with 1 Axes>"
      ]
     },
     "metadata": {},
     "output_type": "display_data"
    }
   ],
   "source": [
    "# ever_married vs hypertension\n",
    "seaborn.barplot(data=df, x=\"ever_married\", y=\"hypertension\")"
   ]
  },
  {
   "cell_type": "code",
   "execution_count": 21,
   "id": "de208ca8",
   "metadata": {
    "execution": {
     "iopub.execute_input": "2024-10-28T09:01:28.311271Z",
     "iopub.status.busy": "2024-10-28T09:01:28.310798Z",
     "iopub.status.idle": "2024-10-28T09:01:28.760504Z",
     "shell.execute_reply": "2024-10-28T09:01:28.758387Z"
    },
    "papermill": {
     "duration": 0.473284,
     "end_time": "2024-10-28T09:01:28.764079",
     "exception": false,
     "start_time": "2024-10-28T09:01:28.290795",
     "status": "completed"
    },
    "tags": []
   },
   "outputs": [
    {
     "data": {
      "text/plain": [
       "<Axes: xlabel='smoking_status', ylabel='heart_disease'>"
      ]
     },
     "execution_count": 21,
     "metadata": {},
     "output_type": "execute_result"
    },
    {
     "data": {
      "image/png": "[encoded data removed]",
      "text/plain": [
       "<Figure size 640x480 with 1 Axes>"
      ]
     },
     "metadata": {},
     "output_type": "display_data"
    }
   ],
   "source": [
    "# Smoking_status vs heart_disease\n",
    "seaborn.barplot(data=df, y=\"heart_disease\", x=\"smoking_status\")"
   ]
  },
  {
   "cell_type": "code",
   "execution_count": 22,
   "id": "55b787a0",
   "metadata": {
    "execution": {
     "iopub.execute_input": "2024-10-28T09:01:28.807834Z",
     "iopub.status.busy": "2024-10-28T09:01:28.806998Z",
     "iopub.status.idle": "2024-10-28T09:01:28.812326Z",
     "shell.execute_reply": "2024-10-28T09:01:28.811061Z"
    },
    "papermill": {
     "duration": 0.029104,
     "end_time": "2024-10-28T09:01:28.814784",
     "exception": false,
     "start_time": "2024-10-28T09:01:28.785680",
     "status": "completed"
    },
    "tags": []
   },
   "outputs": [],
   "source": [
    "# Profile Report\n",
    "# ProfileReport(df)"
   ]
  },
  {
   "cell_type": "markdown",
   "id": "51773e21",
   "metadata": {
    "papermill": {
     "duration": 0.019149,
     "end_time": "2024-10-28T09:01:28.853386",
     "exception": false,
     "start_time": "2024-10-28T09:01:28.834237",
     "status": "completed"
    },
    "tags": []
   },
   "source": [
    "# Data Preparation"
   ]
  },
  {
   "cell_type": "code",
   "execution_count": 23,
   "id": "8bb4a90d",
   "metadata": {
    "execution": {
     "iopub.execute_input": "2024-10-28T09:01:28.896531Z",
     "iopub.status.busy": "2024-10-28T09:01:28.896083Z",
     "iopub.status.idle": "2024-10-28T09:01:28.907940Z",
     "shell.execute_reply": "2024-10-28T09:01:28.906816Z"
    },
    "papermill": {
     "duration": 0.036609,
     "end_time": "2024-10-28T09:01:28.910797",
     "exception": false,
     "start_time": "2024-10-28T09:01:28.874188",
     "status": "completed"
    },
    "tags": []
   },
   "outputs": [
    {
     "data": {
      "text/plain": [
       "id                     0\n",
       "gender                 0\n",
       "age                    0\n",
       "hypertension           0\n",
       "heart_disease          0\n",
       "ever_married           0\n",
       "work_type              0\n",
       "Residence_type         0\n",
       "avg_glucose_level      0\n",
       "bmi                  201\n",
       "smoking_status         0\n",
       "stroke                 0\n",
       "dtype: int64"
      ]
     },
     "execution_count": 23,
     "metadata": {},
     "output_type": "execute_result"
    }
   ],
   "source": [
    "# Missing values\n",
    "df.isna().sum()"
   ]
  },
  {
   "cell_type": "markdown",
   "id": "8e04fb6f",
   "metadata": {
    "papermill": {
     "duration": 0.019238,
     "end_time": "2024-10-28T09:01:28.950561",
     "exception": false,
     "start_time": "2024-10-28T09:01:28.931323",
     "status": "completed"
    },
    "tags": []
   },
   "source": [
    "## Handling Missing Value"
   ]
  },
  {
   "cell_type": "code",
   "execution_count": 24,
   "id": "85d3cf35",
   "metadata": {
    "execution": {
     "iopub.execute_input": "2024-10-28T09:01:28.995030Z",
     "iopub.status.busy": "2024-10-28T09:01:28.994238Z",
     "iopub.status.idle": "2024-10-28T09:01:29.003434Z",
     "shell.execute_reply": "2024-10-28T09:01:29.001592Z"
    },
    "papermill": {
     "duration": 0.035358,
     "end_time": "2024-10-28T09:01:29.006187",
     "exception": false,
     "start_time": "2024-10-28T09:01:28.970829",
     "status": "completed"
    },
    "tags": []
   },
   "outputs": [],
   "source": [
    "# MeanImputation\n",
    "df['bmi'] = df['bmi'].fillna(df['bmi'].mean())"
   ]
  },
  {
   "cell_type": "code",
   "execution_count": 25,
   "id": "eddd069c",
   "metadata": {
    "execution": {
     "iopub.execute_input": "2024-10-28T09:01:29.052934Z",
     "iopub.status.busy": "2024-10-28T09:01:29.052471Z",
     "iopub.status.idle": "2024-10-28T09:01:29.064667Z",
     "shell.execute_reply": "2024-10-28T09:01:29.063249Z"
    },
    "papermill": {
     "duration": 0.039046,
     "end_time": "2024-10-28T09:01:29.067283",
     "exception": false,
     "start_time": "2024-10-28T09:01:29.028237",
     "status": "completed"
    },
    "tags": []
   },
   "outputs": [
    {
     "data": {
      "text/plain": [
       "id                   0\n",
       "gender               0\n",
       "age                  0\n",
       "hypertension         0\n",
       "heart_disease        0\n",
       "ever_married         0\n",
       "work_type            0\n",
       "Residence_type       0\n",
       "avg_glucose_level    0\n",
       "bmi                  0\n",
       "smoking_status       0\n",
       "stroke               0\n",
       "dtype: int64"
      ]
     },
     "execution_count": 25,
     "metadata": {},
     "output_type": "execute_result"
    }
   ],
   "source": [
    "df.isna().sum()"
   ]
  },
  {
   "cell_type": "markdown",
   "id": "ea70b5f4",
   "metadata": {
    "papermill": {
     "duration": 0.020067,
     "end_time": "2024-10-28T09:01:29.107926",
     "exception": false,
     "start_time": "2024-10-28T09:01:29.087859",
     "status": "completed"
    },
    "tags": []
   },
   "source": [
    "## Data Encoding"
   ]
  },
  {
   "cell_type": "code",
   "execution_count": 26,
   "id": "f653a13c",
   "metadata": {
    "execution": {
     "iopub.execute_input": "2024-10-28T09:01:29.150018Z",
     "iopub.status.busy": "2024-10-28T09:01:29.149608Z",
     "iopub.status.idle": "2024-10-28T09:01:29.171743Z",
     "shell.execute_reply": "2024-10-28T09:01:29.170343Z"
    },
    "papermill": {
     "duration": 0.045935,
     "end_time": "2024-10-28T09:01:29.174311",
     "exception": false,
     "start_time": "2024-10-28T09:01:29.128376",
     "status": "completed"
    },
    "tags": []
   },
   "outputs": [],
   "source": [
    "encodedNoDrop = pd.get_dummies(df)\n",
    "encodedDrop = pd.get_dummies(df, drop_first=True)"
   ]
  },
  {
   "cell_type": "code",
   "execution_count": 27,
   "id": "4661cd3b",
   "metadata": {
    "execution": {
     "iopub.execute_input": "2024-10-28T09:01:29.218670Z",
     "iopub.status.busy": "2024-10-28T09:01:29.218258Z",
     "iopub.status.idle": "2024-10-28T09:01:29.223664Z",
     "shell.execute_reply": "2024-10-28T09:01:29.222390Z"
    },
    "papermill": {
     "duration": 0.03026,
     "end_time": "2024-10-28T09:01:29.226165",
     "exception": false,
     "start_time": "2024-10-28T09:01:29.195905",
     "status": "completed"
    },
    "tags": []
   },
   "outputs": [],
   "source": [
    "# Current DF\n",
    "df = encodedNoDrop"
   ]
  },
  {
   "cell_type": "markdown",
   "id": "1d708b09",
   "metadata": {
    "papermill": {
     "duration": 0.020607,
     "end_time": "2024-10-28T09:01:29.266036",
     "exception": false,
     "start_time": "2024-10-28T09:01:29.245429",
     "status": "completed"
    },
    "tags": []
   },
   "source": [
    "## Features and labels"
   ]
  },
  {
   "cell_type": "code",
   "execution_count": 28,
   "id": "15a0aa60",
   "metadata": {
    "execution": {
     "iopub.execute_input": "2024-10-28T09:01:29.309121Z",
     "iopub.status.busy": "2024-10-28T09:01:29.308068Z",
     "iopub.status.idle": "2024-10-28T09:01:29.322169Z",
     "shell.execute_reply": "2024-10-28T09:01:29.320637Z"
    },
    "papermill": {
     "duration": 0.03853,
     "end_time": "2024-10-28T09:01:29.325168",
     "exception": false,
     "start_time": "2024-10-28T09:01:29.286638",
     "status": "completed"
    },
    "tags": []
   },
   "outputs": [
    {
     "name": "stdout",
     "output_type": "stream",
     "text": [
      "<class 'pandas.core.frame.DataFrame'>\n",
      "RangeIndex: 5110 entries, 0 to 5109\n",
      "Data columns (total 23 columns):\n",
      " #   Column                          Non-Null Count  Dtype  \n",
      "---  ------                          --------------  -----  \n",
      " 0   id                              5110 non-null   int64  \n",
      " 1   age                             5110 non-null   float64\n",
      " 2   hypertension                    5110 non-null   int64  \n",
      " 3   heart_disease                   5110 non-null   int64  \n",
      " 4   avg_glucose_level               5110 non-null   float64\n",
      " 5   bmi                             5110 non-null   float64\n",
      " 6   stroke                          5110 non-null   int64  \n",
      " 7   gender_Female                   5110 non-null   bool   \n",
      " 8   gender_Male                     5110 non-null   bool   \n",
      " 9   gender_Other                    5110 non-null   bool   \n",
      " 10  ever_married_No                 5110 non-null   bool   \n",
      " 11  ever_married_Yes                5110 non-null   bool   \n",
      " 12  work_type_Govt_job              5110 non-null   bool   \n",
      " 13  work_type_Never_worked          5110 non-null   bool   \n",
      " 14  work_type_Private               5110 non-null   bool   \n",
      " 15  work_type_Self-employed         5110 non-null   bool   \n",
      " 16  work_type_children              5110 non-null   bool   \n",
      " 17  Residence_type_Rural            5110 non-null   bool   \n",
      " 18  Residence_type_Urban            5110 non-null   bool   \n",
      " 19  smoking_status_Unknown          5110 non-null   bool   \n",
      " 20  smoking_status_formerly smoked  5110 non-null   bool   \n",
      " 21  smoking_status_never smoked     5110 non-null   bool   \n",
      " 22  smoking_status_smokes           5110 non-null   bool   \n",
      "dtypes: bool(16), float64(3), int64(4)\n",
      "memory usage: 359.4 KB\n"
     ]
    }
   ],
   "source": [
    "df.info()"
   ]
  },
  {
   "cell_type": "code",
   "execution_count": 29,
   "id": "726d493a",
   "metadata": {
    "execution": {
     "iopub.execute_input": "2024-10-28T09:01:29.371412Z",
     "iopub.status.busy": "2024-10-28T09:01:29.370824Z",
     "iopub.status.idle": "2024-10-28T09:01:29.385407Z",
     "shell.execute_reply": "2024-10-28T09:01:29.384192Z"
    },
    "papermill": {
     "duration": 0.041702,
     "end_time": "2024-10-28T09:01:29.387844",
     "exception": false,
     "start_time": "2024-10-28T09:01:29.346142",
     "status": "completed"
    },
    "tags": []
   },
   "outputs": [],
   "source": [
    "features = df.drop(['id', 'stroke',\n",
    "                    'work_type_Govt_job',\n",
    "                    'work_type_Never_worked',\n",
    "                    'work_type_Private',\n",
    "                    'work_type_Self-employed',\n",
    "                    'work_type_children',\n",
    "                    'Residence_type_Rural', \n",
    "                    'Residence_type_Urban',\n",
    "                    'ever_married_No',\n",
    "                    'ever_married_Yes'],axis=1)\n",
    "label = df['stroke']\n",
    "ftrain, ftest, ltrain, ltest = train_test_split(features, label, random_state=42, test_size=.2)"
   ]
  },
  {
   "cell_type": "markdown",
   "id": "7a57c3ed",
   "metadata": {
    "papermill": {
     "duration": 0.020002,
     "end_time": "2024-10-28T09:01:29.427113",
     "exception": false,
     "start_time": "2024-10-28T09:01:29.407111",
     "status": "completed"
    },
    "tags": []
   },
   "source": [
    "## Handle Imbalanced Data"
   ]
  },
  {
   "cell_type": "code",
   "execution_count": 30,
   "id": "d80bc05d",
   "metadata": {
    "execution": {
     "iopub.execute_input": "2024-10-28T09:01:29.524867Z",
     "iopub.status.busy": "2024-10-28T09:01:29.524454Z",
     "iopub.status.idle": "2024-10-28T09:01:29.544484Z",
     "shell.execute_reply": "2024-10-28T09:01:29.543119Z"
    },
    "papermill": {
     "duration": 0.100939,
     "end_time": "2024-10-28T09:01:29.547309",
     "exception": false,
     "start_time": "2024-10-28T09:01:29.446370",
     "status": "completed"
    },
    "tags": []
   },
   "outputs": [],
   "source": [
    "smote = SMOTE(random_state=42)\n",
    "ftrain_resampled, ltrain_resampled = smote.fit_resample(ftrain, ltrain)\n",
    "ftrain, ltrain = ftrain_resampled, ltrain_resampled"
   ]
  },
  {
   "cell_type": "markdown",
   "id": "bd3090d1",
   "metadata": {
    "papermill": {
     "duration": 0.019064,
     "end_time": "2024-10-28T09:01:29.586542",
     "exception": false,
     "start_time": "2024-10-28T09:01:29.567478",
     "status": "completed"
    },
    "tags": []
   },
   "source": [
    "# Model Training"
   ]
  },
  {
   "cell_type": "code",
   "execution_count": 31,
   "id": "c9579335",
   "metadata": {
    "execution": {
     "iopub.execute_input": "2024-10-28T09:01:29.633211Z",
     "iopub.status.busy": "2024-10-28T09:01:29.632756Z",
     "iopub.status.idle": "2024-10-28T09:01:29.639153Z",
     "shell.execute_reply": "2024-10-28T09:01:29.638074Z"
    },
    "papermill": {
     "duration": 0.034487,
     "end_time": "2024-10-28T09:01:29.641518",
     "exception": false,
     "start_time": "2024-10-28T09:01:29.607031",
     "status": "completed"
    },
    "tags": []
   },
   "outputs": [],
   "source": [
    "# Models\n",
    "LR = LogisticRegression(class_weight=\"balanced\")\n",
    "DT = DecisionTreeClassifier(class_weight=\"balanced\")\n",
    "RF = RandomForestClassifier(class_weight=\"balanced\")\n",
    "NB = GaussianNB()\n",
    "KNN = KNeighborsClassifier(n_neighbors=2)\n",
    "SVMC = SVC(kernel=\"linear\")"
   ]
  },
  {
   "cell_type": "code",
   "execution_count": 32,
   "id": "bd976b5e",
   "metadata": {
    "execution": {
     "iopub.execute_input": "2024-10-28T09:01:29.682336Z",
     "iopub.status.busy": "2024-10-28T09:01:29.681912Z",
     "iopub.status.idle": "2024-10-28T09:02:23.289206Z",
     "shell.execute_reply": "2024-10-28T09:02:23.287878Z"
    },
    "papermill": {
     "duration": 53.651643,
     "end_time": "2024-10-28T09:02:23.312618",
     "exception": false,
     "start_time": "2024-10-28T09:01:29.660975",
     "status": "completed"
    },
    "tags": []
   },
   "outputs": [
    {
     "name": "stderr",
     "output_type": "stream",
     "text": [
      "/opt/conda/lib/python3.10/site-packages/sklearn/linear_model/_logistic.py:458: ConvergenceWarning: lbfgs failed to converge (status=1):\n",
      "STOP: TOTAL NO. of ITERATIONS REACHED LIMIT.\n",
      "\n",
      "Increase the number of iterations (max_iter) or scale the data as shown in:\n",
      "    https://scikit-learn.org/stable/modules/preprocessing.html\n",
      "Please also refer to the documentation for alternative solver options:\n",
      "    https://scikit-learn.org/stable/modules/linear_model.html#logistic-regression\n",
      "  n_iter_i = _check_optimize_result(\n"
     ]
    },
    {
     "data": {
      "text/html": [
       "<style>#sk-container-id-1 {color: black;background-color: white;}#sk-container-id-1 pre{padding: 0;}#sk-container-id-1 div.sk-toggleable {background-color: white;}#sk-container-id-1 label.sk-toggleable__label {cursor: pointer;display: block;width: 100%;margin-bottom: 0;padding: 0.3em;box-sizing: border-box;text-align: center;}#sk-container-id-1 label.sk-toggleable__label-arrow:before {content: \"▸\";float: left;margin-right: 0.25em;color: #696969;}#sk-container-id-1 label.sk-toggleable__label-arrow:hover:before {color: black;}#sk-container-id-1 div.sk-estimator:hover label.sk-toggleable__label-arrow:before {color: black;}#sk-container-id-1 div.sk-toggleable__content {max-height: 0;max-width: 0;overflow: hidden;text-align: left;background-color: #f0f8ff;}#sk-container-id-1 div.sk-toggleable__content pre {margin: 0.2em;color: black;border-radius: 0.25em;background-color: #f0f8ff;}#sk-container-id-1 input.sk-toggleable__control:checked~div.sk-toggleable__content {max-height: 200px;max-width: 100%;overflow: auto;}#sk-container-id-1 input.sk-toggleable__control:checked~label.sk-toggleable__label-arrow:before {content: \"▾\";}#sk-container-id-1 div.sk-estimator input.sk-toggleable__control:checked~label.sk-toggleable__label {background-color: #d4ebff;}#sk-container-id-1 div.sk-label input.sk-toggleable__control:checked~label.sk-toggleable__label {background-color: #d4ebff;}#sk-container-id-1 input.sk-hidden--visually {border: 0;clip: rect(1px 1px 1px 1px);clip: rect(1px, 1px, 1px, 1px);height: 1px;margin: -1px;overflow: hidden;padding: 0;position: absolute;width: 1px;}#sk-container-id-1 div.sk-estimator {font-family: monospace;background-color: #f0f8ff;border: 1px dotted black;border-radius: 0.25em;box-sizing: border-box;margin-bottom: 0.5em;}#sk-container-id-1 div.sk-estimator:hover {background-color: #d4ebff;}#sk-container-id-1 div.sk-parallel-item::after {content: \"\";width: 100%;border-bottom: 1px solid gray;flex-grow: 1;}#sk-container-id-1 div.sk-label:hover label.sk-toggleable__label {background-color: #d4ebff;}#sk-container-id-1 div.sk-serial::before {content: \"\";position: absolute;border-left: 1px solid gray;box-sizing: border-box;top: 0;bottom: 0;left: 50%;z-index: 0;}#sk-container-id-1 div.sk-serial {display: flex;flex-direction: column;align-items: center;background-color: white;padding-right: 0.2em;padding-left: 0.2em;position: relative;}#sk-container-id-1 div.sk-item {position: relative;z-index: 1;}#sk-container-id-1 div.sk-parallel {display: flex;align-items: stretch;justify-content: center;background-color: white;position: relative;}#sk-container-id-1 div.sk-item::before, #sk-container-id-1 div.sk-parallel-item::before {content: \"\";position: absolute;border-left: 1px solid gray;box-sizing: border-box;top: 0;bottom: 0;left: 50%;z-index: -1;}#sk-container-id-1 div.sk-parallel-item {display: flex;flex-direction: column;z-index: 1;position: relative;background-color: white;}#sk-container-id-1 div.sk-parallel-item:first-child::after {align-self: flex-end;width: 50%;}#sk-container-id-1 div.sk-parallel-item:last-child::after {align-self: flex-start;width: 50%;}#sk-container-id-1 div.sk-parallel-item:only-child::after {width: 0;}#sk-container-id-1 div.sk-dashed-wrapped {border: 1px dashed gray;margin: 0 0.4em 0.5em 0.4em;box-sizing: border-box;padding-bottom: 0.4em;background-color: white;}#sk-container-id-1 div.sk-label label {font-family: monospace;font-weight: bold;display: inline-block;line-height: 1.2em;}#sk-container-id-1 div.sk-label-container {text-align: center;}#sk-container-id-1 div.sk-container {/* jupyter's `normalize.less` sets `[hidden] { display: none; }` but bootstrap.min.css set `[hidden] { display: none !important; }` so we also need the `!important` here to be able to override the default hidden behavior on the sphinx rendered scikit-learn.org. See: https://github.com/scikit-learn/scikit-learn/issues/21755 */display: inline-block !important;position: relative;}#sk-container-id-1 div.sk-text-repr-fallback {display: none;}</style><div id=\"sk-container-id-1\" class=\"sk-top-container\"><div class=\"sk-text-repr-fallback\"><pre>SVC(kernel=&#x27;linear&#x27;)</pre><b>In a Jupyter environment, please rerun this cell to show the HTML representation or trust the notebook. <br />On GitHub, the HTML representation is unable to render, please try loading this page with nbviewer.org.</b></div><div class=\"sk-container\" hidden><div class=\"sk-item\"><div class=\"sk-estimator sk-toggleable\"><input class=\"sk-toggleable__control sk-hidden--visually\" id=\"sk-estimator-id-1\" type=\"checkbox\" checked><label for=\"sk-estimator-id-1\" class=\"sk-toggleable__label sk-toggleable__label-arrow\">SVC</label><div class=\"sk-toggleable__content\"><pre>SVC(kernel=&#x27;linear&#x27;)</pre></div></div></div></div></div>"
      ],
      "text/plain": [
       "SVC(kernel='linear')"
      ]
     },
     "execution_count": 32,
     "metadata": {},
     "output_type": "execute_result"
    }
   ],
   "source": [
    "# Fit into models\n",
    "LR.fit(ftrain, ltrain)\n",
    "DT.fit(ftrain, ltrain)\n",
    "RF.fit(ftrain, ltrain)\n",
    "NB.fit(ftrain, ltrain)\n",
    "KNN.fit(ftrain, ltrain)\n",
    "SVMC.fit(ftrain, ltrain)"
   ]
  },
  {
   "cell_type": "markdown",
   "id": "692485c8",
   "metadata": {
    "papermill": {
     "duration": 0.021181,
     "end_time": "2024-10-28T09:02:23.356598",
     "exception": false,
     "start_time": "2024-10-28T09:02:23.335417",
     "status": "completed"
    },
    "tags": []
   },
   "source": [
    "# Predictions"
   ]
  },
  {
   "cell_type": "code",
   "execution_count": 33,
   "id": "ba0fe9a8",
   "metadata": {
    "execution": {
     "iopub.execute_input": "2024-10-28T09:02:23.401897Z",
     "iopub.status.busy": "2024-10-28T09:02:23.401398Z",
     "iopub.status.idle": "2024-10-28T09:02:23.623472Z",
     "shell.execute_reply": "2024-10-28T09:02:23.622290Z"
    },
    "papermill": {
     "duration": 0.247774,
     "end_time": "2024-10-28T09:02:23.626198",
     "exception": false,
     "start_time": "2024-10-28T09:02:23.378424",
     "status": "completed"
    },
    "tags": []
   },
   "outputs": [],
   "source": [
    "LRPred = LR.predict(ftest)\n",
    "DTPred = DT.predict(ftest)\n",
    "RFPred = RF.predict(ftest)\n",
    "NBPred = NB.predict(ftest)\n",
    "KNNPred = KNN.predict(ftest)\n",
    "SVCPred = SVMC.predict(ftest)"
   ]
  },
  {
   "cell_type": "markdown",
   "id": "da18e125",
   "metadata": {
    "papermill": {
     "duration": 0.020546,
     "end_time": "2024-10-28T09:02:23.667694",
     "exception": false,
     "start_time": "2024-10-28T09:02:23.647148",
     "status": "completed"
    },
    "tags": []
   },
   "source": [
    "# Accuracy"
   ]
  },
  {
   "cell_type": "markdown",
   "id": "a0a63892",
   "metadata": {
    "papermill": {
     "duration": 0.020216,
     "end_time": "2024-10-28T09:02:23.708245",
     "exception": false,
     "start_time": "2024-10-28T09:02:23.688029",
     "status": "completed"
    },
    "tags": []
   },
   "source": [
    "## Confusion Matrix"
   ]
  },
  {
   "cell_type": "code",
   "execution_count": 34,
   "id": "0c80e08f",
   "metadata": {
    "execution": {
     "iopub.execute_input": "2024-10-28T09:02:23.752037Z",
     "iopub.status.busy": "2024-10-28T09:02:23.750996Z",
     "iopub.status.idle": "2024-10-28T09:02:23.762170Z",
     "shell.execute_reply": "2024-10-28T09:02:23.760206Z"
    },
    "papermill": {
     "duration": 0.035991,
     "end_time": "2024-10-28T09:02:23.765141",
     "exception": false,
     "start_time": "2024-10-28T09:02:23.729150",
     "status": "completed"
    },
    "tags": []
   },
   "outputs": [],
   "source": [
    "LRcm = confusion_matrix(ltest, LRPred)"
   ]
  },
  {
   "cell_type": "code",
   "execution_count": 35,
   "id": "48324791",
   "metadata": {
    "execution": {
     "iopub.execute_input": "2024-10-28T09:02:23.809054Z",
     "iopub.status.busy": "2024-10-28T09:02:23.808129Z",
     "iopub.status.idle": "2024-10-28T09:02:24.133748Z",
     "shell.execute_reply": "2024-10-28T09:02:24.131412Z"
    },
    "papermill": {
     "duration": 0.350403,
     "end_time": "2024-10-28T09:02:24.136862",
     "exception": false,
     "start_time": "2024-10-28T09:02:23.786459",
     "status": "completed"
    },
    "tags": []
   },
   "outputs": [
    {
     "data": {
      "text/plain": [
       "<sklearn.metrics._plot.confusion_matrix.ConfusionMatrixDisplay at 0x7c95eefe6ef0>"
      ]
     },
     "execution_count": 35,
     "metadata": {},
     "output_type": "execute_result"
    },
    {
     "data": {
      "image/png": "[encoded data removed]",
      "text/plain": [
       "<Figure size 640x480 with 2 Axes>"
      ]
     },
     "metadata": {},
     "output_type": "display_data"
    }
   ],
   "source": [
    "ConfusionMatrixDisplay(LRcm).plot()"
   ]
  },
  {
   "cell_type": "markdown",
   "id": "e6ed2544",
   "metadata": {
    "papermill": {
     "duration": 0.021589,
     "end_time": "2024-10-28T09:02:24.181054",
     "exception": false,
     "start_time": "2024-10-28T09:02:24.159465",
     "status": "completed"
    },
    "tags": []
   },
   "source": [
    "## Classification Report"
   ]
  },
  {
   "cell_type": "code",
   "execution_count": 36,
   "id": "4bd7764d",
   "metadata": {
    "execution": {
     "iopub.execute_input": "2024-10-28T09:02:24.226382Z",
     "iopub.status.busy": "2024-10-28T09:02:24.225930Z",
     "iopub.status.idle": "2024-10-28T09:02:24.242509Z",
     "shell.execute_reply": "2024-10-28T09:02:24.241190Z"
    },
    "papermill": {
     "duration": 0.042778,
     "end_time": "2024-10-28T09:02:24.245286",
     "exception": false,
     "start_time": "2024-10-28T09:02:24.202508",
     "status": "completed"
    },
    "tags": []
   },
   "outputs": [
    {
     "name": "stdout",
     "output_type": "stream",
     "text": [
      "              precision    recall  f1-score   support\n",
      "\n",
      "           0       0.95      0.95      0.95       960\n",
      "           1       0.16      0.15      0.15        62\n",
      "\n",
      "    accuracy                           0.90      1022\n",
      "   macro avg       0.55      0.55      0.55      1022\n",
      "weighted avg       0.90      0.90      0.90      1022\n",
      "\n"
     ]
    }
   ],
   "source": [
    "print(classification_report(ltest, LRPred))"
   ]
  },
  {
   "cell_type": "code",
   "execution_count": 37,
   "id": "8960295c",
   "metadata": {
    "execution": {
     "iopub.execute_input": "2024-10-28T09:02:24.289567Z",
     "iopub.status.busy": "2024-10-28T09:02:24.289144Z",
     "iopub.status.idle": "2024-10-28T09:02:24.305358Z",
     "shell.execute_reply": "2024-10-28T09:02:24.303986Z"
    },
    "papermill": {
     "duration": 0.041397,
     "end_time": "2024-10-28T09:02:24.307892",
     "exception": false,
     "start_time": "2024-10-28T09:02:24.266495",
     "status": "completed"
    },
    "tags": []
   },
   "outputs": [
    {
     "name": "stdout",
     "output_type": "stream",
     "text": [
      "              precision    recall  f1-score   support\n",
      "\n",
      "           0       0.94      0.94      0.94       960\n",
      "           1       0.12      0.13      0.12        62\n",
      "\n",
      "    accuracy                           0.89      1022\n",
      "   macro avg       0.53      0.53      0.53      1022\n",
      "weighted avg       0.89      0.89      0.89      1022\n",
      "\n"
     ]
    }
   ],
   "source": [
    "print(classification_report(ltest, DTPred))"
   ]
  },
  {
   "cell_type": "code",
   "execution_count": 38,
   "id": "9aa802ec",
   "metadata": {
    "execution": {
     "iopub.execute_input": "2024-10-28T09:02:24.351966Z",
     "iopub.status.busy": "2024-10-28T09:02:24.351523Z",
     "iopub.status.idle": "2024-10-28T09:02:24.368704Z",
     "shell.execute_reply": "2024-10-28T09:02:24.367291Z"
    },
    "papermill": {
     "duration": 0.041991,
     "end_time": "2024-10-28T09:02:24.371139",
     "exception": false,
     "start_time": "2024-10-28T09:02:24.329148",
     "status": "completed"
    },
    "tags": []
   },
   "outputs": [
    {
     "name": "stdout",
     "output_type": "stream",
     "text": [
      "              precision    recall  f1-score   support\n",
      "\n",
      "           0       0.94      0.98      0.96       960\n",
      "           1       0.22      0.10      0.13        62\n",
      "\n",
      "    accuracy                           0.92      1022\n",
      "   macro avg       0.58      0.54      0.55      1022\n",
      "weighted avg       0.90      0.92      0.91      1022\n",
      "\n"
     ]
    }
   ],
   "source": [
    "print(classification_report(ltest, RFPred))"
   ]
  },
  {
   "cell_type": "code",
   "execution_count": 39,
   "id": "9b0ef562",
   "metadata": {
    "execution": {
     "iopub.execute_input": "2024-10-28T09:02:24.415981Z",
     "iopub.status.busy": "2024-10-28T09:02:24.415572Z",
     "iopub.status.idle": "2024-10-28T09:02:24.430882Z",
     "shell.execute_reply": "2024-10-28T09:02:24.429496Z"
    },
    "papermill": {
     "duration": 0.040812,
     "end_time": "2024-10-28T09:02:24.433399",
     "exception": false,
     "start_time": "2024-10-28T09:02:24.392587",
     "status": "completed"
    },
    "tags": []
   },
   "outputs": [
    {
     "name": "stdout",
     "output_type": "stream",
     "text": [
      "              precision    recall  f1-score   support\n",
      "\n",
      "           0       0.97      0.78      0.86       960\n",
      "           1       0.16      0.66      0.26        62\n",
      "\n",
      "    accuracy                           0.77      1022\n",
      "   macro avg       0.57      0.72      0.56      1022\n",
      "weighted avg       0.92      0.77      0.83      1022\n",
      "\n"
     ]
    }
   ],
   "source": [
    "print(classification_report(ltest, NBPred))"
   ]
  },
  {
   "cell_type": "code",
   "execution_count": 40,
   "id": "f8badb21",
   "metadata": {
    "execution": {
     "iopub.execute_input": "2024-10-28T09:02:24.479275Z",
     "iopub.status.busy": "2024-10-28T09:02:24.478815Z",
     "iopub.status.idle": "2024-10-28T09:02:24.495070Z",
     "shell.execute_reply": "2024-10-28T09:02:24.493661Z"
    },
    "papermill": {
     "duration": 0.042007,
     "end_time": "2024-10-28T09:02:24.497716",
     "exception": false,
     "start_time": "2024-10-28T09:02:24.455709",
     "status": "completed"
    },
    "tags": []
   },
   "outputs": [
    {
     "name": "stdout",
     "output_type": "stream",
     "text": [
      "              precision    recall  f1-score   support\n",
      "\n",
      "           0       0.96      0.91      0.93       960\n",
      "           1       0.21      0.39      0.28        62\n",
      "\n",
      "    accuracy                           0.88      1022\n",
      "   macro avg       0.59      0.65      0.60      1022\n",
      "weighted avg       0.91      0.88      0.89      1022\n",
      "\n"
     ]
    }
   ],
   "source": [
    "print(classification_report(ltest, KNNPred))"
   ]
  },
  {
   "cell_type": "code",
   "execution_count": 41,
   "id": "9a55db6c",
   "metadata": {
    "execution": {
     "iopub.execute_input": "2024-10-28T09:02:24.542418Z",
     "iopub.status.busy": "2024-10-28T09:02:24.541654Z",
     "iopub.status.idle": "2024-10-28T09:02:24.560391Z",
     "shell.execute_reply": "2024-10-28T09:02:24.559159Z"
    },
    "papermill": {
     "duration": 0.044457,
     "end_time": "2024-10-28T09:02:24.563602",
     "exception": false,
     "start_time": "2024-10-28T09:02:24.519145",
     "status": "completed"
    },
    "tags": []
   },
   "outputs": [
    {
     "name": "stdout",
     "output_type": "stream",
     "text": [
      "              precision    recall  f1-score   support\n",
      "\n",
      "           0       0.94      1.00      0.97       960\n",
      "           1       0.00      0.00      0.00        62\n",
      "\n",
      "    accuracy                           0.94      1022\n",
      "   macro avg       0.47      0.50      0.48      1022\n",
      "weighted avg       0.88      0.94      0.91      1022\n",
      "\n"
     ]
    },
    {
     "name": "stderr",
     "output_type": "stream",
     "text": [
      "/opt/conda/lib/python3.10/site-packages/sklearn/metrics/_classification.py:1344: UndefinedMetricWarning: Precision and F-score are ill-defined and being set to 0.0 in labels with no predicted samples. Use `zero_division` parameter to control this behavior.\n",
      "  _warn_prf(average, modifier, msg_start, len(result))\n",
      "/opt/conda/lib/python3.10/site-packages/sklearn/metrics/_classification.py:1344: UndefinedMetricWarning: Precision and F-score are ill-defined and being set to 0.0 in labels with no predicted samples. Use `zero_division` parameter to control this behavior.\n",
      "  _warn_prf(average, modifier, msg_start, len(result))\n",
      "/opt/conda/lib/python3.10/site-packages/sklearn/metrics/_classification.py:1344: UndefinedMetricWarning: Precision and F-score are ill-defined and being set to 0.0 in labels with no predicted samples. Use `zero_division` parameter to control this behavior.\n",
      "  _warn_prf(average, modifier, msg_start, len(result))\n"
     ]
    }
   ],
   "source": [
    "print(classification_report(ltest, SVCPred))"
   ]
  },
  {
   "cell_type": "code",
   "execution_count": null,
   "id": "c1d1ef4c",
   "metadata": {
    "papermill": {
     "duration": 0.023266,
     "end_time": "2024-10-28T09:02:24.608424",
     "exception": false,
     "start_time": "2024-10-28T09:02:24.585158",
     "status": "completed"
    },
    "tags": []
   },
   "outputs": [],
   "source": []
  }
 ],
 "metadata": {
  "kaggle": {
   "accelerator": "none",
   "dataSources": [
    {
     "datasetId": 1120859,
     "sourceId": 1882037,
     "sourceType": "datasetVersion"
    }
   ],
   "dockerImageVersionId": 30761,
   "isGpuEnabled": false,
   "isInternetEnabled": true,
   "language": "python",
   "sourceType": "notebook"
  },
  "kernelspec": {
   "display_name": "Python 3",
   "language": "python",
   "name": "python3"
  },
  "language_info": {
   "codemirror_mode": {
    "name": "ipython",
    "version": 3
   },
   "file_extension": ".py",
   "mimetype": "text/x-python",
   "name": "python",
   "nbconvert_exporter": "python",
   "pygments_lexer": "ipython3",
   "version": "3.10.14"
  },
  "papermill": {
   "default_parameters": {},
   "duration": 76.416669,
   "end_time": "2024-10-28T09:02:25.754214",
   "environment_variables": {},
   "exception": null,
   "input_path": "__notebook__.ipynb",
   "output_path": "__notebook__.ipynb",
   "parameters": {},
   "start_time": "2024-10-28T09:01:09.337545",
   "version": "2.6.0"
  }
 },
 "nbformat": 4,
 "nbformat_minor": 5
}
