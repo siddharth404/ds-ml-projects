{
  "nbformat": 4,
  "nbformat_minor": 0,
  "metadata": {
    "colab": {
      "name": "Decision Tree to Amazon reviews dataset.ipynb",
      "version": "0.3.2",
      "views": {},
      "default_view": {},
      "provenance": [],
      "collapsed_sections": [
        "ESF55Tz65nun",
        "-zdrGLf_5nun",
        "da2TkBsk5nvG"
      ]
    },
    "kernelspec": {
      "display_name": "Python 3",
      "language": "python",
      "name": "python3"
    }
  },
  "cells": [
    {
      "metadata": {
        "id": "VjItkJE-5ntv",
        "colab_type": "text"
      },
      "cell_type": "markdown",
      "source": [
        "# Amazon Fine Food Reviews Analysis\n",
        "Data Source: https://www.kaggle.com/snap/amazon-fine-food-reviews\n",
        "The Amazon Fine Food Reviews dataset consists of reviews of fine foods from Amazon.<br>\n",
        "\n",
        "Number of reviews: 568,454<br>\n",
        "Number of users: 256,059<br>\n",
        "Number of products: 74,258<br>\n",
        "Timespan: Oct 1999 - Oct 2012<br>\n",
        "Number of Attributes/Columns in data: 10 \n",
        "\n",
        "Attribute Information:\n",
        "\n",
        "1. Id\n",
        "2. ProductId - unique identifier for the product\n",
        "3. UserId - unqiue identifier for the user\n",
        "4. ProfileName\n",
        "5. HelpfulnessNumerator - number of users who found the review helpful\n",
        "6. HelpfulnessDenominator - number of users who indicated whether they found the review helpful or not\n",
        "7. Score - rating between 1 and 5\n",
        "8. Time - timestamp for the review\n",
        "9. Summary - brief summary of the review\n",
        "10. Text - text of the review\n",
        "\n",
        "\n",
        "#### Objective:\n",
        "Given a review, determine whether the review is positive (Rating of 4 or 5) or negative (rating of 1 or 2).\n"
      ]
    },
    {
      "metadata": {
        "id": "utrlOHL95ntw",
        "colab_type": "code",
        "colab": {
          "autoexec": {
            "startup": false,
            "wait_interval": 0
          },
          "base_uri": "https://localhost:8080/",
          "height": 1725
        },
        "outputId": "d51dce14-65a6-441d-bb7c-9bfd6440c908",
        "executionInfo": {
          "status": "ok",
          "timestamp": 1532388720970,
          "user_tz": -330,
          "elapsed": 14660,
          "user": {
            "displayName": "Vijay Bhati",
            "photoUrl": "https://lh3.googleusercontent.com/a/default-user=s128",
            "userId": "106065926741616959388"
          }
        }
      },
      "cell_type": "code",
      "source": [
        "!pip install --upgrade \"ipython[all]\""
      ],
      "execution_count": 1,
      "outputs": [
        {
          "output_type": "stream",
          "text": [
            "Collecting ipython[all]\n",
            "\u001b[?25l  Downloading https://files.pythonhosted.org/packages/b1/7f/91d50f28af3e3a24342561983a7857e399ce24093876e6970b986a0b6677/ipython-6.4.0-py3-none-any.whl (750kB)\n",
            "\u001b[K    100% |████████████████████████████████| 757kB 6.0MB/s \n",
            "\u001b[?25hRequirement not upgraded as not directly required: setuptools>=18.5 in /usr/local/lib/python3.6/dist-packages (from ipython[all]) (39.1.0)\n",
            "Requirement not upgraded as not directly required: traitlets>=4.2 in /usr/local/lib/python3.6/dist-packages (from ipython[all]) (4.3.2)\n",
            "Requirement not upgraded as not directly required: pygments in /usr/local/lib/python3.6/dist-packages (from ipython[all]) (2.1.3)\n",
            "Collecting jedi>=0.10 (from ipython[all])\n",
            "\u001b[?25l  Downloading https://files.pythonhosted.org/packages/3d/68/8bbf0ef969095a13ba0d4c77c1945bd86e9811960d052510551d29a2f23b/jedi-0.12.1-py2.py3-none-any.whl (174kB)\n",
            "\u001b[K    100% |████████████████████████████████| 184kB 6.9MB/s \n",
            "\u001b[?25hRequirement not upgraded as not directly required: pickleshare in /usr/local/lib/python3.6/dist-packages (from ipython[all]) (0.7.4)\n",
            "Requirement not upgraded as not directly required: prompt-toolkit<2.0.0,>=1.0.15 in /usr/local/lib/python3.6/dist-packages (from ipython[all]) (1.0.15)\n",
            "Requirement not upgraded as not directly required: decorator in /usr/local/lib/python3.6/dist-packages (from ipython[all]) (4.3.0)\n",
            "Collecting backcall (from ipython[all])\n",
            "  Downloading https://files.pythonhosted.org/packages/84/71/c8ca4f5bb1e08401b916c68003acf0a0655df935d74d93bf3f3364b310e0/backcall-0.1.0.tar.gz\n",
            "Requirement not upgraded as not directly required: pexpect; sys_platform != \"win32\" in /usr/local/lib/python3.6/dist-packages (from ipython[all]) (4.6.0)\n",
            "Requirement not upgraded as not directly required: simplegeneric>0.8 in /usr/local/lib/python3.6/dist-packages (from ipython[all]) (0.8.1)\n",
            "Collecting Sphinx>=1.3; extra == \"all\" (from ipython[all])\n",
            "\u001b[?25l  Downloading https://files.pythonhosted.org/packages/6d/62/e95cbd4966acaecb8805c321609ba986e47d806e5735967acfe2db3f7c26/Sphinx-1.7.6-py2.py3-none-any.whl (1.9MB)\n",
            "\u001b[K    100% |████████████████████████████████| 1.9MB 6.1MB/s \n",
            "\u001b[?25hCollecting ipyparallel; extra == \"all\" (from ipython[all])\n",
            "\u001b[?25l  Downloading https://files.pythonhosted.org/packages/28/4b/418ef01bc850bb44854295ef892dba2c3a5eb44e0cd65f88100c200dd74a/ipyparallel-6.2.2-py2.py3-none-any.whl (198kB)\n",
            "\u001b[K    100% |████████████████████████████████| 204kB 11.0MB/s \n",
            "\u001b[?25hCollecting nose>=0.10.1; extra == \"all\" (from ipython[all])\n",
            "\u001b[?25l  Downloading https://files.pythonhosted.org/packages/15/d8/dd071918c040f50fa1cf80da16423af51ff8ce4a0f2399b7bf8de45ac3d9/nose-1.3.7-py3-none-any.whl (154kB)\n",
            "\u001b[K    100% |████████████████████████████████| 163kB 14.4MB/s \n",
            "\u001b[?25hRequirement not upgraded as not directly required: ipykernel; extra == \"all\" in /usr/local/lib/python3.6/dist-packages (from ipython[all]) (4.6.1)\n",
            "Requirement not upgraded as not directly required: nbformat; extra == \"all\" in /usr/local/lib/python3.6/dist-packages (from ipython[all]) (4.4.0)\n",
            "Requirement not upgraded as not directly required: testpath; extra == \"all\" in /usr/local/lib/python3.6/dist-packages (from ipython[all]) (0.3.1)\n",
            "Collecting qtconsole; extra == \"all\" (from ipython[all])\n",
            "\u001b[?25l  Downloading https://files.pythonhosted.org/packages/90/ff/047e0dca2627b162866920e7aa93f04523c0ae81e5c67060eec85701992d/qtconsole-4.3.1-py2.py3-none-any.whl (108kB)\n",
            "\u001b[K    100% |████████████████████████████████| 112kB 21.1MB/s \n",
            "\u001b[?25hCollecting ipywidgets; extra == \"all\" (from ipython[all])\n",
            "\u001b[?25l  Downloading https://files.pythonhosted.org/packages/f0/5d/868df21e3b004a5a61294cab70e1f6f44986933eb3aa9c396dfd5112acb2/ipywidgets-7.3.0-py2.py3-none-any.whl (109kB)\n",
            "\u001b[K    100% |████████████████████████████████| 112kB 19.0MB/s \n",
            "\u001b[?25hRequirement not upgraded as not directly required: notebook; extra == \"all\" in /usr/local/lib/python3.6/dist-packages (from ipython[all]) (5.2.2)\n",
            "Requirement not upgraded as not directly required: nbconvert; extra == \"all\" in /usr/local/lib/python3.6/dist-packages (from ipython[all]) (5.3.1)\n",
            "Requirement not upgraded as not directly required: requests; extra == \"all\" in /usr/local/lib/python3.6/dist-packages (from ipython[all]) (2.18.4)\n",
            "Requirement not upgraded as not directly required: six in /usr/local/lib/python3.6/dist-packages (from traitlets>=4.2->ipython[all]) (1.11.0)\n",
            "Requirement not upgraded as not directly required: ipython-genutils in /usr/local/lib/python3.6/dist-packages (from traitlets>=4.2->ipython[all]) (0.2.0)\n",
            "Collecting parso>=0.3.0 (from jedi>=0.10->ipython[all])\n",
            "\u001b[?25l  Downloading https://files.pythonhosted.org/packages/09/51/9c48a46334be50c13d25a3afe55fa05c445699304c5ad32619de953a2305/parso-0.3.1-py2.py3-none-any.whl (88kB)\n",
            "\u001b[K    100% |████████████████████████████████| 92kB 19.0MB/s \n",
            "\u001b[?25hRequirement not upgraded as not directly required: wcwidth in /usr/local/lib/python3.6/dist-packages (from prompt-toolkit<2.0.0,>=1.0.15->ipython[all]) (0.1.7)\n",
            "Requirement not upgraded as not directly required: ptyprocess>=0.5 in /usr/local/lib/python3.6/dist-packages (from pexpect; sys_platform != \"win32\"->ipython[all]) (0.6.0)\n",
            "Collecting alabaster<0.8,>=0.7 (from Sphinx>=1.3; extra == \"all\"->ipython[all])\n",
            "  Downloading https://files.pythonhosted.org/packages/6e/71/c3648cc2f675063dbe2d669004a59e4a5120172713a1de3c3b14144d4b31/alabaster-0.7.11-py2.py3-none-any.whl\n",
            "Collecting docutils>=0.11 (from Sphinx>=1.3; extra == \"all\"->ipython[all])\n",
            "\u001b[?25l  Downloading https://files.pythonhosted.org/packages/36/fa/08e9e6e0e3cbd1d362c3bbee8d01d0aedb2155c4ac112b19ef3cae8eed8d/docutils-0.14-py3-none-any.whl (543kB)\n",
            "\u001b[K    100% |████████████████████████████████| 552kB 18.6MB/s \n"
          ],
          "name": "stdout"
        },
        {
          "output_type": "stream",
          "text": [
            "\u001b[?25hCollecting babel!=2.0,>=1.3 (from Sphinx>=1.3; extra == \"all\"->ipython[all])\n",
            "\u001b[?25l  Downloading https://files.pythonhosted.org/packages/b8/ad/c6f60602d3ee3d92fbed87675b6fb6a6f9a38c223343ababdb44ba201f10/Babel-2.6.0-py2.py3-none-any.whl (8.1MB)\n",
            "\u001b[K    100% |████████████████████████████████| 8.1MB 4.0MB/s \n",
            "\u001b[?25hCollecting sphinxcontrib-websupport (from Sphinx>=1.3; extra == \"all\"->ipython[all])\n",
            "  Downloading https://files.pythonhosted.org/packages/52/69/3c2fbdc3702358c5b34ee25e387b24838597ef099761fc9a42c166796e8f/sphinxcontrib_websupport-1.1.0-py2.py3-none-any.whl\n",
            "Collecting imagesize (from Sphinx>=1.3; extra == \"all\"->ipython[all])\n",
            "  Downloading https://files.pythonhosted.org/packages/e9/79/31cc1c2e0daf575f8fd2b581e2975e6a6938bd439581f766b79c50479521/imagesize-1.0.0-py2.py3-none-any.whl\n",
            "Requirement not upgraded as not directly required: packaging in /usr/local/lib/python3.6/dist-packages (from Sphinx>=1.3; extra == \"all\"->ipython[all]) (17.1)\n",
            "Requirement not upgraded as not directly required: Jinja2>=2.3 in /usr/local/lib/python3.6/dist-packages (from Sphinx>=1.3; extra == \"all\"->ipython[all]) (2.10)\n",
            "Collecting snowballstemmer>=1.1 (from Sphinx>=1.3; extra == \"all\"->ipython[all])\n",
            "\u001b[?25l  Downloading https://files.pythonhosted.org/packages/d4/6c/8a935e2c7b54a37714656d753e4187ee0631988184ed50c0cf6476858566/snowballstemmer-1.2.1-py2.py3-none-any.whl (64kB)\n",
            "\u001b[K    100% |████████████████████████████████| 71kB 21.9MB/s \n",
            "\u001b[?25hRequirement not upgraded as not directly required: pyzmq>=13 in /usr/local/lib/python3.6/dist-packages (from ipyparallel; extra == \"all\"->ipython[all]) (16.0.4)\n",
            "Requirement not upgraded as not directly required: python-dateutil>=2.1 in /usr/local/lib/python3.6/dist-packages (from ipyparallel; extra == \"all\"->ipython[all]) (2.5.3)\n",
            "Requirement not upgraded as not directly required: tornado>=4 in /usr/local/lib/python3.6/dist-packages (from ipyparallel; extra == \"all\"->ipython[all]) (4.5.3)\n",
            "Requirement not upgraded as not directly required: jupyter-client in /usr/local/lib/python3.6/dist-packages (from ipyparallel; extra == \"all\"->ipython[all]) (5.2.3)\n",
            "Requirement not upgraded as not directly required: jupyter-core in /usr/local/lib/python3.6/dist-packages (from nbformat; extra == \"all\"->ipython[all]) (4.4.0)\n",
            "Requirement not upgraded as not directly required: jsonschema!=2.5.0,>=2.4 in /usr/local/lib/python3.6/dist-packages (from nbformat; extra == \"all\"->ipython[all]) (2.6.0)\n",
            "Collecting widgetsnbextension~=3.3.0 (from ipywidgets; extra == \"all\"->ipython[all])\n",
            "\u001b[?25l  Downloading https://files.pythonhosted.org/packages/b9/43/f6ff09448f7b961e102fd75b7e46a5d44b68b9746bb1ab5c4be64c3e236d/widgetsnbextension-3.3.0-py2.py3-none-any.whl (2.2MB)\n",
            "\u001b[K    100% |████████████████████████████████| 2.2MB 12.0MB/s \n",
            "\u001b[?25hRequirement not upgraded as not directly required: terminado>=0.3.3; sys_platform != \"win32\" in /usr/local/lib/python3.6/dist-packages (from notebook; extra == \"all\"->ipython[all]) (0.8.1)\n",
            "Requirement not upgraded as not directly required: mistune>=0.7.4 in /usr/local/lib/python3.6/dist-packages (from nbconvert; extra == \"all\"->ipython[all]) (0.8.3)\n",
            "Requirement not upgraded as not directly required: pandocfilters>=1.4.1 in /usr/local/lib/python3.6/dist-packages (from nbconvert; extra == \"all\"->ipython[all]) (1.4.2)\n",
            "Requirement not upgraded as not directly required: entrypoints>=0.2.2 in /usr/local/lib/python3.6/dist-packages (from nbconvert; extra == \"all\"->ipython[all]) (0.2.3)\n",
            "Requirement not upgraded as not directly required: bleach in /usr/local/lib/python3.6/dist-packages (from nbconvert; extra == \"all\"->ipython[all]) (2.1.3)\n",
            "Requirement not upgraded as not directly required: idna<2.7,>=2.5 in /usr/local/lib/python3.6/dist-packages (from requests; extra == \"all\"->ipython[all]) (2.6)\n",
            "Requirement not upgraded as not directly required: urllib3<1.23,>=1.21.1 in /usr/local/lib/python3.6/dist-packages (from requests; extra == \"all\"->ipython[all]) (1.22)\n",
            "Requirement not upgraded as not directly required: certifi>=2017.4.17 in /usr/local/lib/python3.6/dist-packages (from requests; extra == \"all\"->ipython[all]) (2018.4.16)\n",
            "Requirement not upgraded as not directly required: chardet<3.1.0,>=3.0.2 in /usr/local/lib/python3.6/dist-packages (from requests; extra == \"all\"->ipython[all]) (3.0.4)\n",
            "Requirement not upgraded as not directly required: pytz>=0a in /usr/local/lib/python3.6/dist-packages (from babel!=2.0,>=1.3->Sphinx>=1.3; extra == \"all\"->ipython[all]) (2018.5)\n",
            "Requirement not upgraded as not directly required: pyparsing>=2.0.2 in /usr/local/lib/python3.6/dist-packages (from packaging->Sphinx>=1.3; extra == \"all\"->ipython[all]) (2.2.0)\n",
            "Requirement not upgraded as not directly required: MarkupSafe>=0.23 in /usr/local/lib/python3.6/dist-packages (from Jinja2>=2.3->Sphinx>=1.3; extra == \"all\"->ipython[all]) (1.0)\n",
            "Requirement not upgraded as not directly required: html5lib!=1.0b1,!=1.0b2,!=1.0b3,!=1.0b4,!=1.0b5,!=1.0b6,!=1.0b7,!=1.0b8,>=0.99999999pre in /usr/local/lib/python3.6/dist-packages (from bleach->nbconvert; extra == \"all\"->ipython[all]) (1.0.1)\n",
            "Requirement not upgraded as not directly required: webencodings in /usr/local/lib/python3.6/dist-packages (from html5lib!=1.0b1,!=1.0b2,!=1.0b3,!=1.0b4,!=1.0b5,!=1.0b6,!=1.0b7,!=1.0b8,>=0.99999999pre->bleach->nbconvert; extra == \"all\"->ipython[all]) (0.5.1)\n",
            "Building wheels for collected packages: backcall\n",
            "  Running setup.py bdist_wheel for backcall ... \u001b[?25l-\b \bdone\n",
            "\u001b[?25h  Stored in directory: /content/.cache/pip/wheels/98/b0/dd/29e28ff615af3dda4c67cab719dd51357597eabff926976b45\n",
            "Successfully built backcall\n",
            "Installing collected packages: parso, jedi, backcall, alabaster, docutils, babel, sphinxcontrib-websupport, imagesize, snowballstemmer, Sphinx, ipyparallel, nose, qtconsole, widgetsnbextension, ipywidgets, ipython\n",
            "  Found existing installation: ipython 5.5.0\n",
            "    Uninstalling ipython-5.5.0:\n",
            "      Successfully uninstalled ipython-5.5.0\n",
            "Successfully installed Sphinx-1.7.6 alabaster-0.7.11 babel-2.6.0 backcall-0.1.0 docutils-0.14 imagesize-1.0.0 ipyparallel-6.2.2 ipython-6.4.0 ipywidgets-7.3.0 jedi-0.12.1 nose-1.3.7 parso-0.3.1 qtconsole-4.3.1 snowballstemmer-1.2.1 sphinxcontrib-websupport-1.1.0 widgetsnbextension-3.3.0\n",
            "\u001b[33mYou are using pip version 10.0.1, however version 18.0 is available.\n",
            "You should consider upgrading via the 'pip install --upgrade pip' command.\u001b[0m\n"
          ],
          "name": "stdout"
        }
      ]
    },
    {
      "metadata": {
        "id": "9LYg8l0x5nt3",
        "colab_type": "code",
        "colab": {
          "autoexec": {
            "startup": false,
            "wait_interval": 0
          },
          "base_uri": "https://localhost:8080/",
          "height": 1441
        },
        "outputId": "21615d3e-59cc-40fc-d493-0f91f9161daf",
        "executionInfo": {
          "status": "ok",
          "timestamp": 1532388744198,
          "user_tz": -330,
          "elapsed": 22947,
          "user": {
            "displayName": "Vijay Bhati",
            "photoUrl": "https://lh3.googleusercontent.com/a/default-user=s128",
            "userId": "106065926741616959388"
          }
        }
      },
      "cell_type": "code",
      "source": [
        "!pip install pydrive\n",
        "!pip install gensim\n",
        "!pip install nltk\n",
        "!pip install seaborn\n",
        "!pip install xgboost\n",
        "!wget --header='Host: doc-14-34-docs.googleusercontent.com' --header='User-Agent: Mozilla/5.0 (Macintosh; Intel Mac OS X 10_13_6) AppleWebKit/537.36 (KHTML, like Gecko) Chrome/67.0.3396.99 Safari/537.36' --header='Accept: text/html,application/xhtml+xml,application/xml;q=0.9,image/webp,image/apng,*/*;q=0.8' --header='Accept-Language: en-US,en;q=0.9' --header='Cookie: AUTH_sl8scr3r78dtlbjs5mvoco4ilf6h1a3b=09929041593969215305|1531468800000|u59ib6rmr97ctn3dvalen1hqiaup4fhq; NID=130=LXZwJ_B1s7OlagMooX3o0cdKaSHL3frN5ha4lIftM8TuGzoTCmfcWXpJ3cNRIcbkyUPqb3Jy-XQmP9UHSogzUlrWBiowlnwfwg3Cx-F6T5acQOD-gO27Uk1dFzgik3yZ' --header='Connection: keep-alive' 'https://doc-14-34-docs.googleusercontent.com/docs/securesc/sr3ne958tilodvhhec79bitjd2u2bnlr/t4ul11orpkbo7g1j7a551rv07qf911pf/1531468800000/09929041593969215305/09929041593969215305/1cZS7OUXVft4KTZ1AzZPu95hSgWzu3aC8?e=download' -O 'final.sqlite' -c"
      ],
      "execution_count": 2,
      "outputs": [
        {
          "output_type": "stream",
          "text": [
            "Collecting pydrive\n",
            "\u001b[?25l  Downloading https://files.pythonhosted.org/packages/52/e0/0e64788e5dd58ce2d6934549676243dc69d982f198524be9b99e9c2a4fd5/PyDrive-1.3.1.tar.gz (987kB)\n",
            "\u001b[K    100% |████████████████████████████████| 993kB 6.3MB/s \n",
            "\u001b[?25hRequirement already satisfied: google-api-python-client>=1.2 in /usr/local/lib/python3.6/dist-packages (from pydrive) (1.6.7)\n",
            "Requirement already satisfied: oauth2client>=4.0.0 in /usr/local/lib/python3.6/dist-packages (from pydrive) (4.1.2)\n",
            "Requirement already satisfied: PyYAML>=3.0 in /usr/local/lib/python3.6/dist-packages (from pydrive) (3.13)\n",
            "Requirement already satisfied: httplib2<1dev,>=0.9.2 in /usr/local/lib/python3.6/dist-packages (from google-api-python-client>=1.2->pydrive) (0.11.3)\n",
            "Requirement already satisfied: six<2dev,>=1.6.1 in /usr/local/lib/python3.6/dist-packages (from google-api-python-client>=1.2->pydrive) (1.11.0)\n",
            "Requirement already satisfied: uritemplate<4dev,>=3.0.0 in /usr/local/lib/python3.6/dist-packages (from google-api-python-client>=1.2->pydrive) (3.0.0)\n",
            "Requirement already satisfied: rsa>=3.1.4 in /usr/local/lib/python3.6/dist-packages (from oauth2client>=4.0.0->pydrive) (3.4.2)\n",
            "Requirement already satisfied: pyasn1-modules>=0.0.5 in /usr/local/lib/python3.6/dist-packages (from oauth2client>=4.0.0->pydrive) (0.2.2)\n",
            "Requirement already satisfied: pyasn1>=0.1.7 in /usr/local/lib/python3.6/dist-packages (from oauth2client>=4.0.0->pydrive) (0.4.3)\n",
            "Building wheels for collected packages: pydrive\n",
            "  Running setup.py bdist_wheel for pydrive ... \u001b[?25l-\b \b\\\b \bdone\n",
            "\u001b[?25h  Stored in directory: /content/.cache/pip/wheels/fa/d2/9a/d3b6b506c2da98289e5d417215ce34b696db856643bad779f4\n",
            "Successfully built pydrive\n",
            "Installing collected packages: pydrive\n",
            "Successfully installed pydrive-1.3.1\n",
            "\u001b[33mYou are using pip version 10.0.1, however version 18.0 is available.\n",
            "You should consider upgrading via the 'pip install --upgrade pip' command.\u001b[0m\n",
            "Collecting gensim\n",
            "\u001b[?25l  Downloading https://files.pythonhosted.org/packages/86/f3/37504f07651330ddfdefa631ca5246974a60d0908216539efda842fd080f/gensim-3.5.0-cp36-cp36m-manylinux1_x86_64.whl (23.5MB)\n",
            "\u001b[K    100% |████████████████████████████████| 23.5MB 1.4MB/s \n",
            "\u001b[?25hCollecting smart-open>=1.2.1 (from gensim)\n",
            "  Downloading https://files.pythonhosted.org/packages/cf/3d/5f3a9a296d0ba8e00e263a8dee76762076b9eb5ddc254ccaa834651c8d65/smart_open-1.6.0.tar.gz\n",
            "Requirement already satisfied: six>=1.5.0 in /usr/local/lib/python3.6/dist-packages (from gensim) (1.11.0)\n",
            "Requirement already satisfied: scipy>=0.18.1 in /usr/local/lib/python3.6/dist-packages (from gensim) (0.19.1)\n",
            "Requirement already satisfied: numpy>=1.11.3 in /usr/local/lib/python3.6/dist-packages (from gensim) (1.14.5)\n",
            "Collecting boto>=2.32 (from smart-open>=1.2.1->gensim)\n",
            "\u001b[?25l  Downloading https://files.pythonhosted.org/packages/23/10/c0b78c27298029e4454a472a1919bde20cb182dab1662cec7f2ca1dcc523/boto-2.49.0-py2.py3-none-any.whl (1.4MB)\n",
            "\u001b[K    100% |████████████████████████████████| 1.4MB 11.6MB/s \n",
            "\u001b[?25hCollecting bz2file (from smart-open>=1.2.1->gensim)\n",
            "  Downloading https://files.pythonhosted.org/packages/61/39/122222b5e85cd41c391b68a99ee296584b2a2d1d233e7ee32b4532384f2d/bz2file-0.98.tar.gz\n",
            "Requirement already satisfied: requests in /usr/local/lib/python3.6/dist-packages (from smart-open>=1.2.1->gensim) (2.18.4)\n",
            "Collecting boto3 (from smart-open>=1.2.1->gensim)\n",
            "\u001b[?25l  Downloading https://files.pythonhosted.org/packages/2b/69/ce291161cc82e3edad9f057b9158f5723882d41d8935d6aa5a53a26bb8b7/boto3-1.7.62-py2.py3-none-any.whl (128kB)\n",
            "\u001b[K    100% |████████████████████████████████| 133kB 23.8MB/s \n"
          ],
          "name": "stdout"
        },
        {
          "output_type": "stream",
          "text": [
            "\u001b[?25hRequirement already satisfied: chardet<3.1.0,>=3.0.2 in /usr/local/lib/python3.6/dist-packages (from requests->smart-open>=1.2.1->gensim) (3.0.4)\r\n",
            "Requirement already satisfied: urllib3<1.23,>=1.21.1 in /usr/local/lib/python3.6/dist-packages (from requests->smart-open>=1.2.1->gensim) (1.22)\n",
            "Requirement already satisfied: idna<2.7,>=2.5 in /usr/local/lib/python3.6/dist-packages (from requests->smart-open>=1.2.1->gensim) (2.6)\n",
            "Requirement already satisfied: certifi>=2017.4.17 in /usr/local/lib/python3.6/dist-packages (from requests->smart-open>=1.2.1->gensim) (2018.4.16)\n",
            "Collecting botocore<1.11.0,>=1.10.62 (from boto3->smart-open>=1.2.1->gensim)\n",
            "\u001b[?25l  Downloading https://files.pythonhosted.org/packages/24/ec/95df2edaa21e426581f41745e0de355170b8cb6eed2a2a5641c0c348df33/botocore-1.10.62-py2.py3-none-any.whl (4.4MB)\n",
            "\u001b[K    100% |████████████████████████████████| 4.4MB 6.4MB/s \n",
            "\u001b[?25hCollecting s3transfer<0.2.0,>=0.1.10 (from boto3->smart-open>=1.2.1->gensim)\n",
            "\u001b[?25l  Downloading https://files.pythonhosted.org/packages/d7/14/2a0004d487464d120c9fb85313a75cd3d71a7506955be458eebfe19a6b1d/s3transfer-0.1.13-py2.py3-none-any.whl (59kB)\n",
            "\u001b[K    100% |████████████████████████████████| 61kB 17.5MB/s \n",
            "\u001b[?25hCollecting jmespath<1.0.0,>=0.7.1 (from boto3->smart-open>=1.2.1->gensim)\n",
            "  Downloading https://files.pythonhosted.org/packages/b7/31/05c8d001f7f87f0f07289a5fc0fc3832e9a57f2dbd4d3b0fee70e0d51365/jmespath-0.9.3-py2.py3-none-any.whl\n",
            "Requirement already satisfied: docutils>=0.10 in /usr/local/lib/python3.6/dist-packages (from botocore<1.11.0,>=1.10.62->boto3->smart-open>=1.2.1->gensim) (0.14)\n",
            "Requirement already satisfied: python-dateutil<3.0.0,>=2.1; python_version >= \"2.7\" in /usr/local/lib/python3.6/dist-packages (from botocore<1.11.0,>=1.10.62->boto3->smart-open>=1.2.1->gensim) (2.5.3)\n",
            "Building wheels for collected packages: smart-open, bz2file\n",
            "  Running setup.py bdist_wheel for smart-open ... \u001b[?25l-\b \b\\\b \bdone\n",
            "\u001b[?25h  Stored in directory: /content/.cache/pip/wheels/73/f1/9b/ccf93d4ba073b6f79b1ed9df68ab5ce048d8136d0efcf90b30\n",
            "  Running setup.py bdist_wheel for bz2file ... \u001b[?25l-\b \bdone\n",
            "\u001b[?25h  Stored in directory: /content/.cache/pip/wheels/81/75/d6/e1317bf09bf1af5a30befc2a007869fa6e1f516b8f7c591cb9\n",
            "Successfully built smart-open bz2file\n",
            "Installing collected packages: boto, bz2file, jmespath, botocore, s3transfer, boto3, smart-open, gensim\n",
            "Successfully installed boto-2.49.0 boto3-1.7.62 botocore-1.10.62 bz2file-0.98 gensim-3.5.0 jmespath-0.9.3 s3transfer-0.1.13 smart-open-1.6.0\n",
            "\u001b[33mYou are using pip version 10.0.1, however version 18.0 is available.\n",
            "You should consider upgrading via the 'pip install --upgrade pip' command.\u001b[0m\n",
            "Requirement already satisfied: nltk in /usr/local/lib/python3.6/dist-packages (3.2.5)\n",
            "Requirement already satisfied: six in /usr/local/lib/python3.6/dist-packages (from nltk) (1.11.0)\n",
            "\u001b[33mYou are using pip version 10.0.1, however version 18.0 is available.\n",
            "You should consider upgrading via the 'pip install --upgrade pip' command.\u001b[0m\n",
            "Requirement already satisfied: seaborn in /usr/local/lib/python3.6/dist-packages (0.7.1)\n",
            "\u001b[33mYou are using pip version 10.0.1, however version 18.0 is available.\n",
            "You should consider upgrading via the 'pip install --upgrade pip' command.\u001b[0m\n",
            "Requirement already satisfied: xgboost in /usr/local/lib/python3.6/dist-packages (0.7.post4)\n",
            "Requirement already satisfied: numpy in /usr/local/lib/python3.6/dist-packages (from xgboost) (1.14.5)\n",
            "Requirement already satisfied: scipy in /usr/local/lib/python3.6/dist-packages (from xgboost) (0.19.1)\n",
            "\u001b[33mYou are using pip version 10.0.1, however version 18.0 is available.\n",
            "You should consider upgrading via the 'pip install --upgrade pip' command.\u001b[0m\n",
            "--2018-07-23 23:32:23--  https://doc-14-34-docs.googleusercontent.com/docs/securesc/sr3ne958tilodvhhec79bitjd2u2bnlr/t4ul11orpkbo7g1j7a551rv07qf911pf/1531468800000/09929041593969215305/09929041593969215305/1cZS7OUXVft4KTZ1AzZPu95hSgWzu3aC8?e=download\n",
            "Resolving doc-14-34-docs.googleusercontent.com (doc-14-34-docs.googleusercontent.com)... 173.194.216.132, 2607:f8b0:400c:c12::84\n",
            "Connecting to doc-14-34-docs.googleusercontent.com (doc-14-34-docs.googleusercontent.com)|173.194.216.132|:443... connected.\n",
            "HTTP request sent, awaiting response... 403 Forbidden\n",
            "2018-07-23 23:32:23 ERROR 403: Forbidden.\n",
            "\n"
          ],
          "name": "stdout"
        }
      ]
    },
    {
      "metadata": {
        "id": "gfR7mo2C_0c6",
        "colab_type": "code",
        "colab": {
          "autoexec": {
            "startup": false,
            "wait_interval": 0
          }
        }
      },
      "cell_type": "code",
      "source": [
        "!pip install pydrive\n",
        "!pip install gensim\n",
        "from pydrive.auth import GoogleAuth\n",
        "from pydrive.drive import GoogleDrive\n",
        "from google.colab import auth\n",
        "from oauth2client.client import GoogleCredentials\n",
        " \n",
        "# 1. Authenticate and create the PyDrive client.\n",
        "auth.authenticate_user()\n",
        "gauth = GoogleAuth()\n",
        "gauth.credentials = GoogleCredentials.get_application_default()\n",
        "drive = GoogleDrive(gauth)"
      ],
      "execution_count": 0,
      "outputs": []
    },
    {
      "metadata": {
        "id": "DDcuPm9G_3pq",
        "colab_type": "code",
        "colab": {
          "autoexec": {
            "startup": false,
            "wait_interval": 0
          }
        }
      },
      "cell_type": "code",
      "source": [
        "downloaded = drive.CreateFile({'id':'1cZS7OUXVft4KTZ1AzZPu95hSgWzu3aC8'}) # replace the id with id of file you want to access\n",
        "downloaded.GetContentFile('final.sqlite')"
      ],
      "execution_count": 0,
      "outputs": []
    },
    {
      "metadata": {
        "id": "_va9rJx05nt7",
        "colab_type": "code",
        "colab": {
          "autoexec": {
            "startup": false,
            "wait_interval": 0
          }
        }
      },
      "cell_type": "code",
      "source": [
        "# loading libraries and data\n",
        "\n",
        "%matplotlib inline\n",
        "\n",
        "import sqlite3                          # for sql database\n",
        "import pandas as pd\n",
        "import numpy as np\n",
        "import nltk                             # nltk:- Natural Language Processing Toolkit\n",
        "import string\n",
        "import re\n",
        "import io\n",
        "import matplotlib.pyplot as plt\n",
        "import seaborn as sns\n",
        "from sklearn.feature_extraction.text import TfidfTransformer\n",
        "from sklearn.feature_extraction.text import CountVectorizer\n",
        "from sklearn.metrics import confusion_matrix\n",
        "from sklearn import metrics\n",
        "from sklearn.metrics import roc_curve, auc\n",
        "from nltk.stem.porter import PorterStemmer\n",
        "from sklearn.decomposition import TruncatedSVD\n",
        "from sklearn.preprocessing import StandardScaler\n",
        "from sklearn.preprocessing import Normalizer\n",
        "from sklearn.manifold import TSNE\n",
        "from sklearn.feature_extraction.text import CountVectorizer\n",
        "from sklearn.feature_extraction.text import TfidfVectorizer\n",
        "from sklearn.neighbors import KNeighborsClassifier\n",
        "from sklearn.naive_bayes import MultinomialNB\n",
        "from sklearn.naive_bayes import GaussianNB\n",
        "from sklearn.linear_model import LogisticRegression\n",
        "from sklearn.svm import SVC\n",
        "from sklearn.tree import DecisionTreeClassifier\n",
        "from sklearn.ensemble import RandomForestClassifier\n",
        "from xgboost import XGBClassifier\n",
        "from sklearn.cluster import KMeans\n",
        "from sklearn.cluster import AgglomerativeClustering\n",
        "from sklearn.model_selection import train_test_split\n",
        "from sklearn.model_selection import GridSearchCV\n",
        "from sklearn.model_selection import RandomizedSearchCV\n",
        "from sklearn.model_selection import cross_val_score\n",
        "from sklearn.metrics import classification_report\n",
        "from sklearn.metrics import accuracy_score\n",
        "from sklearn.metrics import confusion_matrix\n",
        "\n",
        "\n",
        "import pickle\n",
        "def saveindisk(obj,filename):\n",
        "    pickle.dump(obj,open(filename+\".p\",\"wb\"), protocol=4)\n",
        "def openfromdisk(filename):\n",
        "    temp = pickle.load(open(filename+\".p\",\"rb\"))\n",
        "    return temp\n",
        "\n",
        "\n",
        "con = sqlite3.connect(\"final.sqlite\")\n",
        "\n",
        "# Filtering only positive and negative reviews that is\n",
        "# not taking into consideration those reviews with score = 3\n",
        "df = pd.read_sql_query(\"\"\"\n",
        "SELECT *\n",
        "FROM Reviews\n",
        "\"\"\", con)"
      ],
      "execution_count": 0,
      "outputs": []
    },
    {
      "metadata": {
        "id": "8Z3InElJ5nt_",
        "colab_type": "code",
        "colab": {
          "autoexec": {
            "startup": false,
            "wait_interval": 0
          },
          "base_uri": "https://localhost:8080/",
          "height": 547
        },
        "outputId": "fd81d666-70ec-421c-890b-4ce14d8ac179",
        "executionInfo": {
          "status": "ok",
          "timestamp": 1532388790425,
          "user_tz": -330,
          "elapsed": 3123,
          "user": {
            "displayName": "Vijay Bhati",
            "photoUrl": "https://lh3.googleusercontent.com/a/default-user=s128",
            "userId": "106065926741616959388"
          }
        }
      },
      "cell_type": "code",
      "source": [
        "df.head()"
      ],
      "execution_count": 6,
      "outputs": [
        {
          "output_type": "execute_result",
          "data": {
            "text/html": [
              "<div>\n",
              "<style scoped>\n",
              "    .dataframe tbody tr th:only-of-type {\n",
              "        vertical-align: middle;\n",
              "    }\n",
              "\n",
              "    .dataframe tbody tr th {\n",
              "        vertical-align: top;\n",
              "    }\n",
              "\n",
              "    .dataframe thead th {\n",
              "        text-align: right;\n",
              "    }\n",
              "</style>\n",
              "<table border=\"1\" class=\"dataframe\">\n",
              "  <thead>\n",
              "    <tr style=\"text-align: right;\">\n",
              "      <th></th>\n",
              "      <th>index</th>\n",
              "      <th>Id</th>\n",
              "      <th>ProductId</th>\n",
              "      <th>UserId</th>\n",
              "      <th>ProfileName</th>\n",
              "      <th>HelpfulnessNumerator</th>\n",
              "      <th>HelpfulnessDenominator</th>\n",
              "      <th>Score</th>\n",
              "      <th>Time</th>\n",
              "      <th>Summary</th>\n",
              "      <th>Text</th>\n",
              "      <th>CleanedText</th>\n",
              "      <th>CleanedText_NoStem</th>\n",
              "    </tr>\n",
              "  </thead>\n",
              "  <tbody>\n",
              "    <tr>\n",
              "      <th>0</th>\n",
              "      <td>0</td>\n",
              "      <td>1</td>\n",
              "      <td>B001E4KFG0</td>\n",
              "      <td>A3SGXH7AUHU8GW</td>\n",
              "      <td>delmartian</td>\n",
              "      <td>1</td>\n",
              "      <td>1</td>\n",
              "      <td>Positive</td>\n",
              "      <td>1303862400</td>\n",
              "      <td>Good Quality Dog Food</td>\n",
              "      <td>I have bought several of the Vitality canned d...</td>\n",
              "      <td>b'bought sever vital can dog food product foun...</td>\n",
              "      <td>b'bought several vitality canned dog food prod...</td>\n",
              "    </tr>\n",
              "    <tr>\n",
              "      <th>1</th>\n",
              "      <td>1</td>\n",
              "      <td>2</td>\n",
              "      <td>B00813GRG4</td>\n",
              "      <td>A1D87F6ZCVE5NK</td>\n",
              "      <td>dll pa</td>\n",
              "      <td>0</td>\n",
              "      <td>0</td>\n",
              "      <td>Negative</td>\n",
              "      <td>1346976000</td>\n",
              "      <td>Not as Advertised</td>\n",
              "      <td>Product arrived labeled as Jumbo Salted Peanut...</td>\n",
              "      <td>b'product arriv label jumbo salt peanut peanut...</td>\n",
              "      <td>b'product arrived labeled jumbo salted peanuts...</td>\n",
              "    </tr>\n",
              "    <tr>\n",
              "      <th>2</th>\n",
              "      <td>2</td>\n",
              "      <td>3</td>\n",
              "      <td>B000LQOCH0</td>\n",
              "      <td>ABXLMWJIXXAIN</td>\n",
              "      <td>Natalia Corres \"Natalia Corres\"</td>\n",
              "      <td>1</td>\n",
              "      <td>1</td>\n",
              "      <td>Positive</td>\n",
              "      <td>1219017600</td>\n",
              "      <td>\"Delight\" says it all</td>\n",
              "      <td>This is a confection that has been around a fe...</td>\n",
              "      <td>b'confect around centuri light pillowi citrus ...</td>\n",
              "      <td>b'confection around centuries light pillowy ci...</td>\n",
              "    </tr>\n",
              "    <tr>\n",
              "      <th>3</th>\n",
              "      <td>3</td>\n",
              "      <td>4</td>\n",
              "      <td>B000UA0QIQ</td>\n",
              "      <td>A395BORC6FGVXV</td>\n",
              "      <td>Karl</td>\n",
              "      <td>3</td>\n",
              "      <td>3</td>\n",
              "      <td>Negative</td>\n",
              "      <td>1307923200</td>\n",
              "      <td>Cough Medicine</td>\n",
              "      <td>If you are looking for the secret ingredient i...</td>\n",
              "      <td>b'look secret ingredi robitussin believ found ...</td>\n",
              "      <td>b'looking secret ingredient robitussin believe...</td>\n",
              "    </tr>\n",
              "    <tr>\n",
              "      <th>4</th>\n",
              "      <td>4</td>\n",
              "      <td>5</td>\n",
              "      <td>B006K2ZZ7K</td>\n",
              "      <td>A1UQRSCLF8GW1T</td>\n",
              "      <td>Michael D. Bigham \"M. Wassir\"</td>\n",
              "      <td>0</td>\n",
              "      <td>0</td>\n",
              "      <td>Positive</td>\n",
              "      <td>1350777600</td>\n",
              "      <td>Great taffy</td>\n",
              "      <td>Great taffy at a great price.  There was a wid...</td>\n",
              "      <td>b'great taffi great price wide assort yummi ta...</td>\n",
              "      <td>b'great taffy great price wide assortment yumm...</td>\n",
              "    </tr>\n",
              "  </tbody>\n",
              "</table>\n",
              "</div>"
            ],
            "text/plain": [
              "   index  Id   ProductId          UserId                      ProfileName  \\\n",
              "0      0   1  B001E4KFG0  A3SGXH7AUHU8GW                       delmartian   \n",
              "1      1   2  B00813GRG4  A1D87F6ZCVE5NK                           dll pa   \n",
              "2      2   3  B000LQOCH0   ABXLMWJIXXAIN  Natalia Corres \"Natalia Corres\"   \n",
              "3      3   4  B000UA0QIQ  A395BORC6FGVXV                             Karl   \n",
              "4      4   5  B006K2ZZ7K  A1UQRSCLF8GW1T    Michael D. Bigham \"M. Wassir\"   \n",
              "\n",
              "   HelpfulnessNumerator  HelpfulnessDenominator     Score        Time  \\\n",
              "0                     1                       1  Positive  1303862400   \n",
              "1                     0                       0  Negative  1346976000   \n",
              "2                     1                       1  Positive  1219017600   \n",
              "3                     3                       3  Negative  1307923200   \n",
              "4                     0                       0  Positive  1350777600   \n",
              "\n",
              "                 Summary                                               Text  \\\n",
              "0  Good Quality Dog Food  I have bought several of the Vitality canned d...   \n",
              "1      Not as Advertised  Product arrived labeled as Jumbo Salted Peanut...   \n",
              "2  \"Delight\" says it all  This is a confection that has been around a fe...   \n",
              "3         Cough Medicine  If you are looking for the secret ingredient i...   \n",
              "4            Great taffy  Great taffy at a great price.  There was a wid...   \n",
              "\n",
              "                                         CleanedText  \\\n",
              "0  b'bought sever vital can dog food product foun...   \n",
              "1  b'product arriv label jumbo salt peanut peanut...   \n",
              "2  b'confect around centuri light pillowi citrus ...   \n",
              "3  b'look secret ingredi robitussin believ found ...   \n",
              "4  b'great taffi great price wide assort yummi ta...   \n",
              "\n",
              "                                  CleanedText_NoStem  \n",
              "0  b'bought several vitality canned dog food prod...  \n",
              "1  b'product arrived labeled jumbo salted peanuts...  \n",
              "2  b'confection around centuries light pillowy ci...  \n",
              "3  b'looking secret ingredient robitussin believe...  \n",
              "4  b'great taffy great price wide assortment yumm...  "
            ]
          },
          "metadata": {
            "tags": []
          },
          "execution_count": 6
        }
      ]
    },
    {
      "metadata": {
        "id": "xKbCIld65nuC",
        "colab_type": "code",
        "colab": {
          "autoexec": {
            "startup": false,
            "wait_interval": 0
          },
          "base_uri": "https://localhost:8080/",
          "height": 287
        },
        "outputId": "5e9a253b-6a81-436d-a47d-c9c3646c6afc",
        "executionInfo": {
          "status": "ok",
          "timestamp": 1532388792427,
          "user_tz": -330,
          "elapsed": 982,
          "user": {
            "displayName": "Vijay Bhati",
            "photoUrl": "https://lh3.googleusercontent.com/a/default-user=s128",
            "userId": "106065926741616959388"
          }
        }
      },
      "cell_type": "code",
      "source": [
        "df.describe()"
      ],
      "execution_count": 7,
      "outputs": [
        {
          "output_type": "execute_result",
          "data": {
            "text/html": [
              "<div>\n",
              "<style scoped>\n",
              "    .dataframe tbody tr th:only-of-type {\n",
              "        vertical-align: middle;\n",
              "    }\n",
              "\n",
              "    .dataframe tbody tr th {\n",
              "        vertical-align: top;\n",
              "    }\n",
              "\n",
              "    .dataframe thead th {\n",
              "        text-align: right;\n",
              "    }\n",
              "</style>\n",
              "<table border=\"1\" class=\"dataframe\">\n",
              "  <thead>\n",
              "    <tr style=\"text-align: right;\">\n",
              "      <th></th>\n",
              "      <th>index</th>\n",
              "      <th>Id</th>\n",
              "      <th>HelpfulnessNumerator</th>\n",
              "      <th>HelpfulnessDenominator</th>\n",
              "      <th>Time</th>\n",
              "    </tr>\n",
              "  </thead>\n",
              "  <tbody>\n",
              "    <tr>\n",
              "      <th>count</th>\n",
              "      <td>364171.000000</td>\n",
              "      <td>364171.000000</td>\n",
              "      <td>364171.000000</td>\n",
              "      <td>364171.000000</td>\n",
              "      <td>3.641710e+05</td>\n",
              "    </tr>\n",
              "    <tr>\n",
              "      <th>mean</th>\n",
              "      <td>241825.377603</td>\n",
              "      <td>261814.561014</td>\n",
              "      <td>1.739021</td>\n",
              "      <td>2.186841</td>\n",
              "      <td>1.296135e+09</td>\n",
              "    </tr>\n",
              "    <tr>\n",
              "      <th>std</th>\n",
              "      <td>154519.869452</td>\n",
              "      <td>166958.768333</td>\n",
              "      <td>6.723921</td>\n",
              "      <td>7.348482</td>\n",
              "      <td>4.864772e+07</td>\n",
              "    </tr>\n",
              "    <tr>\n",
              "      <th>min</th>\n",
              "      <td>0.000000</td>\n",
              "      <td>1.000000</td>\n",
              "      <td>0.000000</td>\n",
              "      <td>0.000000</td>\n",
              "      <td>9.393408e+08</td>\n",
              "    </tr>\n",
              "    <tr>\n",
              "      <th>25%</th>\n",
              "      <td>104427.500000</td>\n",
              "      <td>113379.500000</td>\n",
              "      <td>0.000000</td>\n",
              "      <td>0.000000</td>\n",
              "      <td>1.270858e+09</td>\n",
              "    </tr>\n",
              "    <tr>\n",
              "      <th>50%</th>\n",
              "      <td>230033.000000</td>\n",
              "      <td>249445.000000</td>\n",
              "      <td>0.000000</td>\n",
              "      <td>1.000000</td>\n",
              "      <td>1.311379e+09</td>\n",
              "    </tr>\n",
              "    <tr>\n",
              "      <th>75%</th>\n",
              "      <td>376763.500000</td>\n",
              "      <td>407408.500000</td>\n",
              "      <td>2.000000</td>\n",
              "      <td>2.000000</td>\n",
              "      <td>1.332893e+09</td>\n",
              "    </tr>\n",
              "    <tr>\n",
              "      <th>max</th>\n",
              "      <td>525813.000000</td>\n",
              "      <td>568454.000000</td>\n",
              "      <td>866.000000</td>\n",
              "      <td>878.000000</td>\n",
              "      <td>1.351210e+09</td>\n",
              "    </tr>\n",
              "  </tbody>\n",
              "</table>\n",
              "</div>"
            ],
            "text/plain": [
              "               index             Id  HelpfulnessNumerator  \\\n",
              "count  364171.000000  364171.000000         364171.000000   \n",
              "mean   241825.377603  261814.561014              1.739021   \n",
              "std    154519.869452  166958.768333              6.723921   \n",
              "min         0.000000       1.000000              0.000000   \n",
              "25%    104427.500000  113379.500000              0.000000   \n",
              "50%    230033.000000  249445.000000              0.000000   \n",
              "75%    376763.500000  407408.500000              2.000000   \n",
              "max    525813.000000  568454.000000            866.000000   \n",
              "\n",
              "       HelpfulnessDenominator          Time  \n",
              "count           364171.000000  3.641710e+05  \n",
              "mean                 2.186841  1.296135e+09  \n",
              "std                  7.348482  4.864772e+07  \n",
              "min                  0.000000  9.393408e+08  \n",
              "25%                  0.000000  1.270858e+09  \n",
              "50%                  1.000000  1.311379e+09  \n",
              "75%                  2.000000  1.332893e+09  \n",
              "max                878.000000  1.351210e+09  "
            ]
          },
          "metadata": {
            "tags": []
          },
          "execution_count": 7
        }
      ]
    },
    {
      "metadata": {
        "id": "iin0meXc5nuG",
        "colab_type": "code",
        "colab": {
          "autoexec": {
            "startup": false,
            "wait_interval": 0
          },
          "base_uri": "https://localhost:8080/",
          "height": 34
        },
        "outputId": "e9d3bd97-2354-46e8-c64b-4b28c7dcbccd",
        "executionInfo": {
          "status": "ok",
          "timestamp": 1532388794263,
          "user_tz": -330,
          "elapsed": 913,
          "user": {
            "displayName": "Vijay Bhati",
            "photoUrl": "https://lh3.googleusercontent.com/a/default-user=s128",
            "userId": "106065926741616959388"
          }
        }
      },
      "cell_type": "code",
      "source": [
        "df.shape"
      ],
      "execution_count": 8,
      "outputs": [
        {
          "output_type": "execute_result",
          "data": {
            "text/plain": [
              "(364171, 13)"
            ]
          },
          "metadata": {
            "tags": []
          },
          "execution_count": 8
        }
      ]
    },
    {
      "metadata": {
        "id": "2fr1nADq5nuL",
        "colab_type": "code",
        "colab": {
          "autoexec": {
            "startup": false,
            "wait_interval": 0
          },
          "base_uri": "https://localhost:8080/",
          "height": 34
        },
        "outputId": "05986950-5ad2-40a0-e598-3b1155999389",
        "executionInfo": {
          "status": "ok",
          "timestamp": 1532388796520,
          "user_tz": -330,
          "elapsed": 1276,
          "user": {
            "displayName": "Vijay Bhati",
            "photoUrl": "https://lh3.googleusercontent.com/a/default-user=s128",
            "userId": "106065926741616959388"
          }
        }
      },
      "cell_type": "code",
      "source": [
        "df['Score'].size"
      ],
      "execution_count": 9,
      "outputs": [
        {
          "output_type": "execute_result",
          "data": {
            "text/plain": [
              "364171"
            ]
          },
          "metadata": {
            "tags": []
          },
          "execution_count": 9
        }
      ]
    },
    {
      "metadata": {
        "id": "YAAttNxM5nuP",
        "colab_type": "code",
        "colab": {
          "autoexec": {
            "startup": false,
            "wait_interval": 0
          },
          "base_uri": "https://localhost:8080/",
          "height": 484
        },
        "outputId": "bda0fc6d-22e4-4e7f-dfdb-8f7a5378a066",
        "executionInfo": {
          "status": "ok",
          "timestamp": 1532388798231,
          "user_tz": -330,
          "elapsed": 945,
          "user": {
            "displayName": "Vijay Bhati",
            "photoUrl": "https://lh3.googleusercontent.com/a/default-user=s128",
            "userId": "106065926741616959388"
          }
        }
      },
      "cell_type": "code",
      "source": [
        "# Taking Sample Datapoints\n",
        "n_samples = 15000\n",
        "df_sample = df.sample(n_samples)\n",
        "df_sample.sort_values('Time', inplace=True) #Sorting with respect to time\n",
        "df_sample.head()"
      ],
      "execution_count": 10,
      "outputs": [
        {
          "output_type": "execute_result",
          "data": {
            "text/html": [
              "<div>\n",
              "<style scoped>\n",
              "    .dataframe tbody tr th:only-of-type {\n",
              "        vertical-align: middle;\n",
              "    }\n",
              "\n",
              "    .dataframe tbody tr th {\n",
              "        vertical-align: top;\n",
              "    }\n",
              "\n",
              "    .dataframe thead th {\n",
              "        text-align: right;\n",
              "    }\n",
              "</style>\n",
              "<table border=\"1\" class=\"dataframe\">\n",
              "  <thead>\n",
              "    <tr style=\"text-align: right;\">\n",
              "      <th></th>\n",
              "      <th>index</th>\n",
              "      <th>Id</th>\n",
              "      <th>ProductId</th>\n",
              "      <th>UserId</th>\n",
              "      <th>ProfileName</th>\n",
              "      <th>HelpfulnessNumerator</th>\n",
              "      <th>HelpfulnessDenominator</th>\n",
              "      <th>Score</th>\n",
              "      <th>Time</th>\n",
              "      <th>Summary</th>\n",
              "      <th>Text</th>\n",
              "      <th>CleanedText</th>\n",
              "      <th>CleanedText_NoStem</th>\n",
              "    </tr>\n",
              "  </thead>\n",
              "  <tbody>\n",
              "    <tr>\n",
              "      <th>169279</th>\n",
              "      <td>212470</td>\n",
              "      <td>230283</td>\n",
              "      <td>B00004RYGX</td>\n",
              "      <td>A31RM5QU797HPJ</td>\n",
              "      <td>Drez</td>\n",
              "      <td>1</td>\n",
              "      <td>2</td>\n",
              "      <td>Positive</td>\n",
              "      <td>1024531200</td>\n",
              "      <td>&amp;quot;I'm the ghost with the most, babe&amp;quot;</td>\n",
              "      <td>Simply put: Beetlejuice is the funniest comedy...</td>\n",
              "      <td>b'simpli beetlejuic funniest comedi kind sinc ...</td>\n",
              "      <td>b'simply beetlejuice funniest comedy kind sinc...</td>\n",
              "    </tr>\n",
              "    <tr>\n",
              "      <th>161893</th>\n",
              "      <td>202477</td>\n",
              "      <td>219396</td>\n",
              "      <td>B00005IX98</td>\n",
              "      <td>AGUF1WPEG4GSM</td>\n",
              "      <td>\"lchang44\"</td>\n",
              "      <td>5</td>\n",
              "      <td>8</td>\n",
              "      <td>Negative</td>\n",
              "      <td>1055376000</td>\n",
              "      <td>Almost expired, Sept '03</td>\n",
              "      <td>I returned this due to the very short/brief ex...</td>\n",
              "      <td>b'return due short brief expir date sept would...</td>\n",
              "      <td>b'returned due short brief expiration date sep...</td>\n",
              "    </tr>\n",
              "    <tr>\n",
              "      <th>36308</th>\n",
              "      <td>38889</td>\n",
              "      <td>42227</td>\n",
              "      <td>B0000A0BS8</td>\n",
              "      <td>A1IU7S4HCK1XK0</td>\n",
              "      <td>Joanna Daneman</td>\n",
              "      <td>5</td>\n",
              "      <td>5</td>\n",
              "      <td>Positive</td>\n",
              "      <td>1067644800</td>\n",
              "      <td>I gave up on other coffees</td>\n",
              "      <td>The grocery store has all kinds of &amp;quot;gourm...</td>\n",
              "      <td>b'groceri store kind coffe laid one tri tast l...</td>\n",
              "      <td>b'grocery store kinds coffees laid one tried t...</td>\n",
              "    </tr>\n",
              "    <tr>\n",
              "      <th>293548</th>\n",
              "      <td>409953</td>\n",
              "      <td>443373</td>\n",
              "      <td>B0000U1OFU</td>\n",
              "      <td>AFKKVFJ2DS4EL</td>\n",
              "      <td>Jonathan R. Pauling</td>\n",
              "      <td>0</td>\n",
              "      <td>1</td>\n",
              "      <td>Positive</td>\n",
              "      <td>1068076800</td>\n",
              "      <td>Righteous Hot Sauce</td>\n",
              "      <td>I just love this sauce. I put in on everything.</td>\n",
              "      <td>b'love sauc put everyth'</td>\n",
              "      <td>b'love sauce put everything'</td>\n",
              "    </tr>\n",
              "    <tr>\n",
              "      <th>72750</th>\n",
              "      <td>81698</td>\n",
              "      <td>88850</td>\n",
              "      <td>B00015UELO</td>\n",
              "      <td>A1ZF35RV6WGYFG</td>\n",
              "      <td>Gloriya O. Grinsteiner</td>\n",
              "      <td>4</td>\n",
              "      <td>6</td>\n",
              "      <td>Positive</td>\n",
              "      <td>1072656000</td>\n",
              "      <td>everything is excellent!</td>\n",
              "      <td>I highly recommend to have business with this ...</td>\n",
              "      <td>b'high recommend busi compani like job nice pr...</td>\n",
              "      <td>b'highly recommend business company like job n...</td>\n",
              "    </tr>\n",
              "  </tbody>\n",
              "</table>\n",
              "</div>"
            ],
            "text/plain": [
              "         index      Id   ProductId          UserId             ProfileName  \\\n",
              "169279  212470  230283  B00004RYGX  A31RM5QU797HPJ                    Drez   \n",
              "161893  202477  219396  B00005IX98   AGUF1WPEG4GSM              \"lchang44\"   \n",
              "36308    38889   42227  B0000A0BS8  A1IU7S4HCK1XK0          Joanna Daneman   \n",
              "293548  409953  443373  B0000U1OFU   AFKKVFJ2DS4EL     Jonathan R. Pauling   \n",
              "72750    81698   88850  B00015UELO  A1ZF35RV6WGYFG  Gloriya O. Grinsteiner   \n",
              "\n",
              "        HelpfulnessNumerator  HelpfulnessDenominator     Score        Time  \\\n",
              "169279                     1                       2  Positive  1024531200   \n",
              "161893                     5                       8  Negative  1055376000   \n",
              "36308                      5                       5  Positive  1067644800   \n",
              "293548                     0                       1  Positive  1068076800   \n",
              "72750                      4                       6  Positive  1072656000   \n",
              "\n",
              "                                              Summary  \\\n",
              "169279  &quot;I'm the ghost with the most, babe&quot;   \n",
              "161893                       Almost expired, Sept '03   \n",
              "36308                      I gave up on other coffees   \n",
              "293548                            Righteous Hot Sauce   \n",
              "72750                        everything is excellent!   \n",
              "\n",
              "                                                     Text  \\\n",
              "169279  Simply put: Beetlejuice is the funniest comedy...   \n",
              "161893  I returned this due to the very short/brief ex...   \n",
              "36308   The grocery store has all kinds of &quot;gourm...   \n",
              "293548    I just love this sauce. I put in on everything.   \n",
              "72750   I highly recommend to have business with this ...   \n",
              "\n",
              "                                              CleanedText  \\\n",
              "169279  b'simpli beetlejuic funniest comedi kind sinc ...   \n",
              "161893  b'return due short brief expir date sept would...   \n",
              "36308   b'groceri store kind coffe laid one tri tast l...   \n",
              "293548                           b'love sauc put everyth'   \n",
              "72750   b'high recommend busi compani like job nice pr...   \n",
              "\n",
              "                                       CleanedText_NoStem  \n",
              "169279  b'simply beetlejuice funniest comedy kind sinc...  \n",
              "161893  b'returned due short brief expiration date sep...  \n",
              "36308   b'grocery store kinds coffees laid one tried t...  \n",
              "293548                       b'love sauce put everything'  \n",
              "72750   b'highly recommend business company like job n...  "
            ]
          },
          "metadata": {
            "tags": []
          },
          "execution_count": 10
        }
      ]
    },
    {
      "metadata": {
        "id": "BcuyEz5q5nuU",
        "colab_type": "code",
        "colab": {
          "autoexec": {
            "startup": false,
            "wait_interval": 0
          }
        }
      },
      "cell_type": "code",
      "source": [
        "def polarity(x):\n",
        "    if x == \"Positive\":\n",
        "        return 0\n",
        "    else:\n",
        "        return 1\n",
        "df_sample['Score'] = df_sample['Score'].map(polarity)"
      ],
      "execution_count": 0,
      "outputs": []
    },
    {
      "metadata": {
        "id": "d9OBg7jV7toj",
        "colab_type": "code",
        "colab": {
          "autoexec": {
            "startup": false,
            "wait_interval": 0
          }
        }
      },
      "cell_type": "code",
      "source": [
        "def plot_confusion_matrix_(y_true, y_pred, labels):\n",
        "    cm = confusion_matrix(y_true, y_pred, labels=labels)\n",
        "    df_cm = pd.DataFrame(cm, index = labels,\n",
        "                  columns = labels)\n",
        "    # convert to percentage\n",
        "    df_cm = df_cm.divide(df_cm.sum(axis=1), axis='index') * 100\n",
        "    sns.heatmap(df_cm, annot=True, fmt='.1f');\n",
        "    plt.show()"
      ],
      "execution_count": 0,
      "outputs": []
    },
    {
      "metadata": {
        "id": "pHEGnJ7s5nuX",
        "colab_type": "text"
      },
      "cell_type": "markdown",
      "source": [
        "# Applying the Decision Tree on the different Vectorizing Techniques\n",
        "\n",
        "\n",
        "## Bag of Word(BOW)"
      ]
    },
    {
      "metadata": {
        "id": "jFwzDUT35nuX",
        "colab_type": "text"
      },
      "cell_type": "markdown",
      "source": [
        "<img src=\"https://cdn-images-1.medium.com/max/1600/0*Yclq0kqMAwCQcIV_.jpg\">"
      ]
    },
    {
      "metadata": {
        "id": "1sUdRiFo5nuY",
        "colab_type": "code",
        "colab": {
          "autoexec": {
            "startup": false,
            "wait_interval": 0
          }
        }
      },
      "cell_type": "code",
      "source": [
        "from sklearn.feature_extraction.text import CountVectorizer\n",
        "from sklearn.model_selection import train_test_split\n",
        "from sklearn import preprocessing\n",
        "\n",
        "#Breaking into Train and test\n",
        "X_train, X_test, y_train, y_test = train_test_split(df_sample['CleanedText'].values,df_sample['Score'].values,test_size=0.3,shuffle=False)\n",
        "\n",
        "bi_gram = CountVectorizer() \n",
        "X_train = bi_gram.fit_transform(X_train)\n",
        "X_train = preprocessing.normalize(X_train)\n",
        "\n",
        "X_test = bi_gram.transform(X_test)\n",
        "X_test = preprocessing.normalize(X_test)"
      ],
      "execution_count": 0,
      "outputs": []
    },
    {
      "metadata": {
        "id": "f6tettpep8up",
        "colab_type": "code",
        "colab": {
          "autoexec": {
            "startup": false,
            "wait_interval": 0
          },
          "base_uri": "https://localhost:8080/",
          "height": 123
        },
        "outputId": "ed32166f-1a12-4032-87c5-c528fa4d966f",
        "executionInfo": {
          "status": "ok",
          "timestamp": 1532394493420,
          "user_tz": -330,
          "elapsed": 330393,
          "user": {
            "displayName": "Vijay Bhati",
            "photoUrl": "https://lh3.googleusercontent.com/a/default-user=s128",
            "userId": "106065926741616959388"
          }
        }
      },
      "cell_type": "code",
      "source": [
        "# GridSearch\n",
        "from sklearn.model_selection import GridSearchCV\n",
        "from sklearn.model_selection import TimeSeriesSplit\n",
        "\n",
        "clf = DecisionTreeClassifier()\n",
        "param_grid = {'max_depth': np.concatenate((np.arange(1, 20), np.arange(20, 500, 20)))} # params we need to try on classifier\n",
        "tscv = TimeSeriesSplit(n_splits=10) # For time based splitting\n",
        "gsv = GridSearchCV(clf,param_grid,cv=tscv,verbose=1,n_jobs=-1)\n",
        "gsv.fit(X_train,y_train)\n",
        "print(\"Best HyperParameter: \",gsv.best_params_)\n",
        "print(\"Best Accuracy: %.2f%%\"%(gsv.best_score_*100))"
      ],
      "execution_count": 82,
      "outputs": [
        {
          "output_type": "stream",
          "text": [
            "Fitting 10 folds for each of 43 candidates, totalling 430 fits\n"
          ],
          "name": "stdout"
        },
        {
          "output_type": "stream",
          "text": [
            "[Parallel(n_jobs=-1)]: Done 124 tasks      | elapsed:   15.7s\n",
            "[Parallel(n_jobs=-1)]: Done 274 tasks      | elapsed:  1.9min\n",
            "[Parallel(n_jobs=-1)]: Done 430 out of 430 | elapsed:  5.5min finished\n"
          ],
          "name": "stderr"
        },
        {
          "output_type": "stream",
          "text": [
            "Best HyperParameter:  {'max_depth': 8}\n",
            "Best Accuracy: 86.08%\n"
          ],
          "name": "stdout"
        }
      ]
    },
    {
      "metadata": {
        "id": "UWov8dGA5nud",
        "colab_type": "code",
        "colab": {
          "autoexec": {
            "startup": false,
            "wait_interval": 0
          },
          "base_uri": "https://localhost:8080/",
          "height": 158
        },
        "outputId": "3fe232ee-7399-40f3-a980-b374783ecc61",
        "executionInfo": {
          "status": "ok",
          "timestamp": 1532394496145,
          "user_tz": -330,
          "elapsed": 2599,
          "user": {
            "displayName": "Vijay Bhati",
            "photoUrl": "https://lh3.googleusercontent.com/a/default-user=s128",
            "userId": "106065926741616959388"
          }
        }
      },
      "cell_type": "code",
      "source": [
        "from sklearn.metrics import classification_report\n",
        "from sklearn.metrics import accuracy_score\n",
        "from sklearn.metrics import confusion_matrix\n",
        "\n",
        "print(\"                 Classification Report Test Data\")\n",
        "print(classification_report(y_test, gsv.predict(X_test)))"
      ],
      "execution_count": 83,
      "outputs": [
        {
          "output_type": "stream",
          "text": [
            "                 Classification Report Test Data\n",
            "             precision    recall  f1-score   support\n",
            "\n",
            "          0       0.85      0.98      0.91      3695\n",
            "          1       0.65      0.21      0.32       805\n",
            "\n",
            "avg / total       0.81      0.84      0.80      4500\n",
            "\n"
          ],
          "name": "stdout"
        }
      ]
    },
    {
      "metadata": {
        "id": "Yt7-vqD35nuj",
        "colab_type": "code",
        "colab": {
          "autoexec": {
            "startup": false,
            "wait_interval": 0
          },
          "base_uri": "https://localhost:8080/",
          "height": 392
        },
        "outputId": "b72636a5-2d31-450b-9f14-c55509a0b1f0",
        "executionInfo": {
          "status": "ok",
          "timestamp": 1532388851846,
          "user_tz": -330,
          "elapsed": 1530,
          "user": {
            "displayName": "Vijay Bhati",
            "photoUrl": "https://lh3.googleusercontent.com/a/default-user=s128",
            "userId": "106065926741616959388"
          }
        }
      },
      "cell_type": "code",
      "source": [
        "# Plot Accuracy - Depth \n",
        "mean_score = gsv.cv_results_['mean_test_score']\n",
        "std_score = gsv.cv_results_['std_test_score']\n",
        "plt.figure(figsize=(10, 6))\n",
        "plt.plot(param_grid['max_depth'], mean_score, label='Accuracy')\n",
        "plt.fill_between(param_grid['max_depth'], mean_score + std_score, mean_score - std_score, alpha=0.1, label='± 1 std. dev')\n",
        "plt.ylabel('Accuracy')\n",
        "plt.xlabel('Depth')\n",
        "plt.legend()\n",
        "plt.xscale('log')"
      ],
      "execution_count": 16,
      "outputs": [
        {
          "output_type": "display_data",
          "data": {
            "image/png": "[encoded data removed]",
            "text/plain": [
              "<matplotlib.figure.Figure at 0x7f3e3779ec18>"
            ]
          },
          "metadata": {
            "tags": []
          }
        }
      ]
    },
    {
      "metadata": {
        "id": "vwBabSbE8FrL",
        "colab_type": "code",
        "colab": {
          "autoexec": {
            "startup": false,
            "wait_interval": 0
          },
          "base_uri": "https://localhost:8080/",
          "height": 373
        },
        "outputId": "b4fca278-a714-4827-ec3c-e5925041e042",
        "executionInfo": {
          "status": "ok",
          "timestamp": 1532388855373,
          "user_tz": -330,
          "elapsed": 1890,
          "user": {
            "displayName": "Vijay Bhati",
            "photoUrl": "https://lh3.googleusercontent.com/a/default-user=s128",
            "userId": "106065926741616959388"
          }
        }
      },
      "cell_type": "code",
      "source": [
        "pred = gsv.predict(X_test)\n",
        "df_cm = pd.DataFrame(confusion_matrix(y_test, pred), range(2),range(2))\n",
        "sns.set(font_scale=1.4)\n",
        "sns.heatmap(df_cm, annot=True,annot_kws={\"size\": 16}, fmt='g')"
      ],
      "execution_count": 17,
      "outputs": [
        {
          "output_type": "execute_result",
          "data": {
            "text/plain": [
              "<matplotlib.axes._subplots.AxesSubplot at 0x7f3e461bc400>"
            ]
          },
          "metadata": {
            "tags": []
          },
          "execution_count": 17
        },
        {
          "output_type": "display_data",
          "data": {
            "image/png": "[encoded data removed]",
            "text/plain": [
              "<matplotlib.figure.Figure at 0x7f3e4811e630>"
            ]
          },
          "metadata": {
            "tags": []
          }
        }
      ]
    },
    {
      "metadata": {
        "id": "lseom1K7-CCH",
        "colab_type": "code",
        "colab": {
          "autoexec": {
            "startup": false,
            "wait_interval": 0
          },
          "base_uri": "https://localhost:8080/",
          "height": 751
        },
        "outputId": "53fb86ed-8269-4c42-fce2-9421557ac4eb",
        "executionInfo": {
          "status": "ok",
          "timestamp": 1532388859091,
          "user_tz": -330,
          "elapsed": 2557,
          "user": {
            "displayName": "Vijay Bhati",
            "photoUrl": "https://lh3.googleusercontent.com/a/default-user=s128",
            "userId": "106065926741616959388"
          }
        }
      },
      "cell_type": "code",
      "source": [
        "from matplotlib import pyplot\n",
        "importances = gsv.best_estimator_.feature_importances_\n",
        "indices = np.argsort(importances)[::-1][:30]\n",
        "names = bi_gram.get_feature_names()\n",
        "sns.set(rc={'figure.figsize':(15,12)})\n",
        "plt.figure()\n",
        "plt.title(\"Feature Importance\")\n",
        "plt.bar(range(30), importances[indices], color='g')\n",
        "names = np.array(names)\n",
        "plt.xticks(range(30), names[indices], rotation=90)\n",
        "plt.show()"
      ],
      "execution_count": 18,
      "outputs": [
        {
          "output_type": "display_data",
          "data": {
            "image/png": "[encoded data removed]",
            "text/plain": [
              "<matplotlib.figure.Figure at 0x7f3e49621c50>"
            ]
          },
          "metadata": {
            "tags": []
          }
        }
      ]
    },
    {
      "metadata": {
        "id": "ESF55Tz65nun",
        "colab_type": "text"
      },
      "cell_type": "markdown",
      "source": [
        "# Tf-Idf Features"
      ]
    },
    {
      "metadata": {
        "id": "-zdrGLf_5nun",
        "colab_type": "text"
      },
      "cell_type": "markdown",
      "source": [
        "### Random Forest"
      ]
    },
    {
      "metadata": {
        "id": "ELXO6DAW5nuo",
        "colab_type": "code",
        "colab": {
          "autoexec": {
            "startup": false,
            "wait_interval": 0
          }
        }
      },
      "cell_type": "code",
      "source": [
        "X_train, X_test, y_train, y_test = train_test_split(df_sample['CleanedText'].values,df_sample['Score'].values,test_size=0.3,shuffle=False)"
      ],
      "execution_count": 0,
      "outputs": []
    },
    {
      "metadata": {
        "id": "mnRmq4q75nur",
        "colab_type": "code",
        "colab": {
          "autoexec": {
            "startup": false,
            "wait_interval": 0
          },
          "base_uri": "https://localhost:8080/",
          "height": 52
        },
        "outputId": "4b02a0ca-0760-49b5-ed83-9e3d983bd583",
        "executionInfo": {
          "status": "ok",
          "timestamp": 1532388867924,
          "user_tz": -330,
          "elapsed": 3544,
          "user": {
            "displayName": "Vijay Bhati",
            "photoUrl": "https://lh3.googleusercontent.com/a/default-user=s128",
            "userId": "106065926741616959388"
          }
        }
      },
      "cell_type": "code",
      "source": [
        "tfidf = TfidfVectorizer(ngram_range=(1,2))\n",
        "X_train = tfidf.fit_transform(X_train)\n",
        "\n",
        "X_train = preprocessing.normalize(X_train)\n",
        "print(\"Train Data Size: \",X_train.shape)\n",
        "X_test = tfidf.transform(X_test)\n",
        "\n",
        "X_test = preprocessing.normalize(X_test)\n",
        "print(\"Test Data Size: \",X_test.shape)"
      ],
      "execution_count": 20,
      "outputs": [
        {
          "output_type": "stream",
          "text": [
            "Train Data Size:  (10500, 239924)\n",
            "Test Data Size:  (4500, 239924)\n"
          ],
          "name": "stdout"
        }
      ]
    },
    {
      "metadata": {
        "id": "_gM5jXl_5nuv",
        "colab_type": "code",
        "colab": {
          "autoexec": {
            "startup": false,
            "wait_interval": 0
          },
          "base_uri": "https://localhost:8080/",
          "height": 34
        },
        "outputId": "575bf461-86ef-4f0e-c860-43c05295fff3",
        "executionInfo": {
          "status": "ok",
          "timestamp": 1532388892849,
          "user_tz": -330,
          "elapsed": 24544,
          "user": {
            "displayName": "Vijay Bhati",
            "photoUrl": "https://lh3.googleusercontent.com/a/default-user=s128",
            "userId": "106065926741616959388"
          }
        }
      },
      "cell_type": "code",
      "source": [
        "clf = DecisionTreeClassifier()\n",
        "clf.fit(X_train, y_train)\n",
        "\n",
        "print('Accuracy:', clf.score(X_test, y_test))"
      ],
      "execution_count": 21,
      "outputs": [
        {
          "output_type": "stream",
          "text": [
            "Accuracy: 0.8293333333333334\n"
          ],
          "name": "stdout"
        }
      ]
    },
    {
      "metadata": {
        "id": "vJ91PESG5nu1",
        "colab_type": "code",
        "colab": {
          "autoexec": {
            "startup": false,
            "wait_interval": 0
          },
          "base_uri": "https://localhost:8080/",
          "height": 123
        },
        "outputId": "d716fc73-a5b7-43bf-d497-e0e2d476ef07",
        "executionInfo": {
          "status": "ok",
          "timestamp": 1532392637636,
          "user_tz": -330,
          "elapsed": 1023990,
          "user": {
            "displayName": "Vijay Bhati",
            "photoUrl": "https://lh3.googleusercontent.com/a/default-user=s128",
            "userId": "106065926741616959388"
          }
        }
      },
      "cell_type": "code",
      "source": [
        "# GridSearch\n",
        "from sklearn.model_selection import GridSearchCV\n",
        "from sklearn.model_selection import TimeSeriesSplit\n",
        "\n",
        "clf = DecisionTreeClassifier()\n",
        "param_grid = {'max_depth': np.concatenate((np.arange(1, 20), np.arange(20, 500, 50)))} # params we need to try on classifier\n",
        "tscv = TimeSeriesSplit(n_splits=10) # For time based splitting\n",
        "gsv = GridSearchCV(clf,param_grid,cv=tscv,verbose=1,n_jobs=-1)\n",
        "gsv.fit(X_train,y_train)\n",
        "print(\"Best HyperParameter: \",gsv.best_params_)\n",
        "print(\"Best Accuracy: %.2f%%\"%(gsv.best_score_*100))"
      ],
      "execution_count": 52,
      "outputs": [
        {
          "output_type": "stream",
          "text": [
            "Fitting 10 folds for each of 29 candidates, totalling 290 fits\n"
          ],
          "name": "stdout"
        },
        {
          "output_type": "stream",
          "text": [
            "[Parallel(n_jobs=-1)]: Done  50 tasks      | elapsed:   50.3s\n",
            "[Parallel(n_jobs=-1)]: Done 200 tasks      | elapsed:  5.6min\n",
            "[Parallel(n_jobs=-1)]: Done 290 out of 290 | elapsed: 17.0min finished\n"
          ],
          "name": "stderr"
        },
        {
          "output_type": "stream",
          "text": [
            "Best HyperParameter:  {'max_depth': 15}\n",
            "Best Accuracy: 86.38%\n"
          ],
          "name": "stdout"
        }
      ]
    },
    {
      "metadata": {
        "id": "wUIrDdI05nu7",
        "colab_type": "code",
        "colab": {
          "autoexec": {
            "startup": false,
            "wait_interval": 0
          },
          "base_uri": "https://localhost:8080/",
          "height": 158
        },
        "outputId": "d41ee8c0-c0a7-4e11-fa3d-01e4d3c13710",
        "executionInfo": {
          "status": "ok",
          "timestamp": 1532392638876,
          "user_tz": -330,
          "elapsed": 1137,
          "user": {
            "displayName": "Vijay Bhati",
            "photoUrl": "https://lh3.googleusercontent.com/a/default-user=s128",
            "userId": "106065926741616959388"
          }
        }
      },
      "cell_type": "code",
      "source": [
        "from sklearn.metrics import classification_report\n",
        "from sklearn.metrics import accuracy_score\n",
        "from sklearn.metrics import confusion_matrix\n",
        "\n",
        "print(\"                 Classification Report Test Data\")\n",
        "print(classification_report(y_test, gsv.predict(X_test)))"
      ],
      "execution_count": 53,
      "outputs": [
        {
          "output_type": "stream",
          "text": [
            "                 Classification Report Test Data\n",
            "             precision    recall  f1-score   support\n",
            "\n",
            "          0       0.85      0.97      0.91      3695\n",
            "          1       0.64      0.24      0.35       805\n",
            "\n",
            "avg / total       0.82      0.84      0.81      4500\n",
            "\n"
          ],
          "name": "stdout"
        }
      ]
    },
    {
      "metadata": {
        "id": "_MRP2Avz5nu_",
        "colab_type": "code",
        "colab": {
          "autoexec": {
            "startup": false,
            "wait_interval": 0
          },
          "base_uri": "https://localhost:8080/",
          "height": 392
        },
        "outputId": "52628bf4-4de1-4925-a014-df16d3f9267c",
        "executionInfo": {
          "status": "ok",
          "timestamp": 1532392642269,
          "user_tz": -330,
          "elapsed": 1706,
          "user": {
            "displayName": "Vijay Bhati",
            "photoUrl": "https://lh3.googleusercontent.com/a/default-user=s128",
            "userId": "106065926741616959388"
          }
        }
      },
      "cell_type": "code",
      "source": [
        "# Plot Accuracy - Depth \n",
        "mean_score = gsv.cv_results_['mean_test_score']\n",
        "std_score = gsv.cv_results_['std_test_score']\n",
        "plt.figure(figsize=(10, 6))\n",
        "plt.plot(param_grid['max_depth'], mean_score, label='Accuracy')\n",
        "plt.fill_between(param_grid['max_depth'], mean_score + std_score, mean_score - std_score, alpha=0.1, label='± 1 std. dev')\n",
        "plt.ylabel('Accuracy')\n",
        "plt.xlabel('Depth')\n",
        "plt.legend()\n",
        "plt.xscale('log')"
      ],
      "execution_count": 54,
      "outputs": [
        {
          "output_type": "display_data",
          "data": {
            "image/png": "[encoded data removed]",
            "text/plain": [
              "<matplotlib.figure.Figure at 0x7f3e42766f98>"
            ]
          },
          "metadata": {
            "tags": []
          }
        }
      ]
    },
    {
      "metadata": {
        "id": "nmQanWFD8Izz",
        "colab_type": "code",
        "colab": {
          "autoexec": {
            "startup": false,
            "wait_interval": 0
          },
          "base_uri": "https://localhost:8080/",
          "height": 368
        },
        "outputId": "b6900eb4-510d-4174-e9e8-91ce1a5d44cb",
        "executionInfo": {
          "status": "ok",
          "timestamp": 1532392644684,
          "user_tz": -330,
          "elapsed": 1238,
          "user": {
            "displayName": "Vijay Bhati",
            "photoUrl": "https://lh3.googleusercontent.com/a/default-user=s128",
            "userId": "106065926741616959388"
          }
        }
      },
      "cell_type": "code",
      "source": [
        "pred = gsv.predict(X_test)\n",
        "df_cm = pd.DataFrame(confusion_matrix(y_test, pred), range(2),range(2))\n",
        "sns.set(font_scale=1.4)\n",
        "sns.heatmap(df_cm, annot=True,annot_kws={\"size\": 16}, fmt='g')"
      ],
      "execution_count": 55,
      "outputs": [
        {
          "output_type": "execute_result",
          "data": {
            "text/plain": [
              "<matplotlib.axes._subplots.AxesSubplot at 0x7f3e48b290b8>"
            ]
          },
          "metadata": {
            "tags": []
          },
          "execution_count": 55
        },
        {
          "output_type": "display_data",
          "data": {
            "image/png": "[encoded data removed]",
            "text/plain": [
              "<matplotlib.figure.Figure at 0x7f3e367fca20>"
            ]
          },
          "metadata": {
            "tags": []
          }
        }
      ]
    },
    {
      "metadata": {
        "id": "da2TkBsk5nvG",
        "colab_type": "text"
      },
      "cell_type": "markdown",
      "source": [
        "# Avg Word2Vec"
      ]
    },
    {
      "metadata": {
        "id": "5IsaHwy95nvG",
        "colab_type": "code",
        "colab": {
          "autoexec": {
            "startup": false,
            "wait_interval": 0
          }
        }
      },
      "cell_type": "code",
      "source": [
        "list_corpus = df_sample[\"Text\"].tolist()\n",
        "list_labels = df_sample[\"Score\"].tolist()"
      ],
      "execution_count": 0,
      "outputs": []
    },
    {
      "metadata": {
        "id": "mHo_MSSJ5nvI",
        "colab_type": "code",
        "colab": {
          "autoexec": {
            "startup": false,
            "wait_interval": 0
          },
          "base_uri": "https://localhost:8080/",
          "height": 212
        },
        "outputId": "e3678b09-7487-44cd-bad9-553b35088281",
        "executionInfo": {
          "status": "ok",
          "timestamp": 1532393133971,
          "user_tz": -330,
          "elapsed": 177373,
          "user": {
            "displayName": "Vijay Bhati",
            "photoUrl": "https://lh3.googleusercontent.com/a/default-user=s128",
            "userId": "106065926741616959388"
          }
        }
      },
      "cell_type": "code",
      "source": [
        "from gensim.models import KeyedVectors\n",
        "!wget -c \"https://s3.amazonaws.com/dl4j-distribution/GoogleNews-vectors-negative300.bin.gz\"\n",
        "w2v_model_google = KeyedVectors.load_word2vec_format('GoogleNews-vectors-negative300.bin.gz', binary=True)"
      ],
      "execution_count": 58,
      "outputs": [
        {
          "output_type": "stream",
          "text": [
            "--2018-07-24 00:42:38--  https://s3.amazonaws.com/dl4j-distribution/GoogleNews-vectors-negative300.bin.gz\r\n",
            "Resolving s3.amazonaws.com (s3.amazonaws.com)... 52.216.104.229\r\n",
            "Connecting to s3.amazonaws.com (s3.amazonaws.com)|52.216.104.229|:443... connected.\n",
            "HTTP request sent, awaiting response... 200 OK\n",
            "Length: 1647046227 (1.5G) [application/x-gzip]\n",
            "Saving to: ‘GoogleNews-vectors-negative300.bin.gz’\n",
            "\n",
            "GoogleNews-vectors- 100%[===================>]   1.53G  76.3MB/s    in 40s     \n",
            "\n",
            "2018-07-24 00:43:18 (39.1 MB/s) - ‘GoogleNews-vectors-negative300.bin.gz’ saved [1647046227/1647046227]\n",
            "\n"
          ],
          "name": "stdout"
        }
      ]
    },
    {
      "metadata": {
        "id": "m8A69qAa5nvL",
        "colab_type": "code",
        "colab": {
          "autoexec": {
            "startup": false,
            "wait_interval": 0
          }
        }
      },
      "cell_type": "code",
      "source": [
        "def get_average_word2vec(tokens_list, vector, generate_missing=False, k=300):\n",
        "    if len(tokens_list)<1:\n",
        "        return np.zeros(k)\n",
        "    if generate_missing:\n",
        "        vectorized = [vector[word] if word in vector else np.random.rand(k) for word in tokens_list]\n",
        "    else:\n",
        "        vectorized = [vector[word] if word in vector else np.zeros(k) for word in tokens_list]\n",
        "    length = len(vectorized)\n",
        "    summed = np.sum(vectorized, axis=0)\n",
        "    averaged = np.divide(summed, length)\n",
        "    return averaged\n",
        "\n",
        "def get_word2vec_embeddings(vectors, clean_questions, generate_missing=False):\n",
        "    embeddings = clean_questions['CleanedText'].apply(lambda x: get_average_word2vec(x, vectors, \n",
        "                                                                                generate_missing=generate_missing))\n",
        "    return list(embeddings)"
      ],
      "execution_count": 0,
      "outputs": []
    },
    {
      "metadata": {
        "id": "OcgCpzlj5nvM",
        "colab_type": "code",
        "colab": {
          "autoexec": {
            "startup": false,
            "wait_interval": 0
          }
        }
      },
      "cell_type": "code",
      "source": [
        "embeddings = get_word2vec_embeddings(w2v_model_google, df_sample)\n",
        "X_sample, _, y_sample, _ = train_test_split(embeddings, list_labels, test_size=0.15)\n",
        "X_train, X_test, y_train, y_test = train_test_split(X_sample, y_sample)"
      ],
      "execution_count": 0,
      "outputs": []
    },
    {
      "metadata": {
        "id": "liwDMnMl5nvP",
        "colab_type": "code",
        "colab": {
          "autoexec": {
            "startup": false,
            "wait_interval": 0
          },
          "base_uri": "https://localhost:8080/",
          "height": 34
        },
        "outputId": "c05a5fea-ec5d-4a34-8229-5bfd3301919c",
        "executionInfo": {
          "status": "ok",
          "timestamp": 1532393150331,
          "user_tz": -330,
          "elapsed": 1101,
          "user": {
            "displayName": "Vijay Bhati",
            "photoUrl": "https://lh3.googleusercontent.com/a/default-user=s128",
            "userId": "106065926741616959388"
          }
        }
      },
      "cell_type": "code",
      "source": [
        "clf = DecisionTreeClassifier()\n",
        "clf.fit(X_train, y_train)\n",
        "\n",
        "print('Accuracy:', clf.score(X_test, y_test))"
      ],
      "execution_count": 61,
      "outputs": [
        {
          "output_type": "stream",
          "text": [
            "Accuracy: 0.8359473023839398\n"
          ],
          "name": "stdout"
        }
      ]
    },
    {
      "metadata": {
        "id": "OPtOThVB5nvR",
        "colab_type": "code",
        "colab": {
          "autoexec": {
            "startup": false,
            "wait_interval": 0
          },
          "base_uri": "https://localhost:8080/",
          "height": 123
        },
        "outputId": "563c6773-5aed-41d2-b1ad-558f8bd03e40",
        "executionInfo": {
          "status": "ok",
          "timestamp": 1532393208734,
          "user_tz": -330,
          "elapsed": 57079,
          "user": {
            "displayName": "Vijay Bhati",
            "photoUrl": "https://lh3.googleusercontent.com/a/default-user=s128",
            "userId": "106065926741616959388"
          }
        }
      },
      "cell_type": "code",
      "source": [
        "# GridSearch\n",
        "from sklearn.model_selection import GridSearchCV\n",
        "from sklearn.model_selection import TimeSeriesSplit\n",
        "\n",
        "clf = DecisionTreeClassifier()\n",
        "param_grid = {'max_depth': np.concatenate((np.arange(1, 20), np.arange(20, 50, 50)))} # params we need to try on classifier\n",
        "tscv = TimeSeriesSplit(n_splits=10) # For time based splitting\n",
        "gsv = GridSearchCV(clf,param_grid,cv=tscv,verbose=1,n_jobs=-1)\n",
        "gsv.fit(X_train,y_train)\n",
        "print(\"Best HyperParameter: \",gsv.best_params_)\n",
        "print(\"Best Accuracy: %.2f%%\"%(gsv.best_score_*100))"
      ],
      "execution_count": 62,
      "outputs": [
        {
          "output_type": "stream",
          "text": [
            "Fitting 10 folds for each of 20 candidates, totalling 200 fits\n"
          ],
          "name": "stdout"
        },
        {
          "output_type": "stream",
          "text": [
            "[Parallel(n_jobs=-1)]: Done  46 tasks      | elapsed:   13.0s\n",
            "[Parallel(n_jobs=-1)]: Done 196 tasks      | elapsed:   53.6s\n",
            "[Parallel(n_jobs=-1)]: Done 200 out of 200 | elapsed:   54.6s finished\n"
          ],
          "name": "stderr"
        },
        {
          "output_type": "stream",
          "text": [
            "Best HyperParameter:  {'max_depth': 1}\n",
            "Best Accuracy: 84.67%\n"
          ],
          "name": "stdout"
        }
      ]
    },
    {
      "metadata": {
        "id": "mNuMaLb_5nvT",
        "colab_type": "code",
        "colab": {
          "autoexec": {
            "startup": false,
            "wait_interval": 0
          },
          "base_uri": "https://localhost:8080/",
          "height": 214
        },
        "outputId": "f8bba526-0208-4917-9d0a-a4a489c46446",
        "executionInfo": {
          "status": "ok",
          "timestamp": 1532393209972,
          "user_tz": -330,
          "elapsed": 1130,
          "user": {
            "displayName": "Vijay Bhati",
            "photoUrl": "https://lh3.googleusercontent.com/a/default-user=s128",
            "userId": "106065926741616959388"
          }
        }
      },
      "cell_type": "code",
      "source": [
        "print(\"                 Classification Report Test Data\")\n",
        "print(classification_report(y_test, gsv.predict(X_test)))"
      ],
      "execution_count": 63,
      "outputs": [
        {
          "output_type": "stream",
          "text": [
            "                 Classification Report Test Data\n",
            "             precision    recall  f1-score   support\n",
            "\n",
            "          0       0.84      1.00      0.91      2665\n",
            "          1       0.00      0.00      0.00       523\n",
            "\n",
            "avg / total       0.70      0.84      0.76      3188\n",
            "\n"
          ],
          "name": "stdout"
        },
        {
          "output_type": "stream",
          "text": [
            "/usr/local/lib/python3.6/dist-packages/sklearn/metrics/classification.py:1135: UndefinedMetricWarning: Precision and F-score are ill-defined and being set to 0.0 in labels with no predicted samples.\n",
            "  'precision', 'predicted', average, warn_for)\n"
          ],
          "name": "stderr"
        }
      ]
    },
    {
      "metadata": {
        "id": "5quWxRL-5nvX",
        "colab_type": "code",
        "colab": {
          "autoexec": {
            "startup": false,
            "wait_interval": 0
          },
          "base_uri": "https://localhost:8080/",
          "height": 392
        },
        "outputId": "fb3f1e55-8061-4081-cc9b-3fb87f473082",
        "executionInfo": {
          "status": "ok",
          "timestamp": 1532393212743,
          "user_tz": -330,
          "elapsed": 2385,
          "user": {
            "displayName": "Vijay Bhati",
            "photoUrl": "https://lh3.googleusercontent.com/a/default-user=s128",
            "userId": "106065926741616959388"
          }
        }
      },
      "cell_type": "code",
      "source": [
        "# Plot Accuracy - Depth \n",
        "mean_score = gsv.cv_results_['mean_test_score']\n",
        "std_score = gsv.cv_results_['std_test_score']\n",
        "plt.figure(figsize=(10, 6))\n",
        "plt.plot(param_grid['max_depth'], mean_score, label='Accuracy')\n",
        "plt.fill_between(param_grid['max_depth'], mean_score + std_score, mean_score - std_score, alpha=0.1, label='± 1 std. dev')\n",
        "plt.ylabel('Accuracy')\n",
        "plt.xlabel('Depth')\n",
        "plt.legend()\n",
        "plt.xscale('log')"
      ],
      "execution_count": 64,
      "outputs": [
        {
          "output_type": "display_data",
          "data": {
            "image/png": "[encoded data removed]",
            "text/plain": [
              "<matplotlib.figure.Figure at 0x7f3dfc31f240>"
            ]
          },
          "metadata": {
            "tags": []
          }
        }
      ]
    },
    {
      "metadata": {
        "id": "Iepi68cK8MVR",
        "colab_type": "code",
        "colab": {
          "autoexec": {
            "startup": false,
            "wait_interval": 0
          },
          "base_uri": "https://localhost:8080/",
          "height": 368
        },
        "outputId": "5925f404-dd83-4447-cd5b-cc76f95bdf64",
        "executionInfo": {
          "status": "ok",
          "timestamp": 1532393214803,
          "user_tz": -330,
          "elapsed": 1706,
          "user": {
            "displayName": "Vijay Bhati",
            "photoUrl": "https://lh3.googleusercontent.com/a/default-user=s128",
            "userId": "106065926741616959388"
          }
        }
      },
      "cell_type": "code",
      "source": [
        "pred = gsv.predict(X_test)\n",
        "df_cm = pd.DataFrame(confusion_matrix(y_test, pred), range(2),range(2))\n",
        "sns.set(font_scale=1.4)\n",
        "sns.heatmap(df_cm, annot=True,annot_kws={\"size\": 16}, fmt='g')"
      ],
      "execution_count": 65,
      "outputs": [
        {
          "output_type": "execute_result",
          "data": {
            "text/plain": [
              "<matplotlib.axes._subplots.AxesSubplot at 0x7f3dfc33a7b8>"
            ]
          },
          "metadata": {
            "tags": []
          },
          "execution_count": 65
        },
        {
          "output_type": "display_data",
          "data": {
            "image/png": "[encoded data removed]",
            "text/plain": [
              "<matplotlib.figure.Figure at 0x7f3dfc355d68>"
            ]
          },
          "metadata": {
            "tags": []
          }
        }
      ]
    },
    {
      "metadata": {
        "id": "R5mnJvvp5nvc",
        "colab_type": "text"
      },
      "cell_type": "markdown",
      "source": [
        "# Tf-IDF Word2vec"
      ]
    },
    {
      "metadata": {
        "id": "sq5GFusn5nvc",
        "colab_type": "code",
        "colab": {
          "autoexec": {
            "startup": false,
            "wait_interval": 0
          },
          "base_uri": "https://localhost:8080/",
          "height": 34
        },
        "outputId": "8ebe0980-d418-424e-b2bb-fafb2d37c624",
        "executionInfo": {
          "status": "ok",
          "timestamp": 1532393255698,
          "user_tz": -330,
          "elapsed": 2254,
          "user": {
            "displayName": "Vijay Bhati",
            "photoUrl": "https://lh3.googleusercontent.com/a/default-user=s128",
            "userId": "106065926741616959388"
          }
        }
      },
      "cell_type": "code",
      "source": [
        "n_samples = 5000\n",
        "df_sample_new = df_sample.sample(n_samples)\n",
        "df_sample_new.sort_values('Time',inplace=True) \n",
        "\n",
        "from sklearn.feature_extraction.text import TfidfVectorizer\n",
        "tfidf = TfidfVectorizer(ngram_range=(1,2)) # Using bi-grams\n",
        "tfidf_vec_new = tfidf.fit_transform(df_sample_new['CleanedText_NoStem'].values)\n",
        "print(tfidf_vec_new.shape)\n",
        "features = tfidf.get_feature_names()"
      ],
      "execution_count": 68,
      "outputs": [
        {
          "output_type": "stream",
          "text": [
            "(5000, 148372)\n"
          ],
          "name": "stdout"
        }
      ]
    },
    {
      "metadata": {
        "id": "grD-3G225nvg",
        "colab_type": "code",
        "colab": {
          "autoexec": {
            "startup": false,
            "wait_interval": 0
          },
          "base_uri": "https://localhost:8080/",
          "height": 52
        },
        "outputId": "c0818b85-d096-4b71-c3f1-cb77d8a8a5a7",
        "executionInfo": {
          "status": "ok",
          "timestamp": 1532393895769,
          "user_tz": -330,
          "elapsed": 639961,
          "user": {
            "displayName": "Vijay Bhati",
            "photoUrl": "https://lh3.googleusercontent.com/a/default-user=s128",
            "userId": "106065926741616959388"
          }
        }
      },
      "cell_type": "code",
      "source": [
        "tfidf_w2v_vec_google = []\n",
        "review = 0\n",
        "\n",
        "for sent in df_sample_new['CleanedText_NoStem'].values:\n",
        "    cnt = 0 \n",
        "    weighted_sum  = 0\n",
        "    sent_vec = np.zeros(300)\n",
        "    sent = sent.decode(\"utf-8\") \n",
        "    for word in sent.split():\n",
        "        try:\n",
        "            wvec = w2v_model_google.wv[word] \n",
        "            tfidf_vec = tfidf_vec_new[review,features.index(word)]\n",
        "            sent_vec += (wvec * tfidf_vec)\n",
        "            weighted_sum += tfidf_vec\n",
        "        except:\n",
        "            pass\n",
        "    sent_vec /= weighted_sum\n",
        "    tfidf_w2v_vec_google.append(sent_vec)\n",
        "    review += 1\n",
        "tfidf_w2v_vec_google = np.array(tfidf_w2v_vec_google)"
      ],
      "execution_count": 69,
      "outputs": [
        {
          "output_type": "stream",
          "text": [
            "/usr/local/lib/python3.6/dist-packages/ipykernel_launcher.py:11: DeprecationWarning: Call to deprecated `wv` (Attribute will be removed in 4.0.0, use self instead).\n",
            "  # This is added back by InteractiveShellApp.init_path()\n"
          ],
          "name": "stderr"
        }
      ]
    },
    {
      "metadata": {
        "id": "tjJTdqUK5nvj",
        "colab_type": "code",
        "colab": {
          "autoexec": {
            "startup": false,
            "wait_interval": 0
          }
        }
      },
      "cell_type": "code",
      "source": [
        "tfidfw2v_vecs_norm = preprocessing.normalize(tfidf_w2v_vec_google)"
      ],
      "execution_count": 0,
      "outputs": []
    },
    {
      "metadata": {
        "id": "fq69Aslq5nvm",
        "colab_type": "code",
        "colab": {
          "autoexec": {
            "startup": false,
            "wait_interval": 0
          }
        }
      },
      "cell_type": "code",
      "source": [
        "X_sample, _, y_sample, _  = train_test_split(tfidfw2v_vecs_norm, df_sample_new['Score'], test_size=0.15)\n",
        "X_train, X_test, y_train, y_test = train_test_split(X_sample, y_sample)"
      ],
      "execution_count": 0,
      "outputs": []
    },
    {
      "metadata": {
        "id": "QXX-SHGn5nvo",
        "colab_type": "code",
        "colab": {
          "autoexec": {
            "startup": false,
            "wait_interval": 0
          },
          "base_uri": "https://localhost:8080/",
          "height": 34
        },
        "outputId": "5dabc7aa-a546-4c66-fcd2-75c22b1e6d16",
        "executionInfo": {
          "status": "ok",
          "timestamp": 1532393903376,
          "user_tz": -330,
          "elapsed": 2899,
          "user": {
            "displayName": "Vijay Bhati",
            "photoUrl": "https://lh3.googleusercontent.com/a/default-user=s128",
            "userId": "106065926741616959388"
          }
        }
      },
      "cell_type": "code",
      "source": [
        "clf = DecisionTreeClassifier()\n",
        "clf.fit(X_train, y_train)\n",
        "\n",
        "print('Accuracy:', clf.score(X_test, y_test))"
      ],
      "execution_count": 72,
      "outputs": [
        {
          "output_type": "stream",
          "text": [
            "Accuracy: 0.7676387582314205\n"
          ],
          "name": "stdout"
        }
      ]
    },
    {
      "metadata": {
        "id": "z_v_K5iO5nvq",
        "colab_type": "code",
        "colab": {
          "autoexec": {
            "startup": false,
            "wait_interval": 0
          },
          "base_uri": "https://localhost:8080/",
          "height": 105
        },
        "outputId": "1f3f015a-1b05-4d1d-d017-79ba2132c69b",
        "executionInfo": {
          "status": "ok",
          "timestamp": 1532393976123,
          "user_tz": -330,
          "elapsed": 71398,
          "user": {
            "displayName": "Vijay Bhati",
            "photoUrl": "https://lh3.googleusercontent.com/a/default-user=s128",
            "userId": "106065926741616959388"
          }
        }
      },
      "cell_type": "code",
      "source": [
        "# GridSearch\n",
        "from sklearn.model_selection import GridSearchCV\n",
        "from sklearn.model_selection import TimeSeriesSplit\n",
        "\n",
        "clf = DecisionTreeClassifier()\n",
        "param_grid = {'max_depth': np.concatenate((np.arange(1, 20), np.arange(20, 50, 50)))} # params we need to try on classifier\n",
        "tscv = TimeSeriesSplit(n_splits=10) # For time based splitting\n",
        "gsv = GridSearchCV(clf,param_grid,cv=tscv,verbose=1,n_jobs=-1)\n",
        "gsv.fit(X_train,y_train)\n",
        "print(\"Best HyperParameter: \",gsv.best_params_)\n",
        "print(\"Best Accuracy: %.2f%%\"%(gsv.best_score_*100))"
      ],
      "execution_count": 73,
      "outputs": [
        {
          "output_type": "stream",
          "text": [
            "Fitting 10 folds for each of 20 candidates, totalling 200 fits\n"
          ],
          "name": "stdout"
        },
        {
          "output_type": "stream",
          "text": [
            "[Parallel(n_jobs=-1)]: Done  95 tasks      | elapsed:   18.8s\n",
            "[Parallel(n_jobs=-1)]: Done 200 out of 200 | elapsed:  1.1min finished\n"
          ],
          "name": "stderr"
        },
        {
          "output_type": "stream",
          "text": [
            "Best HyperParameter:  {'max_depth': 1}\n",
            "Best Accuracy: 83.36%\n"
          ],
          "name": "stdout"
        }
      ]
    },
    {
      "metadata": {
        "id": "jJvtV3sM5nvt",
        "colab_type": "code",
        "colab": {
          "autoexec": {
            "startup": false,
            "wait_interval": 0
          },
          "base_uri": "https://localhost:8080/",
          "height": 214
        },
        "outputId": "3f34015d-8df2-4f42-90e5-9eaac4b2bd9b",
        "executionInfo": {
          "status": "ok",
          "timestamp": 1532393977342,
          "user_tz": -330,
          "elapsed": 1126,
          "user": {
            "displayName": "Vijay Bhati",
            "photoUrl": "https://lh3.googleusercontent.com/a/default-user=s128",
            "userId": "106065926741616959388"
          }
        }
      },
      "cell_type": "code",
      "source": [
        "print(\"                 Classification Report Test Data\")\n",
        "print(classification_report(y_test, gsv.predict(X_test)))"
      ],
      "execution_count": 74,
      "outputs": [
        {
          "output_type": "stream",
          "text": [
            "                 Classification Report Test Data\n",
            "             precision    recall  f1-score   support\n",
            "\n",
            "          0       0.86      1.00      0.93       919\n",
            "          1       0.00      0.00      0.00       144\n",
            "\n",
            "avg / total       0.75      0.86      0.80      1063\n",
            "\n"
          ],
          "name": "stdout"
        },
        {
          "output_type": "stream",
          "text": [
            "/usr/local/lib/python3.6/dist-packages/sklearn/metrics/classification.py:1135: UndefinedMetricWarning: Precision and F-score are ill-defined and being set to 0.0 in labels with no predicted samples.\n",
            "  'precision', 'predicted', average, warn_for)\n"
          ],
          "name": "stderr"
        }
      ]
    },
    {
      "metadata": {
        "id": "2ioJo4ou5nvw",
        "colab_type": "code",
        "colab": {
          "autoexec": {
            "startup": false,
            "wait_interval": 0
          },
          "base_uri": "https://localhost:8080/",
          "height": 392
        },
        "outputId": "254ce95e-06f3-4857-9274-c26988336835",
        "executionInfo": {
          "status": "ok",
          "timestamp": 1532393980146,
          "user_tz": -330,
          "elapsed": 1568,
          "user": {
            "displayName": "Vijay Bhati",
            "photoUrl": "https://lh3.googleusercontent.com/a/default-user=s128",
            "userId": "106065926741616959388"
          }
        }
      },
      "cell_type": "code",
      "source": [
        "# Plot Accuracy - Depth \n",
        "mean_score = gsv.cv_results_['mean_test_score']\n",
        "std_score = gsv.cv_results_['std_test_score']\n",
        "plt.figure(figsize=(10, 6))\n",
        "plt.plot(param_grid['max_depth'], mean_score, label='Accuracy')\n",
        "plt.fill_between(param_grid['max_depth'], mean_score + std_score, mean_score - std_score, alpha=0.1, label='± 1 std. dev')\n",
        "plt.ylabel('Accuracy')\n",
        "plt.xlabel('Depth')\n",
        "plt.legend()\n",
        "plt.xscale('log')"
      ],
      "execution_count": 75,
      "outputs": [
        {
          "output_type": "display_data",
          "data": {
            "image/png": "[encoded data removed]",
            "text/plain": [
              "<matplotlib.figure.Figure at 0x7f3dfc2bdc50>"
            ]
          },
          "metadata": {
            "tags": []
          }
        }
      ]
    },
    {
      "metadata": {
        "id": "Sy29CdZg8wlg",
        "colab_type": "code",
        "colab": {
          "autoexec": {
            "startup": false,
            "wait_interval": 0
          },
          "base_uri": "https://localhost:8080/",
          "height": 368
        },
        "outputId": "fb4bf46b-da42-45d9-eff2-03b755549153",
        "executionInfo": {
          "status": "ok",
          "timestamp": 1532393982771,
          "user_tz": -330,
          "elapsed": 1185,
          "user": {
            "displayName": "Vijay Bhati",
            "photoUrl": "https://lh3.googleusercontent.com/a/default-user=s128",
            "userId": "106065926741616959388"
          }
        }
      },
      "cell_type": "code",
      "source": [
        "pred = gsv.predict(X_test)\n",
        "df_cm = pd.DataFrame(confusion_matrix(y_test, pred), range(2),range(2))\n",
        "sns.set(font_scale=1.4)\n",
        "sns.heatmap(df_cm, annot=True,annot_kws={\"size\": 16}, fmt='g')"
      ],
      "execution_count": 76,
      "outputs": [
        {
          "output_type": "execute_result",
          "data": {
            "text/plain": [
              "<matplotlib.axes._subplots.AxesSubplot at 0x7f3dfc374ba8>"
            ]
          },
          "metadata": {
            "tags": []
          },
          "execution_count": 76
        },
        {
          "output_type": "display_data",
          "data": {
            "image/png": "[encoded data removed]",
            "text/plain": [
              "<matplotlib.figure.Figure at 0x7f3dfc2bc0f0>"
            ]
          },
          "metadata": {
            "tags": []
          }
        }
      ]
    },
    {
      "metadata": {
        "id": "vA2Jz17o-U5X",
        "colab_type": "code",
        "colab": {
          "autoexec": {
            "startup": false,
            "wait_interval": 0
          },
          "base_uri": "https://localhost:8080/",
          "height": 757
        },
        "outputId": "23294a36-86c7-464a-e807-0391b642da40",
        "executionInfo": {
          "status": "ok",
          "timestamp": 1532393985468,
          "user_tz": -330,
          "elapsed": 1910,
          "user": {
            "displayName": "Vijay Bhati",
            "photoUrl": "https://lh3.googleusercontent.com/a/default-user=s128",
            "userId": "106065926741616959388"
          }
        }
      },
      "cell_type": "code",
      "source": [
        "from matplotlib import pyplot\n",
        "importances = gsv.best_estimator_.feature_importances_\n",
        "indices = np.argsort(importances)[::-1][:30]\n",
        "names = bi_gram.get_feature_names()\n",
        "sns.set(rc={'figure.figsize':(15,12)})\n",
        "plt.figure()\n",
        "plt.title(\"Feature Importance\")\n",
        "plt.bar(range(30), importances[indices], color='r')\n",
        "names = np.array(names)\n",
        "plt.xticks(range(30), names[indices], rotation=90)\n",
        "plt.show()"
      ],
      "execution_count": 77,
      "outputs": [
        {
          "output_type": "display_data",
          "data": {
            "image/png": "[encoded data removed]",
            "text/plain": [
              "<matplotlib.figure.Figure at 0x7f3dfc3294e0>"
            ]
          },
          "metadata": {
            "tags": []
          }
        }
      ]
    },
    {
      "metadata": {
        "id": "IIonCo1u5nvy",
        "colab_type": "code",
        "colab": {
          "autoexec": {
            "startup": false,
            "wait_interval": 0
          },
          "base_uri": "https://localhost:8080/",
          "height": 742
        },
        "outputId": "221e2bff-fb57-43ad-fff2-9c938bd985ce",
        "executionInfo": {
          "status": "ok",
          "timestamp": 1532395755536,
          "user_tz": -330,
          "elapsed": 2927,
          "user": {
            "displayName": "Vijay Bhati",
            "photoUrl": "https://lh3.googleusercontent.com/a/default-user=s128",
            "userId": "106065926741616959388"
          }
        }
      },
      "cell_type": "code",
      "source": [
        "DT_model_accuracy = {\n",
        "    'BoW': 0.8608,\n",
        "    'Tf-Idf': 0.8638,\n",
        "    'Avg-W2V': 0.8359,\n",
        "    'Tf-Idf-W2V': 0.8336\n",
        "}\n",
        "\n",
        "pd.Series(DT_model_accuracy).plot(kind='bar')\n",
        "plt.ylabel('Accuracy Score')\n",
        "plt.ylim((0.80, 0.90));"
      ],
      "execution_count": 90,
      "outputs": [
        {
          "output_type": "display_data",
          "data": {
            "image/png": "[encoded data removed]",
            "text/plain": [
              "<matplotlib.figure.Figure at 0x7f3e4550c518>"
            ]
          },
          "metadata": {
            "tags": []
          }
        }
      ]
    },
    {
      "metadata": {
        "id": "qqzbIo844Zm3",
        "colab_type": "text"
      },
      "cell_type": "markdown",
      "source": [
        "<img src=\"https://image.ibb.co/dCPPR8/DT1.png\">"
      ]
    },
    {
      "metadata": {
        "id": "uYRzBK-65nv4",
        "colab_type": "text"
      },
      "cell_type": "markdown",
      "source": [
        "# Conclusion:\n",
        "* From the above bar graph we can say that Tf-Idf has given the best accuracy compare to the other models using Decision Tree."
      ]
    },
    {
      "metadata": {
        "id": "-uhlreO15nv6",
        "colab_type": "code",
        "colab": {
          "autoexec": {
            "startup": false,
            "wait_interval": 0
          }
        }
      },
      "cell_type": "code",
      "source": [
        ""
      ],
      "execution_count": 0,
      "outputs": []
    }
  ]
}